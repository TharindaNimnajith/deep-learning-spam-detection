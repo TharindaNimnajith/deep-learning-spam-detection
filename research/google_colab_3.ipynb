{
 "cells": [
  {
   "cell_type": "code",
   "execution_count": 1,
   "metadata": {
    "id": "bL8KRekq3ULp"
   },
   "outputs": [],
   "source": [
    "# magic function that renders the figure in a notebook instead of\n",
    "# displaying a dump of the figure object\n",
    "# sets the backend of matplotlib to the 'inline' backend\n",
    "# with this backend, the output of plotting commands is displayed inline\n",
    "# within frontends like the Jupyter notebook, directly below the code cell\n",
    "# that produced it\n",
    "# the resulting plots will then also be stored in the notebook document\n",
    "%matplotlib inline"
   ]
  },
  {
   "cell_type": "code",
   "execution_count": 2,
   "metadata": {
    "id": "nrhsDcU93ULu"
   },
   "outputs": [],
   "source": [
    "# creating a new directory named plots\n",
    "!mkdir plots\n",
    "\n",
    "# creating a new directory named models\n",
    "!mkdir models\n",
    "\n",
    "# creating a new directory named processed_datasets\n",
    "!mkdir processed_datasets"
   ]
  },
  {
   "cell_type": "code",
   "execution_count": 3,
   "metadata": {
    "id": "9v2dMV4Q3ULv"
   },
   "outputs": [],
   "source": [
    "# importing warnings library to handle exceptions, errors, and warning of\n",
    "# the program\n",
    "import warnings\n",
    "\n",
    "# ignoring potential warnings of the program\n",
    "warnings.filterwarnings('ignore')"
   ]
  },
  {
   "cell_type": "code",
   "execution_count": 4,
   "metadata": {
    "id": "RoL4d5Y73ULw"
   },
   "outputs": [],
   "source": [
    "# mounting google drive to read files stores in it\n",
    "# from google.colab import drive\n",
    "\n",
    "# drive.mount('/content/drive')"
   ]
  },
  {
   "cell_type": "code",
   "execution_count": 5,
   "metadata": {
    "id": "-UiC6Qka3ULx"
   },
   "outputs": [],
   "source": [
    "# creating a new directory named .kaggle\n",
    "!mkdir ~/.kaggle"
   ]
  },
  {
   "cell_type": "code",
   "execution_count": 6,
   "metadata": {
    "id": "Jdbb_wB53ULy"
   },
   "outputs": [],
   "source": [
    "# creating a file named kaggle.json inside .kaggle directory without any\n",
    "# content\n",
    "!touch ~/.kaggle/kaggle.json"
   ]
  },
  {
   "cell_type": "code",
   "execution_count": 7,
   "metadata": {
    "id": "KFbk3Oue3UL0"
   },
   "outputs": [],
   "source": [
    "# kaggle api token json object\n",
    "api_token = {\n",
    "    'username': 'tharindarajapaksha',\n",
    "    'key': '1a0f7b265e98ba4a1fef6af7d878d22e'\n",
    "}"
   ]
  },
  {
   "cell_type": "code",
   "execution_count": 8,
   "metadata": {
    "id": "w-Y6eQSl3UL0"
   },
   "outputs": [],
   "source": [
    "# importing json which is a python built-in package\n",
    "# used to work with json data\n",
    "import json\n",
    "\n",
    "# opening the created empty kaggle.json file in write mode\n",
    "# writing api token json object in the file\n",
    "with open('/root/.kaggle/kaggle.json', 'w') as file:\n",
    "    json.dump(api_token, file)"
   ]
  },
  {
   "cell_type": "code",
   "execution_count": 9,
   "metadata": {
    "id": "n1jqHYHn3UL1"
   },
   "outputs": [],
   "source": [
    "# chmod is the command and system call used to change the access\n",
    "# permissions of file system objects sometimes known as modes\n",
    "# chmod 600 sets permissions so that,\n",
    "# user or owner can read and write but cannot execute\n",
    "# group cannot read, cannot write and cannot execute\n",
    "# others cannot read, cannot write and cannot execute\n",
    "!chmod 600 ~/.kaggle/kaggle.json"
   ]
  },
  {
   "cell_type": "code",
   "execution_count": 10,
   "metadata": {
    "colab": {
     "base_uri": "https://localhost:8080/"
    },
    "id": "HFp5U8M73UL1",
    "outputId": "6ea341a9-2204-417c-8561-1120219470f4"
   },
   "outputs": [
    {
     "name": "stdout",
     "output_type": "stream",
     "text": [
      "Warning: Looks like you're using an outdated API Version, please consider updating (server 1.5.12 / client 1.5.4)\n",
      "Downloading train.csv.zip to /content\n",
      " 76% 16.0M/21.2M [00:00<00:00, 163MB/s]\n",
      "100% 21.2M/21.2M [00:00<00:00, 128MB/s]\n",
      "Downloading sample_submission.csv.zip to /content\n",
      "  0% 0.00/4.95M [00:00<?, ?B/s]\n",
      "100% 4.95M/4.95M [00:00<00:00, 127MB/s]\n",
      "Downloading test.csv.zip to /content\n",
      " 97% 111M/114M [00:00<00:00, 131MB/s] \n",
      "100% 114M/114M [00:00<00:00, 144MB/s]\n",
      "Downloading test.csv.zip to /content\n",
      " 98% 170M/173M [00:01<00:00, 181MB/s]\n",
      "100% 173M/173M [00:01<00:00, 167MB/s]\n"
     ]
    }
   ],
   "source": [
    "# downloading qqp dataset files from kaggle\n",
    "!kaggle competitions download -c quora-question-pairs --force"
   ]
  },
  {
   "cell_type": "code",
   "execution_count": 11,
   "metadata": {
    "colab": {
     "base_uri": "https://localhost:8080/"
    },
    "id": "6-Z3EFZY3UL2",
    "outputId": "448df314-220c-44ac-df44-56ccdd6748a5"
   },
   "outputs": [
    {
     "name": "stdout",
     "output_type": "stream",
     "text": [
      "Archive:  test.csv.zip\n",
      "  inflating: test.csv                \n"
     ]
    }
   ],
   "source": [
    "# extracting the downloaded qqp test dataset files from kaggle\n",
    "!unzip test.csv.zip"
   ]
  },
  {
   "cell_type": "code",
   "execution_count": 12,
   "metadata": {
    "colab": {
     "base_uri": "https://localhost:8080/"
    },
    "id": "zmNo0bHK3UL2",
    "outputId": "6b8fba9f-605d-4219-f68e-c37cca8eafb7"
   },
   "outputs": [
    {
     "name": "stdout",
     "output_type": "stream",
     "text": [
      "Archive:  train.csv.zip\n",
      "  inflating: train.csv               \n"
     ]
    }
   ],
   "source": [
    "# extracting the downloaded qqp train dataset files from kaggle\n",
    "!unzip train.csv.zip"
   ]
  },
  {
   "cell_type": "code",
   "execution_count": 13,
   "metadata": {
    "colab": {
     "base_uri": "https://localhost:8080/"
    },
    "id": "vodK9Nhm3UL2",
    "outputId": "81537f1a-7903-4490-ffa1-b8413d7bdbdd"
   },
   "outputs": [
    {
     "name": "stdout",
     "output_type": "stream",
     "text": [
      "--2021-07-02 08:49:44--  http://nlp.stanford.edu/data/glove.6B.zip\n",
      "Resolving nlp.stanford.edu (nlp.stanford.edu)... 171.64.67.140\n",
      "Connecting to nlp.stanford.edu (nlp.stanford.edu)|171.64.67.140|:80... connected.\n",
      "HTTP request sent, awaiting response... 302 Found\n",
      "Location: https://nlp.stanford.edu/data/glove.6B.zip [following]\n",
      "--2021-07-02 08:49:44--  https://nlp.stanford.edu/data/glove.6B.zip\n",
      "Connecting to nlp.stanford.edu (nlp.stanford.edu)|171.64.67.140|:443... connected.\n",
      "HTTP request sent, awaiting response... 301 Moved Permanently\n",
      "Location: http://downloads.cs.stanford.edu/nlp/data/glove.6B.zip [following]\n",
      "--2021-07-02 08:49:44--  http://downloads.cs.stanford.edu/nlp/data/glove.6B.zip\n",
      "Resolving downloads.cs.stanford.edu (downloads.cs.stanford.edu)... 171.64.64.22\n",
      "Connecting to downloads.cs.stanford.edu (downloads.cs.stanford.edu)|171.64.64.22|:80... connected.\n",
      "HTTP request sent, awaiting response... 200 OK\n",
      "Length: 862182613 (822M) [application/zip]\n",
      "Saving to: ‘glove.6B.zip’\n",
      "\n",
      "glove.6B.zip        100%[===================>] 822.24M  5.17MB/s    in 2m 41s  \n",
      "\n",
      "2021-07-02 08:52:25 (5.12 MB/s) - ‘glove.6B.zip’ saved [862182613/862182613]\n",
      "\n"
     ]
    }
   ],
   "source": [
    "# downloading glove dataset files from the internet\n",
    "!wget http://nlp.stanford.edu/data/glove.6B.zip"
   ]
  },
  {
   "cell_type": "code",
   "execution_count": 14,
   "metadata": {
    "colab": {
     "base_uri": "https://localhost:8080/"
    },
    "id": "mRbpJ5553UL3",
    "outputId": "d8ba038d-c833-4b54-88ff-0b7dd7f1b50d"
   },
   "outputs": [
    {
     "name": "stdout",
     "output_type": "stream",
     "text": [
      "Archive:  glove.6B.zip\n",
      "  inflating: glove.6B.50d.txt        \n",
      "  inflating: glove.6B.100d.txt       \n",
      "  inflating: glove.6B.200d.txt       \n",
      "  inflating: glove.6B.300d.txt       \n"
     ]
    }
   ],
   "source": [
    "# extracting the downloaded zip file\n",
    "!unzip glove.6B.zip"
   ]
  },
  {
   "cell_type": "code",
   "execution_count": 15,
   "metadata": {
    "colab": {
     "base_uri": "https://localhost:8080/"
    },
    "id": "KTB5BPe63UL3",
    "outputId": "db68fc05-d2d8-40b2-833e-dbafd11565fb"
   },
   "outputs": [
    {
     "name": "stdout",
     "output_type": "stream",
     "text": [
      "glove.6B.100d.txt  glove.6B.zip        sample_data\t\t  train.csv\n",
      "glove.6B.200d.txt  models\t       sample_submission.csv.zip  train.csv.zip\n",
      "glove.6B.300d.txt  plots\t       test.csv\n",
      "glove.6B.50d.txt   processed_datasets  test.csv.zip\n"
     ]
    }
   ],
   "source": [
    "# listing files and directories\n",
    "!ls"
   ]
  },
  {
   "cell_type": "code",
   "execution_count": 16,
   "metadata": {
    "id": "FN5TP2zB3UL3"
   },
   "outputs": [],
   "source": [
    "# importing pandas library to perform data manipulation and analysis\n",
    "import pandas as pd\n",
    "\n",
    "# configuring the pandas dataframes to show all columns\n",
    "pd.options.display.max_columns = None"
   ]
  },
  {
   "cell_type": "code",
   "execution_count": 17,
   "metadata": {
    "colab": {
     "base_uri": "https://localhost:8080/",
     "height": 424
    },
    "id": "K-FWbCum3UL4",
    "outputId": "3a9cd3dd-0f19-4974-e01c-e06b71913f58"
   },
   "outputs": [
    {
     "data": {
      "text/html": [
       "<div>\n",
       "<style scoped>\n",
       "    .dataframe tbody tr th:only-of-type {\n",
       "        vertical-align: middle;\n",
       "    }\n",
       "\n",
       "    .dataframe tbody tr th {\n",
       "        vertical-align: top;\n",
       "    }\n",
       "\n",
       "    .dataframe thead th {\n",
       "        text-align: right;\n",
       "    }\n",
       "</style>\n",
       "<table border=\"1\" class=\"dataframe\">\n",
       "  <thead>\n",
       "    <tr style=\"text-align: right;\">\n",
       "      <th></th>\n",
       "      <th>id</th>\n",
       "      <th>qid1</th>\n",
       "      <th>qid2</th>\n",
       "      <th>question1</th>\n",
       "      <th>question2</th>\n",
       "      <th>is_duplicate</th>\n",
       "    </tr>\n",
       "  </thead>\n",
       "  <tbody>\n",
       "    <tr>\n",
       "      <th>0</th>\n",
       "      <td>0</td>\n",
       "      <td>1</td>\n",
       "      <td>2</td>\n",
       "      <td>What is the step by step guide to invest in sh...</td>\n",
       "      <td>What is the step by step guide to invest in sh...</td>\n",
       "      <td>0</td>\n",
       "    </tr>\n",
       "    <tr>\n",
       "      <th>1</th>\n",
       "      <td>1</td>\n",
       "      <td>3</td>\n",
       "      <td>4</td>\n",
       "      <td>What is the story of Kohinoor (Koh-i-Noor) Dia...</td>\n",
       "      <td>What would happen if the Indian government sto...</td>\n",
       "      <td>0</td>\n",
       "    </tr>\n",
       "    <tr>\n",
       "      <th>2</th>\n",
       "      <td>2</td>\n",
       "      <td>5</td>\n",
       "      <td>6</td>\n",
       "      <td>How can I increase the speed of my internet co...</td>\n",
       "      <td>How can Internet speed be increased by hacking...</td>\n",
       "      <td>0</td>\n",
       "    </tr>\n",
       "    <tr>\n",
       "      <th>3</th>\n",
       "      <td>3</td>\n",
       "      <td>7</td>\n",
       "      <td>8</td>\n",
       "      <td>Why am I mentally very lonely? How can I solve...</td>\n",
       "      <td>Find the remainder when [math]23^{24}[/math] i...</td>\n",
       "      <td>0</td>\n",
       "    </tr>\n",
       "    <tr>\n",
       "      <th>4</th>\n",
       "      <td>4</td>\n",
       "      <td>9</td>\n",
       "      <td>10</td>\n",
       "      <td>Which one dissolve in water quikly sugar, salt...</td>\n",
       "      <td>Which fish would survive in salt water?</td>\n",
       "      <td>0</td>\n",
       "    </tr>\n",
       "    <tr>\n",
       "      <th>...</th>\n",
       "      <td>...</td>\n",
       "      <td>...</td>\n",
       "      <td>...</td>\n",
       "      <td>...</td>\n",
       "      <td>...</td>\n",
       "      <td>...</td>\n",
       "    </tr>\n",
       "    <tr>\n",
       "      <th>404285</th>\n",
       "      <td>404285</td>\n",
       "      <td>433578</td>\n",
       "      <td>379845</td>\n",
       "      <td>How many keywords are there in the Racket prog...</td>\n",
       "      <td>How many keywords are there in PERL Programmin...</td>\n",
       "      <td>0</td>\n",
       "    </tr>\n",
       "    <tr>\n",
       "      <th>404286</th>\n",
       "      <td>404286</td>\n",
       "      <td>18840</td>\n",
       "      <td>155606</td>\n",
       "      <td>Do you believe there is life after death?</td>\n",
       "      <td>Is it true that there is life after death?</td>\n",
       "      <td>1</td>\n",
       "    </tr>\n",
       "    <tr>\n",
       "      <th>404287</th>\n",
       "      <td>404287</td>\n",
       "      <td>537928</td>\n",
       "      <td>537929</td>\n",
       "      <td>What is one coin?</td>\n",
       "      <td>What's this coin?</td>\n",
       "      <td>0</td>\n",
       "    </tr>\n",
       "    <tr>\n",
       "      <th>404288</th>\n",
       "      <td>404288</td>\n",
       "      <td>537930</td>\n",
       "      <td>537931</td>\n",
       "      <td>What is the approx annual cost of living while...</td>\n",
       "      <td>I am having little hairfall problem but I want...</td>\n",
       "      <td>0</td>\n",
       "    </tr>\n",
       "    <tr>\n",
       "      <th>404289</th>\n",
       "      <td>404289</td>\n",
       "      <td>537932</td>\n",
       "      <td>537933</td>\n",
       "      <td>What is like to have sex with cousin?</td>\n",
       "      <td>What is it like to have sex with your cousin?</td>\n",
       "      <td>0</td>\n",
       "    </tr>\n",
       "  </tbody>\n",
       "</table>\n",
       "<p>404290 rows × 6 columns</p>\n",
       "</div>"
      ],
      "text/plain": [
       "            id    qid1    qid2  \\\n",
       "0            0       1       2   \n",
       "1            1       3       4   \n",
       "2            2       5       6   \n",
       "3            3       7       8   \n",
       "4            4       9      10   \n",
       "...        ...     ...     ...   \n",
       "404285  404285  433578  379845   \n",
       "404286  404286   18840  155606   \n",
       "404287  404287  537928  537929   \n",
       "404288  404288  537930  537931   \n",
       "404289  404289  537932  537933   \n",
       "\n",
       "                                                question1  \\\n",
       "0       What is the step by step guide to invest in sh...   \n",
       "1       What is the story of Kohinoor (Koh-i-Noor) Dia...   \n",
       "2       How can I increase the speed of my internet co...   \n",
       "3       Why am I mentally very lonely? How can I solve...   \n",
       "4       Which one dissolve in water quikly sugar, salt...   \n",
       "...                                                   ...   \n",
       "404285  How many keywords are there in the Racket prog...   \n",
       "404286          Do you believe there is life after death?   \n",
       "404287                                  What is one coin?   \n",
       "404288  What is the approx annual cost of living while...   \n",
       "404289              What is like to have sex with cousin?   \n",
       "\n",
       "                                                question2  is_duplicate  \n",
       "0       What is the step by step guide to invest in sh...             0  \n",
       "1       What would happen if the Indian government sto...             0  \n",
       "2       How can Internet speed be increased by hacking...             0  \n",
       "3       Find the remainder when [math]23^{24}[/math] i...             0  \n",
       "4                 Which fish would survive in salt water?             0  \n",
       "...                                                   ...           ...  \n",
       "404285  How many keywords are there in PERL Programmin...             0  \n",
       "404286         Is it true that there is life after death?             1  \n",
       "404287                                  What's this coin?             0  \n",
       "404288  I am having little hairfall problem but I want...             0  \n",
       "404289      What is it like to have sex with your cousin?             0  \n",
       "\n",
       "[404290 rows x 6 columns]"
      ]
     },
     "execution_count": 17,
     "metadata": {
      "tags": []
     },
     "output_type": "execute_result"
    }
   ],
   "source": [
    "# importing train.csv dataset to a pandas dataframe\n",
    "# quora question pairs (qqp) dataset includes over 400000 potential\n",
    "# question duplicate pairs each line contains ids for each question in\n",
    "# the pair, the full text for each question, and a binary value that\n",
    "# indicates whether the line truly contains a duplicate pair\n",
    "train_data = pd.read_csv('train.csv')\n",
    "train_data"
   ]
  },
  {
   "cell_type": "code",
   "execution_count": 18,
   "metadata": {
    "colab": {
     "base_uri": "https://localhost:8080/",
     "height": 206
    },
    "id": "-vUoa0i-3UL4",
    "outputId": "354129cd-1907-4331-dc02-a989155f0f27"
   },
   "outputs": [
    {
     "data": {
      "text/html": [
       "<div>\n",
       "<style scoped>\n",
       "    .dataframe tbody tr th:only-of-type {\n",
       "        vertical-align: middle;\n",
       "    }\n",
       "\n",
       "    .dataframe tbody tr th {\n",
       "        vertical-align: top;\n",
       "    }\n",
       "\n",
       "    .dataframe thead th {\n",
       "        text-align: right;\n",
       "    }\n",
       "</style>\n",
       "<table border=\"1\" class=\"dataframe\">\n",
       "  <thead>\n",
       "    <tr style=\"text-align: right;\">\n",
       "      <th></th>\n",
       "      <th>id</th>\n",
       "      <th>qid1</th>\n",
       "      <th>qid2</th>\n",
       "      <th>question1</th>\n",
       "      <th>question2</th>\n",
       "      <th>is_duplicate</th>\n",
       "    </tr>\n",
       "  </thead>\n",
       "  <tbody>\n",
       "    <tr>\n",
       "      <th>0</th>\n",
       "      <td>0</td>\n",
       "      <td>1</td>\n",
       "      <td>2</td>\n",
       "      <td>What is the step by step guide to invest in sh...</td>\n",
       "      <td>What is the step by step guide to invest in sh...</td>\n",
       "      <td>0</td>\n",
       "    </tr>\n",
       "    <tr>\n",
       "      <th>1</th>\n",
       "      <td>1</td>\n",
       "      <td>3</td>\n",
       "      <td>4</td>\n",
       "      <td>What is the story of Kohinoor (Koh-i-Noor) Dia...</td>\n",
       "      <td>What would happen if the Indian government sto...</td>\n",
       "      <td>0</td>\n",
       "    </tr>\n",
       "    <tr>\n",
       "      <th>2</th>\n",
       "      <td>2</td>\n",
       "      <td>5</td>\n",
       "      <td>6</td>\n",
       "      <td>How can I increase the speed of my internet co...</td>\n",
       "      <td>How can Internet speed be increased by hacking...</td>\n",
       "      <td>0</td>\n",
       "    </tr>\n",
       "    <tr>\n",
       "      <th>3</th>\n",
       "      <td>3</td>\n",
       "      <td>7</td>\n",
       "      <td>8</td>\n",
       "      <td>Why am I mentally very lonely? How can I solve...</td>\n",
       "      <td>Find the remainder when [math]23^{24}[/math] i...</td>\n",
       "      <td>0</td>\n",
       "    </tr>\n",
       "    <tr>\n",
       "      <th>4</th>\n",
       "      <td>4</td>\n",
       "      <td>9</td>\n",
       "      <td>10</td>\n",
       "      <td>Which one dissolve in water quikly sugar, salt...</td>\n",
       "      <td>Which fish would survive in salt water?</td>\n",
       "      <td>0</td>\n",
       "    </tr>\n",
       "  </tbody>\n",
       "</table>\n",
       "</div>"
      ],
      "text/plain": [
       "   id  qid1  qid2                                          question1  \\\n",
       "0   0     1     2  What is the step by step guide to invest in sh...   \n",
       "1   1     3     4  What is the story of Kohinoor (Koh-i-Noor) Dia...   \n",
       "2   2     5     6  How can I increase the speed of my internet co...   \n",
       "3   3     7     8  Why am I mentally very lonely? How can I solve...   \n",
       "4   4     9    10  Which one dissolve in water quikly sugar, salt...   \n",
       "\n",
       "                                           question2  is_duplicate  \n",
       "0  What is the step by step guide to invest in sh...             0  \n",
       "1  What would happen if the Indian government sto...             0  \n",
       "2  How can Internet speed be increased by hacking...             0  \n",
       "3  Find the remainder when [math]23^{24}[/math] i...             0  \n",
       "4            Which fish would survive in salt water?             0  "
      ]
     },
     "execution_count": 18,
     "metadata": {
      "tags": []
     },
     "output_type": "execute_result"
    }
   ],
   "source": [
    "# displaying the first 5 rows of the dataframe\n",
    "train_data.head()"
   ]
  },
  {
   "cell_type": "code",
   "execution_count": 19,
   "metadata": {
    "colab": {
     "base_uri": "https://localhost:8080/",
     "height": 206
    },
    "id": "f6758X7g3UL4",
    "outputId": "e96fcb05-6831-4f81-a074-c8d9fefaf0e0"
   },
   "outputs": [
    {
     "data": {
      "text/html": [
       "<div>\n",
       "<style scoped>\n",
       "    .dataframe tbody tr th:only-of-type {\n",
       "        vertical-align: middle;\n",
       "    }\n",
       "\n",
       "    .dataframe tbody tr th {\n",
       "        vertical-align: top;\n",
       "    }\n",
       "\n",
       "    .dataframe thead th {\n",
       "        text-align: right;\n",
       "    }\n",
       "</style>\n",
       "<table border=\"1\" class=\"dataframe\">\n",
       "  <thead>\n",
       "    <tr style=\"text-align: right;\">\n",
       "      <th></th>\n",
       "      <th>id</th>\n",
       "      <th>qid1</th>\n",
       "      <th>qid2</th>\n",
       "      <th>question1</th>\n",
       "      <th>question2</th>\n",
       "      <th>is_duplicate</th>\n",
       "    </tr>\n",
       "  </thead>\n",
       "  <tbody>\n",
       "    <tr>\n",
       "      <th>404285</th>\n",
       "      <td>404285</td>\n",
       "      <td>433578</td>\n",
       "      <td>379845</td>\n",
       "      <td>How many keywords are there in the Racket prog...</td>\n",
       "      <td>How many keywords are there in PERL Programmin...</td>\n",
       "      <td>0</td>\n",
       "    </tr>\n",
       "    <tr>\n",
       "      <th>404286</th>\n",
       "      <td>404286</td>\n",
       "      <td>18840</td>\n",
       "      <td>155606</td>\n",
       "      <td>Do you believe there is life after death?</td>\n",
       "      <td>Is it true that there is life after death?</td>\n",
       "      <td>1</td>\n",
       "    </tr>\n",
       "    <tr>\n",
       "      <th>404287</th>\n",
       "      <td>404287</td>\n",
       "      <td>537928</td>\n",
       "      <td>537929</td>\n",
       "      <td>What is one coin?</td>\n",
       "      <td>What's this coin?</td>\n",
       "      <td>0</td>\n",
       "    </tr>\n",
       "    <tr>\n",
       "      <th>404288</th>\n",
       "      <td>404288</td>\n",
       "      <td>537930</td>\n",
       "      <td>537931</td>\n",
       "      <td>What is the approx annual cost of living while...</td>\n",
       "      <td>I am having little hairfall problem but I want...</td>\n",
       "      <td>0</td>\n",
       "    </tr>\n",
       "    <tr>\n",
       "      <th>404289</th>\n",
       "      <td>404289</td>\n",
       "      <td>537932</td>\n",
       "      <td>537933</td>\n",
       "      <td>What is like to have sex with cousin?</td>\n",
       "      <td>What is it like to have sex with your cousin?</td>\n",
       "      <td>0</td>\n",
       "    </tr>\n",
       "  </tbody>\n",
       "</table>\n",
       "</div>"
      ],
      "text/plain": [
       "            id    qid1    qid2  \\\n",
       "404285  404285  433578  379845   \n",
       "404286  404286   18840  155606   \n",
       "404287  404287  537928  537929   \n",
       "404288  404288  537930  537931   \n",
       "404289  404289  537932  537933   \n",
       "\n",
       "                                                question1  \\\n",
       "404285  How many keywords are there in the Racket prog...   \n",
       "404286          Do you believe there is life after death?   \n",
       "404287                                  What is one coin?   \n",
       "404288  What is the approx annual cost of living while...   \n",
       "404289              What is like to have sex with cousin?   \n",
       "\n",
       "                                                question2  is_duplicate  \n",
       "404285  How many keywords are there in PERL Programmin...             0  \n",
       "404286         Is it true that there is life after death?             1  \n",
       "404287                                  What's this coin?             0  \n",
       "404288  I am having little hairfall problem but I want...             0  \n",
       "404289      What is it like to have sex with your cousin?             0  "
      ]
     },
     "execution_count": 19,
     "metadata": {
      "tags": []
     },
     "output_type": "execute_result"
    }
   ],
   "source": [
    "# displaying the last 5 rows of the dataframe\n",
    "train_data.tail()"
   ]
  },
  {
   "cell_type": "code",
   "execution_count": 20,
   "metadata": {
    "colab": {
     "base_uri": "https://localhost:8080/"
    },
    "id": "HEOSidme3UL4",
    "outputId": "a1875cfb-44fd-48ff-e120-bffa51ba5e96"
   },
   "outputs": [
    {
     "data": {
      "text/plain": [
       "(404290, 6)"
      ]
     },
     "execution_count": 20,
     "metadata": {
      "tags": []
     },
     "output_type": "execute_result"
    }
   ],
   "source": [
    "# displaying the dimensionality of the dataframe\n",
    "train_data.shape"
   ]
  },
  {
   "cell_type": "code",
   "execution_count": 21,
   "metadata": {
    "colab": {
     "base_uri": "https://localhost:8080/"
    },
    "id": "sA3UcfHg3UL5",
    "outputId": "e5ff9c26-8bc1-406d-d4f1-0c9ef76f4e83"
   },
   "outputs": [
    {
     "name": "stdout",
     "output_type": "stream",
     "text": [
      "<class 'pandas.core.frame.DataFrame'>\n",
      "RangeIndex: 404290 entries, 0 to 404289\n",
      "Data columns (total 6 columns):\n",
      " #   Column        Non-Null Count   Dtype \n",
      "---  ------        --------------   ----- \n",
      " 0   id            404290 non-null  int64 \n",
      " 1   qid1          404290 non-null  int64 \n",
      " 2   qid2          404290 non-null  int64 \n",
      " 3   question1     404289 non-null  object\n",
      " 4   question2     404288 non-null  object\n",
      " 5   is_duplicate  404290 non-null  int64 \n",
      "dtypes: int64(4), object(2)\n",
      "memory usage: 18.5+ MB\n"
     ]
    }
   ],
   "source": [
    "# printing a concise summary of the dataframe\n",
    "# information such as index, data type, columns, non-null values,\n",
    "# and memory usage\n",
    "train_data.info()"
   ]
  },
  {
   "cell_type": "code",
   "execution_count": 22,
   "metadata": {
    "colab": {
     "base_uri": "https://localhost:8080/",
     "height": 424
    },
    "id": "ET3WdaOL3UL5",
    "outputId": "71add857-0e9d-4591-fe63-8aa497e558b5"
   },
   "outputs": [
    {
     "data": {
      "text/html": [
       "<div>\n",
       "<style scoped>\n",
       "    .dataframe tbody tr th:only-of-type {\n",
       "        vertical-align: middle;\n",
       "    }\n",
       "\n",
       "    .dataframe tbody tr th {\n",
       "        vertical-align: top;\n",
       "    }\n",
       "\n",
       "    .dataframe thead th {\n",
       "        text-align: right;\n",
       "    }\n",
       "</style>\n",
       "<table border=\"1\" class=\"dataframe\">\n",
       "  <thead>\n",
       "    <tr style=\"text-align: right;\">\n",
       "      <th></th>\n",
       "      <th>qid1</th>\n",
       "      <th>qid2</th>\n",
       "      <th>question1</th>\n",
       "      <th>question2</th>\n",
       "      <th>is_duplicate</th>\n",
       "    </tr>\n",
       "  </thead>\n",
       "  <tbody>\n",
       "    <tr>\n",
       "      <th>0</th>\n",
       "      <td>1</td>\n",
       "      <td>2</td>\n",
       "      <td>What is the step by step guide to invest in sh...</td>\n",
       "      <td>What is the step by step guide to invest in sh...</td>\n",
       "      <td>0</td>\n",
       "    </tr>\n",
       "    <tr>\n",
       "      <th>1</th>\n",
       "      <td>3</td>\n",
       "      <td>4</td>\n",
       "      <td>What is the story of Kohinoor (Koh-i-Noor) Dia...</td>\n",
       "      <td>What would happen if the Indian government sto...</td>\n",
       "      <td>0</td>\n",
       "    </tr>\n",
       "    <tr>\n",
       "      <th>2</th>\n",
       "      <td>5</td>\n",
       "      <td>6</td>\n",
       "      <td>How can I increase the speed of my internet co...</td>\n",
       "      <td>How can Internet speed be increased by hacking...</td>\n",
       "      <td>0</td>\n",
       "    </tr>\n",
       "    <tr>\n",
       "      <th>3</th>\n",
       "      <td>7</td>\n",
       "      <td>8</td>\n",
       "      <td>Why am I mentally very lonely? How can I solve...</td>\n",
       "      <td>Find the remainder when [math]23^{24}[/math] i...</td>\n",
       "      <td>0</td>\n",
       "    </tr>\n",
       "    <tr>\n",
       "      <th>4</th>\n",
       "      <td>9</td>\n",
       "      <td>10</td>\n",
       "      <td>Which one dissolve in water quikly sugar, salt...</td>\n",
       "      <td>Which fish would survive in salt water?</td>\n",
       "      <td>0</td>\n",
       "    </tr>\n",
       "    <tr>\n",
       "      <th>...</th>\n",
       "      <td>...</td>\n",
       "      <td>...</td>\n",
       "      <td>...</td>\n",
       "      <td>...</td>\n",
       "      <td>...</td>\n",
       "    </tr>\n",
       "    <tr>\n",
       "      <th>404285</th>\n",
       "      <td>433578</td>\n",
       "      <td>379845</td>\n",
       "      <td>How many keywords are there in the Racket prog...</td>\n",
       "      <td>How many keywords are there in PERL Programmin...</td>\n",
       "      <td>0</td>\n",
       "    </tr>\n",
       "    <tr>\n",
       "      <th>404286</th>\n",
       "      <td>18840</td>\n",
       "      <td>155606</td>\n",
       "      <td>Do you believe there is life after death?</td>\n",
       "      <td>Is it true that there is life after death?</td>\n",
       "      <td>1</td>\n",
       "    </tr>\n",
       "    <tr>\n",
       "      <th>404287</th>\n",
       "      <td>537928</td>\n",
       "      <td>537929</td>\n",
       "      <td>What is one coin?</td>\n",
       "      <td>What's this coin?</td>\n",
       "      <td>0</td>\n",
       "    </tr>\n",
       "    <tr>\n",
       "      <th>404288</th>\n",
       "      <td>537930</td>\n",
       "      <td>537931</td>\n",
       "      <td>What is the approx annual cost of living while...</td>\n",
       "      <td>I am having little hairfall problem but I want...</td>\n",
       "      <td>0</td>\n",
       "    </tr>\n",
       "    <tr>\n",
       "      <th>404289</th>\n",
       "      <td>537932</td>\n",
       "      <td>537933</td>\n",
       "      <td>What is like to have sex with cousin?</td>\n",
       "      <td>What is it like to have sex with your cousin?</td>\n",
       "      <td>0</td>\n",
       "    </tr>\n",
       "  </tbody>\n",
       "</table>\n",
       "<p>404290 rows × 5 columns</p>\n",
       "</div>"
      ],
      "text/plain": [
       "          qid1    qid2                                          question1  \\\n",
       "0            1       2  What is the step by step guide to invest in sh...   \n",
       "1            3       4  What is the story of Kohinoor (Koh-i-Noor) Dia...   \n",
       "2            5       6  How can I increase the speed of my internet co...   \n",
       "3            7       8  Why am I mentally very lonely? How can I solve...   \n",
       "4            9      10  Which one dissolve in water quikly sugar, salt...   \n",
       "...        ...     ...                                                ...   \n",
       "404285  433578  379845  How many keywords are there in the Racket prog...   \n",
       "404286   18840  155606          Do you believe there is life after death?   \n",
       "404287  537928  537929                                  What is one coin?   \n",
       "404288  537930  537931  What is the approx annual cost of living while...   \n",
       "404289  537932  537933              What is like to have sex with cousin?   \n",
       "\n",
       "                                                question2  is_duplicate  \n",
       "0       What is the step by step guide to invest in sh...             0  \n",
       "1       What would happen if the Indian government sto...             0  \n",
       "2       How can Internet speed be increased by hacking...             0  \n",
       "3       Find the remainder when [math]23^{24}[/math] i...             0  \n",
       "4                 Which fish would survive in salt water?             0  \n",
       "...                                                   ...           ...  \n",
       "404285  How many keywords are there in PERL Programmin...             0  \n",
       "404286         Is it true that there is life after death?             1  \n",
       "404287                                  What's this coin?             0  \n",
       "404288  I am having little hairfall problem but I want...             0  \n",
       "404289      What is it like to have sex with your cousin?             0  \n",
       "\n",
       "[404290 rows x 5 columns]"
      ]
     },
     "execution_count": 22,
     "metadata": {
      "tags": []
     },
     "output_type": "execute_result"
    }
   ],
   "source": [
    "# dropping id column\n",
    "train_data.drop('id',\n",
    "                axis=1,\n",
    "                inplace=True)\n",
    "train_data"
   ]
  },
  {
   "cell_type": "code",
   "execution_count": 23,
   "metadata": {
    "colab": {
     "base_uri": "https://localhost:8080/",
     "height": 143
    },
    "id": "oX-qzIHN3UL5",
    "outputId": "f0559c2c-524b-4c73-e3b4-b8f2b8945493"
   },
   "outputs": [
    {
     "data": {
      "text/html": [
       "<div>\n",
       "<style scoped>\n",
       "    .dataframe tbody tr th:only-of-type {\n",
       "        vertical-align: middle;\n",
       "    }\n",
       "\n",
       "    .dataframe tbody tr th {\n",
       "        vertical-align: top;\n",
       "    }\n",
       "\n",
       "    .dataframe thead th {\n",
       "        text-align: right;\n",
       "    }\n",
       "</style>\n",
       "<table border=\"1\" class=\"dataframe\">\n",
       "  <thead>\n",
       "    <tr style=\"text-align: right;\">\n",
       "      <th></th>\n",
       "      <th>qid1</th>\n",
       "      <th>qid2</th>\n",
       "      <th>question1</th>\n",
       "      <th>question2</th>\n",
       "      <th>is_duplicate</th>\n",
       "    </tr>\n",
       "  </thead>\n",
       "  <tbody>\n",
       "    <tr>\n",
       "      <th>105780</th>\n",
       "      <td>174363</td>\n",
       "      <td>174364</td>\n",
       "      <td>How can I develop android app?</td>\n",
       "      <td>NaN</td>\n",
       "      <td>0</td>\n",
       "    </tr>\n",
       "    <tr>\n",
       "      <th>201841</th>\n",
       "      <td>303951</td>\n",
       "      <td>174364</td>\n",
       "      <td>How can I create an Android app?</td>\n",
       "      <td>NaN</td>\n",
       "      <td>0</td>\n",
       "    </tr>\n",
       "    <tr>\n",
       "      <th>363362</th>\n",
       "      <td>493340</td>\n",
       "      <td>493341</td>\n",
       "      <td>NaN</td>\n",
       "      <td>My Chinese name is Haichao Yu. What English na...</td>\n",
       "      <td>0</td>\n",
       "    </tr>\n",
       "  </tbody>\n",
       "</table>\n",
       "</div>"
      ],
      "text/plain": [
       "          qid1    qid2                         question1  \\\n",
       "105780  174363  174364    How can I develop android app?   \n",
       "201841  303951  174364  How can I create an Android app?   \n",
       "363362  493340  493341                               NaN   \n",
       "\n",
       "                                                question2  is_duplicate  \n",
       "105780                                                NaN             0  \n",
       "201841                                                NaN             0  \n",
       "363362  My Chinese name is Haichao Yu. What English na...             0  "
      ]
     },
     "execution_count": 23,
     "metadata": {
      "tags": []
     },
     "output_type": "execute_result"
    }
   ],
   "source": [
    "# checking for missing or null values in the dataframe\n",
    "df_null = train_data[train_data.isnull().any(axis=1)]\n",
    "df_null"
   ]
  },
  {
   "cell_type": "code",
   "execution_count": 24,
   "metadata": {
    "colab": {
     "base_uri": "https://localhost:8080/"
    },
    "id": "7tVN3apX3UL5",
    "outputId": "ab922c4c-0f33-49c2-c2d5-8349e257fb4c"
   },
   "outputs": [
    {
     "data": {
      "text/plain": [
       "3"
      ]
     },
     "execution_count": 24,
     "metadata": {
      "tags": []
     },
     "output_type": "execute_result"
    }
   ],
   "source": [
    "# number of rows with any missing or null values in the dataframe\n",
    "df_null.shape[0]"
   ]
  },
  {
   "cell_type": "code",
   "execution_count": 25,
   "metadata": {
    "colab": {
     "base_uri": "https://localhost:8080/",
     "height": 282
    },
    "id": "IxLaWd2_3UL5",
    "outputId": "fee51911-0b8a-4b36-e346-03f946ee88a4"
   },
   "outputs": [
    {
     "data": {
      "image/png": "[encoded data removed]",
      "text/plain": [
       "<Figure size 432x288 with 1 Axes>"
      ]
     },
     "metadata": {
      "needs_background": "light",
      "tags": []
     },
     "output_type": "display_data"
    }
   ],
   "source": [
    "# importing pyplot from matplotlib library to create interactive\n",
    "# visualizations\n",
    "import matplotlib.pyplot as plt\n",
    "\n",
    "# importing seaborn library which is built on top of matplotlib to create\n",
    "# statistical graphics\n",
    "import seaborn as sns\n",
    "\n",
    "# plotting the heatmap for missing or null values in the dataframe before\n",
    "# cleaning\n",
    "sns.heatmap(train_data.isnull(),\n",
    "            yticklabels=False,\n",
    "            cbar=False,\n",
    "            cmap='viridis')\n",
    "plt.title('QQP Null Values Detection Heat Map Before Cleaning')\n",
    "plt.savefig('plots/quora_null_detection_heat_map_before.png',\n",
    "            facecolor='white')\n",
    "plt.show()"
   ]
  },
  {
   "cell_type": "code",
   "execution_count": 26,
   "metadata": {
    "colab": {
     "base_uri": "https://localhost:8080/",
     "height": 690
    },
    "id": "CnGbW27c3UL5",
    "outputId": "afee6a09-a77f-4b15-9c02-d75458cd3e14"
   },
   "outputs": [
    {
     "data": {
      "text/plain": [
       "<matplotlib.axes._subplots.AxesSubplot at 0x7fd0fac96e90>"
      ]
     },
     "execution_count": 26,
     "metadata": {
      "tags": []
     },
     "output_type": "execute_result"
    },
    {
     "data": {
      "image/png": "[encoded data removed]",
      "text/plain": [
       "<Figure size 1800x720 with 2 Axes>"
      ]
     },
     "metadata": {
      "needs_background": "light",
      "tags": []
     },
     "output_type": "display_data"
    }
   ],
   "source": [
    "# importing missingno library\n",
    "# used to understand the distribution of missing values through\n",
    "# informative visualizations\n",
    "# visualizations can be in the form of heat maps or bar charts\n",
    "# used to observe where the missing values have occurred\n",
    "# used to check the correlation of the columns containing the missing\n",
    "# with the target column\n",
    "import missingno as msno\n",
    "\n",
    "# plotting a matrix visualization of the nullity of the dataframe\n",
    "# before cleaning\n",
    "fig = msno.matrix(train_data)\n",
    "fig_copy = fig.get_figure()\n",
    "fig_copy.savefig('plots/quora_msno_matrix_before.png',\n",
    "                 bbox_inches='tight')\n",
    "fig"
   ]
  },
  {
   "cell_type": "code",
   "execution_count": 27,
   "metadata": {
    "colab": {
     "base_uri": "https://localhost:8080/",
     "height": 779
    },
    "id": "YVXjGlNk3UL6",
    "outputId": "e7a5180c-fb6f-4004-8106-a7a3256f4ae6"
   },
   "outputs": [
    {
     "data": {
      "text/plain": [
       "<matplotlib.axes._subplots.AxesSubplot at 0x7fd0fb129750>"
      ]
     },
     "execution_count": 27,
     "metadata": {
      "tags": []
     },
     "output_type": "execute_result"
    },
    {
     "data": {
      "image/png": "[encoded data removed]",
      "text/plain": [
       "<Figure size 1440x864 with 2 Axes>"
      ]
     },
     "metadata": {
      "needs_background": "light",
      "tags": []
     },
     "output_type": "display_data"
    }
   ],
   "source": [
    "# plotting a seaborn heatmap visualization of nullity correlation\n",
    "# in the dataframe before cleaning\n",
    "fig = msno.heatmap(train_data)\n",
    "fig_copy = fig.get_figure()\n",
    "fig_copy.savefig('plots/quora_msno_heatmap_before.png',\n",
    "                 bbox_inches='tight')\n",
    "fig"
   ]
  },
  {
   "cell_type": "code",
   "execution_count": 28,
   "metadata": {
    "colab": {
     "base_uri": "https://localhost:8080/",
     "height": 424
    },
    "id": "fecJuPVQ3UL6",
    "outputId": "3b97fd81-357b-4263-afe5-7a9d0d277532"
   },
   "outputs": [
    {
     "data": {
      "text/html": [
       "<div>\n",
       "<style scoped>\n",
       "    .dataframe tbody tr th:only-of-type {\n",
       "        vertical-align: middle;\n",
       "    }\n",
       "\n",
       "    .dataframe tbody tr th {\n",
       "        vertical-align: top;\n",
       "    }\n",
       "\n",
       "    .dataframe thead th {\n",
       "        text-align: right;\n",
       "    }\n",
       "</style>\n",
       "<table border=\"1\" class=\"dataframe\">\n",
       "  <thead>\n",
       "    <tr style=\"text-align: right;\">\n",
       "      <th></th>\n",
       "      <th>qid1</th>\n",
       "      <th>qid2</th>\n",
       "      <th>question1</th>\n",
       "      <th>question2</th>\n",
       "      <th>is_duplicate</th>\n",
       "    </tr>\n",
       "  </thead>\n",
       "  <tbody>\n",
       "    <tr>\n",
       "      <th>0</th>\n",
       "      <td>1</td>\n",
       "      <td>2</td>\n",
       "      <td>What is the step by step guide to invest in sh...</td>\n",
       "      <td>What is the step by step guide to invest in sh...</td>\n",
       "      <td>0</td>\n",
       "    </tr>\n",
       "    <tr>\n",
       "      <th>1</th>\n",
       "      <td>3</td>\n",
       "      <td>4</td>\n",
       "      <td>What is the story of Kohinoor (Koh-i-Noor) Dia...</td>\n",
       "      <td>What would happen if the Indian government sto...</td>\n",
       "      <td>0</td>\n",
       "    </tr>\n",
       "    <tr>\n",
       "      <th>2</th>\n",
       "      <td>5</td>\n",
       "      <td>6</td>\n",
       "      <td>How can I increase the speed of my internet co...</td>\n",
       "      <td>How can Internet speed be increased by hacking...</td>\n",
       "      <td>0</td>\n",
       "    </tr>\n",
       "    <tr>\n",
       "      <th>3</th>\n",
       "      <td>7</td>\n",
       "      <td>8</td>\n",
       "      <td>Why am I mentally very lonely? How can I solve...</td>\n",
       "      <td>Find the remainder when [math]23^{24}[/math] i...</td>\n",
       "      <td>0</td>\n",
       "    </tr>\n",
       "    <tr>\n",
       "      <th>4</th>\n",
       "      <td>9</td>\n",
       "      <td>10</td>\n",
       "      <td>Which one dissolve in water quikly sugar, salt...</td>\n",
       "      <td>Which fish would survive in salt water?</td>\n",
       "      <td>0</td>\n",
       "    </tr>\n",
       "    <tr>\n",
       "      <th>...</th>\n",
       "      <td>...</td>\n",
       "      <td>...</td>\n",
       "      <td>...</td>\n",
       "      <td>...</td>\n",
       "      <td>...</td>\n",
       "    </tr>\n",
       "    <tr>\n",
       "      <th>404285</th>\n",
       "      <td>433578</td>\n",
       "      <td>379845</td>\n",
       "      <td>How many keywords are there in the Racket prog...</td>\n",
       "      <td>How many keywords are there in PERL Programmin...</td>\n",
       "      <td>0</td>\n",
       "    </tr>\n",
       "    <tr>\n",
       "      <th>404286</th>\n",
       "      <td>18840</td>\n",
       "      <td>155606</td>\n",
       "      <td>Do you believe there is life after death?</td>\n",
       "      <td>Is it true that there is life after death?</td>\n",
       "      <td>1</td>\n",
       "    </tr>\n",
       "    <tr>\n",
       "      <th>404287</th>\n",
       "      <td>537928</td>\n",
       "      <td>537929</td>\n",
       "      <td>What is one coin?</td>\n",
       "      <td>What's this coin?</td>\n",
       "      <td>0</td>\n",
       "    </tr>\n",
       "    <tr>\n",
       "      <th>404288</th>\n",
       "      <td>537930</td>\n",
       "      <td>537931</td>\n",
       "      <td>What is the approx annual cost of living while...</td>\n",
       "      <td>I am having little hairfall problem but I want...</td>\n",
       "      <td>0</td>\n",
       "    </tr>\n",
       "    <tr>\n",
       "      <th>404289</th>\n",
       "      <td>537932</td>\n",
       "      <td>537933</td>\n",
       "      <td>What is like to have sex with cousin?</td>\n",
       "      <td>What is it like to have sex with your cousin?</td>\n",
       "      <td>0</td>\n",
       "    </tr>\n",
       "  </tbody>\n",
       "</table>\n",
       "<p>404287 rows × 5 columns</p>\n",
       "</div>"
      ],
      "text/plain": [
       "          qid1    qid2                                          question1  \\\n",
       "0            1       2  What is the step by step guide to invest in sh...   \n",
       "1            3       4  What is the story of Kohinoor (Koh-i-Noor) Dia...   \n",
       "2            5       6  How can I increase the speed of my internet co...   \n",
       "3            7       8  Why am I mentally very lonely? How can I solve...   \n",
       "4            9      10  Which one dissolve in water quikly sugar, salt...   \n",
       "...        ...     ...                                                ...   \n",
       "404285  433578  379845  How many keywords are there in the Racket prog...   \n",
       "404286   18840  155606          Do you believe there is life after death?   \n",
       "404287  537928  537929                                  What is one coin?   \n",
       "404288  537930  537931  What is the approx annual cost of living while...   \n",
       "404289  537932  537933              What is like to have sex with cousin?   \n",
       "\n",
       "                                                question2  is_duplicate  \n",
       "0       What is the step by step guide to invest in sh...             0  \n",
       "1       What would happen if the Indian government sto...             0  \n",
       "2       How can Internet speed be increased by hacking...             0  \n",
       "3       Find the remainder when [math]23^{24}[/math] i...             0  \n",
       "4                 Which fish would survive in salt water?             0  \n",
       "...                                                   ...           ...  \n",
       "404285  How many keywords are there in PERL Programmin...             0  \n",
       "404286         Is it true that there is life after death?             1  \n",
       "404287                                  What's this coin?             0  \n",
       "404288  I am having little hairfall problem but I want...             0  \n",
       "404289      What is it like to have sex with your cousin?             0  \n",
       "\n",
       "[404287 rows x 5 columns]"
      ]
     },
     "execution_count": 28,
     "metadata": {
      "tags": []
     },
     "output_type": "execute_result"
    }
   ],
   "source": [
    "# removing the missing or null values from the dataframe if exist\n",
    "train_data = train_data[train_data.notna().all(axis=1)]\n",
    "train_data"
   ]
  },
  {
   "cell_type": "code",
   "execution_count": 29,
   "metadata": {
    "colab": {
     "base_uri": "https://localhost:8080/"
    },
    "id": "9qyfPGdr3UL7",
    "outputId": "a22898e1-d93c-4714-df91-0ebce76c7bb7"
   },
   "outputs": [
    {
     "data": {
      "text/plain": [
       "404287"
      ]
     },
     "execution_count": 29,
     "metadata": {
      "tags": []
     },
     "output_type": "execute_result"
    }
   ],
   "source": [
    "# number of rows after removing rows with any missing or null values\n",
    "# in the dataframe\n",
    "train_data.shape[0]"
   ]
  },
  {
   "cell_type": "code",
   "execution_count": 30,
   "metadata": {
    "colab": {
     "base_uri": "https://localhost:8080/",
     "height": 282
    },
    "id": "_--tEKWV3UL7",
    "outputId": "678a720a-2e51-4aff-d3b1-ef93e8bf248e"
   },
   "outputs": [
    {
     "data": {
      "image/png": "[encoded data removed]",
      "text/plain": [
       "<Figure size 432x288 with 1 Axes>"
      ]
     },
     "metadata": {
      "needs_background": "light",
      "tags": []
     },
     "output_type": "display_data"
    }
   ],
   "source": [
    "# plotting the heatmap for missing or null values in the dataframe\n",
    "# after cleaning\n",
    "sns.heatmap(train_data.isnull(),\n",
    "            yticklabels=False,\n",
    "            cbar=False,\n",
    "            cmap='viridis')\n",
    "plt.title('QQP Null Values Detection Heat Map After Cleaning')\n",
    "plt.savefig('plots/quora_null_detection_heat_map_after.png',\n",
    "            facecolor='white')\n",
    "plt.show()"
   ]
  },
  {
   "cell_type": "code",
   "execution_count": 31,
   "metadata": {
    "colab": {
     "base_uri": "https://localhost:8080/",
     "height": 690
    },
    "id": "-suShRBk3UL7",
    "outputId": "c1d7b65f-d826-4e82-da2c-57b149d1373f"
   },
   "outputs": [
    {
     "data": {
      "text/plain": [
       "<matplotlib.axes._subplots.AxesSubplot at 0x7fd0f930c490>"
      ]
     },
     "execution_count": 31,
     "metadata": {
      "tags": []
     },
     "output_type": "execute_result"
    },
    {
     "data": {
      "image/png": "[encoded data removed]",
      "text/plain": [
       "<Figure size 1800x720 with 2 Axes>"
      ]
     },
     "metadata": {
      "needs_background": "light",
      "tags": []
     },
     "output_type": "display_data"
    }
   ],
   "source": [
    "# plotting a matrix visualization of the nullity of the dataframe\n",
    "# after cleaning\n",
    "fig = msno.matrix(train_data)\n",
    "fig_copy = fig.get_figure()\n",
    "fig_copy.savefig('plots/quora_msno_matrix_after.png',\n",
    "                 bbox_inches='tight')\n",
    "fig"
   ]
  },
  {
   "cell_type": "code",
   "execution_count": 32,
   "metadata": {
    "colab": {
     "base_uri": "https://localhost:8080/",
     "height": 711
    },
    "id": "vRlbrGaB3UL7",
    "outputId": "441b218e-0d67-490c-db5b-70c566f6a6c7"
   },
   "outputs": [
    {
     "data": {
      "text/plain": [
       "<matplotlib.axes._subplots.AxesSubplot at 0x7fd0fab47c10>"
      ]
     },
     "execution_count": 32,
     "metadata": {
      "tags": []
     },
     "output_type": "execute_result"
    },
    {
     "data": {
      "image/png": "[encoded data removed]",
      "text/plain": [
       "<Figure size 1440x864 with 2 Axes>"
      ]
     },
     "metadata": {
      "needs_background": "light",
      "tags": []
     },
     "output_type": "display_data"
    }
   ],
   "source": [
    "# plotting a seaborn heatmap visualization of nullity correlation\n",
    "# in the dataframe after cleaning\n",
    "fig = msno.heatmap(train_data)\n",
    "fig_copy = fig.get_figure()\n",
    "fig_copy.savefig('plots/quora_msno_heatmap_after.png',\n",
    "                 bbox_inches='tight')\n",
    "fig"
   ]
  },
  {
   "cell_type": "code",
   "execution_count": 33,
   "metadata": {
    "colab": {
     "base_uri": "https://localhost:8080/"
    },
    "id": "c0YlkBXG3UL7",
    "outputId": "12c64d4d-43db-419a-ce41-5e2ebe58539e"
   },
   "outputs": [
    {
     "data": {
      "text/plain": [
       "question1    0\n",
       "question2    0\n",
       "dtype: int64"
      ]
     },
     "execution_count": 33,
     "metadata": {
      "tags": []
     },
     "output_type": "execute_result"
    }
   ],
   "source": [
    "# count of null values in question1 and question2 columns of the dataframe\n",
    "train_data[['question1', 'question2']].isnull().sum()"
   ]
  },
  {
   "cell_type": "code",
   "execution_count": 34,
   "metadata": {
    "colab": {
     "base_uri": "https://localhost:8080/"
    },
    "id": "IGwoAvJE3UL7",
    "outputId": "434748e3-4600-4988-ee71-aa8e135a1646"
   },
   "outputs": [
    {
     "data": {
      "text/plain": [
       "0"
      ]
     },
     "execution_count": 34,
     "metadata": {
      "tags": []
     },
     "output_type": "execute_result"
    }
   ],
   "source": [
    "# checking the number of duplicate rows exist in the dataframe\n",
    "# before cleaning\n",
    "train_data.duplicated().sum()"
   ]
  },
  {
   "cell_type": "code",
   "execution_count": 35,
   "metadata": {
    "id": "4RGKuRds3UL8"
   },
   "outputs": [],
   "source": [
    "# removing the duplicate rows from the dataframe if exist\n",
    "train_data = train_data.drop_duplicates()"
   ]
  },
  {
   "cell_type": "code",
   "execution_count": 36,
   "metadata": {
    "colab": {
     "base_uri": "https://localhost:8080/"
    },
    "id": "WaTmKoHA3UL8",
    "outputId": "36a7d322-86d9-4819-b16d-8e1722df73ba"
   },
   "outputs": [
    {
     "data": {
      "text/plain": [
       "0"
      ]
     },
     "execution_count": 36,
     "metadata": {
      "tags": []
     },
     "output_type": "execute_result"
    }
   ],
   "source": [
    "# checking the number of duplicate rows exist in the dataframe\n",
    "# after cleaning\n",
    "train_data.duplicated().sum()"
   ]
  },
  {
   "cell_type": "code",
   "execution_count": 37,
   "metadata": {
    "colab": {
     "base_uri": "https://localhost:8080/",
     "height": 424
    },
    "id": "MmahiZn93UL8",
    "outputId": "de471001-39da-4acc-aa2a-c70075418c92"
   },
   "outputs": [
    {
     "data": {
      "text/html": [
       "<div>\n",
       "<style scoped>\n",
       "    .dataframe tbody tr th:only-of-type {\n",
       "        vertical-align: middle;\n",
       "    }\n",
       "\n",
       "    .dataframe tbody tr th {\n",
       "        vertical-align: top;\n",
       "    }\n",
       "\n",
       "    .dataframe thead th {\n",
       "        text-align: right;\n",
       "    }\n",
       "</style>\n",
       "<table border=\"1\" class=\"dataframe\">\n",
       "  <thead>\n",
       "    <tr style=\"text-align: right;\">\n",
       "      <th></th>\n",
       "      <th>qid1</th>\n",
       "      <th>qid2</th>\n",
       "      <th>question1</th>\n",
       "      <th>question2</th>\n",
       "      <th>is_duplicate</th>\n",
       "    </tr>\n",
       "  </thead>\n",
       "  <tbody>\n",
       "    <tr>\n",
       "      <th>0</th>\n",
       "      <td>1</td>\n",
       "      <td>2</td>\n",
       "      <td>What is the step by step guide to invest in sh...</td>\n",
       "      <td>What is the step by step guide to invest in sh...</td>\n",
       "      <td>0</td>\n",
       "    </tr>\n",
       "    <tr>\n",
       "      <th>1</th>\n",
       "      <td>3</td>\n",
       "      <td>4</td>\n",
       "      <td>What is the story of Kohinoor (Koh-i-Noor) Dia...</td>\n",
       "      <td>What would happen if the Indian government sto...</td>\n",
       "      <td>0</td>\n",
       "    </tr>\n",
       "    <tr>\n",
       "      <th>2</th>\n",
       "      <td>5</td>\n",
       "      <td>6</td>\n",
       "      <td>How can I increase the speed of my internet co...</td>\n",
       "      <td>How can Internet speed be increased by hacking...</td>\n",
       "      <td>0</td>\n",
       "    </tr>\n",
       "    <tr>\n",
       "      <th>3</th>\n",
       "      <td>7</td>\n",
       "      <td>8</td>\n",
       "      <td>Why am I mentally very lonely? How can I solve...</td>\n",
       "      <td>Find the remainder when [math]23^{24}[/math] i...</td>\n",
       "      <td>0</td>\n",
       "    </tr>\n",
       "    <tr>\n",
       "      <th>4</th>\n",
       "      <td>9</td>\n",
       "      <td>10</td>\n",
       "      <td>Which one dissolve in water quikly sugar, salt...</td>\n",
       "      <td>Which fish would survive in salt water?</td>\n",
       "      <td>0</td>\n",
       "    </tr>\n",
       "    <tr>\n",
       "      <th>...</th>\n",
       "      <td>...</td>\n",
       "      <td>...</td>\n",
       "      <td>...</td>\n",
       "      <td>...</td>\n",
       "      <td>...</td>\n",
       "    </tr>\n",
       "    <tr>\n",
       "      <th>404285</th>\n",
       "      <td>433578</td>\n",
       "      <td>379845</td>\n",
       "      <td>How many keywords are there in the Racket prog...</td>\n",
       "      <td>How many keywords are there in PERL Programmin...</td>\n",
       "      <td>0</td>\n",
       "    </tr>\n",
       "    <tr>\n",
       "      <th>404286</th>\n",
       "      <td>18840</td>\n",
       "      <td>155606</td>\n",
       "      <td>Do you believe there is life after death?</td>\n",
       "      <td>Is it true that there is life after death?</td>\n",
       "      <td>1</td>\n",
       "    </tr>\n",
       "    <tr>\n",
       "      <th>404287</th>\n",
       "      <td>537928</td>\n",
       "      <td>537929</td>\n",
       "      <td>What is one coin?</td>\n",
       "      <td>What's this coin?</td>\n",
       "      <td>0</td>\n",
       "    </tr>\n",
       "    <tr>\n",
       "      <th>404288</th>\n",
       "      <td>537930</td>\n",
       "      <td>537931</td>\n",
       "      <td>What is the approx annual cost of living while...</td>\n",
       "      <td>I am having little hairfall problem but I want...</td>\n",
       "      <td>0</td>\n",
       "    </tr>\n",
       "    <tr>\n",
       "      <th>404289</th>\n",
       "      <td>537932</td>\n",
       "      <td>537933</td>\n",
       "      <td>What is like to have sex with cousin?</td>\n",
       "      <td>What is it like to have sex with your cousin?</td>\n",
       "      <td>0</td>\n",
       "    </tr>\n",
       "  </tbody>\n",
       "</table>\n",
       "<p>404287 rows × 5 columns</p>\n",
       "</div>"
      ],
      "text/plain": [
       "          qid1    qid2                                          question1  \\\n",
       "0            1       2  What is the step by step guide to invest in sh...   \n",
       "1            3       4  What is the story of Kohinoor (Koh-i-Noor) Dia...   \n",
       "2            5       6  How can I increase the speed of my internet co...   \n",
       "3            7       8  Why am I mentally very lonely? How can I solve...   \n",
       "4            9      10  Which one dissolve in water quikly sugar, salt...   \n",
       "...        ...     ...                                                ...   \n",
       "404285  433578  379845  How many keywords are there in the Racket prog...   \n",
       "404286   18840  155606          Do you believe there is life after death?   \n",
       "404287  537928  537929                                  What is one coin?   \n",
       "404288  537930  537931  What is the approx annual cost of living while...   \n",
       "404289  537932  537933              What is like to have sex with cousin?   \n",
       "\n",
       "                                                question2  is_duplicate  \n",
       "0       What is the step by step guide to invest in sh...             0  \n",
       "1       What would happen if the Indian government sto...             0  \n",
       "2       How can Internet speed be increased by hacking...             0  \n",
       "3       Find the remainder when [math]23^{24}[/math] i...             0  \n",
       "4                 Which fish would survive in salt water?             0  \n",
       "...                                                   ...           ...  \n",
       "404285  How many keywords are there in PERL Programmin...             0  \n",
       "404286         Is it true that there is life after death?             1  \n",
       "404287                                  What's this coin?             0  \n",
       "404288  I am having little hairfall problem but I want...             0  \n",
       "404289      What is it like to have sex with your cousin?             0  \n",
       "\n",
       "[404287 rows x 5 columns]"
      ]
     },
     "execution_count": 37,
     "metadata": {
      "tags": []
     },
     "output_type": "execute_result"
    }
   ],
   "source": [
    "# printing the dataframe\n",
    "train_data"
   ]
  },
  {
   "cell_type": "code",
   "execution_count": 38,
   "metadata": {
    "colab": {
     "base_uri": "https://localhost:8080/"
    },
    "id": "r3K4hCyE3UL8",
    "outputId": "8531ef48-a56e-4703-e906-4a8829bf3b1c"
   },
   "outputs": [
    {
     "name": "stdout",
     "output_type": "stream",
     "text": [
      "<class 'pandas.core.frame.DataFrame'>\n",
      "Int64Index: 404287 entries, 0 to 404289\n",
      "Data columns (total 5 columns):\n",
      " #   Column        Non-Null Count   Dtype \n",
      "---  ------        --------------   ----- \n",
      " 0   qid1          404287 non-null  int64 \n",
      " 1   qid2          404287 non-null  int64 \n",
      " 2   question1     404287 non-null  object\n",
      " 3   question2     404287 non-null  object\n",
      " 4   is_duplicate  404287 non-null  int64 \n",
      "dtypes: int64(3), object(2)\n",
      "memory usage: 18.5+ MB\n"
     ]
    }
   ],
   "source": [
    "# printing a concise summary of the dataframe\n",
    "# information such as index, data type, columns, non-null values,\n",
    "# and memory usage\n",
    "train_data.info()"
   ]
  },
  {
   "cell_type": "code",
   "execution_count": 39,
   "metadata": {
    "colab": {
     "base_uri": "https://localhost:8080/"
    },
    "id": "jJq3f8Rr3UL8",
    "outputId": "656e0089-3cb9-4d08-a6a3-3283e4f89802"
   },
   "outputs": [
    {
     "data": {
      "text/plain": [
       "Index(['qid1', 'qid2', 'question1', 'question2', 'is_duplicate'], dtype='object')"
      ]
     },
     "execution_count": 39,
     "metadata": {
      "tags": []
     },
     "output_type": "execute_result"
    }
   ],
   "source": [
    "# printing the columns of the dataframe\n",
    "train_data.columns"
   ]
  },
  {
   "cell_type": "code",
   "execution_count": 40,
   "metadata": {
    "colab": {
     "base_uri": "https://localhost:8080/"
    },
    "id": "rtnMXkZI3UL9",
    "outputId": "8e7f6084-722a-4d81-eec7-25c76f50e42f"
   },
   "outputs": [
    {
     "data": {
      "text/plain": [
       "0    255024\n",
       "1    149263\n",
       "Name: is_duplicate, dtype: int64"
      ]
     },
     "execution_count": 40,
     "metadata": {
      "tags": []
     },
     "output_type": "execute_result"
    }
   ],
   "source": [
    "# printing count of unique values\n",
    "train_data['is_duplicate'].value_counts()"
   ]
  },
  {
   "cell_type": "code",
   "execution_count": 41,
   "metadata": {
    "colab": {
     "base_uri": "https://localhost:8080/"
    },
    "id": "JerQ-nZk3UL9",
    "outputId": "2c149e90-1a87-4c6a-ba98-bed2036bfa50"
   },
   "outputs": [
    {
     "data": {
      "text/plain": [
       "is_duplicate\n",
       "0    255024\n",
       "1    149263\n",
       "Name: qid1, dtype: int64"
      ]
     },
     "execution_count": 41,
     "metadata": {
      "tags": []
     },
     "output_type": "execute_result"
    }
   ],
   "source": [
    "# printing count of unique values\n",
    "train_data.groupby('is_duplicate')['qid1'].count()"
   ]
  },
  {
   "cell_type": "code",
   "execution_count": 42,
   "metadata": {
    "colab": {
     "base_uri": "https://localhost:8080/",
     "height": 264
    },
    "id": "uX2IEJpd3UL9",
    "outputId": "5ad9b861-1a11-4423-8d08-d32d750bd2c3"
   },
   "outputs": [
    {
     "data": {
      "image/png": "[encoded data removed]",
      "text/plain": [
       "<Figure size 432x288 with 1 Axes>"
      ]
     },
     "metadata": {
      "tags": []
     },
     "output_type": "display_data"
    }
   ],
   "source": [
    "# plotting the distribution of target values\n",
    "fig = plt.figure()\n",
    "lbl = ['Not Duplicate (0)', 'Duplicate (1)']\n",
    "pct = '%1.0f%%'\n",
    "ax = train_data.groupby('is_duplicate')['qid1'].count().plot(kind='pie',\n",
    "                                                             labels=lbl,\n",
    "                                                             autopct=pct)\n",
    "ax.yaxis.set_visible(False)\n",
    "plt.title('Distribution of Duplicate Question Pairs')\n",
    "plt.legend()\n",
    "fig.savefig('plots/quora_question_pairs_pie_chart.png',\n",
    "            facecolor='white')\n",
    "plt.show()"
   ]
  },
  {
   "cell_type": "code",
   "execution_count": 43,
   "metadata": {
    "colab": {
     "base_uri": "https://localhost:8080/",
     "height": 264
    },
    "id": "Au4j79qv3UL9",
    "outputId": "9132ab67-8e9d-4fb7-86ac-b92a077b3e74"
   },
   "outputs": [
    {
     "data": {
      "image/png": "[encoded data removed]",
      "text/plain": [
       "<Figure size 432x288 with 1 Axes>"
      ]
     },
     "metadata": {
      "tags": []
     },
     "output_type": "display_data"
    }
   ],
   "source": [
    "# plotting the distribution of target values\n",
    "fig = plt.figure()\n",
    "lbl = ['Not Duplicate (0)', 'Duplicate (1)']\n",
    "pct = '%1.0f%%'\n",
    "ax = train_data['is_duplicate'].value_counts().plot(kind='pie',\n",
    "                                                    labels=lbl,\n",
    "                                                    autopct=pct)\n",
    "ax.yaxis.set_visible(False)\n",
    "plt.title('Distribution of Duplicate Question Pairs')\n",
    "plt.legend()\n",
    "fig.savefig('plots/quora_question_pairs_pie_chart.png',\n",
    "            facecolor='white')\n",
    "plt.show()"
   ]
  },
  {
   "cell_type": "code",
   "execution_count": 44,
   "metadata": {
    "colab": {
     "base_uri": "https://localhost:8080/",
     "height": 424
    },
    "id": "mr7V2OBI3UL-",
    "outputId": "f7945a62-dbd1-4cc7-8070-37fa9deab448"
   },
   "outputs": [
    {
     "data": {
      "text/html": [
       "<div>\n",
       "<style scoped>\n",
       "    .dataframe tbody tr th:only-of-type {\n",
       "        vertical-align: middle;\n",
       "    }\n",
       "\n",
       "    .dataframe tbody tr th {\n",
       "        vertical-align: top;\n",
       "    }\n",
       "\n",
       "    .dataframe thead th {\n",
       "        text-align: right;\n",
       "    }\n",
       "</style>\n",
       "<table border=\"1\" class=\"dataframe\">\n",
       "  <thead>\n",
       "    <tr style=\"text-align: right;\">\n",
       "      <th></th>\n",
       "      <th>qid1</th>\n",
       "      <th>qid2</th>\n",
       "      <th>question1</th>\n",
       "      <th>question2</th>\n",
       "      <th>is_duplicate</th>\n",
       "    </tr>\n",
       "  </thead>\n",
       "  <tbody>\n",
       "    <tr>\n",
       "      <th>5</th>\n",
       "      <td>11</td>\n",
       "      <td>12</td>\n",
       "      <td>Astrology: I am a Capricorn Sun Cap moon and c...</td>\n",
       "      <td>I'm a triple Capricorn (Sun, Moon and ascendan...</td>\n",
       "      <td>1</td>\n",
       "    </tr>\n",
       "    <tr>\n",
       "      <th>7</th>\n",
       "      <td>15</td>\n",
       "      <td>16</td>\n",
       "      <td>How can I be a good geologist?</td>\n",
       "      <td>What should I do to be a great geologist?</td>\n",
       "      <td>1</td>\n",
       "    </tr>\n",
       "    <tr>\n",
       "      <th>11</th>\n",
       "      <td>23</td>\n",
       "      <td>24</td>\n",
       "      <td>How do I read and find my YouTube comments?</td>\n",
       "      <td>How can I see all my Youtube comments?</td>\n",
       "      <td>1</td>\n",
       "    </tr>\n",
       "    <tr>\n",
       "      <th>12</th>\n",
       "      <td>25</td>\n",
       "      <td>26</td>\n",
       "      <td>What can make Physics easy to learn?</td>\n",
       "      <td>How can you make physics easy to learn?</td>\n",
       "      <td>1</td>\n",
       "    </tr>\n",
       "    <tr>\n",
       "      <th>13</th>\n",
       "      <td>27</td>\n",
       "      <td>28</td>\n",
       "      <td>What was your first sexual experience like?</td>\n",
       "      <td>What was your first sexual experience?</td>\n",
       "      <td>1</td>\n",
       "    </tr>\n",
       "    <tr>\n",
       "      <th>...</th>\n",
       "      <td>...</td>\n",
       "      <td>...</td>\n",
       "      <td>...</td>\n",
       "      <td>...</td>\n",
       "      <td>...</td>\n",
       "    </tr>\n",
       "    <tr>\n",
       "      <th>404280</th>\n",
       "      <td>537922</td>\n",
       "      <td>537923</td>\n",
       "      <td>What are some outfit ideas to wear to a frat p...</td>\n",
       "      <td>What are some outfit ideas wear to a frat them...</td>\n",
       "      <td>1</td>\n",
       "    </tr>\n",
       "    <tr>\n",
       "      <th>404281</th>\n",
       "      <td>99131</td>\n",
       "      <td>81495</td>\n",
       "      <td>Why is Manaphy childish in Pokémon Ranger and ...</td>\n",
       "      <td>Why is Manaphy annoying in Pokemon ranger and ...</td>\n",
       "      <td>1</td>\n",
       "    </tr>\n",
       "    <tr>\n",
       "      <th>404282</th>\n",
       "      <td>1931</td>\n",
       "      <td>16773</td>\n",
       "      <td>How does a long distance relationship work?</td>\n",
       "      <td>How are long distance relationships maintained?</td>\n",
       "      <td>1</td>\n",
       "    </tr>\n",
       "    <tr>\n",
       "      <th>404284</th>\n",
       "      <td>537926</td>\n",
       "      <td>537927</td>\n",
       "      <td>What does Jainism say about homosexuality?</td>\n",
       "      <td>What does Jainism say about Gays and Homosexua...</td>\n",
       "      <td>1</td>\n",
       "    </tr>\n",
       "    <tr>\n",
       "      <th>404286</th>\n",
       "      <td>18840</td>\n",
       "      <td>155606</td>\n",
       "      <td>Do you believe there is life after death?</td>\n",
       "      <td>Is it true that there is life after death?</td>\n",
       "      <td>1</td>\n",
       "    </tr>\n",
       "  </tbody>\n",
       "</table>\n",
       "<p>149263 rows × 5 columns</p>\n",
       "</div>"
      ],
      "text/plain": [
       "          qid1    qid2                                          question1  \\\n",
       "5           11      12  Astrology: I am a Capricorn Sun Cap moon and c...   \n",
       "7           15      16                     How can I be a good geologist?   \n",
       "11          23      24        How do I read and find my YouTube comments?   \n",
       "12          25      26               What can make Physics easy to learn?   \n",
       "13          27      28        What was your first sexual experience like?   \n",
       "...        ...     ...                                                ...   \n",
       "404280  537922  537923  What are some outfit ideas to wear to a frat p...   \n",
       "404281   99131   81495  Why is Manaphy childish in Pokémon Ranger and ...   \n",
       "404282    1931   16773        How does a long distance relationship work?   \n",
       "404284  537926  537927         What does Jainism say about homosexuality?   \n",
       "404286   18840  155606          Do you believe there is life after death?   \n",
       "\n",
       "                                                question2  is_duplicate  \n",
       "5       I'm a triple Capricorn (Sun, Moon and ascendan...             1  \n",
       "7               What should I do to be a great geologist?             1  \n",
       "11                 How can I see all my Youtube comments?             1  \n",
       "12                How can you make physics easy to learn?             1  \n",
       "13                 What was your first sexual experience?             1  \n",
       "...                                                   ...           ...  \n",
       "404280  What are some outfit ideas wear to a frat them...             1  \n",
       "404281  Why is Manaphy annoying in Pokemon ranger and ...             1  \n",
       "404282    How are long distance relationships maintained?             1  \n",
       "404284  What does Jainism say about Gays and Homosexua...             1  \n",
       "404286         Is it true that there is life after death?             1  \n",
       "\n",
       "[149263 rows x 5 columns]"
      ]
     },
     "execution_count": 44,
     "metadata": {
      "tags": []
     },
     "output_type": "execute_result"
    }
   ],
   "source": [
    "# printing duplicate rows\n",
    "df_is_duplicate_1 = train_data[train_data['is_duplicate'] == 1]\n",
    "df_is_duplicate_1"
   ]
  },
  {
   "cell_type": "code",
   "execution_count": 45,
   "metadata": {
    "colab": {
     "base_uri": "https://localhost:8080/",
     "height": 424
    },
    "id": "olBG3PdO3UL-",
    "outputId": "30bfde40-26cb-4c60-b594-84d6128bf871"
   },
   "outputs": [
    {
     "data": {
      "text/html": [
       "<div>\n",
       "<style scoped>\n",
       "    .dataframe tbody tr th:only-of-type {\n",
       "        vertical-align: middle;\n",
       "    }\n",
       "\n",
       "    .dataframe tbody tr th {\n",
       "        vertical-align: top;\n",
       "    }\n",
       "\n",
       "    .dataframe thead th {\n",
       "        text-align: right;\n",
       "    }\n",
       "</style>\n",
       "<table border=\"1\" class=\"dataframe\">\n",
       "  <thead>\n",
       "    <tr style=\"text-align: right;\">\n",
       "      <th></th>\n",
       "      <th>qid1</th>\n",
       "      <th>qid2</th>\n",
       "      <th>question1</th>\n",
       "      <th>question2</th>\n",
       "      <th>is_duplicate</th>\n",
       "    </tr>\n",
       "  </thead>\n",
       "  <tbody>\n",
       "    <tr>\n",
       "      <th>0</th>\n",
       "      <td>1</td>\n",
       "      <td>2</td>\n",
       "      <td>What is the step by step guide to invest in sh...</td>\n",
       "      <td>What is the step by step guide to invest in sh...</td>\n",
       "      <td>0</td>\n",
       "    </tr>\n",
       "    <tr>\n",
       "      <th>1</th>\n",
       "      <td>3</td>\n",
       "      <td>4</td>\n",
       "      <td>What is the story of Kohinoor (Koh-i-Noor) Dia...</td>\n",
       "      <td>What would happen if the Indian government sto...</td>\n",
       "      <td>0</td>\n",
       "    </tr>\n",
       "    <tr>\n",
       "      <th>2</th>\n",
       "      <td>5</td>\n",
       "      <td>6</td>\n",
       "      <td>How can I increase the speed of my internet co...</td>\n",
       "      <td>How can Internet speed be increased by hacking...</td>\n",
       "      <td>0</td>\n",
       "    </tr>\n",
       "    <tr>\n",
       "      <th>3</th>\n",
       "      <td>7</td>\n",
       "      <td>8</td>\n",
       "      <td>Why am I mentally very lonely? How can I solve...</td>\n",
       "      <td>Find the remainder when [math]23^{24}[/math] i...</td>\n",
       "      <td>0</td>\n",
       "    </tr>\n",
       "    <tr>\n",
       "      <th>4</th>\n",
       "      <td>9</td>\n",
       "      <td>10</td>\n",
       "      <td>Which one dissolve in water quikly sugar, salt...</td>\n",
       "      <td>Which fish would survive in salt water?</td>\n",
       "      <td>0</td>\n",
       "    </tr>\n",
       "    <tr>\n",
       "      <th>...</th>\n",
       "      <td>...</td>\n",
       "      <td>...</td>\n",
       "      <td>...</td>\n",
       "      <td>...</td>\n",
       "      <td>...</td>\n",
       "    </tr>\n",
       "    <tr>\n",
       "      <th>404283</th>\n",
       "      <td>537924</td>\n",
       "      <td>537925</td>\n",
       "      <td>What do you think of the removal of the MagSaf...</td>\n",
       "      <td>What will the CPU upgrade to the 2016 Apple Ma...</td>\n",
       "      <td>0</td>\n",
       "    </tr>\n",
       "    <tr>\n",
       "      <th>404285</th>\n",
       "      <td>433578</td>\n",
       "      <td>379845</td>\n",
       "      <td>How many keywords are there in the Racket prog...</td>\n",
       "      <td>How many keywords are there in PERL Programmin...</td>\n",
       "      <td>0</td>\n",
       "    </tr>\n",
       "    <tr>\n",
       "      <th>404287</th>\n",
       "      <td>537928</td>\n",
       "      <td>537929</td>\n",
       "      <td>What is one coin?</td>\n",
       "      <td>What's this coin?</td>\n",
       "      <td>0</td>\n",
       "    </tr>\n",
       "    <tr>\n",
       "      <th>404288</th>\n",
       "      <td>537930</td>\n",
       "      <td>537931</td>\n",
       "      <td>What is the approx annual cost of living while...</td>\n",
       "      <td>I am having little hairfall problem but I want...</td>\n",
       "      <td>0</td>\n",
       "    </tr>\n",
       "    <tr>\n",
       "      <th>404289</th>\n",
       "      <td>537932</td>\n",
       "      <td>537933</td>\n",
       "      <td>What is like to have sex with cousin?</td>\n",
       "      <td>What is it like to have sex with your cousin?</td>\n",
       "      <td>0</td>\n",
       "    </tr>\n",
       "  </tbody>\n",
       "</table>\n",
       "<p>255024 rows × 5 columns</p>\n",
       "</div>"
      ],
      "text/plain": [
       "          qid1    qid2                                          question1  \\\n",
       "0            1       2  What is the step by step guide to invest in sh...   \n",
       "1            3       4  What is the story of Kohinoor (Koh-i-Noor) Dia...   \n",
       "2            5       6  How can I increase the speed of my internet co...   \n",
       "3            7       8  Why am I mentally very lonely? How can I solve...   \n",
       "4            9      10  Which one dissolve in water quikly sugar, salt...   \n",
       "...        ...     ...                                                ...   \n",
       "404283  537924  537925  What do you think of the removal of the MagSaf...   \n",
       "404285  433578  379845  How many keywords are there in the Racket prog...   \n",
       "404287  537928  537929                                  What is one coin?   \n",
       "404288  537930  537931  What is the approx annual cost of living while...   \n",
       "404289  537932  537933              What is like to have sex with cousin?   \n",
       "\n",
       "                                                question2  is_duplicate  \n",
       "0       What is the step by step guide to invest in sh...             0  \n",
       "1       What would happen if the Indian government sto...             0  \n",
       "2       How can Internet speed be increased by hacking...             0  \n",
       "3       Find the remainder when [math]23^{24}[/math] i...             0  \n",
       "4                 Which fish would survive in salt water?             0  \n",
       "...                                                   ...           ...  \n",
       "404283  What will the CPU upgrade to the 2016 Apple Ma...             0  \n",
       "404285  How many keywords are there in PERL Programmin...             0  \n",
       "404287                                  What's this coin?             0  \n",
       "404288  I am having little hairfall problem but I want...             0  \n",
       "404289      What is it like to have sex with your cousin?             0  \n",
       "\n",
       "[255024 rows x 5 columns]"
      ]
     },
     "execution_count": 45,
     "metadata": {
      "tags": []
     },
     "output_type": "execute_result"
    }
   ],
   "source": [
    "# printing non duplicate rows\n",
    "df_is_duplicate_0 = train_data[train_data['is_duplicate'] == 0]\n",
    "df_is_duplicate_0"
   ]
  },
  {
   "cell_type": "code",
   "execution_count": 46,
   "metadata": {
    "colab": {
     "base_uri": "https://localhost:8080/",
     "height": 424
    },
    "id": "xveZzHuF3UL-",
    "outputId": "c955b921-522f-4f6a-9812-72ea94233cdb"
   },
   "outputs": [
    {
     "data": {
      "text/html": [
       "<div>\n",
       "<style scoped>\n",
       "    .dataframe tbody tr th:only-of-type {\n",
       "        vertical-align: middle;\n",
       "    }\n",
       "\n",
       "    .dataframe tbody tr th {\n",
       "        vertical-align: top;\n",
       "    }\n",
       "\n",
       "    .dataframe thead th {\n",
       "        text-align: right;\n",
       "    }\n",
       "</style>\n",
       "<table border=\"1\" class=\"dataframe\">\n",
       "  <thead>\n",
       "    <tr style=\"text-align: right;\">\n",
       "      <th></th>\n",
       "      <th>question1</th>\n",
       "      <th>question2</th>\n",
       "      <th>is_duplicate</th>\n",
       "    </tr>\n",
       "  </thead>\n",
       "  <tbody>\n",
       "    <tr>\n",
       "      <th>0</th>\n",
       "      <td>What is the step by step guide to invest in sh...</td>\n",
       "      <td>What is the step by step guide to invest in sh...</td>\n",
       "      <td>0</td>\n",
       "    </tr>\n",
       "    <tr>\n",
       "      <th>1</th>\n",
       "      <td>What is the story of Kohinoor (Koh-i-Noor) Dia...</td>\n",
       "      <td>What would happen if the Indian government sto...</td>\n",
       "      <td>0</td>\n",
       "    </tr>\n",
       "    <tr>\n",
       "      <th>2</th>\n",
       "      <td>How can I increase the speed of my internet co...</td>\n",
       "      <td>How can Internet speed be increased by hacking...</td>\n",
       "      <td>0</td>\n",
       "    </tr>\n",
       "    <tr>\n",
       "      <th>3</th>\n",
       "      <td>Why am I mentally very lonely? How can I solve...</td>\n",
       "      <td>Find the remainder when [math]23^{24}[/math] i...</td>\n",
       "      <td>0</td>\n",
       "    </tr>\n",
       "    <tr>\n",
       "      <th>4</th>\n",
       "      <td>Which one dissolve in water quikly sugar, salt...</td>\n",
       "      <td>Which fish would survive in salt water?</td>\n",
       "      <td>0</td>\n",
       "    </tr>\n",
       "    <tr>\n",
       "      <th>...</th>\n",
       "      <td>...</td>\n",
       "      <td>...</td>\n",
       "      <td>...</td>\n",
       "    </tr>\n",
       "    <tr>\n",
       "      <th>404285</th>\n",
       "      <td>How many keywords are there in the Racket prog...</td>\n",
       "      <td>How many keywords are there in PERL Programmin...</td>\n",
       "      <td>0</td>\n",
       "    </tr>\n",
       "    <tr>\n",
       "      <th>404286</th>\n",
       "      <td>Do you believe there is life after death?</td>\n",
       "      <td>Is it true that there is life after death?</td>\n",
       "      <td>1</td>\n",
       "    </tr>\n",
       "    <tr>\n",
       "      <th>404287</th>\n",
       "      <td>What is one coin?</td>\n",
       "      <td>What's this coin?</td>\n",
       "      <td>0</td>\n",
       "    </tr>\n",
       "    <tr>\n",
       "      <th>404288</th>\n",
       "      <td>What is the approx annual cost of living while...</td>\n",
       "      <td>I am having little hairfall problem but I want...</td>\n",
       "      <td>0</td>\n",
       "    </tr>\n",
       "    <tr>\n",
       "      <th>404289</th>\n",
       "      <td>What is like to have sex with cousin?</td>\n",
       "      <td>What is it like to have sex with your cousin?</td>\n",
       "      <td>0</td>\n",
       "    </tr>\n",
       "  </tbody>\n",
       "</table>\n",
       "<p>404287 rows × 3 columns</p>\n",
       "</div>"
      ],
      "text/plain": [
       "                                                question1  \\\n",
       "0       What is the step by step guide to invest in sh...   \n",
       "1       What is the story of Kohinoor (Koh-i-Noor) Dia...   \n",
       "2       How can I increase the speed of my internet co...   \n",
       "3       Why am I mentally very lonely? How can I solve...   \n",
       "4       Which one dissolve in water quikly sugar, salt...   \n",
       "...                                                   ...   \n",
       "404285  How many keywords are there in the Racket prog...   \n",
       "404286          Do you believe there is life after death?   \n",
       "404287                                  What is one coin?   \n",
       "404288  What is the approx annual cost of living while...   \n",
       "404289              What is like to have sex with cousin?   \n",
       "\n",
       "                                                question2  is_duplicate  \n",
       "0       What is the step by step guide to invest in sh...             0  \n",
       "1       What would happen if the Indian government sto...             0  \n",
       "2       How can Internet speed be increased by hacking...             0  \n",
       "3       Find the remainder when [math]23^{24}[/math] i...             0  \n",
       "4                 Which fish would survive in salt water?             0  \n",
       "...                                                   ...           ...  \n",
       "404285  How many keywords are there in PERL Programmin...             0  \n",
       "404286         Is it true that there is life after death?             1  \n",
       "404287                                  What's this coin?             0  \n",
       "404288  I am having little hairfall problem but I want...             0  \n",
       "404289      What is it like to have sex with your cousin?             0  \n",
       "\n",
       "[404287 rows x 3 columns]"
      ]
     },
     "execution_count": 46,
     "metadata": {
      "tags": []
     },
     "output_type": "execute_result"
    }
   ],
   "source": [
    "# dropping unnecessary columns from the dataframe\n",
    "train_data.drop('qid1',\n",
    "                axis=1,\n",
    "                inplace=True)\n",
    "train_data.drop('qid2',\n",
    "                axis=1,\n",
    "                inplace=True)\n",
    "train_data"
   ]
  },
  {
   "cell_type": "code",
   "execution_count": 47,
   "metadata": {
    "colab": {
     "base_uri": "https://localhost:8080/",
     "height": 424
    },
    "id": "3jXSRpeL3UL-",
    "outputId": "8b6ff0f6-bc30-4a02-de18-3c550e20795a"
   },
   "outputs": [
    {
     "data": {
      "text/html": [
       "<div>\n",
       "<style scoped>\n",
       "    .dataframe tbody tr th:only-of-type {\n",
       "        vertical-align: middle;\n",
       "    }\n",
       "\n",
       "    .dataframe tbody tr th {\n",
       "        vertical-align: top;\n",
       "    }\n",
       "\n",
       "    .dataframe thead th {\n",
       "        text-align: right;\n",
       "    }\n",
       "</style>\n",
       "<table border=\"1\" class=\"dataframe\">\n",
       "  <thead>\n",
       "    <tr style=\"text-align: right;\">\n",
       "      <th></th>\n",
       "      <th>question1</th>\n",
       "      <th>question2</th>\n",
       "      <th>is_duplicate</th>\n",
       "    </tr>\n",
       "  </thead>\n",
       "  <tbody>\n",
       "    <tr>\n",
       "      <th>0</th>\n",
       "      <td>What is the step by step guide to invest in sh...</td>\n",
       "      <td>What is the step by step guide to invest in sh...</td>\n",
       "      <td>0</td>\n",
       "    </tr>\n",
       "    <tr>\n",
       "      <th>1</th>\n",
       "      <td>What is the story of Kohinoor (Koh-i-Noor) Dia...</td>\n",
       "      <td>What would happen if the Indian government sto...</td>\n",
       "      <td>0</td>\n",
       "    </tr>\n",
       "    <tr>\n",
       "      <th>2</th>\n",
       "      <td>How can I increase the speed of my internet co...</td>\n",
       "      <td>How can Internet speed be increased by hacking...</td>\n",
       "      <td>0</td>\n",
       "    </tr>\n",
       "    <tr>\n",
       "      <th>3</th>\n",
       "      <td>Why am I mentally very lonely? How can I solve...</td>\n",
       "      <td>Find the remainder when [math]23^{24}[/math] i...</td>\n",
       "      <td>0</td>\n",
       "    </tr>\n",
       "    <tr>\n",
       "      <th>4</th>\n",
       "      <td>Which one dissolve in water quikly sugar, salt...</td>\n",
       "      <td>Which fish would survive in salt water?</td>\n",
       "      <td>0</td>\n",
       "    </tr>\n",
       "    <tr>\n",
       "      <th>...</th>\n",
       "      <td>...</td>\n",
       "      <td>...</td>\n",
       "      <td>...</td>\n",
       "    </tr>\n",
       "    <tr>\n",
       "      <th>404282</th>\n",
       "      <td>How many keywords are there in the Racket prog...</td>\n",
       "      <td>How many keywords are there in PERL Programmin...</td>\n",
       "      <td>0</td>\n",
       "    </tr>\n",
       "    <tr>\n",
       "      <th>404283</th>\n",
       "      <td>Do you believe there is life after death?</td>\n",
       "      <td>Is it true that there is life after death?</td>\n",
       "      <td>1</td>\n",
       "    </tr>\n",
       "    <tr>\n",
       "      <th>404284</th>\n",
       "      <td>What is one coin?</td>\n",
       "      <td>What's this coin?</td>\n",
       "      <td>0</td>\n",
       "    </tr>\n",
       "    <tr>\n",
       "      <th>404285</th>\n",
       "      <td>What is the approx annual cost of living while...</td>\n",
       "      <td>I am having little hairfall problem but I want...</td>\n",
       "      <td>0</td>\n",
       "    </tr>\n",
       "    <tr>\n",
       "      <th>404286</th>\n",
       "      <td>What is like to have sex with cousin?</td>\n",
       "      <td>What is it like to have sex with your cousin?</td>\n",
       "      <td>0</td>\n",
       "    </tr>\n",
       "  </tbody>\n",
       "</table>\n",
       "<p>404287 rows × 3 columns</p>\n",
       "</div>"
      ],
      "text/plain": [
       "                                                question1  \\\n",
       "0       What is the step by step guide to invest in sh...   \n",
       "1       What is the story of Kohinoor (Koh-i-Noor) Dia...   \n",
       "2       How can I increase the speed of my internet co...   \n",
       "3       Why am I mentally very lonely? How can I solve...   \n",
       "4       Which one dissolve in water quikly sugar, salt...   \n",
       "...                                                   ...   \n",
       "404282  How many keywords are there in the Racket prog...   \n",
       "404283          Do you believe there is life after death?   \n",
       "404284                                  What is one coin?   \n",
       "404285  What is the approx annual cost of living while...   \n",
       "404286              What is like to have sex with cousin?   \n",
       "\n",
       "                                                question2  is_duplicate  \n",
       "0       What is the step by step guide to invest in sh...             0  \n",
       "1       What would happen if the Indian government sto...             0  \n",
       "2       How can Internet speed be increased by hacking...             0  \n",
       "3       Find the remainder when [math]23^{24}[/math] i...             0  \n",
       "4                 Which fish would survive in salt water?             0  \n",
       "...                                                   ...           ...  \n",
       "404282  How many keywords are there in PERL Programmin...             0  \n",
       "404283         Is it true that there is life after death?             1  \n",
       "404284                                  What's this coin?             0  \n",
       "404285  I am having little hairfall problem but I want...             0  \n",
       "404286      What is it like to have sex with your cousin?             0  \n",
       "\n",
       "[404287 rows x 3 columns]"
      ]
     },
     "execution_count": 47,
     "metadata": {
      "tags": []
     },
     "output_type": "execute_result"
    }
   ],
   "source": [
    "# saving cleaned dataset to a csv file\n",
    "file_name = 'processed_datasets/qqp_train_data_cleaned.csv'\n",
    "train_data.to_csv(file_name,\n",
    "                  encoding='utf-8',\n",
    "                  index=False)\n",
    "\n",
    "# loading dataset from the saved csv file to a pandas dataframe\n",
    "train_data = pd.read_csv(file_name)\n",
    "\n",
    "# printing the cleaned loaded dataframe\n",
    "train_data"
   ]
  },
  {
   "cell_type": "code",
   "execution_count": 48,
   "metadata": {
    "colab": {
     "base_uri": "https://localhost:8080/",
     "height": 424
    },
    "id": "NuyhBZrt3UL-",
    "outputId": "746dfaf8-0803-45c8-8dcc-13f625ac4f35"
   },
   "outputs": [
    {
     "data": {
      "text/html": [
       "<div>\n",
       "<style scoped>\n",
       "    .dataframe tbody tr th:only-of-type {\n",
       "        vertical-align: middle;\n",
       "    }\n",
       "\n",
       "    .dataframe tbody tr th {\n",
       "        vertical-align: top;\n",
       "    }\n",
       "\n",
       "    .dataframe thead th {\n",
       "        text-align: right;\n",
       "    }\n",
       "</style>\n",
       "<table border=\"1\" class=\"dataframe\">\n",
       "  <thead>\n",
       "    <tr style=\"text-align: right;\">\n",
       "      <th></th>\n",
       "      <th>test_id</th>\n",
       "      <th>question1</th>\n",
       "      <th>question2</th>\n",
       "    </tr>\n",
       "  </thead>\n",
       "  <tbody>\n",
       "    <tr>\n",
       "      <th>0</th>\n",
       "      <td>0</td>\n",
       "      <td>How does the Surface Pro himself 4 compare wit...</td>\n",
       "      <td>Why did Microsoft choose core m3 and not core ...</td>\n",
       "    </tr>\n",
       "    <tr>\n",
       "      <th>1</th>\n",
       "      <td>1</td>\n",
       "      <td>Should I have a hair transplant at age 24? How...</td>\n",
       "      <td>How much cost does hair transplant require?</td>\n",
       "    </tr>\n",
       "    <tr>\n",
       "      <th>2</th>\n",
       "      <td>2</td>\n",
       "      <td>What but is the best way to send money from Ch...</td>\n",
       "      <td>What you send money to China?</td>\n",
       "    </tr>\n",
       "    <tr>\n",
       "      <th>3</th>\n",
       "      <td>3</td>\n",
       "      <td>Which food not emulsifiers?</td>\n",
       "      <td>What foods fibre?</td>\n",
       "    </tr>\n",
       "    <tr>\n",
       "      <th>4</th>\n",
       "      <td>4</td>\n",
       "      <td>How \"aberystwyth\" start reading?</td>\n",
       "      <td>How their can I start reading?</td>\n",
       "    </tr>\n",
       "    <tr>\n",
       "      <th>...</th>\n",
       "      <td>...</td>\n",
       "      <td>...</td>\n",
       "      <td>...</td>\n",
       "    </tr>\n",
       "    <tr>\n",
       "      <th>3563470</th>\n",
       "      <td>2345791</td>\n",
       "      <td>How do Peaks (TV series): Why did Leland kill ...</td>\n",
       "      <td>What is the most study scene in twin peaks?</td>\n",
       "    </tr>\n",
       "    <tr>\n",
       "      <th>3563471</th>\n",
       "      <td>2345792</td>\n",
       "      <td>What does be \"in transit\" mean on FedEx tracking?</td>\n",
       "      <td>How question FedEx packages delivered?</td>\n",
       "    </tr>\n",
       "    <tr>\n",
       "      <th>3563472</th>\n",
       "      <td>2345793</td>\n",
       "      <td>What are some famous Romanian drinks (alcoholi...</td>\n",
       "      <td>Can a non-alcoholic restaurant be a huge success?</td>\n",
       "    </tr>\n",
       "    <tr>\n",
       "      <th>3563473</th>\n",
       "      <td>2345794</td>\n",
       "      <td>What were the best and worst things about publ...</td>\n",
       "      <td>What are the best and worst things examination...</td>\n",
       "    </tr>\n",
       "    <tr>\n",
       "      <th>3563474</th>\n",
       "      <td>2345795</td>\n",
       "      <td>What is the best medication equation erectile ...</td>\n",
       "      <td>How do I out get rid of Erectile Dysfunction?</td>\n",
       "    </tr>\n",
       "  </tbody>\n",
       "</table>\n",
       "<p>3563475 rows × 3 columns</p>\n",
       "</div>"
      ],
      "text/plain": [
       "         test_id                                          question1  \\\n",
       "0              0  How does the Surface Pro himself 4 compare wit...   \n",
       "1              1  Should I have a hair transplant at age 24? How...   \n",
       "2              2  What but is the best way to send money from Ch...   \n",
       "3              3                        Which food not emulsifiers?   \n",
       "4              4                   How \"aberystwyth\" start reading?   \n",
       "...          ...                                                ...   \n",
       "3563470  2345791  How do Peaks (TV series): Why did Leland kill ...   \n",
       "3563471  2345792  What does be \"in transit\" mean on FedEx tracking?   \n",
       "3563472  2345793  What are some famous Romanian drinks (alcoholi...   \n",
       "3563473  2345794  What were the best and worst things about publ...   \n",
       "3563474  2345795  What is the best medication equation erectile ...   \n",
       "\n",
       "                                                 question2  \n",
       "0        Why did Microsoft choose core m3 and not core ...  \n",
       "1              How much cost does hair transplant require?  \n",
       "2                            What you send money to China?  \n",
       "3                                        What foods fibre?  \n",
       "4                           How their can I start reading?  \n",
       "...                                                    ...  \n",
       "3563470        What is the most study scene in twin peaks?  \n",
       "3563471             How question FedEx packages delivered?  \n",
       "3563472  Can a non-alcoholic restaurant be a huge success?  \n",
       "3563473  What are the best and worst things examination...  \n",
       "3563474      How do I out get rid of Erectile Dysfunction?  \n",
       "\n",
       "[3563475 rows x 3 columns]"
      ]
     },
     "execution_count": 48,
     "metadata": {
      "tags": []
     },
     "output_type": "execute_result"
    }
   ],
   "source": [
    "# importing test.csv dataset to a pandas dataframe\n",
    "# quora question pairs (qqp) dataset includes over 400000 potential\n",
    "# question duplicate pairs each line contains ids for each question in\n",
    "# the pair, the full text for each question, and a binary value that\n",
    "# indicates whether the line truly contains a duplicate pair\n",
    "test_data = pd.read_csv('test.csv')\n",
    "test_data"
   ]
  },
  {
   "cell_type": "code",
   "execution_count": 49,
   "metadata": {
    "colab": {
     "base_uri": "https://localhost:8080/",
     "height": 206
    },
    "id": "nRBPDPox3UL_",
    "outputId": "97dd1d35-cfd7-4b46-ab99-9d507b8d7b63"
   },
   "outputs": [
    {
     "data": {
      "text/html": [
       "<div>\n",
       "<style scoped>\n",
       "    .dataframe tbody tr th:only-of-type {\n",
       "        vertical-align: middle;\n",
       "    }\n",
       "\n",
       "    .dataframe tbody tr th {\n",
       "        vertical-align: top;\n",
       "    }\n",
       "\n",
       "    .dataframe thead th {\n",
       "        text-align: right;\n",
       "    }\n",
       "</style>\n",
       "<table border=\"1\" class=\"dataframe\">\n",
       "  <thead>\n",
       "    <tr style=\"text-align: right;\">\n",
       "      <th></th>\n",
       "      <th>test_id</th>\n",
       "      <th>question1</th>\n",
       "      <th>question2</th>\n",
       "    </tr>\n",
       "  </thead>\n",
       "  <tbody>\n",
       "    <tr>\n",
       "      <th>0</th>\n",
       "      <td>0</td>\n",
       "      <td>How does the Surface Pro himself 4 compare wit...</td>\n",
       "      <td>Why did Microsoft choose core m3 and not core ...</td>\n",
       "    </tr>\n",
       "    <tr>\n",
       "      <th>1</th>\n",
       "      <td>1</td>\n",
       "      <td>Should I have a hair transplant at age 24? How...</td>\n",
       "      <td>How much cost does hair transplant require?</td>\n",
       "    </tr>\n",
       "    <tr>\n",
       "      <th>2</th>\n",
       "      <td>2</td>\n",
       "      <td>What but is the best way to send money from Ch...</td>\n",
       "      <td>What you send money to China?</td>\n",
       "    </tr>\n",
       "    <tr>\n",
       "      <th>3</th>\n",
       "      <td>3</td>\n",
       "      <td>Which food not emulsifiers?</td>\n",
       "      <td>What foods fibre?</td>\n",
       "    </tr>\n",
       "    <tr>\n",
       "      <th>4</th>\n",
       "      <td>4</td>\n",
       "      <td>How \"aberystwyth\" start reading?</td>\n",
       "      <td>How their can I start reading?</td>\n",
       "    </tr>\n",
       "  </tbody>\n",
       "</table>\n",
       "</div>"
      ],
      "text/plain": [
       "  test_id                                          question1  \\\n",
       "0       0  How does the Surface Pro himself 4 compare wit...   \n",
       "1       1  Should I have a hair transplant at age 24? How...   \n",
       "2       2  What but is the best way to send money from Ch...   \n",
       "3       3                        Which food not emulsifiers?   \n",
       "4       4                   How \"aberystwyth\" start reading?   \n",
       "\n",
       "                                           question2  \n",
       "0  Why did Microsoft choose core m3 and not core ...  \n",
       "1        How much cost does hair transplant require?  \n",
       "2                      What you send money to China?  \n",
       "3                                  What foods fibre?  \n",
       "4                     How their can I start reading?  "
      ]
     },
     "execution_count": 49,
     "metadata": {
      "tags": []
     },
     "output_type": "execute_result"
    }
   ],
   "source": [
    "# displaying the first 5 rows of the dataframe\n",
    "test_data.head()"
   ]
  },
  {
   "cell_type": "code",
   "execution_count": 50,
   "metadata": {
    "colab": {
     "base_uri": "https://localhost:8080/",
     "height": 206
    },
    "id": "WEYbsDAm3UL_",
    "outputId": "343e568e-9557-4afd-dc7a-84c87c0162ad"
   },
   "outputs": [
    {
     "data": {
      "text/html": [
       "<div>\n",
       "<style scoped>\n",
       "    .dataframe tbody tr th:only-of-type {\n",
       "        vertical-align: middle;\n",
       "    }\n",
       "\n",
       "    .dataframe tbody tr th {\n",
       "        vertical-align: top;\n",
       "    }\n",
       "\n",
       "    .dataframe thead th {\n",
       "        text-align: right;\n",
       "    }\n",
       "</style>\n",
       "<table border=\"1\" class=\"dataframe\">\n",
       "  <thead>\n",
       "    <tr style=\"text-align: right;\">\n",
       "      <th></th>\n",
       "      <th>test_id</th>\n",
       "      <th>question1</th>\n",
       "      <th>question2</th>\n",
       "    </tr>\n",
       "  </thead>\n",
       "  <tbody>\n",
       "    <tr>\n",
       "      <th>3563470</th>\n",
       "      <td>2345791</td>\n",
       "      <td>How do Peaks (TV series): Why did Leland kill ...</td>\n",
       "      <td>What is the most study scene in twin peaks?</td>\n",
       "    </tr>\n",
       "    <tr>\n",
       "      <th>3563471</th>\n",
       "      <td>2345792</td>\n",
       "      <td>What does be \"in transit\" mean on FedEx tracking?</td>\n",
       "      <td>How question FedEx packages delivered?</td>\n",
       "    </tr>\n",
       "    <tr>\n",
       "      <th>3563472</th>\n",
       "      <td>2345793</td>\n",
       "      <td>What are some famous Romanian drinks (alcoholi...</td>\n",
       "      <td>Can a non-alcoholic restaurant be a huge success?</td>\n",
       "    </tr>\n",
       "    <tr>\n",
       "      <th>3563473</th>\n",
       "      <td>2345794</td>\n",
       "      <td>What were the best and worst things about publ...</td>\n",
       "      <td>What are the best and worst things examination...</td>\n",
       "    </tr>\n",
       "    <tr>\n",
       "      <th>3563474</th>\n",
       "      <td>2345795</td>\n",
       "      <td>What is the best medication equation erectile ...</td>\n",
       "      <td>How do I out get rid of Erectile Dysfunction?</td>\n",
       "    </tr>\n",
       "  </tbody>\n",
       "</table>\n",
       "</div>"
      ],
      "text/plain": [
       "         test_id                                          question1  \\\n",
       "3563470  2345791  How do Peaks (TV series): Why did Leland kill ...   \n",
       "3563471  2345792  What does be \"in transit\" mean on FedEx tracking?   \n",
       "3563472  2345793  What are some famous Romanian drinks (alcoholi...   \n",
       "3563473  2345794  What were the best and worst things about publ...   \n",
       "3563474  2345795  What is the best medication equation erectile ...   \n",
       "\n",
       "                                                 question2  \n",
       "3563470        What is the most study scene in twin peaks?  \n",
       "3563471             How question FedEx packages delivered?  \n",
       "3563472  Can a non-alcoholic restaurant be a huge success?  \n",
       "3563473  What are the best and worst things examination...  \n",
       "3563474      How do I out get rid of Erectile Dysfunction?  "
      ]
     },
     "execution_count": 50,
     "metadata": {
      "tags": []
     },
     "output_type": "execute_result"
    }
   ],
   "source": [
    "# displaying the last 5 rows of the dataframe\n",
    "test_data.tail()"
   ]
  },
  {
   "cell_type": "code",
   "execution_count": 51,
   "metadata": {
    "colab": {
     "base_uri": "https://localhost:8080/"
    },
    "id": "xEdpehtM3UMA",
    "outputId": "e91ce493-05c2-4def-b35a-9eb1c678cf83"
   },
   "outputs": [
    {
     "data": {
      "text/plain": [
       "(3563475, 3)"
      ]
     },
     "execution_count": 51,
     "metadata": {
      "tags": []
     },
     "output_type": "execute_result"
    }
   ],
   "source": [
    "# displaying the dimensionality of the dataframe\n",
    "test_data.shape"
   ]
  },
  {
   "cell_type": "code",
   "execution_count": 52,
   "metadata": {
    "colab": {
     "base_uri": "https://localhost:8080/"
    },
    "id": "FHnV65_l3UMA",
    "outputId": "0f3f9520-3856-4f99-d904-6d86800a7eb7"
   },
   "outputs": [
    {
     "name": "stdout",
     "output_type": "stream",
     "text": [
      "<class 'pandas.core.frame.DataFrame'>\n",
      "RangeIndex: 3563475 entries, 0 to 3563474\n",
      "Data columns (total 3 columns):\n",
      " #   Column     Dtype \n",
      "---  ------     ----- \n",
      " 0   test_id    object\n",
      " 1   question1  object\n",
      " 2   question2  object\n",
      "dtypes: object(3)\n",
      "memory usage: 81.6+ MB\n"
     ]
    }
   ],
   "source": [
    "# printing a concise summary of the dataframe\n",
    "# information such as index, data type, columns, non-null values,\n",
    "# and memory usage\n",
    "test_data.info()"
   ]
  },
  {
   "cell_type": "code",
   "execution_count": 53,
   "metadata": {
    "colab": {
     "base_uri": "https://localhost:8080/",
     "height": 424
    },
    "id": "3rvMMxBu3UMA",
    "outputId": "fabac5e9-9b20-4d6a-abed-7e4a03152ea4"
   },
   "outputs": [
    {
     "data": {
      "text/html": [
       "<div>\n",
       "<style scoped>\n",
       "    .dataframe tbody tr th:only-of-type {\n",
       "        vertical-align: middle;\n",
       "    }\n",
       "\n",
       "    .dataframe tbody tr th {\n",
       "        vertical-align: top;\n",
       "    }\n",
       "\n",
       "    .dataframe thead th {\n",
       "        text-align: right;\n",
       "    }\n",
       "</style>\n",
       "<table border=\"1\" class=\"dataframe\">\n",
       "  <thead>\n",
       "    <tr style=\"text-align: right;\">\n",
       "      <th></th>\n",
       "      <th>question1</th>\n",
       "      <th>question2</th>\n",
       "    </tr>\n",
       "  </thead>\n",
       "  <tbody>\n",
       "    <tr>\n",
       "      <th>0</th>\n",
       "      <td>How does the Surface Pro himself 4 compare wit...</td>\n",
       "      <td>Why did Microsoft choose core m3 and not core ...</td>\n",
       "    </tr>\n",
       "    <tr>\n",
       "      <th>1</th>\n",
       "      <td>Should I have a hair transplant at age 24? How...</td>\n",
       "      <td>How much cost does hair transplant require?</td>\n",
       "    </tr>\n",
       "    <tr>\n",
       "      <th>2</th>\n",
       "      <td>What but is the best way to send money from Ch...</td>\n",
       "      <td>What you send money to China?</td>\n",
       "    </tr>\n",
       "    <tr>\n",
       "      <th>3</th>\n",
       "      <td>Which food not emulsifiers?</td>\n",
       "      <td>What foods fibre?</td>\n",
       "    </tr>\n",
       "    <tr>\n",
       "      <th>4</th>\n",
       "      <td>How \"aberystwyth\" start reading?</td>\n",
       "      <td>How their can I start reading?</td>\n",
       "    </tr>\n",
       "    <tr>\n",
       "      <th>...</th>\n",
       "      <td>...</td>\n",
       "      <td>...</td>\n",
       "    </tr>\n",
       "    <tr>\n",
       "      <th>3563470</th>\n",
       "      <td>How do Peaks (TV series): Why did Leland kill ...</td>\n",
       "      <td>What is the most study scene in twin peaks?</td>\n",
       "    </tr>\n",
       "    <tr>\n",
       "      <th>3563471</th>\n",
       "      <td>What does be \"in transit\" mean on FedEx tracking?</td>\n",
       "      <td>How question FedEx packages delivered?</td>\n",
       "    </tr>\n",
       "    <tr>\n",
       "      <th>3563472</th>\n",
       "      <td>What are some famous Romanian drinks (alcoholi...</td>\n",
       "      <td>Can a non-alcoholic restaurant be a huge success?</td>\n",
       "    </tr>\n",
       "    <tr>\n",
       "      <th>3563473</th>\n",
       "      <td>What were the best and worst things about publ...</td>\n",
       "      <td>What are the best and worst things examination...</td>\n",
       "    </tr>\n",
       "    <tr>\n",
       "      <th>3563474</th>\n",
       "      <td>What is the best medication equation erectile ...</td>\n",
       "      <td>How do I out get rid of Erectile Dysfunction?</td>\n",
       "    </tr>\n",
       "  </tbody>\n",
       "</table>\n",
       "<p>3563475 rows × 2 columns</p>\n",
       "</div>"
      ],
      "text/plain": [
       "                                                 question1  \\\n",
       "0        How does the Surface Pro himself 4 compare wit...   \n",
       "1        Should I have a hair transplant at age 24? How...   \n",
       "2        What but is the best way to send money from Ch...   \n",
       "3                              Which food not emulsifiers?   \n",
       "4                         How \"aberystwyth\" start reading?   \n",
       "...                                                    ...   \n",
       "3563470  How do Peaks (TV series): Why did Leland kill ...   \n",
       "3563471  What does be \"in transit\" mean on FedEx tracking?   \n",
       "3563472  What are some famous Romanian drinks (alcoholi...   \n",
       "3563473  What were the best and worst things about publ...   \n",
       "3563474  What is the best medication equation erectile ...   \n",
       "\n",
       "                                                 question2  \n",
       "0        Why did Microsoft choose core m3 and not core ...  \n",
       "1              How much cost does hair transplant require?  \n",
       "2                            What you send money to China?  \n",
       "3                                        What foods fibre?  \n",
       "4                           How their can I start reading?  \n",
       "...                                                    ...  \n",
       "3563470        What is the most study scene in twin peaks?  \n",
       "3563471             How question FedEx packages delivered?  \n",
       "3563472  Can a non-alcoholic restaurant be a huge success?  \n",
       "3563473  What are the best and worst things examination...  \n",
       "3563474      How do I out get rid of Erectile Dysfunction?  \n",
       "\n",
       "[3563475 rows x 2 columns]"
      ]
     },
     "execution_count": 53,
     "metadata": {
      "tags": []
     },
     "output_type": "execute_result"
    }
   ],
   "source": [
    "# dropping id column\n",
    "test_data.drop('test_id',\n",
    "               axis=1,\n",
    "               inplace=True)\n",
    "test_data"
   ]
  },
  {
   "cell_type": "code",
   "execution_count": 54,
   "metadata": {
    "colab": {
     "base_uri": "https://localhost:8080/",
     "height": 332
    },
    "id": "d1ZEa0lk3UMA",
    "outputId": "e5979593-67db-4f66-e6a9-e6da123b59dc"
   },
   "outputs": [
    {
     "data": {
      "text/html": [
       "<div>\n",
       "<style scoped>\n",
       "    .dataframe tbody tr th:only-of-type {\n",
       "        vertical-align: middle;\n",
       "    }\n",
       "\n",
       "    .dataframe tbody tr th {\n",
       "        vertical-align: top;\n",
       "    }\n",
       "\n",
       "    .dataframe thead th {\n",
       "        text-align: right;\n",
       "    }\n",
       "</style>\n",
       "<table border=\"1\" class=\"dataframe\">\n",
       "  <thead>\n",
       "    <tr style=\"text-align: right;\">\n",
       "      <th></th>\n",
       "      <th>question1</th>\n",
       "      <th>question2</th>\n",
       "    </tr>\n",
       "  </thead>\n",
       "  <tbody>\n",
       "    <tr>\n",
       "      <th>379205</th>\n",
       "      <td>How I can learn android app development?</td>\n",
       "      <td>NaN</td>\n",
       "    </tr>\n",
       "    <tr>\n",
       "      <th>817520</th>\n",
       "      <td>How real can learn android app development?</td>\n",
       "      <td>NaN</td>\n",
       "    </tr>\n",
       "    <tr>\n",
       "      <th>943911</th>\n",
       "      <td>How app development?</td>\n",
       "      <td>NaN</td>\n",
       "    </tr>\n",
       "    <tr>\n",
       "      <th>1046690</th>\n",
       "      <td>NaN</td>\n",
       "      <td>How I what can learn android app development?</td>\n",
       "    </tr>\n",
       "    <tr>\n",
       "      <th>1270024</th>\n",
       "      <td>How I can learn app development?</td>\n",
       "      <td>NaN</td>\n",
       "    </tr>\n",
       "    <tr>\n",
       "      <th>1461432</th>\n",
       "      <td>NaN</td>\n",
       "      <td>How distinct can learn android app development?</td>\n",
       "    </tr>\n",
       "    <tr>\n",
       "      <th>2345796</th>\n",
       "      <td>NaN</td>\n",
       "      <td>NaN</td>\n",
       "    </tr>\n",
       "    <tr>\n",
       "      <th>2487703</th>\n",
       "      <td>How I can learn app development?</td>\n",
       "      <td>NaN</td>\n",
       "    </tr>\n",
       "    <tr>\n",
       "      <th>2679111</th>\n",
       "      <td>NaN</td>\n",
       "      <td>How distinct can learn android app development?</td>\n",
       "    </tr>\n",
       "  </tbody>\n",
       "</table>\n",
       "</div>"
      ],
      "text/plain": [
       "                                           question1  \\\n",
       "379205      How I can learn android app development?   \n",
       "817520   How real can learn android app development?   \n",
       "943911                          How app development?   \n",
       "1046690                                          NaN   \n",
       "1270024             How I can learn app development?   \n",
       "1461432                                          NaN   \n",
       "2345796                                          NaN   \n",
       "2487703             How I can learn app development?   \n",
       "2679111                                          NaN   \n",
       "\n",
       "                                               question2  \n",
       "379205                                               NaN  \n",
       "817520                                               NaN  \n",
       "943911                                               NaN  \n",
       "1046690    How I what can learn android app development?  \n",
       "1270024                                              NaN  \n",
       "1461432  How distinct can learn android app development?  \n",
       "2345796                                              NaN  \n",
       "2487703                                              NaN  \n",
       "2679111  How distinct can learn android app development?  "
      ]
     },
     "execution_count": 54,
     "metadata": {
      "tags": []
     },
     "output_type": "execute_result"
    }
   ],
   "source": [
    "# checking for missing or null values in the dataframe\n",
    "df_null = test_data[test_data.isnull().any(axis=1)]\n",
    "df_null"
   ]
  },
  {
   "cell_type": "code",
   "execution_count": 55,
   "metadata": {
    "colab": {
     "base_uri": "https://localhost:8080/"
    },
    "id": "dXCFkgib3UMA",
    "outputId": "39d89382-bf1f-43fa-9fc7-2f3b7a2d7ea0"
   },
   "outputs": [
    {
     "data": {
      "text/plain": [
       "9"
      ]
     },
     "execution_count": 55,
     "metadata": {
      "tags": []
     },
     "output_type": "execute_result"
    }
   ],
   "source": [
    "# number of rows with any missing or null values in the dataframe\n",
    "df_null.shape[0]"
   ]
  },
  {
   "cell_type": "code",
   "execution_count": 56,
   "metadata": {
    "colab": {
     "base_uri": "https://localhost:8080/",
     "height": 281
    },
    "id": "79LZgAJc3UMA",
    "outputId": "89560016-cb49-406d-a44c-5daa4696c4ed"
   },
   "outputs": [
    {
     "data": {
      "image/png": "[encoded data removed]",
      "text/plain": [
       "<Figure size 432x288 with 1 Axes>"
      ]
     },
     "metadata": {
      "needs_background": "light",
      "tags": []
     },
     "output_type": "display_data"
    }
   ],
   "source": [
    "# plotting the heatmap for missing or null values in the dataframe before\n",
    "# cleaning\n",
    "sns.heatmap(test_data.isnull(),\n",
    "            yticklabels=False,\n",
    "            cbar=False,\n",
    "            cmap='viridis')\n",
    "plt.title('QQP Test Null Values Detection Heat Map Before Cleaning')\n",
    "plt.savefig('plots/quora_test_null_detection_heat_map_before.png',\n",
    "            facecolor='white')\n",
    "plt.show()"
   ]
  },
  {
   "cell_type": "code",
   "execution_count": 57,
   "metadata": {
    "colab": {
     "base_uri": "https://localhost:8080/",
     "height": 678
    },
    "id": "lkuDCw2n3UMB",
    "outputId": "2250e764-dc70-4ee8-94dd-3889c72618c8"
   },
   "outputs": [
    {
     "data": {
      "text/plain": [
       "<matplotlib.axes._subplots.AxesSubplot at 0x7fd0baf63c50>"
      ]
     },
     "execution_count": 57,
     "metadata": {
      "tags": []
     },
     "output_type": "execute_result"
    },
    {
     "data": {
      "image/png": "[encoded data removed]",
      "text/plain": [
       "<Figure size 1800x720 with 2 Axes>"
      ]
     },
     "metadata": {
      "needs_background": "light",
      "tags": []
     },
     "output_type": "display_data"
    }
   ],
   "source": [
    "# plotting a matrix visualization of the nullity of the dataframe\n",
    "# before cleaning\n",
    "fig = msno.matrix(test_data)\n",
    "fig_copy = fig.get_figure()\n",
    "fig_copy.savefig('plots/quora_test_msno_matrix_before.png',\n",
    "                 bbox_inches='tight')\n",
    "fig"
   ]
  },
  {
   "cell_type": "code",
   "execution_count": 58,
   "metadata": {
    "colab": {
     "base_uri": "https://localhost:8080/",
     "height": 779
    },
    "id": "9POPkcpw3UMB",
    "outputId": "fa3a1eb2-0975-425f-d7a7-c28d9a38e12e"
   },
   "outputs": [
    {
     "data": {
      "text/plain": [
       "<matplotlib.axes._subplots.AxesSubplot at 0x7fd0bafbac10>"
      ]
     },
     "execution_count": 58,
     "metadata": {
      "tags": []
     },
     "output_type": "execute_result"
    },
    {
     "data": {
      "image/png": "[encoded data removed]",
      "text/plain": [
       "<Figure size 1440x864 with 2 Axes>"
      ]
     },
     "metadata": {
      "needs_background": "light",
      "tags": []
     },
     "output_type": "display_data"
    }
   ],
   "source": [
    "# plotting a seaborn heatmap visualization of nullity correlation\n",
    "# in the dataframe before cleaning\n",
    "fig = msno.heatmap(test_data)\n",
    "fig_copy = fig.get_figure()\n",
    "fig_copy.savefig('plots/quora_test_msno_heatmap_before.png',\n",
    "                 bbox_inches='tight')\n",
    "fig"
   ]
  },
  {
   "cell_type": "code",
   "execution_count": 59,
   "metadata": {
    "colab": {
     "base_uri": "https://localhost:8080/",
     "height": 424
    },
    "id": "KHiZ4dXL3UMB",
    "outputId": "57bf956d-34b7-4787-f772-b4cc9d14b9e8"
   },
   "outputs": [
    {
     "data": {
      "text/html": [
       "<div>\n",
       "<style scoped>\n",
       "    .dataframe tbody tr th:only-of-type {\n",
       "        vertical-align: middle;\n",
       "    }\n",
       "\n",
       "    .dataframe tbody tr th {\n",
       "        vertical-align: top;\n",
       "    }\n",
       "\n",
       "    .dataframe thead th {\n",
       "        text-align: right;\n",
       "    }\n",
       "</style>\n",
       "<table border=\"1\" class=\"dataframe\">\n",
       "  <thead>\n",
       "    <tr style=\"text-align: right;\">\n",
       "      <th></th>\n",
       "      <th>question1</th>\n",
       "      <th>question2</th>\n",
       "    </tr>\n",
       "  </thead>\n",
       "  <tbody>\n",
       "    <tr>\n",
       "      <th>0</th>\n",
       "      <td>How does the Surface Pro himself 4 compare wit...</td>\n",
       "      <td>Why did Microsoft choose core m3 and not core ...</td>\n",
       "    </tr>\n",
       "    <tr>\n",
       "      <th>1</th>\n",
       "      <td>Should I have a hair transplant at age 24? How...</td>\n",
       "      <td>How much cost does hair transplant require?</td>\n",
       "    </tr>\n",
       "    <tr>\n",
       "      <th>2</th>\n",
       "      <td>What but is the best way to send money from Ch...</td>\n",
       "      <td>What you send money to China?</td>\n",
       "    </tr>\n",
       "    <tr>\n",
       "      <th>3</th>\n",
       "      <td>Which food not emulsifiers?</td>\n",
       "      <td>What foods fibre?</td>\n",
       "    </tr>\n",
       "    <tr>\n",
       "      <th>4</th>\n",
       "      <td>How \"aberystwyth\" start reading?</td>\n",
       "      <td>How their can I start reading?</td>\n",
       "    </tr>\n",
       "    <tr>\n",
       "      <th>...</th>\n",
       "      <td>...</td>\n",
       "      <td>...</td>\n",
       "    </tr>\n",
       "    <tr>\n",
       "      <th>3563470</th>\n",
       "      <td>How do Peaks (TV series): Why did Leland kill ...</td>\n",
       "      <td>What is the most study scene in twin peaks?</td>\n",
       "    </tr>\n",
       "    <tr>\n",
       "      <th>3563471</th>\n",
       "      <td>What does be \"in transit\" mean on FedEx tracking?</td>\n",
       "      <td>How question FedEx packages delivered?</td>\n",
       "    </tr>\n",
       "    <tr>\n",
       "      <th>3563472</th>\n",
       "      <td>What are some famous Romanian drinks (alcoholi...</td>\n",
       "      <td>Can a non-alcoholic restaurant be a huge success?</td>\n",
       "    </tr>\n",
       "    <tr>\n",
       "      <th>3563473</th>\n",
       "      <td>What were the best and worst things about publ...</td>\n",
       "      <td>What are the best and worst things examination...</td>\n",
       "    </tr>\n",
       "    <tr>\n",
       "      <th>3563474</th>\n",
       "      <td>What is the best medication equation erectile ...</td>\n",
       "      <td>How do I out get rid of Erectile Dysfunction?</td>\n",
       "    </tr>\n",
       "  </tbody>\n",
       "</table>\n",
       "<p>3563466 rows × 2 columns</p>\n",
       "</div>"
      ],
      "text/plain": [
       "                                                 question1  \\\n",
       "0        How does the Surface Pro himself 4 compare wit...   \n",
       "1        Should I have a hair transplant at age 24? How...   \n",
       "2        What but is the best way to send money from Ch...   \n",
       "3                              Which food not emulsifiers?   \n",
       "4                         How \"aberystwyth\" start reading?   \n",
       "...                                                    ...   \n",
       "3563470  How do Peaks (TV series): Why did Leland kill ...   \n",
       "3563471  What does be \"in transit\" mean on FedEx tracking?   \n",
       "3563472  What are some famous Romanian drinks (alcoholi...   \n",
       "3563473  What were the best and worst things about publ...   \n",
       "3563474  What is the best medication equation erectile ...   \n",
       "\n",
       "                                                 question2  \n",
       "0        Why did Microsoft choose core m3 and not core ...  \n",
       "1              How much cost does hair transplant require?  \n",
       "2                            What you send money to China?  \n",
       "3                                        What foods fibre?  \n",
       "4                           How their can I start reading?  \n",
       "...                                                    ...  \n",
       "3563470        What is the most study scene in twin peaks?  \n",
       "3563471             How question FedEx packages delivered?  \n",
       "3563472  Can a non-alcoholic restaurant be a huge success?  \n",
       "3563473  What are the best and worst things examination...  \n",
       "3563474      How do I out get rid of Erectile Dysfunction?  \n",
       "\n",
       "[3563466 rows x 2 columns]"
      ]
     },
     "execution_count": 59,
     "metadata": {
      "tags": []
     },
     "output_type": "execute_result"
    }
   ],
   "source": [
    "# removing the missing or null values from the dataframe if exist\n",
    "test_data = test_data[test_data.notna().all(axis=1)]\n",
    "test_data"
   ]
  },
  {
   "cell_type": "code",
   "execution_count": 60,
   "metadata": {
    "colab": {
     "base_uri": "https://localhost:8080/"
    },
    "id": "giVOKLrR3UMB",
    "outputId": "1b605682-55a3-4c81-a668-46d131bb4328"
   },
   "outputs": [
    {
     "data": {
      "text/plain": [
       "3563466"
      ]
     },
     "execution_count": 60,
     "metadata": {
      "tags": []
     },
     "output_type": "execute_result"
    }
   ],
   "source": [
    "# number of rows after removing rows with any missing or null values\n",
    "# in the dataframe\n",
    "test_data.shape[0]"
   ]
  },
  {
   "cell_type": "code",
   "execution_count": 61,
   "metadata": {
    "colab": {
     "base_uri": "https://localhost:8080/",
     "height": 281
    },
    "id": "HmL_V5iQ3UMB",
    "outputId": "99310650-9f85-454b-a8c3-dfc0e7b80b2e"
   },
   "outputs": [
    {
     "data": {
      "image/png": "[encoded data removed]",
      "text/plain": [
       "<Figure size 432x288 with 1 Axes>"
      ]
     },
     "metadata": {
      "needs_background": "light",
      "tags": []
     },
     "output_type": "display_data"
    }
   ],
   "source": [
    "# plotting the heatmap for missing or null values in the dataframe\n",
    "# after cleaning\n",
    "sns.heatmap(test_data.isnull(),\n",
    "            yticklabels=False,\n",
    "            cbar=False,\n",
    "            cmap='viridis')\n",
    "plt.title('QQP Test Null Values Detection Heat Map After Cleaning')\n",
    "plt.savefig('plots/quora_test_null_detection_heat_map_after.png',\n",
    "            facecolor='white')\n",
    "plt.show()"
   ]
  },
  {
   "cell_type": "code",
   "execution_count": 62,
   "metadata": {
    "colab": {
     "base_uri": "https://localhost:8080/",
     "height": 678
    },
    "id": "5fq9tIYP3UMB",
    "outputId": "d71f3c31-5e98-48fb-9282-a8f43a40a249"
   },
   "outputs": [
    {
     "data": {
      "text/plain": [
       "<matplotlib.axes._subplots.AxesSubplot at 0x7fd0bae734d0>"
      ]
     },
     "execution_count": 62,
     "metadata": {
      "tags": []
     },
     "output_type": "execute_result"
    },
    {
     "data": {
      "image/png": "[encoded data removed]",
      "text/plain": [
       "<Figure size 1800x720 with 2 Axes>"
      ]
     },
     "metadata": {
      "needs_background": "light",
      "tags": []
     },
     "output_type": "display_data"
    }
   ],
   "source": [
    "# plotting a matrix visualization of the nullity of the dataframe\n",
    "# after cleaning\n",
    "fig = msno.matrix(test_data)\n",
    "fig_copy = fig.get_figure()\n",
    "fig_copy.savefig('plots/quora_test_msno_matrix_after.png',\n",
    "                 bbox_inches='tight')\n",
    "fig"
   ]
  },
  {
   "cell_type": "code",
   "execution_count": 63,
   "metadata": {
    "colab": {
     "base_uri": "https://localhost:8080/",
     "height": 711
    },
    "id": "Ap0R19Zn3UMB",
    "outputId": "39ba6cc7-73a7-485c-d1da-15d65bd642cb"
   },
   "outputs": [
    {
     "data": {
      "text/plain": [
       "<matplotlib.axes._subplots.AxesSubplot at 0x7fd0bae87590>"
      ]
     },
     "execution_count": 63,
     "metadata": {
      "tags": []
     },
     "output_type": "execute_result"
    },
    {
     "data": {
      "image/png": "[encoded data removed]",
      "text/plain": [
       "<Figure size 1440x864 with 2 Axes>"
      ]
     },
     "metadata": {
      "needs_background": "light",
      "tags": []
     },
     "output_type": "display_data"
    }
   ],
   "source": [
    "# plotting a seaborn heatmap visualization of nullity correlation\n",
    "# in the dataframe after cleaning\n",
    "fig = msno.heatmap(test_data)\n",
    "fig_copy = fig.get_figure()\n",
    "fig_copy.savefig('plots/quora_test_msno_heatmap_after.png',\n",
    "                 bbox_inches='tight')\n",
    "fig"
   ]
  },
  {
   "cell_type": "code",
   "execution_count": 64,
   "metadata": {
    "colab": {
     "base_uri": "https://localhost:8080/"
    },
    "id": "obD57AbK3UMB",
    "outputId": "e93f602f-56dc-46c7-a21e-6e161f673667"
   },
   "outputs": [
    {
     "data": {
      "text/plain": [
       "question1    0\n",
       "question2    0\n",
       "dtype: int64"
      ]
     },
     "execution_count": 64,
     "metadata": {
      "tags": []
     },
     "output_type": "execute_result"
    }
   ],
   "source": [
    "# count of null values in question1 and question2 columns of the dataframe\n",
    "test_data[['question1', 'question2']].isnull().sum()"
   ]
  },
  {
   "cell_type": "code",
   "execution_count": 65,
   "metadata": {
    "colab": {
     "base_uri": "https://localhost:8080/"
    },
    "id": "WmmOrzby3UMC",
    "outputId": "fb269871-39dc-4a57-8346-2613c46dcb90"
   },
   "outputs": [
    {
     "data": {
      "text/plain": [
       "1223073"
      ]
     },
     "execution_count": 65,
     "metadata": {
      "tags": []
     },
     "output_type": "execute_result"
    }
   ],
   "source": [
    "# checking the number of duplicate rows exist in the dataframe\n",
    "# before cleaning\n",
    "test_data.duplicated().sum()"
   ]
  },
  {
   "cell_type": "code",
   "execution_count": 66,
   "metadata": {
    "id": "F0ZFTL4-3UMC"
   },
   "outputs": [],
   "source": [
    "# removing the duplicate rows from the dataframe if exist\n",
    "test_data = test_data.drop_duplicates()"
   ]
  },
  {
   "cell_type": "code",
   "execution_count": 67,
   "metadata": {
    "colab": {
     "base_uri": "https://localhost:8080/"
    },
    "id": "yMrcd4FM3UMC",
    "outputId": "ede54c8a-7272-41c1-c06b-a6a98cbe077e"
   },
   "outputs": [
    {
     "data": {
      "text/plain": [
       "0"
      ]
     },
     "execution_count": 67,
     "metadata": {
      "tags": []
     },
     "output_type": "execute_result"
    }
   ],
   "source": [
    "# checking the number of duplicate rows exist in the dataframe\n",
    "# after cleaning\n",
    "test_data.duplicated().sum()"
   ]
  },
  {
   "cell_type": "code",
   "execution_count": 68,
   "metadata": {
    "colab": {
     "base_uri": "https://localhost:8080/",
     "height": 424
    },
    "id": "WBhvZIcy3UMC",
    "outputId": "3ed91ffa-dadf-4f1a-afc1-f02fc0e9c4a4"
   },
   "outputs": [
    {
     "data": {
      "text/html": [
       "<div>\n",
       "<style scoped>\n",
       "    .dataframe tbody tr th:only-of-type {\n",
       "        vertical-align: middle;\n",
       "    }\n",
       "\n",
       "    .dataframe tbody tr th {\n",
       "        vertical-align: top;\n",
       "    }\n",
       "\n",
       "    .dataframe thead th {\n",
       "        text-align: right;\n",
       "    }\n",
       "</style>\n",
       "<table border=\"1\" class=\"dataframe\">\n",
       "  <thead>\n",
       "    <tr style=\"text-align: right;\">\n",
       "      <th></th>\n",
       "      <th>question1</th>\n",
       "      <th>question2</th>\n",
       "    </tr>\n",
       "  </thead>\n",
       "  <tbody>\n",
       "    <tr>\n",
       "      <th>0</th>\n",
       "      <td>How does the Surface Pro himself 4 compare wit...</td>\n",
       "      <td>Why did Microsoft choose core m3 and not core ...</td>\n",
       "    </tr>\n",
       "    <tr>\n",
       "      <th>1</th>\n",
       "      <td>Should I have a hair transplant at age 24? How...</td>\n",
       "      <td>How much cost does hair transplant require?</td>\n",
       "    </tr>\n",
       "    <tr>\n",
       "      <th>2</th>\n",
       "      <td>What but is the best way to send money from Ch...</td>\n",
       "      <td>What you send money to China?</td>\n",
       "    </tr>\n",
       "    <tr>\n",
       "      <th>3</th>\n",
       "      <td>Which food not emulsifiers?</td>\n",
       "      <td>What foods fibre?</td>\n",
       "    </tr>\n",
       "    <tr>\n",
       "      <th>4</th>\n",
       "      <td>How \"aberystwyth\" start reading?</td>\n",
       "      <td>How their can I start reading?</td>\n",
       "    </tr>\n",
       "    <tr>\n",
       "      <th>...</th>\n",
       "      <td>...</td>\n",
       "      <td>...</td>\n",
       "    </tr>\n",
       "    <tr>\n",
       "      <th>2345791</th>\n",
       "      <td>How do Peaks (TV series): Why did Leland kill ...</td>\n",
       "      <td>What is the most study scene in twin peaks?</td>\n",
       "    </tr>\n",
       "    <tr>\n",
       "      <th>2345792</th>\n",
       "      <td>What does be \"in transit\" mean on FedEx tracking?</td>\n",
       "      <td>How question FedEx packages delivered?</td>\n",
       "    </tr>\n",
       "    <tr>\n",
       "      <th>2345793</th>\n",
       "      <td>What are some famous Romanian drinks (alcoholi...</td>\n",
       "      <td>Can a non-alcoholic restaurant be a huge success?</td>\n",
       "    </tr>\n",
       "    <tr>\n",
       "      <th>2345794</th>\n",
       "      <td>What were the best and worst things about publ...</td>\n",
       "      <td>What are the best and worst things examination...</td>\n",
       "    </tr>\n",
       "    <tr>\n",
       "      <th>2345795</th>\n",
       "      <td>What is the best medication equation erectile ...</td>\n",
       "      <td>How do I out get rid of Erectile Dysfunction?</td>\n",
       "    </tr>\n",
       "  </tbody>\n",
       "</table>\n",
       "<p>2340393 rows × 2 columns</p>\n",
       "</div>"
      ],
      "text/plain": [
       "                                                 question1  \\\n",
       "0        How does the Surface Pro himself 4 compare wit...   \n",
       "1        Should I have a hair transplant at age 24? How...   \n",
       "2        What but is the best way to send money from Ch...   \n",
       "3                              Which food not emulsifiers?   \n",
       "4                         How \"aberystwyth\" start reading?   \n",
       "...                                                    ...   \n",
       "2345791  How do Peaks (TV series): Why did Leland kill ...   \n",
       "2345792  What does be \"in transit\" mean on FedEx tracking?   \n",
       "2345793  What are some famous Romanian drinks (alcoholi...   \n",
       "2345794  What were the best and worst things about publ...   \n",
       "2345795  What is the best medication equation erectile ...   \n",
       "\n",
       "                                                 question2  \n",
       "0        Why did Microsoft choose core m3 and not core ...  \n",
       "1              How much cost does hair transplant require?  \n",
       "2                            What you send money to China?  \n",
       "3                                        What foods fibre?  \n",
       "4                           How their can I start reading?  \n",
       "...                                                    ...  \n",
       "2345791        What is the most study scene in twin peaks?  \n",
       "2345792             How question FedEx packages delivered?  \n",
       "2345793  Can a non-alcoholic restaurant be a huge success?  \n",
       "2345794  What are the best and worst things examination...  \n",
       "2345795      How do I out get rid of Erectile Dysfunction?  \n",
       "\n",
       "[2340393 rows x 2 columns]"
      ]
     },
     "execution_count": 68,
     "metadata": {
      "tags": []
     },
     "output_type": "execute_result"
    }
   ],
   "source": [
    "# printing the dataframe\n",
    "test_data"
   ]
  },
  {
   "cell_type": "code",
   "execution_count": 69,
   "metadata": {
    "colab": {
     "base_uri": "https://localhost:8080/"
    },
    "id": "KhEqH2FE3UMC",
    "outputId": "ab8245ed-8a67-423c-f837-f61dfc8945e6"
   },
   "outputs": [
    {
     "name": "stdout",
     "output_type": "stream",
     "text": [
      "<class 'pandas.core.frame.DataFrame'>\n",
      "Int64Index: 2340393 entries, 0 to 2345795\n",
      "Data columns (total 2 columns):\n",
      " #   Column     Dtype \n",
      "---  ------     ----- \n",
      " 0   question1  object\n",
      " 1   question2  object\n",
      "dtypes: object(2)\n",
      "memory usage: 53.6+ MB\n"
     ]
    }
   ],
   "source": [
    "# printing a concise summary of the dataframe\n",
    "# information such as index, data type, columns, non-null values,\n",
    "# and memory usage\n",
    "test_data.info()"
   ]
  },
  {
   "cell_type": "code",
   "execution_count": 70,
   "metadata": {
    "colab": {
     "base_uri": "https://localhost:8080/"
    },
    "id": "5AuSL7X13UMD",
    "outputId": "a0936d7f-4c61-4ec2-8991-448f0804de3d"
   },
   "outputs": [
    {
     "data": {
      "text/plain": [
       "Index(['question1', 'question2'], dtype='object')"
      ]
     },
     "execution_count": 70,
     "metadata": {
      "tags": []
     },
     "output_type": "execute_result"
    }
   ],
   "source": [
    "# printing the columns of the dataframe\n",
    "test_data.columns"
   ]
  },
  {
   "cell_type": "code",
   "execution_count": 71,
   "metadata": {
    "colab": {
     "base_uri": "https://localhost:8080/",
     "height": 424
    },
    "id": "tNZQHfuT3UME",
    "outputId": "2c9d1e16-24d4-4844-b410-0e0921f91f8b"
   },
   "outputs": [
    {
     "data": {
      "text/html": [
       "<div>\n",
       "<style scoped>\n",
       "    .dataframe tbody tr th:only-of-type {\n",
       "        vertical-align: middle;\n",
       "    }\n",
       "\n",
       "    .dataframe tbody tr th {\n",
       "        vertical-align: top;\n",
       "    }\n",
       "\n",
       "    .dataframe thead th {\n",
       "        text-align: right;\n",
       "    }\n",
       "</style>\n",
       "<table border=\"1\" class=\"dataframe\">\n",
       "  <thead>\n",
       "    <tr style=\"text-align: right;\">\n",
       "      <th></th>\n",
       "      <th>question1</th>\n",
       "      <th>question2</th>\n",
       "    </tr>\n",
       "  </thead>\n",
       "  <tbody>\n",
       "    <tr>\n",
       "      <th>0</th>\n",
       "      <td>How does the Surface Pro himself 4 compare wit...</td>\n",
       "      <td>Why did Microsoft choose core m3 and not core ...</td>\n",
       "    </tr>\n",
       "    <tr>\n",
       "      <th>1</th>\n",
       "      <td>Should I have a hair transplant at age 24? How...</td>\n",
       "      <td>How much cost does hair transplant require?</td>\n",
       "    </tr>\n",
       "    <tr>\n",
       "      <th>2</th>\n",
       "      <td>What but is the best way to send money from Ch...</td>\n",
       "      <td>What you send money to China?</td>\n",
       "    </tr>\n",
       "    <tr>\n",
       "      <th>3</th>\n",
       "      <td>Which food not emulsifiers?</td>\n",
       "      <td>What foods fibre?</td>\n",
       "    </tr>\n",
       "    <tr>\n",
       "      <th>4</th>\n",
       "      <td>How \"aberystwyth\" start reading?</td>\n",
       "      <td>How their can I start reading?</td>\n",
       "    </tr>\n",
       "    <tr>\n",
       "      <th>...</th>\n",
       "      <td>...</td>\n",
       "      <td>...</td>\n",
       "    </tr>\n",
       "    <tr>\n",
       "      <th>2340388</th>\n",
       "      <td>How do Peaks (TV series): Why did Leland kill ...</td>\n",
       "      <td>What is the most study scene in twin peaks?</td>\n",
       "    </tr>\n",
       "    <tr>\n",
       "      <th>2340389</th>\n",
       "      <td>What does be \"in transit\" mean on FedEx tracking?</td>\n",
       "      <td>How question FedEx packages delivered?</td>\n",
       "    </tr>\n",
       "    <tr>\n",
       "      <th>2340390</th>\n",
       "      <td>What are some famous Romanian drinks (alcoholi...</td>\n",
       "      <td>Can a non-alcoholic restaurant be a huge success?</td>\n",
       "    </tr>\n",
       "    <tr>\n",
       "      <th>2340391</th>\n",
       "      <td>What were the best and worst things about publ...</td>\n",
       "      <td>What are the best and worst things examination...</td>\n",
       "    </tr>\n",
       "    <tr>\n",
       "      <th>2340392</th>\n",
       "      <td>What is the best medication equation erectile ...</td>\n",
       "      <td>How do I out get rid of Erectile Dysfunction?</td>\n",
       "    </tr>\n",
       "  </tbody>\n",
       "</table>\n",
       "<p>2340393 rows × 2 columns</p>\n",
       "</div>"
      ],
      "text/plain": [
       "                                                 question1  \\\n",
       "0        How does the Surface Pro himself 4 compare wit...   \n",
       "1        Should I have a hair transplant at age 24? How...   \n",
       "2        What but is the best way to send money from Ch...   \n",
       "3                              Which food not emulsifiers?   \n",
       "4                         How \"aberystwyth\" start reading?   \n",
       "...                                                    ...   \n",
       "2340388  How do Peaks (TV series): Why did Leland kill ...   \n",
       "2340389  What does be \"in transit\" mean on FedEx tracking?   \n",
       "2340390  What are some famous Romanian drinks (alcoholi...   \n",
       "2340391  What were the best and worst things about publ...   \n",
       "2340392  What is the best medication equation erectile ...   \n",
       "\n",
       "                                                 question2  \n",
       "0        Why did Microsoft choose core m3 and not core ...  \n",
       "1              How much cost does hair transplant require?  \n",
       "2                            What you send money to China?  \n",
       "3                                        What foods fibre?  \n",
       "4                           How their can I start reading?  \n",
       "...                                                    ...  \n",
       "2340388        What is the most study scene in twin peaks?  \n",
       "2340389             How question FedEx packages delivered?  \n",
       "2340390  Can a non-alcoholic restaurant be a huge success?  \n",
       "2340391  What are the best and worst things examination...  \n",
       "2340392      How do I out get rid of Erectile Dysfunction?  \n",
       "\n",
       "[2340393 rows x 2 columns]"
      ]
     },
     "execution_count": 71,
     "metadata": {
      "tags": []
     },
     "output_type": "execute_result"
    }
   ],
   "source": [
    "# saving cleaned dataset to a csv file\n",
    "file_name = 'processed_datasets/qqp_test_data_cleaned.csv'\n",
    "test_data.to_csv(file_name,\n",
    "                 encoding='utf-8',\n",
    "                 index=False)\n",
    "\n",
    "# loading dataset from the saved csv file to a pandas dataframe\n",
    "test_data = pd.read_csv(file_name)\n",
    "\n",
    "# printing the cleaned loaded dataframe\n",
    "test_data"
   ]
  },
  {
   "cell_type": "code",
   "execution_count": 72,
   "metadata": {
    "id": "UF52YD3n70Yx"
   },
   "outputs": [],
   "source": [
    "# importing re module\n",
    "# used to support regular expressions\n",
    "import re"
   ]
  },
  {
   "cell_type": "code",
   "execution_count": 73,
   "metadata": {
    "id": "H-8_XYTP70Vv"
   },
   "outputs": [],
   "source": [
    "# function to remove html tags from a given text\n",
    "def remove_html(sentence):\n",
    "    return re.sub(re.compile('<.*?>'), ' ', sentence)"
   ]
  },
  {
   "cell_type": "code",
   "execution_count": 74,
   "metadata": {
    "colab": {
     "base_uri": "https://localhost:8080/"
    },
    "id": "QoCGR3w670UD",
    "outputId": "c1f90881-767c-41f0-e9f9-9f5d5b7a3898"
   },
   "outputs": [
    {
     "name": "stdout",
     "output_type": "stream",
     "text": [
      "!\"#$%&'()*+,-./:;<=>?@[\\]^_`{|}~\n"
     ]
    }
   ],
   "source": [
    "# importing punctuations from collection of string constants\n",
    "from string import punctuation\n",
    "\n",
    "# printing defined punctuations\n",
    "print(punctuation)"
   ]
  },
  {
   "cell_type": "code",
   "execution_count": 75,
   "metadata": {
    "id": "Fy9w7TJ_70RC"
   },
   "outputs": [],
   "source": [
    "# function to remove punctuations from a given text\n",
    "def remove_punctuation(sentence):\n",
    "    return sentence.translate(str.maketrans(dict.fromkeys(punctuation)))"
   ]
  },
  {
   "cell_type": "code",
   "execution_count": 76,
   "metadata": {
    "id": "ratzTzIN70Ok"
   },
   "outputs": [],
   "source": [
    "# function to replace specific contractions from a given text\n",
    "def replace_specific_contractions(sentence):\n",
    "    sentence = re.sub(r'won\\'t', 'will not', sentence)\n",
    "    sentence = re.sub(r'can\\'t', 'can not', sentence)\n",
    "    return sentence"
   ]
  },
  {
   "cell_type": "code",
   "execution_count": 77,
   "metadata": {
    "id": "eWIOvnj970Ll"
   },
   "outputs": [],
   "source": [
    "# function to replace general contractions from a given text\n",
    "def replace_general_contractions(sentence):\n",
    "    sentence = re.sub(r'n\\'t', ' not', sentence)\n",
    "    sentence = re.sub(r'\\'re', ' are', sentence)\n",
    "    sentence = re.sub(r'\\'s', ' is', sentence)\n",
    "    sentence = re.sub(r'\\'d', ' would', sentence)\n",
    "    sentence = re.sub(r'\\'ll', ' will', sentence)\n",
    "    sentence = re.sub(r'\\'t', ' not', sentence)\n",
    "    sentence = re.sub(r'\\'ve', ' have', sentence)\n",
    "    sentence = re.sub(r'\\'m', ' am', sentence)\n",
    "    return sentence"
   ]
  },
  {
   "cell_type": "code",
   "execution_count": 78,
   "metadata": {
    "id": "7J4eOSJV70I2"
   },
   "outputs": [],
   "source": [
    "# function to replace contractions from a given text\n",
    "def replace_contractions(sentence):\n",
    "    sentence = replace_specific_contractions(sentence)\n",
    "    sentence = replace_general_contractions(sentence)\n",
    "    return sentence"
   ]
  },
  {
   "cell_type": "code",
   "execution_count": 79,
   "metadata": {
    "colab": {
     "base_uri": "https://localhost:8080/"
    },
    "id": "yXow-3oo9Cwl",
    "outputId": "9b44b8ad-c731-4593-9c8b-b83e2f622c92"
   },
   "outputs": [
    {
     "name": "stdout",
     "output_type": "stream",
     "text": [
      "[nltk_data] Downloading collection 'all'\n",
      "[nltk_data]    | \n",
      "[nltk_data]    | Downloading package abc to /root/nltk_data...\n",
      "[nltk_data]    |   Unzipping corpora/abc.zip.\n",
      "[nltk_data]    | Downloading package alpino to /root/nltk_data...\n",
      "[nltk_data]    |   Unzipping corpora/alpino.zip.\n",
      "[nltk_data]    | Downloading package biocreative_ppi to\n",
      "[nltk_data]    |     /root/nltk_data...\n",
      "[nltk_data]    |   Unzipping corpora/biocreative_ppi.zip.\n",
      "[nltk_data]    | Downloading package brown to /root/nltk_data...\n",
      "[nltk_data]    |   Unzipping corpora/brown.zip.\n",
      "[nltk_data]    | Downloading package brown_tei to /root/nltk_data...\n",
      "[nltk_data]    |   Unzipping corpora/brown_tei.zip.\n",
      "[nltk_data]    | Downloading package cess_cat to /root/nltk_data...\n",
      "[nltk_data]    |   Unzipping corpora/cess_cat.zip.\n",
      "[nltk_data]    | Downloading package cess_esp to /root/nltk_data...\n",
      "[nltk_data]    |   Unzipping corpora/cess_esp.zip.\n",
      "[nltk_data]    | Downloading package chat80 to /root/nltk_data...\n",
      "[nltk_data]    |   Unzipping corpora/chat80.zip.\n",
      "[nltk_data]    | Downloading package city_database to\n",
      "[nltk_data]    |     /root/nltk_data...\n",
      "[nltk_data]    |   Unzipping corpora/city_database.zip.\n",
      "[nltk_data]    | Downloading package cmudict to /root/nltk_data...\n",
      "[nltk_data]    |   Unzipping corpora/cmudict.zip.\n",
      "[nltk_data]    | Downloading package comparative_sentences to\n",
      "[nltk_data]    |     /root/nltk_data...\n",
      "[nltk_data]    |   Unzipping corpora/comparative_sentences.zip.\n",
      "[nltk_data]    | Downloading package comtrans to /root/nltk_data...\n",
      "[nltk_data]    | Downloading package conll2000 to /root/nltk_data...\n",
      "[nltk_data]    |   Unzipping corpora/conll2000.zip.\n",
      "[nltk_data]    | Downloading package conll2002 to /root/nltk_data...\n",
      "[nltk_data]    |   Unzipping corpora/conll2002.zip.\n",
      "[nltk_data]    | Downloading package conll2007 to /root/nltk_data...\n",
      "[nltk_data]    | Downloading package crubadan to /root/nltk_data...\n",
      "[nltk_data]    |   Unzipping corpora/crubadan.zip.\n",
      "[nltk_data]    | Downloading package dependency_treebank to\n",
      "[nltk_data]    |     /root/nltk_data...\n",
      "[nltk_data]    |   Unzipping corpora/dependency_treebank.zip.\n",
      "[nltk_data]    | Downloading package dolch to /root/nltk_data...\n",
      "[nltk_data]    |   Unzipping corpora/dolch.zip.\n",
      "[nltk_data]    | Downloading package europarl_raw to\n",
      "[nltk_data]    |     /root/nltk_data...\n",
      "[nltk_data]    |   Unzipping corpora/europarl_raw.zip.\n",
      "[nltk_data]    | Downloading package floresta to /root/nltk_data...\n",
      "[nltk_data]    |   Unzipping corpora/floresta.zip.\n",
      "[nltk_data]    | Downloading package framenet_v15 to\n",
      "[nltk_data]    |     /root/nltk_data...\n",
      "[nltk_data]    |   Unzipping corpora/framenet_v15.zip.\n",
      "[nltk_data]    | Downloading package framenet_v17 to\n",
      "[nltk_data]    |     /root/nltk_data...\n",
      "[nltk_data]    |   Unzipping corpora/framenet_v17.zip.\n",
      "[nltk_data]    | Downloading package gazetteers to /root/nltk_data...\n",
      "[nltk_data]    |   Unzipping corpora/gazetteers.zip.\n",
      "[nltk_data]    | Downloading package genesis to /root/nltk_data...\n",
      "[nltk_data]    |   Unzipping corpora/genesis.zip.\n",
      "[nltk_data]    | Downloading package gutenberg to /root/nltk_data...\n",
      "[nltk_data]    |   Unzipping corpora/gutenberg.zip.\n",
      "[nltk_data]    | Downloading package ieer to /root/nltk_data...\n",
      "[nltk_data]    |   Unzipping corpora/ieer.zip.\n",
      "[nltk_data]    | Downloading package inaugural to /root/nltk_data...\n",
      "[nltk_data]    |   Unzipping corpora/inaugural.zip.\n",
      "[nltk_data]    | Downloading package indian to /root/nltk_data...\n",
      "[nltk_data]    |   Unzipping corpora/indian.zip.\n",
      "[nltk_data]    | Downloading package jeita to /root/nltk_data...\n",
      "[nltk_data]    | Downloading package kimmo to /root/nltk_data...\n",
      "[nltk_data]    |   Unzipping corpora/kimmo.zip.\n",
      "[nltk_data]    | Downloading package knbc to /root/nltk_data...\n",
      "[nltk_data]    | Downloading package lin_thesaurus to\n",
      "[nltk_data]    |     /root/nltk_data...\n",
      "[nltk_data]    |   Unzipping corpora/lin_thesaurus.zip.\n",
      "[nltk_data]    | Downloading package mac_morpho to /root/nltk_data...\n",
      "[nltk_data]    |   Unzipping corpora/mac_morpho.zip.\n",
      "[nltk_data]    | Downloading package machado to /root/nltk_data...\n",
      "[nltk_data]    | Downloading package masc_tagged to /root/nltk_data...\n",
      "[nltk_data]    | Downloading package moses_sample to\n",
      "[nltk_data]    |     /root/nltk_data...\n",
      "[nltk_data]    |   Unzipping models/moses_sample.zip.\n",
      "[nltk_data]    | Downloading package movie_reviews to\n",
      "[nltk_data]    |     /root/nltk_data...\n",
      "[nltk_data]    |   Unzipping corpora/movie_reviews.zip.\n",
      "[nltk_data]    | Downloading package names to /root/nltk_data...\n",
      "[nltk_data]    |   Unzipping corpora/names.zip.\n",
      "[nltk_data]    | Downloading package nombank.1.0 to /root/nltk_data...\n",
      "[nltk_data]    | Downloading package nps_chat to /root/nltk_data...\n",
      "[nltk_data]    |   Unzipping corpora/nps_chat.zip.\n",
      "[nltk_data]    | Downloading package omw to /root/nltk_data...\n",
      "[nltk_data]    |   Unzipping corpora/omw.zip.\n",
      "[nltk_data]    | Downloading package opinion_lexicon to\n",
      "[nltk_data]    |     /root/nltk_data...\n",
      "[nltk_data]    |   Unzipping corpora/opinion_lexicon.zip.\n",
      "[nltk_data]    | Downloading package paradigms to /root/nltk_data...\n",
      "[nltk_data]    |   Unzipping corpora/paradigms.zip.\n",
      "[nltk_data]    | Downloading package pil to /root/nltk_data...\n",
      "[nltk_data]    |   Unzipping corpora/pil.zip.\n",
      "[nltk_data]    | Downloading package pl196x to /root/nltk_data...\n",
      "[nltk_data]    |   Unzipping corpora/pl196x.zip.\n",
      "[nltk_data]    | Downloading package ppattach to /root/nltk_data...\n",
      "[nltk_data]    |   Unzipping corpora/ppattach.zip.\n",
      "[nltk_data]    | Downloading package problem_reports to\n",
      "[nltk_data]    |     /root/nltk_data...\n",
      "[nltk_data]    |   Unzipping corpora/problem_reports.zip.\n",
      "[nltk_data]    | Downloading package propbank to /root/nltk_data...\n",
      "[nltk_data]    | Downloading package ptb to /root/nltk_data...\n",
      "[nltk_data]    |   Unzipping corpora/ptb.zip.\n",
      "[nltk_data]    | Downloading package product_reviews_1 to\n",
      "[nltk_data]    |     /root/nltk_data...\n",
      "[nltk_data]    |   Unzipping corpora/product_reviews_1.zip.\n",
      "[nltk_data]    | Downloading package product_reviews_2 to\n",
      "[nltk_data]    |     /root/nltk_data...\n",
      "[nltk_data]    |   Unzipping corpora/product_reviews_2.zip.\n",
      "[nltk_data]    | Downloading package pros_cons to /root/nltk_data...\n",
      "[nltk_data]    |   Unzipping corpora/pros_cons.zip.\n",
      "[nltk_data]    | Downloading package qc to /root/nltk_data...\n",
      "[nltk_data]    |   Unzipping corpora/qc.zip.\n",
      "[nltk_data]    | Downloading package reuters to /root/nltk_data...\n",
      "[nltk_data]    | Downloading package rte to /root/nltk_data...\n",
      "[nltk_data]    |   Unzipping corpora/rte.zip.\n",
      "[nltk_data]    | Downloading package semcor to /root/nltk_data...\n",
      "[nltk_data]    | Downloading package senseval to /root/nltk_data...\n",
      "[nltk_data]    |   Unzipping corpora/senseval.zip.\n",
      "[nltk_data]    | Downloading package sentiwordnet to\n",
      "[nltk_data]    |     /root/nltk_data...\n",
      "[nltk_data]    |   Unzipping corpora/sentiwordnet.zip.\n",
      "[nltk_data]    | Downloading package sentence_polarity to\n",
      "[nltk_data]    |     /root/nltk_data...\n",
      "[nltk_data]    |   Unzipping corpora/sentence_polarity.zip.\n",
      "[nltk_data]    | Downloading package shakespeare to /root/nltk_data...\n",
      "[nltk_data]    |   Unzipping corpora/shakespeare.zip.\n",
      "[nltk_data]    | Downloading package sinica_treebank to\n",
      "[nltk_data]    |     /root/nltk_data...\n",
      "[nltk_data]    |   Unzipping corpora/sinica_treebank.zip.\n",
      "[nltk_data]    | Downloading package smultron to /root/nltk_data...\n",
      "[nltk_data]    |   Unzipping corpora/smultron.zip.\n",
      "[nltk_data]    | Downloading package state_union to /root/nltk_data...\n",
      "[nltk_data]    |   Unzipping corpora/state_union.zip.\n",
      "[nltk_data]    | Downloading package stopwords to /root/nltk_data...\n",
      "[nltk_data]    |   Unzipping corpora/stopwords.zip.\n",
      "[nltk_data]    | Downloading package subjectivity to\n",
      "[nltk_data]    |     /root/nltk_data...\n",
      "[nltk_data]    |   Unzipping corpora/subjectivity.zip.\n",
      "[nltk_data]    | Downloading package swadesh to /root/nltk_data...\n",
      "[nltk_data]    |   Unzipping corpora/swadesh.zip.\n",
      "[nltk_data]    | Downloading package switchboard to /root/nltk_data...\n",
      "[nltk_data]    |   Unzipping corpora/switchboard.zip.\n",
      "[nltk_data]    | Downloading package timit to /root/nltk_data...\n",
      "[nltk_data]    |   Unzipping corpora/timit.zip.\n",
      "[nltk_data]    | Downloading package toolbox to /root/nltk_data...\n",
      "[nltk_data]    |   Unzipping corpora/toolbox.zip.\n",
      "[nltk_data]    | Downloading package treebank to /root/nltk_data...\n",
      "[nltk_data]    |   Unzipping corpora/treebank.zip.\n",
      "[nltk_data]    | Downloading package twitter_samples to\n",
      "[nltk_data]    |     /root/nltk_data...\n",
      "[nltk_data]    |   Unzipping corpora/twitter_samples.zip.\n",
      "[nltk_data]    | Downloading package udhr to /root/nltk_data...\n",
      "[nltk_data]    |   Unzipping corpora/udhr.zip.\n",
      "[nltk_data]    | Downloading package udhr2 to /root/nltk_data...\n",
      "[nltk_data]    |   Unzipping corpora/udhr2.zip.\n",
      "[nltk_data]    | Downloading package unicode_samples to\n",
      "[nltk_data]    |     /root/nltk_data...\n",
      "[nltk_data]    |   Unzipping corpora/unicode_samples.zip.\n",
      "[nltk_data]    | Downloading package universal_treebanks_v20 to\n",
      "[nltk_data]    |     /root/nltk_data...\n",
      "[nltk_data]    | Downloading package verbnet to /root/nltk_data...\n",
      "[nltk_data]    |   Unzipping corpora/verbnet.zip.\n",
      "[nltk_data]    | Downloading package verbnet3 to /root/nltk_data...\n",
      "[nltk_data]    |   Unzipping corpora/verbnet3.zip.\n",
      "[nltk_data]    | Downloading package webtext to /root/nltk_data...\n",
      "[nltk_data]    |   Unzipping corpora/webtext.zip.\n",
      "[nltk_data]    | Downloading package wordnet to /root/nltk_data...\n",
      "[nltk_data]    |   Unzipping corpora/wordnet.zip.\n",
      "[nltk_data]    | Downloading package wordnet_ic to /root/nltk_data...\n",
      "[nltk_data]    |   Unzipping corpora/wordnet_ic.zip.\n",
      "[nltk_data]    | Downloading package words to /root/nltk_data...\n",
      "[nltk_data]    |   Unzipping corpora/words.zip.\n",
      "[nltk_data]    | Downloading package ycoe to /root/nltk_data...\n",
      "[nltk_data]    |   Unzipping corpora/ycoe.zip.\n",
      "[nltk_data]    | Downloading package rslp to /root/nltk_data...\n",
      "[nltk_data]    |   Unzipping stemmers/rslp.zip.\n",
      "[nltk_data]    | Downloading package maxent_treebank_pos_tagger to\n",
      "[nltk_data]    |     /root/nltk_data...\n",
      "[nltk_data]    |   Unzipping taggers/maxent_treebank_pos_tagger.zip.\n",
      "[nltk_data]    | Downloading package universal_tagset to\n",
      "[nltk_data]    |     /root/nltk_data...\n",
      "[nltk_data]    |   Unzipping taggers/universal_tagset.zip.\n",
      "[nltk_data]    | Downloading package maxent_ne_chunker to\n",
      "[nltk_data]    |     /root/nltk_data...\n",
      "[nltk_data]    |   Unzipping chunkers/maxent_ne_chunker.zip.\n",
      "[nltk_data]    | Downloading package punkt to /root/nltk_data...\n",
      "[nltk_data]    |   Unzipping tokenizers/punkt.zip.\n",
      "[nltk_data]    | Downloading package book_grammars to\n",
      "[nltk_data]    |     /root/nltk_data...\n",
      "[nltk_data]    |   Unzipping grammars/book_grammars.zip.\n",
      "[nltk_data]    | Downloading package sample_grammars to\n",
      "[nltk_data]    |     /root/nltk_data...\n",
      "[nltk_data]    |   Unzipping grammars/sample_grammars.zip.\n",
      "[nltk_data]    | Downloading package spanish_grammars to\n",
      "[nltk_data]    |     /root/nltk_data...\n",
      "[nltk_data]    |   Unzipping grammars/spanish_grammars.zip.\n",
      "[nltk_data]    | Downloading package basque_grammars to\n",
      "[nltk_data]    |     /root/nltk_data...\n",
      "[nltk_data]    |   Unzipping grammars/basque_grammars.zip.\n",
      "[nltk_data]    | Downloading package large_grammars to\n",
      "[nltk_data]    |     /root/nltk_data...\n",
      "[nltk_data]    |   Unzipping grammars/large_grammars.zip.\n",
      "[nltk_data]    | Downloading package tagsets to /root/nltk_data...\n",
      "[nltk_data]    |   Unzipping help/tagsets.zip.\n",
      "[nltk_data]    | Downloading package snowball_data to\n",
      "[nltk_data]    |     /root/nltk_data...\n",
      "[nltk_data]    | Downloading package bllip_wsj_no_aux to\n",
      "[nltk_data]    |     /root/nltk_data...\n",
      "[nltk_data]    |   Unzipping models/bllip_wsj_no_aux.zip.\n",
      "[nltk_data]    | Downloading package word2vec_sample to\n",
      "[nltk_data]    |     /root/nltk_data...\n",
      "[nltk_data]    |   Unzipping models/word2vec_sample.zip.\n",
      "[nltk_data]    | Downloading package panlex_swadesh to\n",
      "[nltk_data]    |     /root/nltk_data...\n",
      "[nltk_data]    | Downloading package mte_teip5 to /root/nltk_data...\n",
      "[nltk_data]    |   Unzipping corpora/mte_teip5.zip.\n",
      "[nltk_data]    | Downloading package averaged_perceptron_tagger to\n",
      "[nltk_data]    |     /root/nltk_data...\n",
      "[nltk_data]    |   Unzipping taggers/averaged_perceptron_tagger.zip.\n",
      "[nltk_data]    | Downloading package averaged_perceptron_tagger_ru to\n",
      "[nltk_data]    |     /root/nltk_data...\n",
      "[nltk_data]    |   Unzipping\n",
      "[nltk_data]    |       taggers/averaged_perceptron_tagger_ru.zip.\n",
      "[nltk_data]    | Downloading package perluniprops to\n",
      "[nltk_data]    |     /root/nltk_data...\n",
      "[nltk_data]    |   Unzipping misc/perluniprops.zip.\n",
      "[nltk_data]    | Downloading package nonbreaking_prefixes to\n",
      "[nltk_data]    |     /root/nltk_data...\n",
      "[nltk_data]    |   Unzipping corpora/nonbreaking_prefixes.zip.\n",
      "[nltk_data]    | Downloading package vader_lexicon to\n",
      "[nltk_data]    |     /root/nltk_data...\n",
      "[nltk_data]    | Downloading package porter_test to /root/nltk_data...\n",
      "[nltk_data]    |   Unzipping stemmers/porter_test.zip.\n",
      "[nltk_data]    | Downloading package wmt15_eval to /root/nltk_data...\n",
      "[nltk_data]    |   Unzipping models/wmt15_eval.zip.\n",
      "[nltk_data]    | Downloading package mwa_ppdb to /root/nltk_data...\n",
      "[nltk_data]    |   Unzipping misc/mwa_ppdb.zip.\n",
      "[nltk_data]    | \n",
      "[nltk_data]  Done downloading collection all\n"
     ]
    },
    {
     "data": {
      "text/plain": [
       "True"
      ]
     },
     "execution_count": 79,
     "metadata": {
      "tags": []
     },
     "output_type": "execute_result"
    }
   ],
   "source": [
    "\n",
    "# importing Natural Language Toolkit which is a leading platform for\n",
    "# building Python programs to work with human language data\n",
    "import nltk\n",
    "\n",
    "# nltk downloader to download all packages in nltk library\n",
    "nltk.download('all')"
   ]
  },
  {
   "cell_type": "code",
   "execution_count": 80,
   "metadata": {
    "colab": {
     "base_uri": "https://localhost:8080/"
    },
    "id": "lvphHkrj70D9",
    "outputId": "4e71b5f1-ddb8-41b2-edf6-429361d2e730"
   },
   "outputs": [
    {
     "name": "stdout",
     "output_type": "stream",
     "text": [
      "179\n"
     ]
    }
   ],
   "source": [
    "# importing english stopwords from nltk library\n",
    "from nltk.corpus import stopwords\n",
    "\n",
    "stop_words = stopwords.words('english')\n",
    "\n",
    "# printing number of defined english stopwords in nltk library\n",
    "print(len(stop_words))"
   ]
  },
  {
   "cell_type": "code",
   "execution_count": 81,
   "metadata": {
    "colab": {
     "base_uri": "https://localhost:8080/"
    },
    "id": "RcCXHjoI70BP",
    "outputId": "36f67fdc-04ca-46b0-9f3e-62292635ee80"
   },
   "outputs": [
    {
     "name": "stdout",
     "output_type": "stream",
     "text": [
      "['i', 'our', \"you've\", 'yourself', 'himself', 'herself', 'they', 'what', 'that', 'is', 'been', 'having']\n"
     ]
    }
   ],
   "source": [
    "# printing few defined english stopwords in nltk library\n",
    "print(stop_words[:60:5])"
   ]
  },
  {
   "cell_type": "code",
   "execution_count": 82,
   "metadata": {
    "id": "VL7u-9FN7z0B"
   },
   "outputs": [],
   "source": [
    "# function to remove english stopwords from a given set of tokens\n",
    "def remove_stopwords(tokens):\n",
    "    return [token for token in tokens if token not in stop_words]"
   ]
  },
  {
   "cell_type": "code",
   "execution_count": 83,
   "metadata": {
    "id": "vdlJoHVf8YNI"
   },
   "outputs": [],
   "source": [
    "# importing wordnet lemmatizer from nltk stem package\n",
    "# used to remove morphological affixes from words, leaving only the word\n",
    "# stem wordnet lemmatizer lemmatizes using built-in morphy function of\n",
    "# wordnet\n",
    "from nltk.stem import WordNetLemmatizer\n",
    "\n",
    "lemmatizer = WordNetLemmatizer()"
   ]
  },
  {
   "cell_type": "code",
   "execution_count": 84,
   "metadata": {
    "id": "x8ru5HNh8YKh"
   },
   "outputs": [],
   "source": [
    "# function to convert a given toke to its lemma\n",
    "def lemmatize_token(token):\n",
    "    return lemmatizer.lemmatize(token)"
   ]
  },
  {
   "cell_type": "code",
   "execution_count": 85,
   "metadata": {
    "id": "M3jqpjeQ8YHX"
   },
   "outputs": [],
   "source": [
    "# importing word tokenizer from nltk tokenizer package\n",
    "# used for dividing strings into lists of substrings or tokens\n",
    "from nltk.tokenize import word_tokenize"
   ]
  },
  {
   "cell_type": "code",
   "execution_count": 86,
   "metadata": {
    "id": "zlYS7ECm8YEa"
   },
   "outputs": [],
   "source": [
    "# function to preprocess a given text and return preprocessed set of\n",
    "# tokens\n",
    "def tokenize_text(text):\n",
    "    text = str(text.lower())\n",
    "    text = remove_html(text)\n",
    "    text = remove_punctuation(text)\n",
    "    text = replace_contractions(text)\n",
    "    tokens = word_tokenize(text)\n",
    "    tokens = remove_stopwords(tokens)\n",
    "    return tokens"
   ]
  },
  {
   "cell_type": "code",
   "execution_count": 87,
   "metadata": {
    "colab": {
     "base_uri": "https://localhost:8080/",
     "height": 36
    },
    "id": "SYivjrKM8YBH",
    "outputId": "576ae167-a188-4262-c2eb-dbb32d91469e"
   },
   "outputs": [
    {
     "data": {
      "application/vnd.google.colaboratory.intrinsic+json": {
       "type": "string"
      },
      "text/plain": [
       "'   <h1>Hello World!</h1>  \"How are you?.  I am doing\\n $#fine...  Thank you very much!     '"
      ]
     },
     "execution_count": 87,
     "metadata": {
      "tags": []
     },
     "output_type": "execute_result"
    }
   ],
   "source": [
    "raw_text = '''   <h1>Hello World!</h1>  \"How are you?.  I am doing\n",
    " $#fine...  Thank you very much!     '''\n",
    "raw_text"
   ]
  },
  {
   "cell_type": "code",
   "execution_count": 88,
   "metadata": {
    "colab": {
     "base_uri": "https://localhost:8080/"
    },
    "id": "uz21EOzo8h3T",
    "outputId": "732490e3-f1d8-481b-fe2e-5ddf90dc4b97"
   },
   "outputs": [
    {
     "name": "stdout",
     "output_type": "stream",
     "text": [
      "['hello', 'world', 'fine', 'thank', 'much']\n"
     ]
    }
   ],
   "source": [
    "# testing the tokenizing of a text\n",
    "print(tokenize_text(raw_text))"
   ]
  },
  {
   "cell_type": "code",
   "execution_count": 89,
   "metadata": {
    "id": "43KU1xOfClb1"
   },
   "outputs": [],
   "source": [
    "def preprocess_text(text):\n",
    "    tokens = tokenize_text(text)\n",
    "    q1 = ' '.join(str(lemmatize_token(token)) for token in tokens)\n",
    "    q2 = ' '.join(str(token) for token in tokens)\n",
    "    return q1, q2"
   ]
  },
  {
   "cell_type": "code",
   "execution_count": 90,
   "metadata": {
    "colab": {
     "base_uri": "https://localhost:8080/"
    },
    "id": "0wgQ7-u_OE5w",
    "outputId": "e250681b-e82f-41bd-d24c-25b47674e7fa"
   },
   "outputs": [
    {
     "name": "stdout",
     "output_type": "stream",
     "text": [
      "('hello world fine thank much', 'hello world fine thank much')\n"
     ]
    }
   ],
   "source": [
    "# testing the preprocessing of a text\n",
    "print(preprocess_text(raw_text))"
   ]
  },
  {
   "cell_type": "code",
   "execution_count": 91,
   "metadata": {
    "id": "oQVV28zxPh9k"
   },
   "outputs": [],
   "source": [
    "# importing tqdm library\n",
    "# used for printing a dynamically updating progressbar for an iterator\n",
    "from tqdm import tqdm"
   ]
  },
  {
   "cell_type": "code",
   "execution_count": 92,
   "metadata": {
    "colab": {
     "base_uri": "https://localhost:8080/"
    },
    "id": "mkoJhStwHPjl",
    "outputId": "65f88d3c-608d-4e59-aa08-3c2374a722cf"
   },
   "outputs": [
    {
     "name": "stderr",
     "output_type": "stream",
     "text": [
      "404287it [04:10, 1611.16it/s]\n"
     ]
    }
   ],
   "source": [
    "cleaned_lemmatized_question_1 = []\n",
    "cleaned_lemmatized_question_2 = []\n",
    "\n",
    "cleaned_question_1 = []\n",
    "cleaned_question_2 = []\n",
    "\n",
    "combined_lemmatized_text = []\n",
    "\n",
    "# preprocessing texts in question1 and question2 in train_data dataframe\n",
    "for _, row in tqdm(train_data.iterrows()):\n",
    "    clq1, cq1 = preprocess_text(row['question1'])\n",
    "    clq2, cq2 = preprocess_text(row['question2'])\n",
    "\n",
    "    cleaned_lemmatized_question_1.append(clq1)\n",
    "    cleaned_question_1.append(cq1)\n",
    "\n",
    "    cleaned_lemmatized_question_2.append(clq2)\n",
    "    cleaned_question_2.append(cq2)\n",
    "\n",
    "    combined_lemmatized_text.append(clq1 + ' ' + clq2)"
   ]
  },
  {
   "cell_type": "code",
   "execution_count": 93,
   "metadata": {
    "colab": {
     "base_uri": "https://localhost:8080/"
    },
    "id": "H1zFtvdAHUos",
    "outputId": "c01d34c7-9e11-4462-c381-22b1ecca5701"
   },
   "outputs": [
    {
     "name": "stderr",
     "output_type": "stream",
     "text": [
      "2340393it [24:30, 1591.02it/s]\n"
     ]
    }
   ],
   "source": [
    "cleaned_lemmatized_question_1_test = []\n",
    "cleaned_lemmatized_question_2_test = []\n",
    "\n",
    "cleaned_question_1_test = []\n",
    "cleaned_question_2_test = []\n",
    "\n",
    "combined_lemmatized_text_test = []\n",
    "\n",
    "# preprocessing texts in question1 and question2 in test_data dataframe\n",
    "for _, row in tqdm(test_data.iterrows()):\n",
    "    clq1_test, cq1_test = preprocess_text(row['question1'])\n",
    "    clq2_test, cq2_test = preprocess_text(row['question2'])\n",
    "\n",
    "    cleaned_lemmatized_question_1_test.append(clq1_test)\n",
    "    cleaned_question_1_test.append(cq1_test)\n",
    "\n",
    "    cleaned_lemmatized_question_2_test.append(clq2_test)\n",
    "    cleaned_question_2_test.append(cq2_test)\n",
    "\n",
    "    combined_lemmatized_text_test.append(clq1_test + ' ' + clq2_test)"
   ]
  },
  {
   "cell_type": "code",
   "execution_count": 94,
   "metadata": {
    "colab": {
     "base_uri": "https://localhost:8080/"
    },
    "id": "xe9VarrYZrk1",
    "outputId": "dbccc279-fefd-446c-9553-334c95e2f33f"
   },
   "outputs": [
    {
     "data": {
      "text/plain": [
       "Series([], Name: question1, dtype: object)"
      ]
     },
     "execution_count": 94,
     "metadata": {
      "tags": []
     },
     "output_type": "execute_result"
    }
   ],
   "source": [
    "test_data['question1'][test_data['question2'].isnull()]"
   ]
  },
  {
   "cell_type": "code",
   "execution_count": 95,
   "metadata": {
    "colab": {
     "base_uri": "https://localhost:8080/"
    },
    "id": "qJ0FyGI0Zrev",
    "outputId": "da2f53f6-86f4-4060-ca9b-5cacaae3091e"
   },
   "outputs": [
    {
     "data": {
      "text/plain": [
       "Series([], Name: question2, dtype: object)"
      ]
     },
     "execution_count": 95,
     "metadata": {
      "tags": []
     },
     "output_type": "execute_result"
    }
   ],
   "source": [
    "test_data['question2'][test_data['question1'].isnull()]"
   ]
  },
  {
   "cell_type": "code",
   "execution_count": 96,
   "metadata": {
    "colab": {
     "base_uri": "https://localhost:8080/",
     "height": 424
    },
    "id": "ABGe6rfFZraB",
    "outputId": "4807a059-0e4a-44f8-e87c-dd64bec3118d"
   },
   "outputs": [
    {
     "data": {
      "text/html": [
       "<div>\n",
       "<style scoped>\n",
       "    .dataframe tbody tr th:only-of-type {\n",
       "        vertical-align: middle;\n",
       "    }\n",
       "\n",
       "    .dataframe tbody tr th {\n",
       "        vertical-align: top;\n",
       "    }\n",
       "\n",
       "    .dataframe thead th {\n",
       "        text-align: right;\n",
       "    }\n",
       "</style>\n",
       "<table border=\"1\" class=\"dataframe\">\n",
       "  <thead>\n",
       "    <tr style=\"text-align: right;\">\n",
       "      <th></th>\n",
       "      <th>question1</th>\n",
       "      <th>question2</th>\n",
       "    </tr>\n",
       "  </thead>\n",
       "  <tbody>\n",
       "    <tr>\n",
       "      <th>0</th>\n",
       "      <td>How does the Surface Pro himself 4 compare wit...</td>\n",
       "      <td>Why did Microsoft choose core m3 and not core ...</td>\n",
       "    </tr>\n",
       "    <tr>\n",
       "      <th>1</th>\n",
       "      <td>Should I have a hair transplant at age 24? How...</td>\n",
       "      <td>How much cost does hair transplant require?</td>\n",
       "    </tr>\n",
       "    <tr>\n",
       "      <th>2</th>\n",
       "      <td>What but is the best way to send money from Ch...</td>\n",
       "      <td>What you send money to China?</td>\n",
       "    </tr>\n",
       "    <tr>\n",
       "      <th>3</th>\n",
       "      <td>Which food not emulsifiers?</td>\n",
       "      <td>What foods fibre?</td>\n",
       "    </tr>\n",
       "    <tr>\n",
       "      <th>4</th>\n",
       "      <td>How \"aberystwyth\" start reading?</td>\n",
       "      <td>How their can I start reading?</td>\n",
       "    </tr>\n",
       "    <tr>\n",
       "      <th>...</th>\n",
       "      <td>...</td>\n",
       "      <td>...</td>\n",
       "    </tr>\n",
       "    <tr>\n",
       "      <th>2340388</th>\n",
       "      <td>How do Peaks (TV series): Why did Leland kill ...</td>\n",
       "      <td>What is the most study scene in twin peaks?</td>\n",
       "    </tr>\n",
       "    <tr>\n",
       "      <th>2340389</th>\n",
       "      <td>What does be \"in transit\" mean on FedEx tracking?</td>\n",
       "      <td>How question FedEx packages delivered?</td>\n",
       "    </tr>\n",
       "    <tr>\n",
       "      <th>2340390</th>\n",
       "      <td>What are some famous Romanian drinks (alcoholi...</td>\n",
       "      <td>Can a non-alcoholic restaurant be a huge success?</td>\n",
       "    </tr>\n",
       "    <tr>\n",
       "      <th>2340391</th>\n",
       "      <td>What were the best and worst things about publ...</td>\n",
       "      <td>What are the best and worst things examination...</td>\n",
       "    </tr>\n",
       "    <tr>\n",
       "      <th>2340392</th>\n",
       "      <td>What is the best medication equation erectile ...</td>\n",
       "      <td>How do I out get rid of Erectile Dysfunction?</td>\n",
       "    </tr>\n",
       "  </tbody>\n",
       "</table>\n",
       "<p>2340393 rows × 2 columns</p>\n",
       "</div>"
      ],
      "text/plain": [
       "                                                 question1  \\\n",
       "0        How does the Surface Pro himself 4 compare wit...   \n",
       "1        Should I have a hair transplant at age 24? How...   \n",
       "2        What but is the best way to send money from Ch...   \n",
       "3                              Which food not emulsifiers?   \n",
       "4                         How \"aberystwyth\" start reading?   \n",
       "...                                                    ...   \n",
       "2340388  How do Peaks (TV series): Why did Leland kill ...   \n",
       "2340389  What does be \"in transit\" mean on FedEx tracking?   \n",
       "2340390  What are some famous Romanian drinks (alcoholi...   \n",
       "2340391  What were the best and worst things about publ...   \n",
       "2340392  What is the best medication equation erectile ...   \n",
       "\n",
       "                                                 question2  \n",
       "0        Why did Microsoft choose core m3 and not core ...  \n",
       "1              How much cost does hair transplant require?  \n",
       "2                            What you send money to China?  \n",
       "3                                        What foods fibre?  \n",
       "4                           How their can I start reading?  \n",
       "...                                                    ...  \n",
       "2340388        What is the most study scene in twin peaks?  \n",
       "2340389             How question FedEx packages delivered?  \n",
       "2340390  Can a non-alcoholic restaurant be a huge success?  \n",
       "2340391  What are the best and worst things examination...  \n",
       "2340392      How do I out get rid of Erectile Dysfunction?  \n",
       "\n",
       "[2340393 rows x 2 columns]"
      ]
     },
     "execution_count": 96,
     "metadata": {
      "tags": []
     },
     "output_type": "execute_result"
    }
   ],
   "source": [
    "# printing the test_data dataframe\n",
    "test_data"
   ]
  },
  {
   "cell_type": "code",
   "execution_count": 97,
   "metadata": {
    "colab": {
     "base_uri": "https://localhost:8080/"
    },
    "id": "6_h6mhzNZrXM",
    "outputId": "77a02af3-3474-4a0c-e393-a9d73a59d3eb"
   },
   "outputs": [
    {
     "name": "stdout",
     "output_type": "stream",
     "text": [
      "404287\n",
      "404287\n",
      "404287\n",
      "404287\n",
      "404287\n"
     ]
    }
   ],
   "source": [
    "# length of the created lists of train_data dataframe\n",
    "print(len(cleaned_lemmatized_question_1))\n",
    "print(len(cleaned_lemmatized_question_2))\n",
    "print(len(cleaned_question_1))\n",
    "print(len(cleaned_question_2))\n",
    "print(len(combined_lemmatized_text))"
   ]
  },
  {
   "cell_type": "code",
   "execution_count": 98,
   "metadata": {
    "colab": {
     "base_uri": "https://localhost:8080/"
    },
    "id": "aLJADpINaYbx",
    "outputId": "129b6dc1-d71b-4f8c-a76f-fed88f817809"
   },
   "outputs": [
    {
     "name": "stdout",
     "output_type": "stream",
     "text": [
      "2340393\n",
      "2340393\n",
      "2340393\n",
      "2340393\n",
      "2340393\n"
     ]
    }
   ],
   "source": [
    "# length of the created lists of test_data dataframe\n",
    "print(len(cleaned_lemmatized_question_1_test))\n",
    "print(len(cleaned_lemmatized_question_2_test))\n",
    "print(len(cleaned_question_1_test))\n",
    "print(len(cleaned_question_2_test))\n",
    "print(len(combined_lemmatized_text_test))"
   ]
  },
  {
   "cell_type": "code",
   "execution_count": 99,
   "metadata": {
    "colab": {
     "base_uri": "https://localhost:8080/",
     "height": 858
    },
    "id": "2Cq8iscEacg5",
    "outputId": "81ef4bbc-50d7-490c-932b-e44f81e64697"
   },
   "outputs": [
    {
     "data": {
      "text/html": [
       "<div>\n",
       "<style scoped>\n",
       "    .dataframe tbody tr th:only-of-type {\n",
       "        vertical-align: middle;\n",
       "    }\n",
       "\n",
       "    .dataframe tbody tr th {\n",
       "        vertical-align: top;\n",
       "    }\n",
       "\n",
       "    .dataframe thead th {\n",
       "        text-align: right;\n",
       "    }\n",
       "</style>\n",
       "<table border=\"1\" class=\"dataframe\">\n",
       "  <thead>\n",
       "    <tr style=\"text-align: right;\">\n",
       "      <th></th>\n",
       "      <th>question1</th>\n",
       "      <th>question2</th>\n",
       "      <th>is_duplicate</th>\n",
       "      <th>cleaned_lemmatized_question_1</th>\n",
       "      <th>cleaned_lemmatized_question_2</th>\n",
       "      <th>cleaned_question_1</th>\n",
       "      <th>cleaned_question_2</th>\n",
       "      <th>combined_lemmatized_text</th>\n",
       "    </tr>\n",
       "  </thead>\n",
       "  <tbody>\n",
       "    <tr>\n",
       "      <th>0</th>\n",
       "      <td>What is the step by step guide to invest in sh...</td>\n",
       "      <td>What is the step by step guide to invest in sh...</td>\n",
       "      <td>0</td>\n",
       "      <td>step step guide invest share market india</td>\n",
       "      <td>step step guide invest share market</td>\n",
       "      <td>step step guide invest share market india</td>\n",
       "      <td>step step guide invest share market</td>\n",
       "      <td>step step guide invest share market india step...</td>\n",
       "    </tr>\n",
       "    <tr>\n",
       "      <th>1</th>\n",
       "      <td>What is the story of Kohinoor (Koh-i-Noor) Dia...</td>\n",
       "      <td>What would happen if the Indian government sto...</td>\n",
       "      <td>0</td>\n",
       "      <td>story kohinoor kohinoor diamond</td>\n",
       "      <td>would happen indian government stole kohinoor ...</td>\n",
       "      <td>story kohinoor kohinoor diamond</td>\n",
       "      <td>would happen indian government stole kohinoor ...</td>\n",
       "      <td>story kohinoor kohinoor diamond would happen i...</td>\n",
       "    </tr>\n",
       "    <tr>\n",
       "      <th>2</th>\n",
       "      <td>How can I increase the speed of my internet co...</td>\n",
       "      <td>How can Internet speed be increased by hacking...</td>\n",
       "      <td>0</td>\n",
       "      <td>increase speed internet connection using vpn</td>\n",
       "      <td>internet speed increased hacking dns</td>\n",
       "      <td>increase speed internet connection using vpn</td>\n",
       "      <td>internet speed increased hacking dns</td>\n",
       "      <td>increase speed internet connection using vpn i...</td>\n",
       "    </tr>\n",
       "    <tr>\n",
       "      <th>3</th>\n",
       "      <td>Why am I mentally very lonely? How can I solve...</td>\n",
       "      <td>Find the remainder when [math]23^{24}[/math] i...</td>\n",
       "      <td>0</td>\n",
       "      <td>mentally lonely solve</td>\n",
       "      <td>find remainder math2324math divided 2423</td>\n",
       "      <td>mentally lonely solve</td>\n",
       "      <td>find remainder math2324math divided 2423</td>\n",
       "      <td>mentally lonely solve find remainder math2324m...</td>\n",
       "    </tr>\n",
       "    <tr>\n",
       "      <th>4</th>\n",
       "      <td>Which one dissolve in water quikly sugar, salt...</td>\n",
       "      <td>Which fish would survive in salt water?</td>\n",
       "      <td>0</td>\n",
       "      <td>one dissolve water quikly sugar salt methane c...</td>\n",
       "      <td>fish would survive salt water</td>\n",
       "      <td>one dissolve water quikly sugar salt methane c...</td>\n",
       "      <td>fish would survive salt water</td>\n",
       "      <td>one dissolve water quikly sugar salt methane c...</td>\n",
       "    </tr>\n",
       "    <tr>\n",
       "      <th>...</th>\n",
       "      <td>...</td>\n",
       "      <td>...</td>\n",
       "      <td>...</td>\n",
       "      <td>...</td>\n",
       "      <td>...</td>\n",
       "      <td>...</td>\n",
       "      <td>...</td>\n",
       "      <td>...</td>\n",
       "    </tr>\n",
       "    <tr>\n",
       "      <th>404282</th>\n",
       "      <td>How many keywords are there in the Racket prog...</td>\n",
       "      <td>How many keywords are there in PERL Programmin...</td>\n",
       "      <td>0</td>\n",
       "      <td>many keywords racket programming language late...</td>\n",
       "      <td>many keywords perl programming language latest...</td>\n",
       "      <td>many keywords racket programming language late...</td>\n",
       "      <td>many keywords perl programming language latest...</td>\n",
       "      <td>many keywords racket programming language late...</td>\n",
       "    </tr>\n",
       "    <tr>\n",
       "      <th>404283</th>\n",
       "      <td>Do you believe there is life after death?</td>\n",
       "      <td>Is it true that there is life after death?</td>\n",
       "      <td>1</td>\n",
       "      <td>believe life death</td>\n",
       "      <td>true life death</td>\n",
       "      <td>believe life death</td>\n",
       "      <td>true life death</td>\n",
       "      <td>believe life death true life death</td>\n",
       "    </tr>\n",
       "    <tr>\n",
       "      <th>404284</th>\n",
       "      <td>What is one coin?</td>\n",
       "      <td>What's this coin?</td>\n",
       "      <td>0</td>\n",
       "      <td>one coin</td>\n",
       "      <td>whats coin</td>\n",
       "      <td>one coin</td>\n",
       "      <td>whats coin</td>\n",
       "      <td>one coin whats coin</td>\n",
       "    </tr>\n",
       "    <tr>\n",
       "      <th>404285</th>\n",
       "      <td>What is the approx annual cost of living while...</td>\n",
       "      <td>I am having little hairfall problem but I want...</td>\n",
       "      <td>0</td>\n",
       "      <td>approx annual cost living studying uic chicago...</td>\n",
       "      <td>little hairfall problem want use hair styling ...</td>\n",
       "      <td>approx annual cost living studying uic chicago...</td>\n",
       "      <td>little hairfall problem want use hair styling ...</td>\n",
       "      <td>approx annual cost living studying uic chicago...</td>\n",
       "    </tr>\n",
       "    <tr>\n",
       "      <th>404286</th>\n",
       "      <td>What is like to have sex with cousin?</td>\n",
       "      <td>What is it like to have sex with your cousin?</td>\n",
       "      <td>0</td>\n",
       "      <td>like sex cousin</td>\n",
       "      <td>like sex cousin</td>\n",
       "      <td>like sex cousin</td>\n",
       "      <td>like sex cousin</td>\n",
       "      <td>like sex cousin like sex cousin</td>\n",
       "    </tr>\n",
       "  </tbody>\n",
       "</table>\n",
       "<p>404287 rows × 8 columns</p>\n",
       "</div>"
      ],
      "text/plain": [
       "                                                question1  \\\n",
       "0       What is the step by step guide to invest in sh...   \n",
       "1       What is the story of Kohinoor (Koh-i-Noor) Dia...   \n",
       "2       How can I increase the speed of my internet co...   \n",
       "3       Why am I mentally very lonely? How can I solve...   \n",
       "4       Which one dissolve in water quikly sugar, salt...   \n",
       "...                                                   ...   \n",
       "404282  How many keywords are there in the Racket prog...   \n",
       "404283          Do you believe there is life after death?   \n",
       "404284                                  What is one coin?   \n",
       "404285  What is the approx annual cost of living while...   \n",
       "404286              What is like to have sex with cousin?   \n",
       "\n",
       "                                                question2  is_duplicate  \\\n",
       "0       What is the step by step guide to invest in sh...             0   \n",
       "1       What would happen if the Indian government sto...             0   \n",
       "2       How can Internet speed be increased by hacking...             0   \n",
       "3       Find the remainder when [math]23^{24}[/math] i...             0   \n",
       "4                 Which fish would survive in salt water?             0   \n",
       "...                                                   ...           ...   \n",
       "404282  How many keywords are there in PERL Programmin...             0   \n",
       "404283         Is it true that there is life after death?             1   \n",
       "404284                                  What's this coin?             0   \n",
       "404285  I am having little hairfall problem but I want...             0   \n",
       "404286      What is it like to have sex with your cousin?             0   \n",
       "\n",
       "                            cleaned_lemmatized_question_1  \\\n",
       "0               step step guide invest share market india   \n",
       "1                         story kohinoor kohinoor diamond   \n",
       "2            increase speed internet connection using vpn   \n",
       "3                                   mentally lonely solve   \n",
       "4       one dissolve water quikly sugar salt methane c...   \n",
       "...                                                   ...   \n",
       "404282  many keywords racket programming language late...   \n",
       "404283                                 believe life death   \n",
       "404284                                           one coin   \n",
       "404285  approx annual cost living studying uic chicago...   \n",
       "404286                                    like sex cousin   \n",
       "\n",
       "                            cleaned_lemmatized_question_2  \\\n",
       "0                     step step guide invest share market   \n",
       "1       would happen indian government stole kohinoor ...   \n",
       "2                    internet speed increased hacking dns   \n",
       "3                find remainder math2324math divided 2423   \n",
       "4                           fish would survive salt water   \n",
       "...                                                   ...   \n",
       "404282  many keywords perl programming language latest...   \n",
       "404283                                    true life death   \n",
       "404284                                         whats coin   \n",
       "404285  little hairfall problem want use hair styling ...   \n",
       "404286                                    like sex cousin   \n",
       "\n",
       "                                       cleaned_question_1  \\\n",
       "0               step step guide invest share market india   \n",
       "1                         story kohinoor kohinoor diamond   \n",
       "2            increase speed internet connection using vpn   \n",
       "3                                   mentally lonely solve   \n",
       "4       one dissolve water quikly sugar salt methane c...   \n",
       "...                                                   ...   \n",
       "404282  many keywords racket programming language late...   \n",
       "404283                                 believe life death   \n",
       "404284                                           one coin   \n",
       "404285  approx annual cost living studying uic chicago...   \n",
       "404286                                    like sex cousin   \n",
       "\n",
       "                                       cleaned_question_2  \\\n",
       "0                     step step guide invest share market   \n",
       "1       would happen indian government stole kohinoor ...   \n",
       "2                    internet speed increased hacking dns   \n",
       "3                find remainder math2324math divided 2423   \n",
       "4                           fish would survive salt water   \n",
       "...                                                   ...   \n",
       "404282  many keywords perl programming language latest...   \n",
       "404283                                    true life death   \n",
       "404284                                         whats coin   \n",
       "404285  little hairfall problem want use hair styling ...   \n",
       "404286                                    like sex cousin   \n",
       "\n",
       "                                 combined_lemmatized_text  \n",
       "0       step step guide invest share market india step...  \n",
       "1       story kohinoor kohinoor diamond would happen i...  \n",
       "2       increase speed internet connection using vpn i...  \n",
       "3       mentally lonely solve find remainder math2324m...  \n",
       "4       one dissolve water quikly sugar salt methane c...  \n",
       "...                                                   ...  \n",
       "404282  many keywords racket programming language late...  \n",
       "404283                 believe life death true life death  \n",
       "404284                                one coin whats coin  \n",
       "404285  approx annual cost living studying uic chicago...  \n",
       "404286                    like sex cousin like sex cousin  \n",
       "\n",
       "[404287 rows x 8 columns]"
      ]
     },
     "execution_count": 99,
     "metadata": {
      "tags": []
     },
     "output_type": "execute_result"
    }
   ],
   "source": [
    "# inserting new preprocessed text columns for train_data dataframe\n",
    "train_data['cleaned_lemmatized_question_1'] = cleaned_lemmatized_question_1\n",
    "train_data['cleaned_lemmatized_question_2'] = cleaned_lemmatized_question_2\n",
    "train_data['cleaned_question_1'] = cleaned_question_1\n",
    "train_data['cleaned_question_2'] = cleaned_question_2\n",
    "train_data['combined_lemmatized_text'] = combined_lemmatized_text\n",
    "\n",
    "# printing the dataframe\n",
    "train_data"
   ]
  },
  {
   "cell_type": "code",
   "execution_count": 100,
   "metadata": {
    "colab": {
     "base_uri": "https://localhost:8080/",
     "height": 875
    },
    "id": "2Z0Sm74TacbI",
    "outputId": "b3bca5a9-229b-4990-bea6-9334395d619f"
   },
   "outputs": [
    {
     "data": {
      "text/html": [
       "<div>\n",
       "<style scoped>\n",
       "    .dataframe tbody tr th:only-of-type {\n",
       "        vertical-align: middle;\n",
       "    }\n",
       "\n",
       "    .dataframe tbody tr th {\n",
       "        vertical-align: top;\n",
       "    }\n",
       "\n",
       "    .dataframe thead th {\n",
       "        text-align: right;\n",
       "    }\n",
       "</style>\n",
       "<table border=\"1\" class=\"dataframe\">\n",
       "  <thead>\n",
       "    <tr style=\"text-align: right;\">\n",
       "      <th></th>\n",
       "      <th>question1</th>\n",
       "      <th>question2</th>\n",
       "      <th>cleaned_lemmatized_question_1_test</th>\n",
       "      <th>cleaned_lemmatized_question_2_test</th>\n",
       "      <th>cleaned_question_1_test</th>\n",
       "      <th>cleaned_question_2_test</th>\n",
       "      <th>combined_lemmatized_text_test</th>\n",
       "    </tr>\n",
       "  </thead>\n",
       "  <tbody>\n",
       "    <tr>\n",
       "      <th>0</th>\n",
       "      <td>How does the Surface Pro himself 4 compare wit...</td>\n",
       "      <td>Why did Microsoft choose core m3 and not core ...</td>\n",
       "      <td>surface pro 4 compare ipad pro</td>\n",
       "      <td>microsoft choose core m3 core i3 home surface ...</td>\n",
       "      <td>surface pro 4 compare ipad pro</td>\n",
       "      <td>microsoft choose core m3 core i3 home surface ...</td>\n",
       "      <td>surface pro 4 compare ipad pro microsoft choos...</td>\n",
       "    </tr>\n",
       "    <tr>\n",
       "      <th>1</th>\n",
       "      <td>Should I have a hair transplant at age 24? How...</td>\n",
       "      <td>How much cost does hair transplant require?</td>\n",
       "      <td>hair transplant age 24 much would cost</td>\n",
       "      <td>much cost hair transplant require</td>\n",
       "      <td>hair transplant age 24 much would cost</td>\n",
       "      <td>much cost hair transplant require</td>\n",
       "      <td>hair transplant age 24 much would cost much co...</td>\n",
       "    </tr>\n",
       "    <tr>\n",
       "      <th>2</th>\n",
       "      <td>What but is the best way to send money from Ch...</td>\n",
       "      <td>What you send money to China?</td>\n",
       "      <td>best way send money china u</td>\n",
       "      <td>send money china</td>\n",
       "      <td>best way send money china us</td>\n",
       "      <td>send money china</td>\n",
       "      <td>best way send money china u send money china</td>\n",
       "    </tr>\n",
       "    <tr>\n",
       "      <th>3</th>\n",
       "      <td>Which food not emulsifiers?</td>\n",
       "      <td>What foods fibre?</td>\n",
       "      <td>food emulsifier</td>\n",
       "      <td>food fibre</td>\n",
       "      <td>food emulsifiers</td>\n",
       "      <td>foods fibre</td>\n",
       "      <td>food emulsifier food fibre</td>\n",
       "    </tr>\n",
       "    <tr>\n",
       "      <th>4</th>\n",
       "      <td>How \"aberystwyth\" start reading?</td>\n",
       "      <td>How their can I start reading?</td>\n",
       "      <td>aberystwyth start reading</td>\n",
       "      <td>start reading</td>\n",
       "      <td>aberystwyth start reading</td>\n",
       "      <td>start reading</td>\n",
       "      <td>aberystwyth start reading start reading</td>\n",
       "    </tr>\n",
       "    <tr>\n",
       "      <th>...</th>\n",
       "      <td>...</td>\n",
       "      <td>...</td>\n",
       "      <td>...</td>\n",
       "      <td>...</td>\n",
       "      <td>...</td>\n",
       "      <td>...</td>\n",
       "      <td>...</td>\n",
       "    </tr>\n",
       "    <tr>\n",
       "      <th>2340388</th>\n",
       "      <td>How do Peaks (TV series): Why did Leland kill ...</td>\n",
       "      <td>What is the most study scene in twin peaks?</td>\n",
       "      <td>peak tv series leland kill laura palmer</td>\n",
       "      <td>study scene twin peak</td>\n",
       "      <td>peaks tv series leland kill laura palmer</td>\n",
       "      <td>study scene twin peaks</td>\n",
       "      <td>peak tv series leland kill laura palmer study ...</td>\n",
       "    </tr>\n",
       "    <tr>\n",
       "      <th>2340389</th>\n",
       "      <td>What does be \"in transit\" mean on FedEx tracking?</td>\n",
       "      <td>How question FedEx packages delivered?</td>\n",
       "      <td>transit mean fedex tracking</td>\n",
       "      <td>question fedex package delivered</td>\n",
       "      <td>transit mean fedex tracking</td>\n",
       "      <td>question fedex packages delivered</td>\n",
       "      <td>transit mean fedex tracking question fedex pac...</td>\n",
       "    </tr>\n",
       "    <tr>\n",
       "      <th>2340390</th>\n",
       "      <td>What are some famous Romanian drinks (alcoholi...</td>\n",
       "      <td>Can a non-alcoholic restaurant be a huge success?</td>\n",
       "      <td>famous romanian drink alcoholic nonalcoholic</td>\n",
       "      <td>nonalcoholic restaurant huge success</td>\n",
       "      <td>famous romanian drinks alcoholic nonalcoholic</td>\n",
       "      <td>nonalcoholic restaurant huge success</td>\n",
       "      <td>famous romanian drink alcoholic nonalcoholic n...</td>\n",
       "    </tr>\n",
       "    <tr>\n",
       "      <th>2340391</th>\n",
       "      <td>What were the best and worst things about publ...</td>\n",
       "      <td>What are the best and worst things examination...</td>\n",
       "      <td>best worst thing public transit proddatur andh...</td>\n",
       "      <td>best worst thing examination public transit vi...</td>\n",
       "      <td>best worst things public transit proddatur and...</td>\n",
       "      <td>best worst things examination public transit v...</td>\n",
       "      <td>best worst thing public transit proddatur andh...</td>\n",
       "    </tr>\n",
       "    <tr>\n",
       "      <th>2340392</th>\n",
       "      <td>What is the best medication equation erectile ...</td>\n",
       "      <td>How do I out get rid of Erectile Dysfunction?</td>\n",
       "      <td>best medication equation erectile dysfunction</td>\n",
       "      <td>get rid erectile dysfunction</td>\n",
       "      <td>best medication equation erectile dysfunction</td>\n",
       "      <td>get rid erectile dysfunction</td>\n",
       "      <td>best medication equation erectile dysfunction ...</td>\n",
       "    </tr>\n",
       "  </tbody>\n",
       "</table>\n",
       "<p>2340393 rows × 7 columns</p>\n",
       "</div>"
      ],
      "text/plain": [
       "                                                 question1  \\\n",
       "0        How does the Surface Pro himself 4 compare wit...   \n",
       "1        Should I have a hair transplant at age 24? How...   \n",
       "2        What but is the best way to send money from Ch...   \n",
       "3                              Which food not emulsifiers?   \n",
       "4                         How \"aberystwyth\" start reading?   \n",
       "...                                                    ...   \n",
       "2340388  How do Peaks (TV series): Why did Leland kill ...   \n",
       "2340389  What does be \"in transit\" mean on FedEx tracking?   \n",
       "2340390  What are some famous Romanian drinks (alcoholi...   \n",
       "2340391  What were the best and worst things about publ...   \n",
       "2340392  What is the best medication equation erectile ...   \n",
       "\n",
       "                                                 question2  \\\n",
       "0        Why did Microsoft choose core m3 and not core ...   \n",
       "1              How much cost does hair transplant require?   \n",
       "2                            What you send money to China?   \n",
       "3                                        What foods fibre?   \n",
       "4                           How their can I start reading?   \n",
       "...                                                    ...   \n",
       "2340388        What is the most study scene in twin peaks?   \n",
       "2340389             How question FedEx packages delivered?   \n",
       "2340390  Can a non-alcoholic restaurant be a huge success?   \n",
       "2340391  What are the best and worst things examination...   \n",
       "2340392      How do I out get rid of Erectile Dysfunction?   \n",
       "\n",
       "                        cleaned_lemmatized_question_1_test  \\\n",
       "0                           surface pro 4 compare ipad pro   \n",
       "1                   hair transplant age 24 much would cost   \n",
       "2                              best way send money china u   \n",
       "3                                          food emulsifier   \n",
       "4                                aberystwyth start reading   \n",
       "...                                                    ...   \n",
       "2340388            peak tv series leland kill laura palmer   \n",
       "2340389                        transit mean fedex tracking   \n",
       "2340390       famous romanian drink alcoholic nonalcoholic   \n",
       "2340391  best worst thing public transit proddatur andh...   \n",
       "2340392      best medication equation erectile dysfunction   \n",
       "\n",
       "                        cleaned_lemmatized_question_2_test  \\\n",
       "0        microsoft choose core m3 core i3 home surface ...   \n",
       "1                        much cost hair transplant require   \n",
       "2                                         send money china   \n",
       "3                                               food fibre   \n",
       "4                                            start reading   \n",
       "...                                                    ...   \n",
       "2340388                              study scene twin peak   \n",
       "2340389                   question fedex package delivered   \n",
       "2340390               nonalcoholic restaurant huge success   \n",
       "2340391  best worst thing examination public transit vi...   \n",
       "2340392                       get rid erectile dysfunction   \n",
       "\n",
       "                                   cleaned_question_1_test  \\\n",
       "0                           surface pro 4 compare ipad pro   \n",
       "1                   hair transplant age 24 much would cost   \n",
       "2                             best way send money china us   \n",
       "3                                         food emulsifiers   \n",
       "4                                aberystwyth start reading   \n",
       "...                                                    ...   \n",
       "2340388           peaks tv series leland kill laura palmer   \n",
       "2340389                        transit mean fedex tracking   \n",
       "2340390      famous romanian drinks alcoholic nonalcoholic   \n",
       "2340391  best worst things public transit proddatur and...   \n",
       "2340392      best medication equation erectile dysfunction   \n",
       "\n",
       "                                   cleaned_question_2_test  \\\n",
       "0        microsoft choose core m3 core i3 home surface ...   \n",
       "1                        much cost hair transplant require   \n",
       "2                                         send money china   \n",
       "3                                              foods fibre   \n",
       "4                                            start reading   \n",
       "...                                                    ...   \n",
       "2340388                             study scene twin peaks   \n",
       "2340389                  question fedex packages delivered   \n",
       "2340390               nonalcoholic restaurant huge success   \n",
       "2340391  best worst things examination public transit v...   \n",
       "2340392                       get rid erectile dysfunction   \n",
       "\n",
       "                             combined_lemmatized_text_test  \n",
       "0        surface pro 4 compare ipad pro microsoft choos...  \n",
       "1        hair transplant age 24 much would cost much co...  \n",
       "2             best way send money china u send money china  \n",
       "3                               food emulsifier food fibre  \n",
       "4                  aberystwyth start reading start reading  \n",
       "...                                                    ...  \n",
       "2340388  peak tv series leland kill laura palmer study ...  \n",
       "2340389  transit mean fedex tracking question fedex pac...  \n",
       "2340390  famous romanian drink alcoholic nonalcoholic n...  \n",
       "2340391  best worst thing public transit proddatur andh...  \n",
       "2340392  best medication equation erectile dysfunction ...  \n",
       "\n",
       "[2340393 rows x 7 columns]"
      ]
     },
     "execution_count": 100,
     "metadata": {
      "tags": []
     },
     "output_type": "execute_result"
    }
   ],
   "source": [
    "# inserting new preprocessed text columns for test_data dataframe\n",
    "test_data['cleaned_lemmatized_question_1_test'] = cleaned_lemmatized_question_1_test\n",
    "test_data['cleaned_lemmatized_question_2_test'] = cleaned_lemmatized_question_2_test\n",
    "test_data['cleaned_question_1_test'] = cleaned_question_1_test\n",
    "test_data['cleaned_question_2_test'] = cleaned_question_2_test\n",
    "test_data['combined_lemmatized_text_test'] = combined_lemmatized_text_test\n",
    "\n",
    "# printing the dataframe\n",
    "test_data"
   ]
  },
  {
   "cell_type": "code",
   "execution_count": 101,
   "metadata": {
    "colab": {
     "base_uri": "https://localhost:8080/",
     "height": 858
    },
    "id": "RtIR63iYacTb",
    "outputId": "63ee2c9e-f253-4bdd-94de-3ac586ae60ed"
   },
   "outputs": [
    {
     "data": {
      "text/html": [
       "<div>\n",
       "<style scoped>\n",
       "    .dataframe tbody tr th:only-of-type {\n",
       "        vertical-align: middle;\n",
       "    }\n",
       "\n",
       "    .dataframe tbody tr th {\n",
       "        vertical-align: top;\n",
       "    }\n",
       "\n",
       "    .dataframe thead th {\n",
       "        text-align: right;\n",
       "    }\n",
       "</style>\n",
       "<table border=\"1\" class=\"dataframe\">\n",
       "  <thead>\n",
       "    <tr style=\"text-align: right;\">\n",
       "      <th></th>\n",
       "      <th>question1</th>\n",
       "      <th>question2</th>\n",
       "      <th>is_duplicate</th>\n",
       "      <th>cleaned_lemmatized_question_1</th>\n",
       "      <th>cleaned_lemmatized_question_2</th>\n",
       "      <th>cleaned_question_1</th>\n",
       "      <th>cleaned_question_2</th>\n",
       "      <th>combined_lemmatized_text</th>\n",
       "    </tr>\n",
       "  </thead>\n",
       "  <tbody>\n",
       "    <tr>\n",
       "      <th>0</th>\n",
       "      <td>What is the step by step guide to invest in sh...</td>\n",
       "      <td>What is the step by step guide to invest in sh...</td>\n",
       "      <td>0</td>\n",
       "      <td>step step guide invest share market india</td>\n",
       "      <td>step step guide invest share market</td>\n",
       "      <td>step step guide invest share market india</td>\n",
       "      <td>step step guide invest share market</td>\n",
       "      <td>step step guide invest share market india step...</td>\n",
       "    </tr>\n",
       "    <tr>\n",
       "      <th>1</th>\n",
       "      <td>What is the story of Kohinoor (Koh-i-Noor) Dia...</td>\n",
       "      <td>What would happen if the Indian government sto...</td>\n",
       "      <td>0</td>\n",
       "      <td>story kohinoor kohinoor diamond</td>\n",
       "      <td>would happen indian government stole kohinoor ...</td>\n",
       "      <td>story kohinoor kohinoor diamond</td>\n",
       "      <td>would happen indian government stole kohinoor ...</td>\n",
       "      <td>story kohinoor kohinoor diamond would happen i...</td>\n",
       "    </tr>\n",
       "    <tr>\n",
       "      <th>2</th>\n",
       "      <td>How can I increase the speed of my internet co...</td>\n",
       "      <td>How can Internet speed be increased by hacking...</td>\n",
       "      <td>0</td>\n",
       "      <td>increase speed internet connection using vpn</td>\n",
       "      <td>internet speed increased hacking dns</td>\n",
       "      <td>increase speed internet connection using vpn</td>\n",
       "      <td>internet speed increased hacking dns</td>\n",
       "      <td>increase speed internet connection using vpn i...</td>\n",
       "    </tr>\n",
       "    <tr>\n",
       "      <th>3</th>\n",
       "      <td>Why am I mentally very lonely? How can I solve...</td>\n",
       "      <td>Find the remainder when [math]23^{24}[/math] i...</td>\n",
       "      <td>0</td>\n",
       "      <td>mentally lonely solve</td>\n",
       "      <td>find remainder math2324math divided 2423</td>\n",
       "      <td>mentally lonely solve</td>\n",
       "      <td>find remainder math2324math divided 2423</td>\n",
       "      <td>mentally lonely solve find remainder math2324m...</td>\n",
       "    </tr>\n",
       "    <tr>\n",
       "      <th>4</th>\n",
       "      <td>Which one dissolve in water quikly sugar, salt...</td>\n",
       "      <td>Which fish would survive in salt water?</td>\n",
       "      <td>0</td>\n",
       "      <td>one dissolve water quikly sugar salt methane c...</td>\n",
       "      <td>fish would survive salt water</td>\n",
       "      <td>one dissolve water quikly sugar salt methane c...</td>\n",
       "      <td>fish would survive salt water</td>\n",
       "      <td>one dissolve water quikly sugar salt methane c...</td>\n",
       "    </tr>\n",
       "    <tr>\n",
       "      <th>...</th>\n",
       "      <td>...</td>\n",
       "      <td>...</td>\n",
       "      <td>...</td>\n",
       "      <td>...</td>\n",
       "      <td>...</td>\n",
       "      <td>...</td>\n",
       "      <td>...</td>\n",
       "      <td>...</td>\n",
       "    </tr>\n",
       "    <tr>\n",
       "      <th>404282</th>\n",
       "      <td>How many keywords are there in the Racket prog...</td>\n",
       "      <td>How many keywords are there in PERL Programmin...</td>\n",
       "      <td>0</td>\n",
       "      <td>many keywords racket programming language late...</td>\n",
       "      <td>many keywords perl programming language latest...</td>\n",
       "      <td>many keywords racket programming language late...</td>\n",
       "      <td>many keywords perl programming language latest...</td>\n",
       "      <td>many keywords racket programming language late...</td>\n",
       "    </tr>\n",
       "    <tr>\n",
       "      <th>404283</th>\n",
       "      <td>Do you believe there is life after death?</td>\n",
       "      <td>Is it true that there is life after death?</td>\n",
       "      <td>1</td>\n",
       "      <td>believe life death</td>\n",
       "      <td>true life death</td>\n",
       "      <td>believe life death</td>\n",
       "      <td>true life death</td>\n",
       "      <td>believe life death true life death</td>\n",
       "    </tr>\n",
       "    <tr>\n",
       "      <th>404284</th>\n",
       "      <td>What is one coin?</td>\n",
       "      <td>What's this coin?</td>\n",
       "      <td>0</td>\n",
       "      <td>one coin</td>\n",
       "      <td>whats coin</td>\n",
       "      <td>one coin</td>\n",
       "      <td>whats coin</td>\n",
       "      <td>one coin whats coin</td>\n",
       "    </tr>\n",
       "    <tr>\n",
       "      <th>404285</th>\n",
       "      <td>What is the approx annual cost of living while...</td>\n",
       "      <td>I am having little hairfall problem but I want...</td>\n",
       "      <td>0</td>\n",
       "      <td>approx annual cost living studying uic chicago...</td>\n",
       "      <td>little hairfall problem want use hair styling ...</td>\n",
       "      <td>approx annual cost living studying uic chicago...</td>\n",
       "      <td>little hairfall problem want use hair styling ...</td>\n",
       "      <td>approx annual cost living studying uic chicago...</td>\n",
       "    </tr>\n",
       "    <tr>\n",
       "      <th>404286</th>\n",
       "      <td>What is like to have sex with cousin?</td>\n",
       "      <td>What is it like to have sex with your cousin?</td>\n",
       "      <td>0</td>\n",
       "      <td>like sex cousin</td>\n",
       "      <td>like sex cousin</td>\n",
       "      <td>like sex cousin</td>\n",
       "      <td>like sex cousin</td>\n",
       "      <td>like sex cousin like sex cousin</td>\n",
       "    </tr>\n",
       "  </tbody>\n",
       "</table>\n",
       "<p>404287 rows × 8 columns</p>\n",
       "</div>"
      ],
      "text/plain": [
       "                                                question1  \\\n",
       "0       What is the step by step guide to invest in sh...   \n",
       "1       What is the story of Kohinoor (Koh-i-Noor) Dia...   \n",
       "2       How can I increase the speed of my internet co...   \n",
       "3       Why am I mentally very lonely? How can I solve...   \n",
       "4       Which one dissolve in water quikly sugar, salt...   \n",
       "...                                                   ...   \n",
       "404282  How many keywords are there in the Racket prog...   \n",
       "404283          Do you believe there is life after death?   \n",
       "404284                                  What is one coin?   \n",
       "404285  What is the approx annual cost of living while...   \n",
       "404286              What is like to have sex with cousin?   \n",
       "\n",
       "                                                question2  is_duplicate  \\\n",
       "0       What is the step by step guide to invest in sh...             0   \n",
       "1       What would happen if the Indian government sto...             0   \n",
       "2       How can Internet speed be increased by hacking...             0   \n",
       "3       Find the remainder when [math]23^{24}[/math] i...             0   \n",
       "4                 Which fish would survive in salt water?             0   \n",
       "...                                                   ...           ...   \n",
       "404282  How many keywords are there in PERL Programmin...             0   \n",
       "404283         Is it true that there is life after death?             1   \n",
       "404284                                  What's this coin?             0   \n",
       "404285  I am having little hairfall problem but I want...             0   \n",
       "404286      What is it like to have sex with your cousin?             0   \n",
       "\n",
       "                            cleaned_lemmatized_question_1  \\\n",
       "0               step step guide invest share market india   \n",
       "1                         story kohinoor kohinoor diamond   \n",
       "2            increase speed internet connection using vpn   \n",
       "3                                   mentally lonely solve   \n",
       "4       one dissolve water quikly sugar salt methane c...   \n",
       "...                                                   ...   \n",
       "404282  many keywords racket programming language late...   \n",
       "404283                                 believe life death   \n",
       "404284                                           one coin   \n",
       "404285  approx annual cost living studying uic chicago...   \n",
       "404286                                    like sex cousin   \n",
       "\n",
       "                            cleaned_lemmatized_question_2  \\\n",
       "0                     step step guide invest share market   \n",
       "1       would happen indian government stole kohinoor ...   \n",
       "2                    internet speed increased hacking dns   \n",
       "3                find remainder math2324math divided 2423   \n",
       "4                           fish would survive salt water   \n",
       "...                                                   ...   \n",
       "404282  many keywords perl programming language latest...   \n",
       "404283                                    true life death   \n",
       "404284                                         whats coin   \n",
       "404285  little hairfall problem want use hair styling ...   \n",
       "404286                                    like sex cousin   \n",
       "\n",
       "                                       cleaned_question_1  \\\n",
       "0               step step guide invest share market india   \n",
       "1                         story kohinoor kohinoor diamond   \n",
       "2            increase speed internet connection using vpn   \n",
       "3                                   mentally lonely solve   \n",
       "4       one dissolve water quikly sugar salt methane c...   \n",
       "...                                                   ...   \n",
       "404282  many keywords racket programming language late...   \n",
       "404283                                 believe life death   \n",
       "404284                                           one coin   \n",
       "404285  approx annual cost living studying uic chicago...   \n",
       "404286                                    like sex cousin   \n",
       "\n",
       "                                       cleaned_question_2  \\\n",
       "0                     step step guide invest share market   \n",
       "1       would happen indian government stole kohinoor ...   \n",
       "2                    internet speed increased hacking dns   \n",
       "3                find remainder math2324math divided 2423   \n",
       "4                           fish would survive salt water   \n",
       "...                                                   ...   \n",
       "404282  many keywords perl programming language latest...   \n",
       "404283                                    true life death   \n",
       "404284                                         whats coin   \n",
       "404285  little hairfall problem want use hair styling ...   \n",
       "404286                                    like sex cousin   \n",
       "\n",
       "                                 combined_lemmatized_text  \n",
       "0       step step guide invest share market india step...  \n",
       "1       story kohinoor kohinoor diamond would happen i...  \n",
       "2       increase speed internet connection using vpn i...  \n",
       "3       mentally lonely solve find remainder math2324m...  \n",
       "4       one dissolve water quikly sugar salt methane c...  \n",
       "...                                                   ...  \n",
       "404282  many keywords racket programming language late...  \n",
       "404283                 believe life death true life death  \n",
       "404284                                one coin whats coin  \n",
       "404285  approx annual cost living studying uic chicago...  \n",
       "404286                    like sex cousin like sex cousin  \n",
       "\n",
       "[404287 rows x 8 columns]"
      ]
     },
     "execution_count": 101,
     "metadata": {
      "tags": []
     },
     "output_type": "execute_result"
    }
   ],
   "source": [
    "# saving preprocessed train dataset to a csv file\n",
    "file_name = 'processed_datasets/qqp_train_data_preprocessed.csv'\n",
    "train_data.to_csv(file_name,\n",
    "                  encoding='utf-8',\n",
    "                  index=False)\n",
    "\n",
    "# loading dataset from the saved csv file to a pandas dataframe\n",
    "train_data = pd.read_csv(file_name)\n",
    "\n",
    "# printing the preprocessed loaded dataframe\n",
    "train_data"
   ]
  },
  {
   "cell_type": "code",
   "execution_count": 102,
   "metadata": {
    "colab": {
     "base_uri": "https://localhost:8080/",
     "height": 875
    },
    "id": "MGYZKzsx8h0Y",
    "outputId": "d0660804-3f40-489b-f840-c946b78d6b9a"
   },
   "outputs": [
    {
     "data": {
      "text/html": [
       "<div>\n",
       "<style scoped>\n",
       "    .dataframe tbody tr th:only-of-type {\n",
       "        vertical-align: middle;\n",
       "    }\n",
       "\n",
       "    .dataframe tbody tr th {\n",
       "        vertical-align: top;\n",
       "    }\n",
       "\n",
       "    .dataframe thead th {\n",
       "        text-align: right;\n",
       "    }\n",
       "</style>\n",
       "<table border=\"1\" class=\"dataframe\">\n",
       "  <thead>\n",
       "    <tr style=\"text-align: right;\">\n",
       "      <th></th>\n",
       "      <th>question1</th>\n",
       "      <th>question2</th>\n",
       "      <th>cleaned_lemmatized_question_1_test</th>\n",
       "      <th>cleaned_lemmatized_question_2_test</th>\n",
       "      <th>cleaned_question_1_test</th>\n",
       "      <th>cleaned_question_2_test</th>\n",
       "      <th>combined_lemmatized_text_test</th>\n",
       "    </tr>\n",
       "  </thead>\n",
       "  <tbody>\n",
       "    <tr>\n",
       "      <th>0</th>\n",
       "      <td>How does the Surface Pro himself 4 compare wit...</td>\n",
       "      <td>Why did Microsoft choose core m3 and not core ...</td>\n",
       "      <td>surface pro 4 compare ipad pro</td>\n",
       "      <td>microsoft choose core m3 core i3 home surface ...</td>\n",
       "      <td>surface pro 4 compare ipad pro</td>\n",
       "      <td>microsoft choose core m3 core i3 home surface ...</td>\n",
       "      <td>surface pro 4 compare ipad pro microsoft choos...</td>\n",
       "    </tr>\n",
       "    <tr>\n",
       "      <th>1</th>\n",
       "      <td>Should I have a hair transplant at age 24? How...</td>\n",
       "      <td>How much cost does hair transplant require?</td>\n",
       "      <td>hair transplant age 24 much would cost</td>\n",
       "      <td>much cost hair transplant require</td>\n",
       "      <td>hair transplant age 24 much would cost</td>\n",
       "      <td>much cost hair transplant require</td>\n",
       "      <td>hair transplant age 24 much would cost much co...</td>\n",
       "    </tr>\n",
       "    <tr>\n",
       "      <th>2</th>\n",
       "      <td>What but is the best way to send money from Ch...</td>\n",
       "      <td>What you send money to China?</td>\n",
       "      <td>best way send money china u</td>\n",
       "      <td>send money china</td>\n",
       "      <td>best way send money china us</td>\n",
       "      <td>send money china</td>\n",
       "      <td>best way send money china u send money china</td>\n",
       "    </tr>\n",
       "    <tr>\n",
       "      <th>3</th>\n",
       "      <td>Which food not emulsifiers?</td>\n",
       "      <td>What foods fibre?</td>\n",
       "      <td>food emulsifier</td>\n",
       "      <td>food fibre</td>\n",
       "      <td>food emulsifiers</td>\n",
       "      <td>foods fibre</td>\n",
       "      <td>food emulsifier food fibre</td>\n",
       "    </tr>\n",
       "    <tr>\n",
       "      <th>4</th>\n",
       "      <td>How \"aberystwyth\" start reading?</td>\n",
       "      <td>How their can I start reading?</td>\n",
       "      <td>aberystwyth start reading</td>\n",
       "      <td>start reading</td>\n",
       "      <td>aberystwyth start reading</td>\n",
       "      <td>start reading</td>\n",
       "      <td>aberystwyth start reading start reading</td>\n",
       "    </tr>\n",
       "    <tr>\n",
       "      <th>...</th>\n",
       "      <td>...</td>\n",
       "      <td>...</td>\n",
       "      <td>...</td>\n",
       "      <td>...</td>\n",
       "      <td>...</td>\n",
       "      <td>...</td>\n",
       "      <td>...</td>\n",
       "    </tr>\n",
       "    <tr>\n",
       "      <th>2340388</th>\n",
       "      <td>How do Peaks (TV series): Why did Leland kill ...</td>\n",
       "      <td>What is the most study scene in twin peaks?</td>\n",
       "      <td>peak tv series leland kill laura palmer</td>\n",
       "      <td>study scene twin peak</td>\n",
       "      <td>peaks tv series leland kill laura palmer</td>\n",
       "      <td>study scene twin peaks</td>\n",
       "      <td>peak tv series leland kill laura palmer study ...</td>\n",
       "    </tr>\n",
       "    <tr>\n",
       "      <th>2340389</th>\n",
       "      <td>What does be \"in transit\" mean on FedEx tracking?</td>\n",
       "      <td>How question FedEx packages delivered?</td>\n",
       "      <td>transit mean fedex tracking</td>\n",
       "      <td>question fedex package delivered</td>\n",
       "      <td>transit mean fedex tracking</td>\n",
       "      <td>question fedex packages delivered</td>\n",
       "      <td>transit mean fedex tracking question fedex pac...</td>\n",
       "    </tr>\n",
       "    <tr>\n",
       "      <th>2340390</th>\n",
       "      <td>What are some famous Romanian drinks (alcoholi...</td>\n",
       "      <td>Can a non-alcoholic restaurant be a huge success?</td>\n",
       "      <td>famous romanian drink alcoholic nonalcoholic</td>\n",
       "      <td>nonalcoholic restaurant huge success</td>\n",
       "      <td>famous romanian drinks alcoholic nonalcoholic</td>\n",
       "      <td>nonalcoholic restaurant huge success</td>\n",
       "      <td>famous romanian drink alcoholic nonalcoholic n...</td>\n",
       "    </tr>\n",
       "    <tr>\n",
       "      <th>2340391</th>\n",
       "      <td>What were the best and worst things about publ...</td>\n",
       "      <td>What are the best and worst things examination...</td>\n",
       "      <td>best worst thing public transit proddatur andh...</td>\n",
       "      <td>best worst thing examination public transit vi...</td>\n",
       "      <td>best worst things public transit proddatur and...</td>\n",
       "      <td>best worst things examination public transit v...</td>\n",
       "      <td>best worst thing public transit proddatur andh...</td>\n",
       "    </tr>\n",
       "    <tr>\n",
       "      <th>2340392</th>\n",
       "      <td>What is the best medication equation erectile ...</td>\n",
       "      <td>How do I out get rid of Erectile Dysfunction?</td>\n",
       "      <td>best medication equation erectile dysfunction</td>\n",
       "      <td>get rid erectile dysfunction</td>\n",
       "      <td>best medication equation erectile dysfunction</td>\n",
       "      <td>get rid erectile dysfunction</td>\n",
       "      <td>best medication equation erectile dysfunction ...</td>\n",
       "    </tr>\n",
       "  </tbody>\n",
       "</table>\n",
       "<p>2340393 rows × 7 columns</p>\n",
       "</div>"
      ],
      "text/plain": [
       "                                                 question1  \\\n",
       "0        How does the Surface Pro himself 4 compare wit...   \n",
       "1        Should I have a hair transplant at age 24? How...   \n",
       "2        What but is the best way to send money from Ch...   \n",
       "3                              Which food not emulsifiers?   \n",
       "4                         How \"aberystwyth\" start reading?   \n",
       "...                                                    ...   \n",
       "2340388  How do Peaks (TV series): Why did Leland kill ...   \n",
       "2340389  What does be \"in transit\" mean on FedEx tracking?   \n",
       "2340390  What are some famous Romanian drinks (alcoholi...   \n",
       "2340391  What were the best and worst things about publ...   \n",
       "2340392  What is the best medication equation erectile ...   \n",
       "\n",
       "                                                 question2  \\\n",
       "0        Why did Microsoft choose core m3 and not core ...   \n",
       "1              How much cost does hair transplant require?   \n",
       "2                            What you send money to China?   \n",
       "3                                        What foods fibre?   \n",
       "4                           How their can I start reading?   \n",
       "...                                                    ...   \n",
       "2340388        What is the most study scene in twin peaks?   \n",
       "2340389             How question FedEx packages delivered?   \n",
       "2340390  Can a non-alcoholic restaurant be a huge success?   \n",
       "2340391  What are the best and worst things examination...   \n",
       "2340392      How do I out get rid of Erectile Dysfunction?   \n",
       "\n",
       "                        cleaned_lemmatized_question_1_test  \\\n",
       "0                           surface pro 4 compare ipad pro   \n",
       "1                   hair transplant age 24 much would cost   \n",
       "2                              best way send money china u   \n",
       "3                                          food emulsifier   \n",
       "4                                aberystwyth start reading   \n",
       "...                                                    ...   \n",
       "2340388            peak tv series leland kill laura palmer   \n",
       "2340389                        transit mean fedex tracking   \n",
       "2340390       famous romanian drink alcoholic nonalcoholic   \n",
       "2340391  best worst thing public transit proddatur andh...   \n",
       "2340392      best medication equation erectile dysfunction   \n",
       "\n",
       "                        cleaned_lemmatized_question_2_test  \\\n",
       "0        microsoft choose core m3 core i3 home surface ...   \n",
       "1                        much cost hair transplant require   \n",
       "2                                         send money china   \n",
       "3                                               food fibre   \n",
       "4                                            start reading   \n",
       "...                                                    ...   \n",
       "2340388                              study scene twin peak   \n",
       "2340389                   question fedex package delivered   \n",
       "2340390               nonalcoholic restaurant huge success   \n",
       "2340391  best worst thing examination public transit vi...   \n",
       "2340392                       get rid erectile dysfunction   \n",
       "\n",
       "                                   cleaned_question_1_test  \\\n",
       "0                           surface pro 4 compare ipad pro   \n",
       "1                   hair transplant age 24 much would cost   \n",
       "2                             best way send money china us   \n",
       "3                                         food emulsifiers   \n",
       "4                                aberystwyth start reading   \n",
       "...                                                    ...   \n",
       "2340388           peaks tv series leland kill laura palmer   \n",
       "2340389                        transit mean fedex tracking   \n",
       "2340390      famous romanian drinks alcoholic nonalcoholic   \n",
       "2340391  best worst things public transit proddatur and...   \n",
       "2340392      best medication equation erectile dysfunction   \n",
       "\n",
       "                                   cleaned_question_2_test  \\\n",
       "0        microsoft choose core m3 core i3 home surface ...   \n",
       "1                        much cost hair transplant require   \n",
       "2                                         send money china   \n",
       "3                                              foods fibre   \n",
       "4                                            start reading   \n",
       "...                                                    ...   \n",
       "2340388                             study scene twin peaks   \n",
       "2340389                  question fedex packages delivered   \n",
       "2340390               nonalcoholic restaurant huge success   \n",
       "2340391  best worst things examination public transit v...   \n",
       "2340392                       get rid erectile dysfunction   \n",
       "\n",
       "                             combined_lemmatized_text_test  \n",
       "0        surface pro 4 compare ipad pro microsoft choos...  \n",
       "1        hair transplant age 24 much would cost much co...  \n",
       "2             best way send money china u send money china  \n",
       "3                               food emulsifier food fibre  \n",
       "4                  aberystwyth start reading start reading  \n",
       "...                                                    ...  \n",
       "2340388  peak tv series leland kill laura palmer study ...  \n",
       "2340389  transit mean fedex tracking question fedex pac...  \n",
       "2340390  famous romanian drink alcoholic nonalcoholic n...  \n",
       "2340391  best worst thing public transit proddatur andh...  \n",
       "2340392  best medication equation erectile dysfunction ...  \n",
       "\n",
       "[2340393 rows x 7 columns]"
      ]
     },
     "execution_count": 102,
     "metadata": {
      "tags": []
     },
     "output_type": "execute_result"
    }
   ],
   "source": [
    "# saving preprocessed test dataset to a csv file\n",
    "file_name = 'processed_datasets/qqp_test_data_preprocessed.csv'\n",
    "test_data.to_csv(file_name,\n",
    "                 encoding='utf-8',\n",
    "                 index=False)\n",
    "\n",
    "# loading dataset from the saved csv file to a pandas dataframe\n",
    "test_data = pd.read_csv(file_name)\n",
    "\n",
    "# printing the preprocessed loaded dataframe\n",
    "test_data"
   ]
  },
  {
   "cell_type": "code",
   "execution_count": 103,
   "metadata": {
    "colab": {
     "base_uri": "https://localhost:8080/"
    },
    "id": "xqQJkXBrb_7z",
    "outputId": "95b3131c-56a9-4be1-f1f2-ee4b34a0464c"
   },
   "outputs": [
    {
     "data": {
      "text/plain": [
       "(404287, 8)"
      ]
     },
     "execution_count": 103,
     "metadata": {
      "tags": []
     },
     "output_type": "execute_result"
    }
   ],
   "source": [
    "# displaying the dimensionality of the dataframe\n",
    "train_data.shape"
   ]
  },
  {
   "cell_type": "code",
   "execution_count": 104,
   "metadata": {
    "colab": {
     "base_uri": "https://localhost:8080/"
    },
    "id": "paX4_thxb_yb",
    "outputId": "fc2f93b4-161b-44f3-f82c-22756471e43a"
   },
   "outputs": [
    {
     "data": {
      "text/plain": [
       "(2340393, 7)"
      ]
     },
     "execution_count": 104,
     "metadata": {
      "tags": []
     },
     "output_type": "execute_result"
    }
   ],
   "source": [
    "# displaying the dimensionality of the dataframe\n",
    "test_data.shape"
   ]
  },
  {
   "cell_type": "code",
   "execution_count": 105,
   "metadata": {
    "colab": {
     "base_uri": "https://localhost:8080/"
    },
    "id": "fECuvrR4b_oi",
    "outputId": "8336e4fa-49e7-4a9c-9536-f41d62a9aa32"
   },
   "outputs": [
    {
     "name": "stdout",
     "output_type": "stream",
     "text": [
      "<class 'pandas.core.frame.DataFrame'>\n",
      "RangeIndex: 404287 entries, 0 to 404286\n",
      "Data columns (total 8 columns):\n",
      " #   Column                         Non-Null Count   Dtype \n",
      "---  ------                         --------------   ----- \n",
      " 0   question1                      404287 non-null  object\n",
      " 1   question2                      404287 non-null  object\n",
      " 2   is_duplicate                   404287 non-null  int64 \n",
      " 3   cleaned_lemmatized_question_1  404208 non-null  object\n",
      " 4   cleaned_lemmatized_question_2  404221 non-null  object\n",
      " 5   cleaned_question_1             404208 non-null  object\n",
      " 6   cleaned_question_2             404221 non-null  object\n",
      " 7   combined_lemmatized_text       404287 non-null  object\n",
      "dtypes: int64(1), object(7)\n",
      "memory usage: 24.7+ MB\n"
     ]
    }
   ],
   "source": [
    "# printing a concise summary of the dataframe\n",
    "# information such as index, data type, columns, non-null values,\n",
    "# and memory usage\n",
    "train_data.info()"
   ]
  },
  {
   "cell_type": "code",
   "execution_count": 106,
   "metadata": {
    "colab": {
     "base_uri": "https://localhost:8080/"
    },
    "id": "diSIosajcLZb",
    "outputId": "ec86639c-4ff0-4753-8bef-c6e3d7401d1f"
   },
   "outputs": [
    {
     "name": "stdout",
     "output_type": "stream",
     "text": [
      "<class 'pandas.core.frame.DataFrame'>\n",
      "RangeIndex: 2340393 entries, 0 to 2340392\n",
      "Data columns (total 7 columns):\n",
      " #   Column                              Dtype \n",
      "---  ------                              ----- \n",
      " 0   question1                           object\n",
      " 1   question2                           object\n",
      " 2   cleaned_lemmatized_question_1_test  object\n",
      " 3   cleaned_lemmatized_question_2_test  object\n",
      " 4   cleaned_question_1_test             object\n",
      " 5   cleaned_question_2_test             object\n",
      " 6   combined_lemmatized_text_test       object\n",
      "dtypes: object(7)\n",
      "memory usage: 125.0+ MB\n"
     ]
    }
   ],
   "source": [
    "# printing a concise summary of the dataframe\n",
    "# information such as index, data type, columns, non-null values,\n",
    "# and memory usage\n",
    "test_data.info()"
   ]
  },
  {
   "cell_type": "code",
   "execution_count": 107,
   "metadata": {
    "id": "B7p7KmosjIKj"
   },
   "outputs": [],
   "source": [
    "# importing train_test_split from scikit-learn library\n",
    "from sklearn.model_selection import train_test_split"
   ]
  },
  {
   "cell_type": "code",
   "execution_count": 108,
   "metadata": {
    "id": "n7MlrCiU3UMI"
   },
   "outputs": [],
   "source": [
    "# splitting data into random train and test subsets\n",
    "# train set - 80%, test set - 20%\n",
    "# when random_state set to an int, train_test_split will return same\n",
    "# results for each execution\n",
    "X_temp, X_test, y_temp, y_test = train_test_split(\n",
    "    train_data[['cleaned_lemmatized_question_1', 'cleaned_lemmatized_question_2']],\n",
    "    train_data['is_duplicate'],\n",
    "    test_size=0.2,\n",
    "    random_state=42)"
   ]
  },
  {
   "cell_type": "code",
   "execution_count": 109,
   "metadata": {
    "colab": {
     "base_uri": "https://localhost:8080/",
     "height": 424
    },
    "id": "WKtG4QFKuOQ0",
    "outputId": "c4324e49-965b-4677-87e5-f7150d9995d8"
   },
   "outputs": [
    {
     "data": {
      "text/html": [
       "<div>\n",
       "<style scoped>\n",
       "    .dataframe tbody tr th:only-of-type {\n",
       "        vertical-align: middle;\n",
       "    }\n",
       "\n",
       "    .dataframe tbody tr th {\n",
       "        vertical-align: top;\n",
       "    }\n",
       "\n",
       "    .dataframe thead th {\n",
       "        text-align: right;\n",
       "    }\n",
       "</style>\n",
       "<table border=\"1\" class=\"dataframe\">\n",
       "  <thead>\n",
       "    <tr style=\"text-align: right;\">\n",
       "      <th></th>\n",
       "      <th>cleaned_lemmatized_question_1</th>\n",
       "      <th>cleaned_lemmatized_question_2</th>\n",
       "    </tr>\n",
       "  </thead>\n",
       "  <tbody>\n",
       "    <tr>\n",
       "      <th>174949</th>\n",
       "      <td>india job option future option low cgpa gradua...</td>\n",
       "      <td>job career india currently third year engineer...</td>\n",
       "    </tr>\n",
       "    <tr>\n",
       "      <th>119442</th>\n",
       "      <td>world best romantic movie</td>\n",
       "      <td>best romantic movie time</td>\n",
       "    </tr>\n",
       "    <tr>\n",
       "      <th>252941</th>\n",
       "      <td>best place live hyderabad</td>\n",
       "      <td>best place live hyderabad mumbai</td>\n",
       "    </tr>\n",
       "    <tr>\n",
       "      <th>13551</th>\n",
       "      <td>athlete month</td>\n",
       "      <td>shop act licence</td>\n",
       "    </tr>\n",
       "    <tr>\n",
       "      <th>274896</th>\n",
       "      <td>learn code wordpress</td>\n",
       "      <td>much time learn code wordpress website</td>\n",
       "    </tr>\n",
       "    <tr>\n",
       "      <th>...</th>\n",
       "      <td>...</td>\n",
       "      <td>...</td>\n",
       "    </tr>\n",
       "    <tr>\n",
       "      <th>259178</th>\n",
       "      <td>power positive thinking</td>\n",
       "      <td>cultivate power positive thinking</td>\n",
       "    </tr>\n",
       "    <tr>\n",
       "      <th>365838</th>\n",
       "      <td>thing new employee know going first day tennant</td>\n",
       "      <td>thing new employee know going first day att</td>\n",
       "    </tr>\n",
       "    <tr>\n",
       "      <th>131932</th>\n",
       "      <td>currently winning presidential election</td>\n",
       "      <td>bias aside point time think win presidential e...</td>\n",
       "    </tr>\n",
       "    <tr>\n",
       "      <th>146867</th>\n",
       "      <td>telugutamilhindi movie leading actor becomes m...</td>\n",
       "      <td>fix internet connection available problem mobi...</td>\n",
       "    </tr>\n",
       "    <tr>\n",
       "      <th>121958</th>\n",
       "      <td>rank cut rohtak medical college state quota</td>\n",
       "      <td>register du state quota neet cutoff 2016</td>\n",
       "    </tr>\n",
       "  </tbody>\n",
       "</table>\n",
       "<p>323429 rows × 2 columns</p>\n",
       "</div>"
      ],
      "text/plain": [
       "                            cleaned_lemmatized_question_1  \\\n",
       "174949  india job option future option low cgpa gradua...   \n",
       "119442                          world best romantic movie   \n",
       "252941                          best place live hyderabad   \n",
       "13551                                       athlete month   \n",
       "274896                               learn code wordpress   \n",
       "...                                                   ...   \n",
       "259178                            power positive thinking   \n",
       "365838    thing new employee know going first day tennant   \n",
       "131932            currently winning presidential election   \n",
       "146867  telugutamilhindi movie leading actor becomes m...   \n",
       "121958        rank cut rohtak medical college state quota   \n",
       "\n",
       "                            cleaned_lemmatized_question_2  \n",
       "174949  job career india currently third year engineer...  \n",
       "119442                           best romantic movie time  \n",
       "252941                   best place live hyderabad mumbai  \n",
       "13551                                    shop act licence  \n",
       "274896             much time learn code wordpress website  \n",
       "...                                                   ...  \n",
       "259178                  cultivate power positive thinking  \n",
       "365838        thing new employee know going first day att  \n",
       "131932  bias aside point time think win presidential e...  \n",
       "146867  fix internet connection available problem mobi...  \n",
       "121958           register du state quota neet cutoff 2016  \n",
       "\n",
       "[323429 rows x 2 columns]"
      ]
     },
     "execution_count": 109,
     "metadata": {
      "tags": []
     },
     "output_type": "execute_result"
    }
   ],
   "source": [
    "X_temp"
   ]
  },
  {
   "cell_type": "code",
   "execution_count": 110,
   "metadata": {
    "colab": {
     "base_uri": "https://localhost:8080/",
     "height": 424
    },
    "id": "yi8H4UdyuOJ0",
    "outputId": "1fa0c4b6-191b-4499-fdc1-2a2e130da0ce"
   },
   "outputs": [
    {
     "data": {
      "text/html": [
       "<div>\n",
       "<style scoped>\n",
       "    .dataframe tbody tr th:only-of-type {\n",
       "        vertical-align: middle;\n",
       "    }\n",
       "\n",
       "    .dataframe tbody tr th {\n",
       "        vertical-align: top;\n",
       "    }\n",
       "\n",
       "    .dataframe thead th {\n",
       "        text-align: right;\n",
       "    }\n",
       "</style>\n",
       "<table border=\"1\" class=\"dataframe\">\n",
       "  <thead>\n",
       "    <tr style=\"text-align: right;\">\n",
       "      <th></th>\n",
       "      <th>cleaned_lemmatized_question_1</th>\n",
       "      <th>cleaned_lemmatized_question_2</th>\n",
       "    </tr>\n",
       "  </thead>\n",
       "  <tbody>\n",
       "    <tr>\n",
       "      <th>8067</th>\n",
       "      <td>play pokémon go korea</td>\n",
       "      <td>play pokémon go china</td>\n",
       "    </tr>\n",
       "    <tr>\n",
       "      <th>224277</th>\n",
       "      <td>breathing treatment help cough</td>\n",
       "      <td>help someone unconscious still breathing</td>\n",
       "    </tr>\n",
       "    <tr>\n",
       "      <th>252450</th>\n",
       "      <td>kellyanne conway annoying opinion</td>\n",
       "      <td>kellyanne conway really imply pay attention wo...</td>\n",
       "    </tr>\n",
       "    <tr>\n",
       "      <th>174038</th>\n",
       "      <td>rate 110 review maruti baleno</td>\n",
       "      <td>career option one completing bachelor degree d...</td>\n",
       "    </tr>\n",
       "    <tr>\n",
       "      <th>384860</th>\n",
       "      <td>good book marketing</td>\n",
       "      <td>best book ever written marketing</td>\n",
       "    </tr>\n",
       "    <tr>\n",
       "      <th>...</th>\n",
       "      <td>...</td>\n",
       "      <td>...</td>\n",
       "    </tr>\n",
       "    <tr>\n",
       "      <th>37520</th>\n",
       "      <td>reason behind sudden end white collar tv show</td>\n",
       "      <td>favorite tv show end</td>\n",
       "    </tr>\n",
       "    <tr>\n",
       "      <th>75814</th>\n",
       "      <td>ever sex car</td>\n",
       "      <td>toip professor artificial intelligence canadia...</td>\n",
       "    </tr>\n",
       "    <tr>\n",
       "      <th>79271</th>\n",
       "      <td>recent research idea convex hull problem</td>\n",
       "      <td>indian feel controversial answer written niris...</td>\n",
       "    </tr>\n",
       "    <tr>\n",
       "      <th>25953</th>\n",
       "      <td>choose reading either fiction nonfiction rest ...</td>\n",
       "      <td>choose one fiction one nonfiction book read re...</td>\n",
       "    </tr>\n",
       "    <tr>\n",
       "      <th>99888</th>\n",
       "      <td>iitpal app launched</td>\n",
       "      <td>prepare iitjee</td>\n",
       "    </tr>\n",
       "  </tbody>\n",
       "</table>\n",
       "<p>80858 rows × 2 columns</p>\n",
       "</div>"
      ],
      "text/plain": [
       "                            cleaned_lemmatized_question_1  \\\n",
       "8067                                play pokémon go korea   \n",
       "224277                     breathing treatment help cough   \n",
       "252450                  kellyanne conway annoying opinion   \n",
       "174038                      rate 110 review maruti baleno   \n",
       "384860                                good book marketing   \n",
       "...                                                   ...   \n",
       "37520       reason behind sudden end white collar tv show   \n",
       "75814                                        ever sex car   \n",
       "79271            recent research idea convex hull problem   \n",
       "25953   choose reading either fiction nonfiction rest ...   \n",
       "99888                                 iitpal app launched   \n",
       "\n",
       "                            cleaned_lemmatized_question_2  \n",
       "8067                                play pokémon go china  \n",
       "224277           help someone unconscious still breathing  \n",
       "252450  kellyanne conway really imply pay attention wo...  \n",
       "174038  career option one completing bachelor degree d...  \n",
       "384860                   best book ever written marketing  \n",
       "...                                                   ...  \n",
       "37520                                favorite tv show end  \n",
       "75814   toip professor artificial intelligence canadia...  \n",
       "79271   indian feel controversial answer written niris...  \n",
       "25953   choose one fiction one nonfiction book read re...  \n",
       "99888                                      prepare iitjee  \n",
       "\n",
       "[80858 rows x 2 columns]"
      ]
     },
     "execution_count": 110,
     "metadata": {
      "tags": []
     },
     "output_type": "execute_result"
    }
   ],
   "source": [
    "X_test"
   ]
  },
  {
   "cell_type": "code",
   "execution_count": 111,
   "metadata": {
    "colab": {
     "base_uri": "https://localhost:8080/"
    },
    "id": "wOyOEwCruOCd",
    "outputId": "51592914-96dc-400f-bf55-ae9c7df80b5f"
   },
   "outputs": [
    {
     "data": {
      "text/plain": [
       "174949    0\n",
       "119442    1\n",
       "252941    0\n",
       "13551     0\n",
       "274896    1\n",
       "         ..\n",
       "259178    0\n",
       "365838    0\n",
       "131932    1\n",
       "146867    0\n",
       "121958    0\n",
       "Name: is_duplicate, Length: 323429, dtype: int64"
      ]
     },
     "execution_count": 111,
     "metadata": {
      "tags": []
     },
     "output_type": "execute_result"
    }
   ],
   "source": [
    "y_temp"
   ]
  },
  {
   "cell_type": "code",
   "execution_count": 112,
   "metadata": {
    "colab": {
     "base_uri": "https://localhost:8080/"
    },
    "id": "SXGh50pduN59",
    "outputId": "f061dd09-e51a-41c2-e72b-d0d8eba494d4"
   },
   "outputs": [
    {
     "data": {
      "text/plain": [
       "8067      0\n",
       "224277    0\n",
       "252450    0\n",
       "174038    0\n",
       "384860    1\n",
       "         ..\n",
       "37520     0\n",
       "75814     0\n",
       "79271     0\n",
       "25953     0\n",
       "99888     0\n",
       "Name: is_duplicate, Length: 80858, dtype: int64"
      ]
     },
     "execution_count": 112,
     "metadata": {
      "tags": []
     },
     "output_type": "execute_result"
    }
   ],
   "source": [
    "y_test"
   ]
  },
  {
   "cell_type": "code",
   "execution_count": 113,
   "metadata": {
    "id": "VUgyw1lK3UMJ"
   },
   "outputs": [],
   "source": [
    "# splitting data into random train and test subsets\n",
    "# train set - 80%, test set - 20%\n",
    "# when random_state set to an int, train_test_split will return same\n",
    "# results for each execution\n",
    "X_train, X_val, y_train, y_val = train_test_split(X_temp,\n",
    "                                                  y_temp,\n",
    "                                                  test_size=0.2,\n",
    "                                                  random_state=42)"
   ]
  },
  {
   "cell_type": "code",
   "execution_count": 114,
   "metadata": {
    "colab": {
     "base_uri": "https://localhost:8080/",
     "height": 424
    },
    "id": "23bzDvRqwC9R",
    "outputId": "e2223c11-d0d2-445c-8c54-08797dd64099"
   },
   "outputs": [
    {
     "data": {
      "text/html": [
       "<div>\n",
       "<style scoped>\n",
       "    .dataframe tbody tr th:only-of-type {\n",
       "        vertical-align: middle;\n",
       "    }\n",
       "\n",
       "    .dataframe tbody tr th {\n",
       "        vertical-align: top;\n",
       "    }\n",
       "\n",
       "    .dataframe thead th {\n",
       "        text-align: right;\n",
       "    }\n",
       "</style>\n",
       "<table border=\"1\" class=\"dataframe\">\n",
       "  <thead>\n",
       "    <tr style=\"text-align: right;\">\n",
       "      <th></th>\n",
       "      <th>cleaned_lemmatized_question_1</th>\n",
       "      <th>cleaned_lemmatized_question_2</th>\n",
       "    </tr>\n",
       "  </thead>\n",
       "  <tbody>\n",
       "    <tr>\n",
       "      <th>217906</th>\n",
       "      <td>find uncut uncensored fifty shade grey movie o...</td>\n",
       "      <td>whats best way see fifty shade grey streaming</td>\n",
       "    </tr>\n",
       "    <tr>\n",
       "      <th>103880</th>\n",
       "      <td>quora iphone app way see list question youve a...</td>\n",
       "      <td>filter content see question asked quora app</td>\n",
       "    </tr>\n",
       "    <tr>\n",
       "      <th>252874</th>\n",
       "      <td>college application take get uc berkeley ucla ...</td>\n",
       "      <td>much score take sat sat 2 precise get scholars...</td>\n",
       "    </tr>\n",
       "    <tr>\n",
       "      <th>166261</th>\n",
       "      <td>iit best aeronautical engineering</td>\n",
       "      <td>progress civildroftman civilengineer</td>\n",
       "    </tr>\n",
       "    <tr>\n",
       "      <th>146339</th>\n",
       "      <td>legality behind copying pasting news story cnn...</td>\n",
       "      <td>legal copy news site</td>\n",
       "    </tr>\n",
       "    <tr>\n",
       "      <th>...</th>\n",
       "      <td>...</td>\n",
       "      <td>...</td>\n",
       "    </tr>\n",
       "    <tr>\n",
       "      <th>1743</th>\n",
       "      <td>neoliberal big corporation feel entitled free ...</td>\n",
       "      <td>hedge fund manager pay commission brokerage fi...</td>\n",
       "    </tr>\n",
       "    <tr>\n",
       "      <th>220095</th>\n",
       "      <td>forever 21 popular clothing brand america</td>\n",
       "      <td>well made clothes sold forever 21</td>\n",
       "    </tr>\n",
       "    <tr>\n",
       "      <th>219754</th>\n",
       "      <td>donald trump win presidency would</td>\n",
       "      <td>donald trump became president would</td>\n",
       "    </tr>\n",
       "    <tr>\n",
       "      <th>240865</th>\n",
       "      <td>australia fm deny legitimacy tribunal australi...</td>\n",
       "      <td>tribunal league legend inefficient</td>\n",
       "    </tr>\n",
       "    <tr>\n",
       "      <th>364361</th>\n",
       "      <td>difficult toefl average native speaker score w...</td>\n",
       "      <td>native english speaker get perfect score satre...</td>\n",
       "    </tr>\n",
       "  </tbody>\n",
       "</table>\n",
       "<p>258743 rows × 2 columns</p>\n",
       "</div>"
      ],
      "text/plain": [
       "                            cleaned_lemmatized_question_1  \\\n",
       "217906  find uncut uncensored fifty shade grey movie o...   \n",
       "103880  quora iphone app way see list question youve a...   \n",
       "252874  college application take get uc berkeley ucla ...   \n",
       "166261                  iit best aeronautical engineering   \n",
       "146339  legality behind copying pasting news story cnn...   \n",
       "...                                                   ...   \n",
       "1743    neoliberal big corporation feel entitled free ...   \n",
       "220095          forever 21 popular clothing brand america   \n",
       "219754                  donald trump win presidency would   \n",
       "240865  australia fm deny legitimacy tribunal australi...   \n",
       "364361  difficult toefl average native speaker score w...   \n",
       "\n",
       "                            cleaned_lemmatized_question_2  \n",
       "217906      whats best way see fifty shade grey streaming  \n",
       "103880        filter content see question asked quora app  \n",
       "252874  much score take sat sat 2 precise get scholars...  \n",
       "166261               progress civildroftman civilengineer  \n",
       "146339                               legal copy news site  \n",
       "...                                                   ...  \n",
       "1743    hedge fund manager pay commission brokerage fi...  \n",
       "220095                  well made clothes sold forever 21  \n",
       "219754                donald trump became president would  \n",
       "240865                 tribunal league legend inefficient  \n",
       "364361  native english speaker get perfect score satre...  \n",
       "\n",
       "[258743 rows x 2 columns]"
      ]
     },
     "execution_count": 114,
     "metadata": {
      "tags": []
     },
     "output_type": "execute_result"
    }
   ],
   "source": [
    "X_train"
   ]
  },
  {
   "cell_type": "code",
   "execution_count": 115,
   "metadata": {
    "colab": {
     "base_uri": "https://localhost:8080/",
     "height": 424
    },
    "id": "xNTDr0mbwCm0",
    "outputId": "e0325612-97f6-4488-e050-1fdf6cb4c903"
   },
   "outputs": [
    {
     "data": {
      "text/html": [
       "<div>\n",
       "<style scoped>\n",
       "    .dataframe tbody tr th:only-of-type {\n",
       "        vertical-align: middle;\n",
       "    }\n",
       "\n",
       "    .dataframe tbody tr th {\n",
       "        vertical-align: top;\n",
       "    }\n",
       "\n",
       "    .dataframe thead th {\n",
       "        text-align: right;\n",
       "    }\n",
       "</style>\n",
       "<table border=\"1\" class=\"dataframe\">\n",
       "  <thead>\n",
       "    <tr style=\"text-align: right;\">\n",
       "      <th></th>\n",
       "      <th>cleaned_lemmatized_question_1</th>\n",
       "      <th>cleaned_lemmatized_question_2</th>\n",
       "    </tr>\n",
       "  </thead>\n",
       "  <tbody>\n",
       "    <tr>\n",
       "      <th>238573</th>\n",
       "      <td>invention renaissance regarding science</td>\n",
       "      <td>invention renaissance regarding art</td>\n",
       "    </tr>\n",
       "    <tr>\n",
       "      <th>55283</th>\n",
       "      <td>instacart get yc two month program started app...</td>\n",
       "      <td>hurt wait submit yc app right deadline</td>\n",
       "    </tr>\n",
       "    <tr>\n",
       "      <th>168649</th>\n",
       "      <td>bipolar thing stay awake</td>\n",
       "      <td>bipolar thing stay night</td>\n",
       "    </tr>\n",
       "    <tr>\n",
       "      <th>375324</th>\n",
       "      <td>best splunk video tutorial</td>\n",
       "      <td>splunk successful</td>\n",
       "    </tr>\n",
       "    <tr>\n",
       "      <th>180641</th>\n",
       "      <td>make sequence diagram library management system</td>\n",
       "      <td>case diagram library management system used</td>\n",
       "    </tr>\n",
       "    <tr>\n",
       "      <th>...</th>\n",
       "      <td>...</td>\n",
       "      <td>...</td>\n",
       "    </tr>\n",
       "    <tr>\n",
       "      <th>364924</th>\n",
       "      <td>periyar ev ramasamy</td>\n",
       "      <td>historical achievement periyar ev ramasamy</td>\n",
       "    </tr>\n",
       "    <tr>\n",
       "      <th>183543</th>\n",
       "      <td>foreigner think narendra modi</td>\n",
       "      <td>nonindians think narendra modi</td>\n",
       "    </tr>\n",
       "    <tr>\n",
       "      <th>155427</th>\n",
       "      <td>start photography hobby buy beginner dslr peop...</td>\n",
       "      <td>beginner photography started dslr couple month...</td>\n",
       "    </tr>\n",
       "    <tr>\n",
       "      <th>76184</th>\n",
       "      <td>didnt evgeni plushenko win 2010 winter olympic...</td>\n",
       "      <td>anyone ever killed someone using olympic gold ...</td>\n",
       "    </tr>\n",
       "    <tr>\n",
       "      <th>355159</th>\n",
       "      <td>know love girl</td>\n",
       "      <td>know youre love</td>\n",
       "    </tr>\n",
       "  </tbody>\n",
       "</table>\n",
       "<p>64686 rows × 2 columns</p>\n",
       "</div>"
      ],
      "text/plain": [
       "                            cleaned_lemmatized_question_1  \\\n",
       "238573            invention renaissance regarding science   \n",
       "55283   instacart get yc two month program started app...   \n",
       "168649                           bipolar thing stay awake   \n",
       "375324                         best splunk video tutorial   \n",
       "180641    make sequence diagram library management system   \n",
       "...                                                   ...   \n",
       "364924                                periyar ev ramasamy   \n",
       "183543                      foreigner think narendra modi   \n",
       "155427  start photography hobby buy beginner dslr peop...   \n",
       "76184   didnt evgeni plushenko win 2010 winter olympic...   \n",
       "355159                                     know love girl   \n",
       "\n",
       "                            cleaned_lemmatized_question_2  \n",
       "238573                invention renaissance regarding art  \n",
       "55283              hurt wait submit yc app right deadline  \n",
       "168649                           bipolar thing stay night  \n",
       "375324                                  splunk successful  \n",
       "180641        case diagram library management system used  \n",
       "...                                                   ...  \n",
       "364924         historical achievement periyar ev ramasamy  \n",
       "183543                     nonindians think narendra modi  \n",
       "155427  beginner photography started dslr couple month...  \n",
       "76184   anyone ever killed someone using olympic gold ...  \n",
       "355159                                    know youre love  \n",
       "\n",
       "[64686 rows x 2 columns]"
      ]
     },
     "execution_count": 115,
     "metadata": {
      "tags": []
     },
     "output_type": "execute_result"
    }
   ],
   "source": [
    "X_val"
   ]
  },
  {
   "cell_type": "code",
   "execution_count": 116,
   "metadata": {
    "colab": {
     "base_uri": "https://localhost:8080/"
    },
    "id": "WwIMTbP0wCjU",
    "outputId": "cbbc3129-dfa6-4932-e22f-a7634d3e9652"
   },
   "outputs": [
    {
     "data": {
      "text/plain": [
       "217906    0\n",
       "103880    0\n",
       "252874    0\n",
       "166261    0\n",
       "146339    0\n",
       "         ..\n",
       "1743      0\n",
       "220095    0\n",
       "219754    1\n",
       "240865    0\n",
       "364361    0\n",
       "Name: is_duplicate, Length: 258743, dtype: int64"
      ]
     },
     "execution_count": 116,
     "metadata": {
      "tags": []
     },
     "output_type": "execute_result"
    }
   ],
   "source": [
    "y_train"
   ]
  },
  {
   "cell_type": "code",
   "execution_count": 117,
   "metadata": {
    "colab": {
     "base_uri": "https://localhost:8080/"
    },
    "id": "tjYELkblwCd7",
    "outputId": "e871a9cd-e0e1-4435-f51e-971586738662"
   },
   "outputs": [
    {
     "data": {
      "text/plain": [
       "238573    0\n",
       "55283     0\n",
       "168649    1\n",
       "375324    0\n",
       "180641    0\n",
       "         ..\n",
       "364924    0\n",
       "183543    1\n",
       "155427    0\n",
       "76184     0\n",
       "355159    1\n",
       "Name: is_duplicate, Length: 64686, dtype: int64"
      ]
     },
     "execution_count": 117,
     "metadata": {
      "tags": []
     },
     "output_type": "execute_result"
    }
   ],
   "source": [
    "y_val"
   ]
  },
  {
   "cell_type": "code",
   "execution_count": 118,
   "metadata": {
    "colab": {
     "base_uri": "https://localhost:8080/",
     "height": 424
    },
    "id": "DLrhuBEZ3UMK",
    "outputId": "9aa2d160-ac25-48ea-b010-65ba9d8f8081"
   },
   "outputs": [
    {
     "data": {
      "text/html": [
       "<div>\n",
       "<style scoped>\n",
       "    .dataframe tbody tr th:only-of-type {\n",
       "        vertical-align: middle;\n",
       "    }\n",
       "\n",
       "    .dataframe tbody tr th {\n",
       "        vertical-align: top;\n",
       "    }\n",
       "\n",
       "    .dataframe thead th {\n",
       "        text-align: right;\n",
       "    }\n",
       "</style>\n",
       "<table border=\"1\" class=\"dataframe\">\n",
       "  <thead>\n",
       "    <tr style=\"text-align: right;\">\n",
       "      <th></th>\n",
       "      <th>cleaned_lemmatized_question_1</th>\n",
       "      <th>cleaned_lemmatized_question_2</th>\n",
       "      <th>text</th>\n",
       "    </tr>\n",
       "  </thead>\n",
       "  <tbody>\n",
       "    <tr>\n",
       "      <th>217906</th>\n",
       "      <td>find uncut uncensored fifty shade grey movie o...</td>\n",
       "      <td>whats best way see fifty shade grey streaming</td>\n",
       "      <td>find uncut uncensored fifty shade grey movie o...</td>\n",
       "    </tr>\n",
       "    <tr>\n",
       "      <th>103880</th>\n",
       "      <td>quora iphone app way see list question youve a...</td>\n",
       "      <td>filter content see question asked quora app</td>\n",
       "      <td>quora iphone app way see list question youve a...</td>\n",
       "    </tr>\n",
       "    <tr>\n",
       "      <th>252874</th>\n",
       "      <td>college application take get uc berkeley ucla ...</td>\n",
       "      <td>much score take sat sat 2 precise get scholars...</td>\n",
       "      <td>college application take get uc berkeley ucla ...</td>\n",
       "    </tr>\n",
       "    <tr>\n",
       "      <th>166261</th>\n",
       "      <td>iit best aeronautical engineering</td>\n",
       "      <td>progress civildroftman civilengineer</td>\n",
       "      <td>iit best aeronautical engineering progress civ...</td>\n",
       "    </tr>\n",
       "    <tr>\n",
       "      <th>146339</th>\n",
       "      <td>legality behind copying pasting news story cnn...</td>\n",
       "      <td>legal copy news site</td>\n",
       "      <td>legality behind copying pasting news story cnn...</td>\n",
       "    </tr>\n",
       "    <tr>\n",
       "      <th>...</th>\n",
       "      <td>...</td>\n",
       "      <td>...</td>\n",
       "      <td>...</td>\n",
       "    </tr>\n",
       "    <tr>\n",
       "      <th>1743</th>\n",
       "      <td>neoliberal big corporation feel entitled free ...</td>\n",
       "      <td>hedge fund manager pay commission brokerage fi...</td>\n",
       "      <td>neoliberal big corporation feel entitled free ...</td>\n",
       "    </tr>\n",
       "    <tr>\n",
       "      <th>220095</th>\n",
       "      <td>forever 21 popular clothing brand america</td>\n",
       "      <td>well made clothes sold forever 21</td>\n",
       "      <td>forever 21 popular clothing brand america well...</td>\n",
       "    </tr>\n",
       "    <tr>\n",
       "      <th>219754</th>\n",
       "      <td>donald trump win presidency would</td>\n",
       "      <td>donald trump became president would</td>\n",
       "      <td>donald trump win presidency would donald trump...</td>\n",
       "    </tr>\n",
       "    <tr>\n",
       "      <th>240865</th>\n",
       "      <td>australia fm deny legitimacy tribunal australi...</td>\n",
       "      <td>tribunal league legend inefficient</td>\n",
       "      <td>australia fm deny legitimacy tribunal australi...</td>\n",
       "    </tr>\n",
       "    <tr>\n",
       "      <th>364361</th>\n",
       "      <td>difficult toefl average native speaker score w...</td>\n",
       "      <td>native english speaker get perfect score satre...</td>\n",
       "      <td>difficult toefl average native speaker score w...</td>\n",
       "    </tr>\n",
       "  </tbody>\n",
       "</table>\n",
       "<p>258743 rows × 3 columns</p>\n",
       "</div>"
      ],
      "text/plain": [
       "                            cleaned_lemmatized_question_1  \\\n",
       "217906  find uncut uncensored fifty shade grey movie o...   \n",
       "103880  quora iphone app way see list question youve a...   \n",
       "252874  college application take get uc berkeley ucla ...   \n",
       "166261                  iit best aeronautical engineering   \n",
       "146339  legality behind copying pasting news story cnn...   \n",
       "...                                                   ...   \n",
       "1743    neoliberal big corporation feel entitled free ...   \n",
       "220095          forever 21 popular clothing brand america   \n",
       "219754                  donald trump win presidency would   \n",
       "240865  australia fm deny legitimacy tribunal australi...   \n",
       "364361  difficult toefl average native speaker score w...   \n",
       "\n",
       "                            cleaned_lemmatized_question_2  \\\n",
       "217906      whats best way see fifty shade grey streaming   \n",
       "103880        filter content see question asked quora app   \n",
       "252874  much score take sat sat 2 precise get scholars...   \n",
       "166261               progress civildroftman civilengineer   \n",
       "146339                               legal copy news site   \n",
       "...                                                   ...   \n",
       "1743    hedge fund manager pay commission brokerage fi...   \n",
       "220095                  well made clothes sold forever 21   \n",
       "219754                donald trump became president would   \n",
       "240865                 tribunal league legend inefficient   \n",
       "364361  native english speaker get perfect score satre...   \n",
       "\n",
       "                                                     text  \n",
       "217906  find uncut uncensored fifty shade grey movie o...  \n",
       "103880  quora iphone app way see list question youve a...  \n",
       "252874  college application take get uc berkeley ucla ...  \n",
       "166261  iit best aeronautical engineering progress civ...  \n",
       "146339  legality behind copying pasting news story cnn...  \n",
       "...                                                   ...  \n",
       "1743    neoliberal big corporation feel entitled free ...  \n",
       "220095  forever 21 popular clothing brand america well...  \n",
       "219754  donald trump win presidency would donald trump...  \n",
       "240865  australia fm deny legitimacy tribunal australi...  \n",
       "364361  difficult toefl average native speaker score w...  \n",
       "\n",
       "[258743 rows x 3 columns]"
      ]
     },
     "execution_count": 118,
     "metadata": {
      "tags": []
     },
     "output_type": "execute_result"
    }
   ],
   "source": [
    "X_train['text'] = X_train[['cleaned_lemmatized_question_1', 'cleaned_lemmatized_question_2']].apply(\n",
    "    lambda x: str(x[0]) + ' ' + str(x[1]),\n",
    "    axis=1)\n",
    "X_train"
   ]
  },
  {
   "cell_type": "code",
   "execution_count": 119,
   "metadata": {
    "id": "B9B-vsyK8uvP"
   },
   "outputs": [],
   "source": [
    "# importing Tokenizer from keras library\n",
    "# keras is a high-level api of tensorflow\n",
    "# keras.preprocessing.text provides keras data preprocessing utils\n",
    "# to pre-process datasets with textual data before they are fed to the\n",
    "# machine learning model\n",
    "from keras.preprocessing.text import Tokenizer\n",
    "\n",
    "# Tokenizer allows to vectorize a text corpus, by turning each text into\n",
    "# either a sequence of integers (each integer being the index of a token\n",
    "# in a dictionary) or into a vector where the coefficient for each token\n",
    "# could be binary, based on word count, based on tf-idf\n",
    "tokenizer = Tokenizer()"
   ]
  },
  {
   "cell_type": "code",
   "execution_count": 120,
   "metadata": {
    "id": "-hK3x4aN8use"
   },
   "outputs": [],
   "source": [
    "# updates internal vocabulary based on a list of texts\n",
    "# required before using texts_to_sequences\n",
    "tokenizer.fit_on_texts(X_train['text'].values)"
   ]
  },
  {
   "cell_type": "code",
   "execution_count": 121,
   "metadata": {
    "colab": {
     "base_uri": "https://localhost:8080/",
     "height": 424
    },
    "id": "H0ttrhjN8upv",
    "outputId": "26d8796f-fd4c-465e-a0ea-e50037df7fe1"
   },
   "outputs": [
    {
     "data": {
      "text/html": [
       "<div>\n",
       "<style scoped>\n",
       "    .dataframe tbody tr th:only-of-type {\n",
       "        vertical-align: middle;\n",
       "    }\n",
       "\n",
       "    .dataframe tbody tr th {\n",
       "        vertical-align: top;\n",
       "    }\n",
       "\n",
       "    .dataframe thead th {\n",
       "        text-align: right;\n",
       "    }\n",
       "</style>\n",
       "<table border=\"1\" class=\"dataframe\">\n",
       "  <thead>\n",
       "    <tr style=\"text-align: right;\">\n",
       "      <th></th>\n",
       "      <th>cleaned_lemmatized_question_1</th>\n",
       "      <th>cleaned_lemmatized_question_2</th>\n",
       "      <th>text</th>\n",
       "    </tr>\n",
       "  </thead>\n",
       "  <tbody>\n",
       "    <tr>\n",
       "      <th>217906</th>\n",
       "      <td>find uncut uncensored fifty shade grey movie o...</td>\n",
       "      <td>whats best way see fifty shade grey streaming</td>\n",
       "      <td>find uncut uncensored fifty shade grey movie o...</td>\n",
       "    </tr>\n",
       "    <tr>\n",
       "      <th>103880</th>\n",
       "      <td>quora iphone app way see list question youve a...</td>\n",
       "      <td>filter content see question asked quora app</td>\n",
       "      <td>quora iphone app way see list question youve a...</td>\n",
       "    </tr>\n",
       "    <tr>\n",
       "      <th>252874</th>\n",
       "      <td>college application take get uc berkeley ucla ...</td>\n",
       "      <td>much score take sat sat 2 precise get scholars...</td>\n",
       "      <td>college application take get uc berkeley ucla ...</td>\n",
       "    </tr>\n",
       "    <tr>\n",
       "      <th>166261</th>\n",
       "      <td>iit best aeronautical engineering</td>\n",
       "      <td>progress civildroftman civilengineer</td>\n",
       "      <td>iit best aeronautical engineering progress civ...</td>\n",
       "    </tr>\n",
       "    <tr>\n",
       "      <th>146339</th>\n",
       "      <td>legality behind copying pasting news story cnn...</td>\n",
       "      <td>legal copy news site</td>\n",
       "      <td>legality behind copying pasting news story cnn...</td>\n",
       "    </tr>\n",
       "    <tr>\n",
       "      <th>...</th>\n",
       "      <td>...</td>\n",
       "      <td>...</td>\n",
       "      <td>...</td>\n",
       "    </tr>\n",
       "    <tr>\n",
       "      <th>1743</th>\n",
       "      <td>neoliberal big corporation feel entitled free ...</td>\n",
       "      <td>hedge fund manager pay commission brokerage fi...</td>\n",
       "      <td>neoliberal big corporation feel entitled free ...</td>\n",
       "    </tr>\n",
       "    <tr>\n",
       "      <th>220095</th>\n",
       "      <td>forever 21 popular clothing brand america</td>\n",
       "      <td>well made clothes sold forever 21</td>\n",
       "      <td>forever 21 popular clothing brand america well...</td>\n",
       "    </tr>\n",
       "    <tr>\n",
       "      <th>219754</th>\n",
       "      <td>donald trump win presidency would</td>\n",
       "      <td>donald trump became president would</td>\n",
       "      <td>donald trump win presidency would donald trump...</td>\n",
       "    </tr>\n",
       "    <tr>\n",
       "      <th>240865</th>\n",
       "      <td>australia fm deny legitimacy tribunal australi...</td>\n",
       "      <td>tribunal league legend inefficient</td>\n",
       "      <td>australia fm deny legitimacy tribunal australi...</td>\n",
       "    </tr>\n",
       "    <tr>\n",
       "      <th>364361</th>\n",
       "      <td>difficult toefl average native speaker score w...</td>\n",
       "      <td>native english speaker get perfect score satre...</td>\n",
       "      <td>difficult toefl average native speaker score w...</td>\n",
       "    </tr>\n",
       "  </tbody>\n",
       "</table>\n",
       "<p>258743 rows × 3 columns</p>\n",
       "</div>"
      ],
      "text/plain": [
       "                            cleaned_lemmatized_question_1  \\\n",
       "217906  find uncut uncensored fifty shade grey movie o...   \n",
       "103880  quora iphone app way see list question youve a...   \n",
       "252874  college application take get uc berkeley ucla ...   \n",
       "166261                  iit best aeronautical engineering   \n",
       "146339  legality behind copying pasting news story cnn...   \n",
       "...                                                   ...   \n",
       "1743    neoliberal big corporation feel entitled free ...   \n",
       "220095          forever 21 popular clothing brand america   \n",
       "219754                  donald trump win presidency would   \n",
       "240865  australia fm deny legitimacy tribunal australi...   \n",
       "364361  difficult toefl average native speaker score w...   \n",
       "\n",
       "                            cleaned_lemmatized_question_2  \\\n",
       "217906      whats best way see fifty shade grey streaming   \n",
       "103880        filter content see question asked quora app   \n",
       "252874  much score take sat sat 2 precise get scholars...   \n",
       "166261               progress civildroftman civilengineer   \n",
       "146339                               legal copy news site   \n",
       "...                                                   ...   \n",
       "1743    hedge fund manager pay commission brokerage fi...   \n",
       "220095                  well made clothes sold forever 21   \n",
       "219754                donald trump became president would   \n",
       "240865                 tribunal league legend inefficient   \n",
       "364361  native english speaker get perfect score satre...   \n",
       "\n",
       "                                                     text  \n",
       "217906  find uncut uncensored fifty shade grey movie o...  \n",
       "103880  quora iphone app way see list question youve a...  \n",
       "252874  college application take get uc berkeley ucla ...  \n",
       "166261  iit best aeronautical engineering progress civ...  \n",
       "146339  legality behind copying pasting news story cnn...  \n",
       "...                                                   ...  \n",
       "1743    neoliberal big corporation feel entitled free ...  \n",
       "220095  forever 21 popular clothing brand america well...  \n",
       "219754  donald trump win presidency would donald trump...  \n",
       "240865  australia fm deny legitimacy tribunal australi...  \n",
       "364361  difficult toefl average native speaker score w...  \n",
       "\n",
       "[258743 rows x 3 columns]"
      ]
     },
     "execution_count": 121,
     "metadata": {
      "tags": []
     },
     "output_type": "execute_result"
    }
   ],
   "source": [
    "# changing data type of a pandas series to string\n",
    "X_train['cleaned_lemmatized_question_1'] = X_train['cleaned_lemmatized_question_1'].astype(str)\n",
    "X_train['cleaned_lemmatized_question_2'] = X_train['cleaned_lemmatized_question_2'].astype(str)\n",
    "\n",
    "# displaying the dataframe\n",
    "X_train"
   ]
  },
  {
   "cell_type": "code",
   "execution_count": 122,
   "metadata": {
    "colab": {
     "base_uri": "https://localhost:8080/",
     "height": 424
    },
    "id": "zMttcxOj8um9",
    "outputId": "9b997a4b-6f9b-4304-d710-5758be201114"
   },
   "outputs": [
    {
     "data": {
      "text/html": [
       "<div>\n",
       "<style scoped>\n",
       "    .dataframe tbody tr th:only-of-type {\n",
       "        vertical-align: middle;\n",
       "    }\n",
       "\n",
       "    .dataframe tbody tr th {\n",
       "        vertical-align: top;\n",
       "    }\n",
       "\n",
       "    .dataframe thead th {\n",
       "        text-align: right;\n",
       "    }\n",
       "</style>\n",
       "<table border=\"1\" class=\"dataframe\">\n",
       "  <thead>\n",
       "    <tr style=\"text-align: right;\">\n",
       "      <th></th>\n",
       "      <th>cleaned_lemmatized_question_1</th>\n",
       "      <th>cleaned_lemmatized_question_2</th>\n",
       "    </tr>\n",
       "  </thead>\n",
       "  <tbody>\n",
       "    <tr>\n",
       "      <th>238573</th>\n",
       "      <td>invention renaissance regarding science</td>\n",
       "      <td>invention renaissance regarding art</td>\n",
       "    </tr>\n",
       "    <tr>\n",
       "      <th>55283</th>\n",
       "      <td>instacart get yc two month program started app...</td>\n",
       "      <td>hurt wait submit yc app right deadline</td>\n",
       "    </tr>\n",
       "    <tr>\n",
       "      <th>168649</th>\n",
       "      <td>bipolar thing stay awake</td>\n",
       "      <td>bipolar thing stay night</td>\n",
       "    </tr>\n",
       "    <tr>\n",
       "      <th>375324</th>\n",
       "      <td>best splunk video tutorial</td>\n",
       "      <td>splunk successful</td>\n",
       "    </tr>\n",
       "    <tr>\n",
       "      <th>180641</th>\n",
       "      <td>make sequence diagram library management system</td>\n",
       "      <td>case diagram library management system used</td>\n",
       "    </tr>\n",
       "    <tr>\n",
       "      <th>...</th>\n",
       "      <td>...</td>\n",
       "      <td>...</td>\n",
       "    </tr>\n",
       "    <tr>\n",
       "      <th>364924</th>\n",
       "      <td>periyar ev ramasamy</td>\n",
       "      <td>historical achievement periyar ev ramasamy</td>\n",
       "    </tr>\n",
       "    <tr>\n",
       "      <th>183543</th>\n",
       "      <td>foreigner think narendra modi</td>\n",
       "      <td>nonindians think narendra modi</td>\n",
       "    </tr>\n",
       "    <tr>\n",
       "      <th>155427</th>\n",
       "      <td>start photography hobby buy beginner dslr peop...</td>\n",
       "      <td>beginner photography started dslr couple month...</td>\n",
       "    </tr>\n",
       "    <tr>\n",
       "      <th>76184</th>\n",
       "      <td>didnt evgeni plushenko win 2010 winter olympic...</td>\n",
       "      <td>anyone ever killed someone using olympic gold ...</td>\n",
       "    </tr>\n",
       "    <tr>\n",
       "      <th>355159</th>\n",
       "      <td>know love girl</td>\n",
       "      <td>know youre love</td>\n",
       "    </tr>\n",
       "  </tbody>\n",
       "</table>\n",
       "<p>64686 rows × 2 columns</p>\n",
       "</div>"
      ],
      "text/plain": [
       "                            cleaned_lemmatized_question_1  \\\n",
       "238573            invention renaissance regarding science   \n",
       "55283   instacart get yc two month program started app...   \n",
       "168649                           bipolar thing stay awake   \n",
       "375324                         best splunk video tutorial   \n",
       "180641    make sequence diagram library management system   \n",
       "...                                                   ...   \n",
       "364924                                periyar ev ramasamy   \n",
       "183543                      foreigner think narendra modi   \n",
       "155427  start photography hobby buy beginner dslr peop...   \n",
       "76184   didnt evgeni plushenko win 2010 winter olympic...   \n",
       "355159                                     know love girl   \n",
       "\n",
       "                            cleaned_lemmatized_question_2  \n",
       "238573                invention renaissance regarding art  \n",
       "55283              hurt wait submit yc app right deadline  \n",
       "168649                           bipolar thing stay night  \n",
       "375324                                  splunk successful  \n",
       "180641        case diagram library management system used  \n",
       "...                                                   ...  \n",
       "364924         historical achievement periyar ev ramasamy  \n",
       "183543                     nonindians think narendra modi  \n",
       "155427  beginner photography started dslr couple month...  \n",
       "76184   anyone ever killed someone using olympic gold ...  \n",
       "355159                                    know youre love  \n",
       "\n",
       "[64686 rows x 2 columns]"
      ]
     },
     "execution_count": 122,
     "metadata": {
      "tags": []
     },
     "output_type": "execute_result"
    }
   ],
   "source": [
    "# changing data type of a pandas series to string\n",
    "X_val['cleaned_lemmatized_question_1'] = X_val['cleaned_lemmatized_question_1'].astype(str)\n",
    "X_val['cleaned_lemmatized_question_2'] = X_val['cleaned_lemmatized_question_2'].astype(str)\n",
    "\n",
    "# displaying the dataframe\n",
    "X_val"
   ]
  },
  {
   "cell_type": "code",
   "execution_count": 123,
   "metadata": {
    "colab": {
     "base_uri": "https://localhost:8080/",
     "height": 424
    },
    "id": "q35repz68ukO",
    "outputId": "7f863b53-997b-4c08-cdaf-8be1397f4589"
   },
   "outputs": [
    {
     "data": {
      "text/html": [
       "<div>\n",
       "<style scoped>\n",
       "    .dataframe tbody tr th:only-of-type {\n",
       "        vertical-align: middle;\n",
       "    }\n",
       "\n",
       "    .dataframe tbody tr th {\n",
       "        vertical-align: top;\n",
       "    }\n",
       "\n",
       "    .dataframe thead th {\n",
       "        text-align: right;\n",
       "    }\n",
       "</style>\n",
       "<table border=\"1\" class=\"dataframe\">\n",
       "  <thead>\n",
       "    <tr style=\"text-align: right;\">\n",
       "      <th></th>\n",
       "      <th>cleaned_lemmatized_question_1</th>\n",
       "      <th>cleaned_lemmatized_question_2</th>\n",
       "    </tr>\n",
       "  </thead>\n",
       "  <tbody>\n",
       "    <tr>\n",
       "      <th>8067</th>\n",
       "      <td>play pokémon go korea</td>\n",
       "      <td>play pokémon go china</td>\n",
       "    </tr>\n",
       "    <tr>\n",
       "      <th>224277</th>\n",
       "      <td>breathing treatment help cough</td>\n",
       "      <td>help someone unconscious still breathing</td>\n",
       "    </tr>\n",
       "    <tr>\n",
       "      <th>252450</th>\n",
       "      <td>kellyanne conway annoying opinion</td>\n",
       "      <td>kellyanne conway really imply pay attention wo...</td>\n",
       "    </tr>\n",
       "    <tr>\n",
       "      <th>174038</th>\n",
       "      <td>rate 110 review maruti baleno</td>\n",
       "      <td>career option one completing bachelor degree d...</td>\n",
       "    </tr>\n",
       "    <tr>\n",
       "      <th>384860</th>\n",
       "      <td>good book marketing</td>\n",
       "      <td>best book ever written marketing</td>\n",
       "    </tr>\n",
       "    <tr>\n",
       "      <th>...</th>\n",
       "      <td>...</td>\n",
       "      <td>...</td>\n",
       "    </tr>\n",
       "    <tr>\n",
       "      <th>37520</th>\n",
       "      <td>reason behind sudden end white collar tv show</td>\n",
       "      <td>favorite tv show end</td>\n",
       "    </tr>\n",
       "    <tr>\n",
       "      <th>75814</th>\n",
       "      <td>ever sex car</td>\n",
       "      <td>toip professor artificial intelligence canadia...</td>\n",
       "    </tr>\n",
       "    <tr>\n",
       "      <th>79271</th>\n",
       "      <td>recent research idea convex hull problem</td>\n",
       "      <td>indian feel controversial answer written niris...</td>\n",
       "    </tr>\n",
       "    <tr>\n",
       "      <th>25953</th>\n",
       "      <td>choose reading either fiction nonfiction rest ...</td>\n",
       "      <td>choose one fiction one nonfiction book read re...</td>\n",
       "    </tr>\n",
       "    <tr>\n",
       "      <th>99888</th>\n",
       "      <td>iitpal app launched</td>\n",
       "      <td>prepare iitjee</td>\n",
       "    </tr>\n",
       "  </tbody>\n",
       "</table>\n",
       "<p>80858 rows × 2 columns</p>\n",
       "</div>"
      ],
      "text/plain": [
       "                            cleaned_lemmatized_question_1  \\\n",
       "8067                                play pokémon go korea   \n",
       "224277                     breathing treatment help cough   \n",
       "252450                  kellyanne conway annoying opinion   \n",
       "174038                      rate 110 review maruti baleno   \n",
       "384860                                good book marketing   \n",
       "...                                                   ...   \n",
       "37520       reason behind sudden end white collar tv show   \n",
       "75814                                        ever sex car   \n",
       "79271            recent research idea convex hull problem   \n",
       "25953   choose reading either fiction nonfiction rest ...   \n",
       "99888                                 iitpal app launched   \n",
       "\n",
       "                            cleaned_lemmatized_question_2  \n",
       "8067                                play pokémon go china  \n",
       "224277           help someone unconscious still breathing  \n",
       "252450  kellyanne conway really imply pay attention wo...  \n",
       "174038  career option one completing bachelor degree d...  \n",
       "384860                   best book ever written marketing  \n",
       "...                                                   ...  \n",
       "37520                                favorite tv show end  \n",
       "75814   toip professor artificial intelligence canadia...  \n",
       "79271   indian feel controversial answer written niris...  \n",
       "25953   choose one fiction one nonfiction book read re...  \n",
       "99888                                      prepare iitjee  \n",
       "\n",
       "[80858 rows x 2 columns]"
      ]
     },
     "execution_count": 123,
     "metadata": {
      "tags": []
     },
     "output_type": "execute_result"
    }
   ],
   "source": [
    "# changing data type of a pandas series to string\n",
    "X_test['cleaned_lemmatized_question_1'] = X_test['cleaned_lemmatized_question_1'].astype(str)\n",
    "X_test['cleaned_lemmatized_question_2'] = X_test['cleaned_lemmatized_question_2'].astype(str)\n",
    "\n",
    "# displaying the dataframe\n",
    "X_test"
   ]
  },
  {
   "cell_type": "code",
   "execution_count": 124,
   "metadata": {
    "id": "0DedRKBN3UMM"
   },
   "outputs": [],
   "source": [
    "# transforms each text to a sequence of integers\n",
    "\n",
    "x_train_question_1_sequence = tokenizer.texts_to_sequences(X_train['cleaned_lemmatized_question_1'].values)\n",
    "x_train_question_2_sequence = tokenizer.texts_to_sequences(X_train['cleaned_lemmatized_question_2'].values)\n",
    "\n",
    "x_val_question_1_sequence = tokenizer.texts_to_sequences(X_val['cleaned_lemmatized_question_1'].values)\n",
    "x_val_question_2_sequence = tokenizer.texts_to_sequences(X_val['cleaned_lemmatized_question_2'].values)\n",
    "\n",
    "x_test_question_1_sequence = tokenizer.texts_to_sequences(X_test['cleaned_lemmatized_question_1'].values)\n",
    "x_test_question_2_sequence = tokenizer.texts_to_sequences(X_test['cleaned_lemmatized_question_2'].values)"
   ]
  },
  {
   "cell_type": "code",
   "execution_count": 125,
   "metadata": {
    "colab": {
     "base_uri": "https://localhost:8080/"
    },
    "id": "B4tHYOnc--69",
    "outputId": "f85f79c2-3944-41f9-ced7-df087a501caf"
   },
   "outputs": [
    {
     "name": "stdout",
     "output_type": "stream",
     "text": [
      "find uncut uncensored fifty shade grey movie online\n",
      "[38, 11049, 14945, 6958, 4698, 2449, 32, 43]\n"
     ]
    }
   ],
   "source": [
    "# printing train features dataframe first row question 1 column for\n",
    "# visualization purposes\n",
    "print(X_train['cleaned_lemmatized_question_1'].values[0])\n",
    "print(x_train_question_1_sequence[0])"
   ]
  },
  {
   "cell_type": "code",
   "execution_count": 126,
   "metadata": {
    "colab": {
     "base_uri": "https://localhost:8080/"
    },
    "id": "x_4rFtq2A3tL",
    "outputId": "a379524d-8579-4f30-8225-929555935bd3"
   },
   "outputs": [
    {
     "data": {
      "text/plain": [
       "8"
      ]
     },
     "execution_count": 126,
     "metadata": {
      "tags": []
     },
     "output_type": "execute_result"
    }
   ],
   "source": [
    "# lengths of each generated sequences of integers in train features\n",
    "# dataframe question 1 column\n",
    "length_of_sequence = [len(sequence) for sequence in x_train_question_1_sequence]\n",
    "\n",
    "# printing the train features dataframe first row question 1 column length\n",
    "length_of_sequence[0]"
   ]
  },
  {
   "cell_type": "code",
   "execution_count": 127,
   "metadata": {
    "colab": {
     "base_uri": "https://localhost:8080/"
    },
    "id": "AYRrAl3GDCa1",
    "outputId": "553a631a-0437-4271-d6c1-dae307c01d9f"
   },
   "outputs": [
    {
     "data": {
      "text/plain": [
       "54"
      ]
     },
     "execution_count": 127,
     "metadata": {
      "tags": []
     },
     "output_type": "execute_result"
    }
   ],
   "source": [
    "# importing numpy library\n",
    "# used to perform fast mathematical operations over python arrays\n",
    "# and lists\n",
    "import numpy as np\n",
    "\n",
    "# maximum length of a sequence in the train features dataframe\n",
    "# question 1 column\n",
    "np.max(length_of_sequence)"
   ]
  },
  {
   "cell_type": "code",
   "execution_count": 128,
   "metadata": {
    "colab": {
     "base_uri": "https://localhost:8080/",
     "height": 281
    },
    "id": "HJXgg410DCYS",
    "outputId": "9bd30181-9f13-439c-f498-e40a37201829"
   },
   "outputs": [
    {
     "data": {
      "image/png": "[encoded data removed]",
      "text/plain": [
       "<Figure size 432x288 with 1 Axes>"
      ]
     },
     "metadata": {
      "needs_background": "light",
      "tags": []
     },
     "output_type": "display_data"
    }
   ],
   "source": [
    "# plot a univariate distribution of observations for sequence lengths\n",
    "sns.distplot(length_of_sequence)\n",
    "plt.title('Sequence lengths distribution')\n",
    "plt.savefig('plots/length_of_sequence_in_lemmatized.png',\n",
    "            facecolor='white')\n",
    "plt.show()"
   ]
  },
  {
   "cell_type": "code",
   "execution_count": 129,
   "metadata": {
    "id": "w-7CeTLMDCVg"
   },
   "outputs": [],
   "source": [
    "# importing utilities for preprocessing sequence data from\n",
    "# keras library\n",
    "from keras.preprocessing.sequence import pad_sequences\n",
    "\n",
    "# defining a maximum sequence length based on the distribution\n",
    "# plot observations\n",
    "maximum_sequence_length = 30"
   ]
  },
  {
   "cell_type": "code",
   "execution_count": 130,
   "metadata": {
    "id": "spgSlyfeDCON"
   },
   "outputs": [],
   "source": [
    "# pad_sequences pads sequences to the same length\n",
    "# padding='post' to pad after each sequence\n",
    "\n",
    "x_train_question_1_sequence = pad_sequences(x_train_question_1_sequence,\n",
    "                                            maxlen=maximum_sequence_length,\n",
    "                                            padding='post')\n",
    "\n",
    "x_train_question_2_sequence = pad_sequences(x_train_question_2_sequence,\n",
    "                                            maxlen=maximum_sequence_length,\n",
    "                                            padding='post')\n",
    "\n",
    "x_test_question_1_sequence = pad_sequences(x_test_question_1_sequence,\n",
    "                                           maxlen=maximum_sequence_length,\n",
    "                                           padding='post')\n",
    "\n",
    "x_test_question_2_sequence = pad_sequences(x_test_question_2_sequence,\n",
    "                                           maxlen=maximum_sequence_length,\n",
    "                                           padding='post')"
   ]
  },
  {
   "cell_type": "code",
   "execution_count": 131,
   "metadata": {
    "colab": {
     "base_uri": "https://localhost:8080/"
    },
    "id": "wEv3dM4nEuGZ",
    "outputId": "87011e47-69b2-4499-c0d3-ecd1739c5c1b"
   },
   "outputs": [
    {
     "data": {
      "text/plain": [
       "array([   38, 11049, 14945,  6958,  4698,  2449,    32,    43,     0,\n",
       "           0,     0,     0,     0,     0,     0,     0,     0,     0,\n",
       "           0,     0,     0,     0,     0,     0,     0,     0,     0,\n",
       "           0,     0,     0], dtype=int32)"
      ]
     },
     "execution_count": 131,
     "metadata": {
      "tags": []
     },
     "output_type": "execute_result"
    }
   ],
   "source": [
    "# printing train features dataframe first row question 1 column for\n",
    "# visualization purposes\n",
    "x_train_question_1_sequence[0]"
   ]
  },
  {
   "cell_type": "code",
   "execution_count": 132,
   "metadata": {
    "colab": {
     "base_uri": "https://localhost:8080/"
    },
    "id": "M6HGyQg5DB4Y",
    "outputId": "9b8b5e39-7018-424e-f068-0ab555f3ddca"
   },
   "outputs": [
    {
     "data": {
      "text/plain": [
       "30"
      ]
     },
     "execution_count": 132,
     "metadata": {
      "tags": []
     },
     "output_type": "execute_result"
    }
   ],
   "source": [
    "# lengths of each generated sequences of integers in train features\n",
    "# dataframe question 2 column\n",
    "length_of_sequence = [len(sequence) for sequence in x_train_question_2_sequence]\n",
    "\n",
    "# printing the train features dataframe first row question 2 column length\n",
    "length_of_sequence[0]"
   ]
  },
  {
   "cell_type": "code",
   "execution_count": 133,
   "metadata": {
    "colab": {
     "base_uri": "https://localhost:8080/"
    },
    "id": "su5rcsnFF5dt",
    "outputId": "bc7b8078-99a6-4c3b-ea9c-372ded65b20a"
   },
   "outputs": [
    {
     "name": "stdout",
     "output_type": "stream",
     "text": [
      "30\n",
      "30\n"
     ]
    }
   ],
   "source": [
    "# maximum and minimum length of a sequence in the train features dataframe\n",
    "# question 2 column\n",
    "print(np.max(length_of_sequence))\n",
    "print(np.min(length_of_sequence))"
   ]
  },
  {
   "cell_type": "code",
   "execution_count": 134,
   "metadata": {
    "colab": {
     "base_uri": "https://localhost:8080/",
     "height": 281
    },
    "id": "wpWCp-3UGGal",
    "outputId": "586c69de-cc0d-4653-b2f6-aad3f513765c"
   },
   "outputs": [
    {
     "data": {
      "image/png": "[encoded data removed]",
      "text/plain": [
       "<Figure size 432x288 with 1 Axes>"
      ]
     },
     "metadata": {
      "needs_background": "light",
      "tags": []
     },
     "output_type": "display_data"
    }
   ],
   "source": [
    "# plot a univariate distribution of observations for sequence lengths\n",
    "sns.distplot(length_of_sequence)\n",
    "plt.title('Sequence lengths distribution')\n",
    "plt.savefig('plots/length_of_sequence_after_in_lemmatized.png',\n",
    "            facecolor='white')\n",
    "plt.show()"
   ]
  },
  {
   "cell_type": "code",
   "execution_count": 135,
   "metadata": {
    "colab": {
     "base_uri": "https://localhost:8080/"
    },
    "id": "Rt9NhHZW3UMO",
    "outputId": "3bdebe95-848c-4ced-c032-140e8951872e"
   },
   "outputs": [
    {
     "name": "stdout",
     "output_type": "stream",
     "text": [
      "30\n",
      "30\n",
      "4\n",
      "4\n",
      "30\n",
      "30\n"
     ]
    }
   ],
   "source": [
    "# printing the train features dataframe first row question 1 column length\n",
    "\n",
    "print(len(x_train_question_1_sequence[0]))\n",
    "print(len(x_train_question_2_sequence[0]))\n",
    "\n",
    "print(len(x_val_question_1_sequence[0]))\n",
    "print(len(x_val_question_2_sequence[0]))\n",
    "\n",
    "print(len(x_test_question_1_sequence[0]))\n",
    "print(len(x_test_question_2_sequence[0]))"
   ]
  },
  {
   "cell_type": "code",
   "execution_count": 136,
   "metadata": {
    "colab": {
     "base_uri": "https://localhost:8080/"
    },
    "id": "0WfYxErjH94v",
    "outputId": "dd53d0d4-d497-4b88-8673-15a25d274dae"
   },
   "outputs": [
    {
     "name": "stdout",
     "output_type": "stream",
     "text": [
      "cleaned_lemmatized_question_1                    iit best aeronautical engineering\n",
      "cleaned_lemmatized_question_2                 progress civildroftman civilengineer\n",
      "text                             iit best aeronautical engineering progress civ...\n",
      "Name: 166261, dtype: object\n",
      "\n",
      "iit best aeronautical engineering\n",
      "progress civildroftman civilengineer\n"
     ]
    }
   ],
   "source": [
    "# fourth row of train features dataframe\n",
    "print(X_train.iloc[3,], end='\\n\\n')\n",
    "print(X_train.iloc[3,]['cleaned_lemmatized_question_1'])\n",
    "print(X_train.iloc[3,]['cleaned_lemmatized_question_2'])"
   ]
  },
  {
   "cell_type": "code",
   "execution_count": 137,
   "metadata": {
    "colab": {
     "base_uri": "https://localhost:8080/"
    },
    "id": "A0K8-3RJJGVa",
    "outputId": "6519ac15-1bdb-4360-8a2d-37e527df5b73"
   },
   "outputs": [
    {
     "data": {
      "text/plain": [
       "0"
      ]
     },
     "execution_count": 137,
     "metadata": {
      "tags": []
     },
     "output_type": "execute_result"
    }
   ],
   "source": [
    "# fourth row of train target dataframe\n",
    "# 0 - not duplicate\n",
    "# 1 - duplicate\n",
    "y_train.iloc[3,]"
   ]
  },
  {
   "cell_type": "code",
   "execution_count": 138,
   "metadata": {
    "colab": {
     "base_uri": "https://localhost:8080/"
    },
    "id": "S1ih5AbJJGRv",
    "outputId": "d9c9cccc-5c82-4de5-d90d-1d23e1745399"
   },
   "outputs": [
    {
     "data": {
      "text/plain": [
       "array([ 500,    1, 6641,   70,    0,    0,    0,    0,    0,    0,    0,\n",
       "          0,    0,    0,    0,    0,    0,    0,    0,    0,    0,    0,\n",
       "          0,    0,    0,    0,    0,    0,    0,    0], dtype=int32)"
      ]
     },
     "execution_count": 138,
     "metadata": {
      "tags": []
     },
     "output_type": "execute_result"
    }
   ],
   "source": [
    "# sequence for fourth row of train features dataframe question 1 column\n",
    "x_train_question_1_sequence[3]"
   ]
  },
  {
   "cell_type": "code",
   "execution_count": 139,
   "metadata": {
    "colab": {
     "base_uri": "https://localhost:8080/"
    },
    "id": "YkehDDESJGH2",
    "outputId": "931abec1-4013-4ee9-eb02-d3da11147ef4"
   },
   "outputs": [
    {
     "data": {
      "text/plain": [
       "array([ 3425, 42058, 42059,     0,     0,     0,     0,     0,     0,\n",
       "           0,     0,     0,     0,     0,     0,     0,     0,     0,\n",
       "           0,     0,     0,     0,     0,     0,     0,     0,     0,\n",
       "           0,     0,     0], dtype=int32)"
      ]
     },
     "execution_count": 139,
     "metadata": {
      "tags": []
     },
     "output_type": "execute_result"
    }
   ],
   "source": [
    "# sequence for fourth row of train features dataframe question 2 column\n",
    "x_train_question_2_sequence[3]"
   ]
  },
  {
   "cell_type": "code",
   "execution_count": 140,
   "metadata": {
    "colab": {
     "base_uri": "https://localhost:8080/"
    },
    "id": "jEjvAmM7LQV9",
    "outputId": "a933de38-598e-40a0-a868-dad87f2081a3"
   },
   "outputs": [
    {
     "name": "stdout",
     "output_type": "stream",
     "text": [
      "cleaned_lemmatized_question_1                   people keep black money swiss bank\n",
      "cleaned_lemmatized_question_2                  black money kept swiss bank account\n",
      "text                             people keep black money swiss bank black money...\n",
      "Name: 185877, dtype: object\n",
      "\n",
      "people keep black money swiss bank\n",
      "black money kept swiss bank account\n"
     ]
    }
   ],
   "source": [
    "# ninth row of train features dataframe\n",
    "print(X_train.iloc[8,], end='\\n\\n')\n",
    "print(X_train.iloc[8,]['cleaned_lemmatized_question_1'])\n",
    "print(X_train.iloc[8,]['cleaned_lemmatized_question_2'])"
   ]
  },
  {
   "cell_type": "code",
   "execution_count": 141,
   "metadata": {
    "colab": {
     "base_uri": "https://localhost:8080/"
    },
    "id": "8YxAfcXTLQTD",
    "outputId": "d0f3f749-98fc-48c3-fe23-667e6a1df96a"
   },
   "outputs": [
    {
     "data": {
      "text/plain": [
       "1"
      ]
     },
     "execution_count": 141,
     "metadata": {
      "tags": []
     },
     "output_type": "execute_result"
    }
   ],
   "source": [
    "# ninth row of train target dataframe\n",
    "# 0 - not duplicate\n",
    "# 1 - duplicate\n",
    "y_train.iloc[8,]"
   ]
  },
  {
   "cell_type": "code",
   "execution_count": 142,
   "metadata": {
    "colab": {
     "base_uri": "https://localhost:8080/"
    },
    "id": "_I8C5kDaLQRT",
    "outputId": "0e8b2929-5a13-4593-fbb4-e836df27ca7d"
   },
   "outputs": [
    {
     "data": {
      "text/plain": [
       "array([   5,  244,   94,   15, 3201,  165,    0,    0,    0,    0,    0,\n",
       "          0,    0,    0,    0,    0,    0,    0,    0,    0,    0,    0,\n",
       "          0,    0,    0,    0,    0,    0,    0,    0], dtype=int32)"
      ]
     },
     "execution_count": 142,
     "metadata": {
      "tags": []
     },
     "output_type": "execute_result"
    }
   ],
   "source": [
    "# sequence for ninth row of train features dataframe question 1 column\n",
    "x_train_question_1_sequence[8]"
   ]
  },
  {
   "cell_type": "code",
   "execution_count": 143,
   "metadata": {
    "colab": {
     "base_uri": "https://localhost:8080/"
    },
    "id": "DZ60Qn3hLQOF",
    "outputId": "b7989faa-5c08-4332-e926-e9b1e1d0d1b1"
   },
   "outputs": [
    {
     "data": {
      "text/plain": [
       "array([  94,   15, 2395, 3201,  165,   60,    0,    0,    0,    0,    0,\n",
       "          0,    0,    0,    0,    0,    0,    0,    0,    0,    0,    0,\n",
       "          0,    0,    0,    0,    0,    0,    0,    0], dtype=int32)"
      ]
     },
     "execution_count": 143,
     "metadata": {
      "tags": []
     },
     "output_type": "execute_result"
    }
   ],
   "source": [
    "# sequence for ninth row of train features dataframe question 2 column\n",
    "x_train_question_2_sequence[8]"
   ]
  },
  {
   "cell_type": "code",
   "execution_count": 144,
   "metadata": {
    "id": "-B9cr9jHMVC3"
   },
   "outputs": [],
   "source": [
    "# declaring word_vectors dictionary\n",
    "word_vectors = dict()\n",
    "\n",
    "# GloVe is an unsupervised learning algorithm for obtaining vector\n",
    "# representations for words\n",
    "# Training is performed on aggregated global word-word co-occurrence\n",
    "# statistics from a corpus\n",
    "# Resulting representations show interesting linear substructures of\n",
    "# the word vector space\n",
    "# This dataset contains English word vectors pre-trained on the\n",
    "# combined Wikipedia corpora\n",
    "# GloVe embeddings use these pre-trained embeddings to quantify\n",
    "# word co-occurrence\n",
    "# GloVe embeddings capture some aspects of word meaning\n",
    "filename = 'glove.6B.300d.txt'\n",
    "\n",
    "# opening text file with glove embeddings\n",
    "file = open(filename,\n",
    "            encoding='utf8')\n",
    "\n",
    "# reading the file line by line\n",
    "# tokenizing each line into tokens\n",
    "# adding data to word_vectors dictionary\n",
    "for line in file:\n",
    "    tokens = line.split()\n",
    "    word_vectors[tokens[0]] = np.asarray(tokens[1:],\n",
    "                                         dtype='float32')\n",
    "\n",
    "# closing the file\n",
    "file.close()"
   ]
  },
  {
   "cell_type": "code",
   "execution_count": 145,
   "metadata": {
    "colab": {
     "base_uri": "https://localhost:8080/"
    },
    "id": "MVTpyZKdNTfe",
    "outputId": "05880324-fc34-4ab7-cca7-2442d7ae674b"
   },
   "outputs": [
    {
     "data": {
      "text/plain": [
       "['the',\n",
       " ',',\n",
       " '.',\n",
       " 'of',\n",
       " 'to',\n",
       " 'and',\n",
       " 'in',\n",
       " 'a',\n",
       " '\"',\n",
       " \"'s\",\n",
       " 'for',\n",
       " '-',\n",
       " 'that',\n",
       " 'on',\n",
       " 'is']"
      ]
     },
     "execution_count": 145,
     "metadata": {
      "tags": []
     },
     "output_type": "execute_result"
    }
   ],
   "source": [
    "# importing islice method from itertools library\n",
    "# itertools provides functional tools for creating and using iterators\n",
    "from itertools import islice\n",
    "\n",
    "# returning an iterator whose next() method returns selected values\n",
    "# from an iterable\n",
    "list(islice(word_vectors.keys(), 15))"
   ]
  },
  {
   "cell_type": "code",
   "execution_count": 146,
   "metadata": {
    "colab": {
     "base_uri": "https://localhost:8080/"
    },
    "id": "FUYEVlSyNTcn",
    "outputId": "3988a3d9-196b-4b41-9ab4-a06ecdf2a8e1"
   },
   "outputs": [
    {
     "data": {
      "text/plain": [
       "300"
      ]
     },
     "execution_count": 146,
     "metadata": {
      "tags": []
     },
     "output_type": "execute_result"
    }
   ],
   "source": [
    "# length of word vector for the word 'hello'\n",
    "len(word_vectors['hello'])"
   ]
  },
  {
   "cell_type": "code",
   "execution_count": 147,
   "metadata": {
    "colab": {
     "base_uri": "https://localhost:8080/"
    },
    "id": "TtIu84QcNTaH",
    "outputId": "4ec1e701-bdb5-459d-ef83-3092e9f5db35"
   },
   "outputs": [
    {
     "data": {
      "text/plain": [
       "array([-3.3712e-01, -2.1691e-01, -6.6365e-03, -4.1625e-01, -1.2555e+00,\n",
       "       -2.8466e-02, -7.2195e-01, -5.2887e-01,  7.2085e-03,  3.1997e-01,\n",
       "        2.9425e-02, -1.3236e-02,  4.3511e-01,  2.5716e-01,  3.8995e-01,\n",
       "       -1.1968e-01,  1.5035e-01,  4.4762e-01,  2.8407e-01,  4.9339e-01,\n",
       "        6.2826e-01,  2.2888e-01, -4.0385e-01,  2.7364e-02,  7.3679e-03,\n",
       "        1.3995e-01,  2.3346e-01,  6.8122e-02,  4.8422e-01, -1.9578e-02,\n",
       "       -5.4751e-01, -5.4983e-01, -3.4091e-02,  8.0017e-03, -4.3065e-01,\n",
       "       -1.8969e-02, -8.5670e-02, -8.1123e-01, -2.1080e-01,  3.7784e-01,\n",
       "       -3.5046e-01,  1.3684e-01, -5.5661e-01,  1.6835e-01, -2.2952e-01,\n",
       "       -1.6184e-01,  6.7345e-01, -4.6597e-01, -3.1834e-02, -2.6037e-01,\n",
       "       -1.7797e-01,  1.9436e-02,  1.0727e-01,  6.6534e-01, -3.4836e-01,\n",
       "        4.7833e-02,  1.6440e-01,  1.4088e-01,  1.9204e-01, -3.5009e-01,\n",
       "        2.6236e-01,  1.7626e-01, -3.1367e-01,  1.1709e-01,  2.0378e-01,\n",
       "        6.1775e-01,  4.9075e-01, -7.5210e-02, -1.1815e-01,  1.8685e-01,\n",
       "        4.0679e-01,  2.8319e-01, -1.6290e-01,  3.8388e-02,  4.3794e-01,\n",
       "        8.8224e-02,  5.9046e-01, -5.3515e-02,  3.8819e-02,  1.8202e-01,\n",
       "       -2.7599e-01,  3.9474e-01, -2.0499e-01,  1.7411e-01,  1.0315e-01,\n",
       "        2.5117e-01, -3.6542e-01,  3.6528e-01,  2.2448e-01, -9.7551e-01,\n",
       "        9.4505e-02, -1.7859e-01, -3.0688e-01, -5.8633e-01, -1.8526e-01,\n",
       "        3.9565e-02, -4.2309e-01, -1.5715e-01,  2.0401e-01,  1.6906e-01,\n",
       "        3.4465e-01, -4.2262e-01,  1.9553e-01,  5.9454e-01, -3.0531e-01,\n",
       "       -1.0633e-01, -1.9055e-01, -5.8544e-01,  2.1357e-01,  3.8414e-01,\n",
       "        9.1499e-02,  3.8353e-01,  2.9075e-01,  2.4519e-02,  2.8440e-01,\n",
       "        6.3715e-02, -1.5483e-01,  4.0031e-01,  3.1543e-01, -3.7128e-02,\n",
       "        6.3363e-02, -2.7090e-01,  2.5160e-01,  4.7105e-01,  4.9556e-01,\n",
       "       -3.6401e-01,  1.0370e-01,  4.6076e-02,  1.6565e-01, -2.9024e-01,\n",
       "       -6.6949e-02, -3.0881e-01,  4.8263e-01,  3.0972e-01, -1.1145e-01,\n",
       "       -1.0329e-01,  2.8585e-02, -1.3579e-01,  5.2924e-01, -1.4077e-01,\n",
       "        9.1763e-02,  1.3127e-01, -2.0944e-01,  2.2327e-02, -7.7692e-02,\n",
       "        7.7934e-02, -3.3067e-02,  1.1680e-01,  3.2029e-01,  3.7749e-01,\n",
       "       -7.5679e-01, -1.5944e-01,  1.4964e-01,  4.2253e-01,  2.8136e-03,\n",
       "        2.1328e-01,  8.6776e-02, -5.2704e-02, -4.0859e-01, -1.1774e-01,\n",
       "        9.0621e-02, -2.3794e-01, -1.8326e-01,  1.3115e-01, -5.5949e-01,\n",
       "        9.2071e-02, -3.9504e-02,  1.3334e-01,  4.9632e-01,  2.8733e-01,\n",
       "       -1.8544e-01,  2.4618e-02, -4.2826e-01,  7.4148e-02,  7.6584e-04,\n",
       "        2.3950e-01,  2.2615e-01,  5.5166e-02, -7.5096e-02, -2.2308e-01,\n",
       "        2.3775e-01, -4.5455e-01,  2.6564e-01, -1.5137e-01, -2.4146e-01,\n",
       "       -2.4736e-01,  5.5214e-01,  2.6819e-01,  4.8831e-01, -1.3423e-01,\n",
       "       -1.5918e-01,  3.7606e-01, -1.9834e-01,  1.6699e-01, -1.5368e-01,\n",
       "        2.4561e-01, -9.2506e-02, -3.0257e-01, -2.9493e-01, -7.4917e-01,\n",
       "        1.0567e+00,  3.7971e-01,  6.9314e-01, -3.1672e-02,  2.1588e-01,\n",
       "       -4.0739e-01, -1.5264e-01,  3.2296e-01, -1.2999e-01, -5.0129e-01,\n",
       "       -4.4231e-01,  1.6904e-02, -1.1459e-02,  7.2293e-03,  1.1026e-01,\n",
       "        2.1568e-01, -3.2373e-01, -3.7292e-01, -9.2456e-03, -2.6769e-01,\n",
       "        3.9066e-01,  3.5742e-01, -6.0632e-02,  6.7966e-02,  3.3830e-01,\n",
       "        6.5747e-02,  1.5794e-01,  4.7155e-02,  2.3682e-01, -9.1370e-02,\n",
       "        6.4649e-01, -2.5491e-01, -6.7940e-01, -6.9752e-01, -1.0145e-01,\n",
       "       -3.6255e-01,  3.6967e-01, -4.1295e-01,  8.2724e-02, -3.5053e-01,\n",
       "       -1.7564e-01,  8.5095e-02, -5.7724e-01,  5.0252e-01,  5.2180e-01,\n",
       "        5.7327e-02, -7.9754e-01, -3.7770e-01,  7.8149e-01,  2.4597e-01,\n",
       "        6.0672e-01, -2.0082e-01, -3.8792e-01,  4.1295e-01, -1.6143e-01,\n",
       "        1.0427e-02,  4.3197e-01,  4.6297e-03,  2.1185e-01, -2.6606e-01,\n",
       "       -5.8740e-02, -5.1003e-01,  2.8524e-01,  1.3627e-02, -2.7346e-01,\n",
       "        6.1848e-02, -5.7901e-01, -5.1136e-01,  3.6382e-01,  3.5144e-01,\n",
       "       -1.6501e-01, -4.6041e-01, -6.4742e-02, -6.8310e-01, -4.7427e-02,\n",
       "        1.5861e-01, -4.7288e-01,  3.3968e-01,  1.2092e-03,  1.6018e-01,\n",
       "       -5.8024e-01,  1.4556e-01, -9.1317e-01, -3.7592e-01, -3.2950e-01,\n",
       "        5.3465e-01,  1.8224e-01, -5.2265e-01, -2.6209e-01, -4.2458e-01,\n",
       "       -1.8034e-01,  9.9502e-02, -1.5114e-01, -6.6731e-01,  2.4483e-01,\n",
       "       -5.6630e-01,  3.3843e-01,  4.0558e-01,  1.8073e-01,  6.4250e-01],\n",
       "      dtype=float32)"
      ]
     },
     "execution_count": 147,
     "metadata": {
      "tags": []
     },
     "output_type": "execute_result"
    }
   ],
   "source": [
    "# printing word vector for the word 'hello'\n",
    "word_vectors['hello']"
   ]
  },
  {
   "cell_type": "code",
   "execution_count": 148,
   "metadata": {
    "colab": {
     "base_uri": "https://localhost:8080/"
    },
    "id": "7FX4ATz8Nd5p",
    "outputId": "64e4c386-218a-4752-8cc0-340685c48b3a"
   },
   "outputs": [
    {
     "data": {
      "text/plain": [
       "80441"
      ]
     },
     "execution_count": 148,
     "metadata": {
      "tags": []
     },
     "output_type": "execute_result"
    }
   ],
   "source": [
    "# calculating vocabulary_size using word_index of\n",
    "# keras.preprocessing.text.Tokenizer\n",
    "vocabulary_size = len(tokenizer.word_index) + 1\n",
    "vocabulary_size"
   ]
  },
  {
   "cell_type": "code",
   "execution_count": 149,
   "metadata": {
    "colab": {
     "base_uri": "https://localhost:8080/"
    },
    "id": "VvO-YOKqNd2g",
    "outputId": "020e8d8d-6f48-4479-c381-9474f9f1f6fd"
   },
   "outputs": [
    {
     "data": {
      "text/plain": [
       "400000"
      ]
     },
     "execution_count": 149,
     "metadata": {
      "tags": []
     },
     "output_type": "execute_result"
    }
   ],
   "source": [
    "# printing length of word_vectors dictionary\n",
    "len(word_vectors)"
   ]
  },
  {
   "cell_type": "code",
   "execution_count": 150,
   "metadata": {
    "colab": {
     "base_uri": "https://localhost:8080/"
    },
    "id": "bmVzpRz8Ntrm",
    "outputId": "5949d028-4d3c-4f49-818e-fb2b1799a723"
   },
   "outputs": [
    {
     "data": {
      "text/plain": [
       "array([[0., 0., 0., ..., 0., 0., 0.],\n",
       "       [0., 0., 0., ..., 0., 0., 0.],\n",
       "       [0., 0., 0., ..., 0., 0., 0.],\n",
       "       ...,\n",
       "       [0., 0., 0., ..., 0., 0., 0.],\n",
       "       [0., 0., 0., ..., 0., 0., 0.],\n",
       "       [0., 0., 0., ..., 0., 0., 0.]])"
      ]
     },
     "execution_count": 150,
     "metadata": {
      "tags": []
     },
     "output_type": "execute_result"
    }
   ],
   "source": [
    "# initializing the embedding_matrix\n",
    "embedding_matrix = np.zeros((vocabulary_size,\n",
    "                             len(word_vectors['hello'])))\n",
    "embedding_matrix"
   ]
  },
  {
   "cell_type": "code",
   "execution_count": 151,
   "metadata": {
    "colab": {
     "base_uri": "https://localhost:8080/"
    },
    "id": "sPuinporOlKd",
    "outputId": "14e9faf4-9ab1-462f-cc4e-f0f4ed24023e"
   },
   "outputs": [
    {
     "data": {
      "text/plain": [
       "(80441, 300)"
      ]
     },
     "execution_count": 151,
     "metadata": {
      "tags": []
     },
     "output_type": "execute_result"
    }
   ],
   "source": [
    "# printing the shape of embedding_matrix\n",
    "embedding_matrix.shape"
   ]
  },
  {
   "cell_type": "code",
   "execution_count": 152,
   "metadata": {
    "id": "z0XX5ivjOlGv"
   },
   "outputs": [],
   "source": [
    "embedding_vector = None\n",
    "absent_words = []\n",
    "\n",
    "# adding values to embedding_matrix\n",
    "for word, index in tokenizer.word_index.items():\n",
    "    if word in word_vectors.keys():\n",
    "        embedding_vector = word_vectors.get(word)\n",
    "    else:\n",
    "        absent_words.append(word)\n",
    "    if embedding_vector is not None:\n",
    "        embedding_matrix[index] = embedding_vector\n",
    "    else:\n",
    "        embedding_matrix[index] = np.zeros(300)"
   ]
  },
  {
   "cell_type": "code",
   "execution_count": 153,
   "metadata": {
    "colab": {
     "base_uri": "https://localhost:8080/"
    },
    "id": "Dr4NZ1eq3UMP",
    "outputId": "e8483dd1-5e94-45b8-802b-71261f0efdbe"
   },
   "outputs": [
    {
     "data": {
      "text/plain": [
       "33780"
      ]
     },
     "execution_count": 153,
     "metadata": {
      "tags": []
     },
     "output_type": "execute_result"
    }
   ],
   "source": [
    "# printing the length of absent_words\n",
    "len(absent_words)"
   ]
  },
  {
   "cell_type": "code",
   "execution_count": 154,
   "metadata": {
    "colab": {
     "base_uri": "https://localhost:8080/"
    },
    "id": "mCnXI0Pv3UMP",
    "outputId": "7e8256d2-db3f-40a3-836c-38367e766c56"
   },
   "outputs": [
    {
     "data": {
      "text/plain": [
       "array([ 0.038226 , -0.0039415,  0.51367  ,  0.43576  ,  0.49218  ,\n",
       "       -0.33497  ,  0.43634  ,  0.45152  , -0.08108  ,  0.48515  ,\n",
       "       -0.59998  ,  0.39817  , -0.096727 ,  0.1836   ,  0.73763  ,\n",
       "       -0.38836  ,  0.3311   , -0.061233 ,  0.51514  , -0.026119 ,\n",
       "       -0.30278  , -0.28546  , -0.49018  , -0.07449  ,  0.57513  ,\n",
       "       -0.045253 ,  0.035329 , -0.086013 ,  0.22468  ,  0.65506  ,\n",
       "       -0.2017   , -0.095853 , -0.072084 , -0.42677  ,  0.40106  ,\n",
       "       -0.72827  , -0.25888  , -0.32618  ,  0.32697  ,  0.041463 ,\n",
       "       -0.25851  ,  0.41067  ,  0.4824   , -0.29718  , -0.0016525,\n",
       "        0.44883  ,  0.24013  ,  0.45171  , -0.33867  ,  0.018999 ,\n",
       "       -0.36552  ,  0.068266 ,  0.62777  ,  0.3989   ,  0.10577  ,\n",
       "        0.13839  , -0.3783   ,  0.035453 , -0.0084163,  0.6266   ,\n",
       "        0.26298  ,  0.19102  , -0.73734  ,  0.21556  ,  0.026598 ,\n",
       "        0.42748  ,  0.14089  , -0.27273  ,  0.14993  ,  1.0024   ,\n",
       "        0.26945  , -0.006764 ,  0.10014  ,  0.43996  ,  0.62363  ,\n",
       "       -0.20519  , -0.039476 , -0.070023 , -0.49385  , -0.23049  ,\n",
       "        0.48317  , -0.14128  ,  0.10012  , -0.04036  , -0.20876  ,\n",
       "        0.25961  ,  0.34908  , -0.033803 ,  0.21669  ,  0.586    ,\n",
       "       -0.29719  ,  0.61567  ,  0.41345  ,  0.098787 ,  0.13417  ,\n",
       "       -0.58913  , -0.20786  ,  0.29442  ,  0.10441  ,  0.14105  ,\n",
       "        0.18363  ,  0.27751  ,  0.52946  , -0.1818   ,  0.016152 ,\n",
       "        0.17022  ,  0.51348  ,  0.13299  , -0.55564  , -0.71129  ,\n",
       "        0.4137   ,  0.048069 ,  0.15907  ,  0.29769  , -0.057895 ,\n",
       "        0.31645  , -0.19962  , -0.43684  , -0.3147   ,  0.2673   ,\n",
       "       -0.56664  , -0.23724  ,  0.093107 ,  0.143    ,  0.078255 ,\n",
       "       -0.45401  , -0.049292 , -0.11102  ,  0.001592 ,  0.14351  ,\n",
       "        0.015514 ,  0.081432 , -0.023856 , -0.61651  , -0.042148 ,\n",
       "        0.51688  , -0.58833  ,  0.28568  , -0.23544  ,  0.10716  ,\n",
       "        0.10575  , -0.33887  , -0.55327  ,  0.040218 , -0.18012  ,\n",
       "        0.049456 , -0.34279  ,  0.24958  ,  0.6262   ,  0.15803  ,\n",
       "       -0.95606  , -0.043187 ,  0.32235  , -0.7551   ,  0.44667  ,\n",
       "       -0.05152  , -0.030383 , -0.429    , -0.02917  ,  0.055534 ,\n",
       "       -0.37667  ,  0.15511  , -0.32299  , -0.14439  , -0.19539  ,\n",
       "        0.48624  ,  0.19845  ,  0.56738  , -0.15968  , -0.20171  ,\n",
       "       -0.057248 ,  0.29638  , -0.0042785,  0.17959  , -0.012705 ,\n",
       "        0.15108  ,  0.41327  ,  0.055889 ,  0.072738 , -0.68621  ,\n",
       "        0.050108 , -0.26776  , -0.92373  , -0.12259  ,  0.051833 ,\n",
       "       -0.38279  ,  0.21954  ,  0.36506  , -0.089535 , -0.78331  ,\n",
       "       -0.38285  , -0.090268 ,  1.3571   , -0.042207 ,  0.23506  ,\n",
       "        0.31095  , -0.70932  , -0.44825  ,  0.083502 , -0.14867  ,\n",
       "       -1.0885   ,  0.4592   , -0.2364   , -0.59568  ,  0.37402  ,\n",
       "        0.24051  , -0.026864 , -0.36094  , -0.084535 , -0.040117 ,\n",
       "       -0.0521   ,  0.13068  ,  0.10849  ,  0.28586  ,  0.74601  ,\n",
       "        0.5404   ,  0.78172  , -0.12286  , -0.27578  , -0.01426  ,\n",
       "        0.34817  ,  0.50164  ,  0.040165 , -0.17306  ,  0.34931  ,\n",
       "       -0.23759  ,  0.25121  ,  0.21974  ,  0.028997 ,  0.031011 ,\n",
       "       -0.15413  ,  0.38924  ,  0.24897  ,  0.19646  , -0.54573  ,\n",
       "       -0.24235  , -0.32745  ,  0.20982  ,  0.18254  , -0.25332  ,\n",
       "       -0.35276  , -0.040057 , -0.12937  ,  0.2891   ,  0.37759  ,\n",
       "       -0.54078  , -0.45299  , -0.27622  ,  0.037707 ,  0.15631  ,\n",
       "        0.0059112,  0.60542  ,  0.49972  , -0.16146  , -0.64829  ,\n",
       "       -0.30903  ,  0.33908  ,  0.18547  ,  0.98622  , -0.28725  ,\n",
       "       -0.0026494,  0.63987  ,  0.49083  , -0.36208  , -0.2888   ,\n",
       "        0.1805   ,  0.015576 , -0.62808  ,  0.48033  ,  0.10361  ,\n",
       "        0.84065  , -0.16677  , -0.53757  , -0.22225  , -0.21462  ,\n",
       "       -0.099183 ,  0.53784  , -0.09483  , -0.41011  ,  0.37913  ,\n",
       "        1.2368   , -0.66575  ,  0.067083 , -0.078726 , -0.052976 ,\n",
       "        0.66218  , -0.58174  , -0.32525  , -0.48892  ,  0.048599 ,\n",
       "       -0.089703 ,  1.0348   , -0.38708  , -0.076351 ,  0.78632  ,\n",
       "       -0.73663  ,  0.8795   , -0.36018  ,  0.019849 ,  0.18208  ],\n",
       "      dtype=float32)"
      ]
     },
     "execution_count": 154,
     "metadata": {
      "tags": []
     },
     "output_type": "execute_result"
    }
   ],
   "source": [
    "# printing embedding_vector\n",
    "embedding_vector"
   ]
  },
  {
   "cell_type": "code",
   "execution_count": 155,
   "metadata": {
    "colab": {
     "base_uri": "https://localhost:8080/"
    },
    "id": "xmbywFd43UMP",
    "outputId": "70f5c0d3-dcf3-4354-bbd0-1075ba216b2c"
   },
   "outputs": [
    {
     "data": {
      "text/plain": [
       "(300,)"
      ]
     },
     "execution_count": 155,
     "metadata": {
      "tags": []
     },
     "output_type": "execute_result"
    }
   ],
   "source": [
    "# printing the shape of embedding_vector\n",
    "embedding_vector.shape"
   ]
  },
  {
   "cell_type": "code",
   "execution_count": 156,
   "metadata": {
    "colab": {
     "base_uri": "https://localhost:8080/"
    },
    "id": "Q-fgzi7ZPaxs",
    "outputId": "fd7766f7-eedb-4b82-adf3-a8285a32ea86"
   },
   "outputs": [
    {
     "data": {
      "text/plain": [
       "array([[ 0.        ,  0.        ,  0.        , ...,  0.        ,\n",
       "         0.        ,  0.        ],\n",
       "       [ 0.089135  ,  0.71792001,  0.028687  , ..., -0.28714001,\n",
       "        -0.19313   ,  0.13237   ],\n",
       "       [-0.14124   , -0.11836   , -0.30781999, ..., -0.19882999,\n",
       "        -0.061105  ,  0.11568   ],\n",
       "       ...,\n",
       "       [ 0.28852999, -0.22616   , -0.31463999, ...,  0.088351  ,\n",
       "         0.4131    , -0.19191   ],\n",
       "       [ 0.038226  , -0.0039415 ,  0.51367003, ..., -0.36017999,\n",
       "         0.019849  ,  0.18208   ],\n",
       "       [ 0.038226  , -0.0039415 ,  0.51367003, ..., -0.36017999,\n",
       "         0.019849  ,  0.18208   ]])"
      ]
     },
     "execution_count": 156,
     "metadata": {
      "tags": []
     },
     "output_type": "execute_result"
    }
   ],
   "source": [
    "# printing embedding_matrix\n",
    "embedding_matrix"
   ]
  },
  {
   "cell_type": "code",
   "execution_count": 157,
   "metadata": {
    "id": "NCrnGxX6Pnr2"
   },
   "outputs": [],
   "source": [
    "# importing Input function from keras layers api package\n",
    "# used to instantiate a keras tensor\n",
    "# keras tensor is a symbolic tensor-like object, which can be augmented\n",
    "# with certain attributes that allow us to build a keras model by just\n",
    "# knowing the inputs and outputs of the model\n",
    "from keras.layers import Input"
   ]
  },
  {
   "cell_type": "code",
   "execution_count": 158,
   "metadata": {
    "id": "xFIn7k083UMP"
   },
   "outputs": [],
   "source": [
    "input_1 = Input(shape=(x_train_question_1_sequence.shape[1],))\n",
    "input_2 = Input(shape=(x_train_question_2_sequence.shape[1],))"
   ]
  },
  {
   "cell_type": "code",
   "execution_count": 159,
   "metadata": {
    "id": "5CQx8aM5QCLH"
   },
   "outputs": [],
   "source": [
    "# importing Embedding class from keras layers api package\n",
    "# turning positive integers (indexes) into dense vectors of fixed size\n",
    "# this layer can only be used as the first layer in a model\n",
    "from keras.layers import Embedding"
   ]
  },
  {
   "cell_type": "code",
   "execution_count": 160,
   "metadata": {
    "id": "uHwuXEvJQFYt"
   },
   "outputs": [],
   "source": [
    "common_embed = Embedding(name='synopsis_embedd',\n",
    "                         input_dim=len(tokenizer.word_index) + 1,\n",
    "                         output_dim=len(word_vectors['hello']),\n",
    "                         weights=[embedding_matrix],\n",
    "                         input_length=x_train_question_1_sequence.shape[1],\n",
    "                         trainable=False)"
   ]
  },
  {
   "cell_type": "code",
   "execution_count": 161,
   "metadata": {
    "id": "IK4h-nTKQFT9"
   },
   "outputs": [],
   "source": [
    "lstm_1 = common_embed(input_1)\n",
    "lstm_2 = common_embed(input_2)"
   ]
  },
  {
   "cell_type": "code",
   "execution_count": 162,
   "metadata": {
    "id": "2JfAd1hoR3Dd"
   },
   "outputs": [],
   "source": [
    "# importing LSTM class from keras layers api package\n",
    "# LSTM - Long Short-Term Memory layer\n",
    "from keras.layers import LSTM"
   ]
  },
  {
   "cell_type": "code",
   "execution_count": 163,
   "metadata": {
    "id": "5-z_wmXeR3AS"
   },
   "outputs": [],
   "source": [
    "common_lstm = LSTM(64,\n",
    "                   return_sequences=True,\n",
    "                   activation='relu')"
   ]
  },
  {
   "cell_type": "code",
   "execution_count": 164,
   "metadata": {
    "id": "TbehfAuMR27R"
   },
   "outputs": [],
   "source": [
    "vector_1 = common_lstm(lstm_1)\n",
    "vector_2 = common_lstm(lstm_2)"
   ]
  },
  {
   "cell_type": "code",
   "execution_count": 165,
   "metadata": {
    "id": "kufKY6E5R2vO"
   },
   "outputs": [],
   "source": [
    "# importing Flatten class from keras layers api package\n",
    "# used to flattens the input without affecting the batch size\n",
    "from keras.layers import Flatten"
   ]
  },
  {
   "cell_type": "code",
   "execution_count": 166,
   "metadata": {
    "id": "z8NljLHXSGSh"
   },
   "outputs": [],
   "source": [
    "vector_1 = Flatten()(vector_1)\n",
    "vector_2 = Flatten()(vector_2)"
   ]
  },
  {
   "cell_type": "code",
   "execution_count": 167,
   "metadata": {
    "id": "ABUBk8faSGKT"
   },
   "outputs": [],
   "source": [
    "# importing Subtract class from keras layers api package\n",
    "# used to subtract two inputs\n",
    "# takes as input a list of tensors of size 2, both of the same shape, and\n",
    "# returns a single tensor, (inputs[0] - inputs[1]), also of the same shape\n",
    "from keras.layers import Subtract"
   ]
  },
  {
   "cell_type": "code",
   "execution_count": 168,
   "metadata": {
    "id": "bPXetjKESF8R"
   },
   "outputs": [],
   "source": [
    "x3 = Subtract()([vector_1, vector_2])"
   ]
  },
  {
   "cell_type": "code",
   "execution_count": 169,
   "metadata": {
    "id": "Tx41iTnUSSUy"
   },
   "outputs": [],
   "source": [
    "# importing Multiply class from keras layers api package\n",
    "# used to multiply (element-wise) a list of inputs\n",
    "# takes a list of tensors as input, all of the same shape, and returns\n",
    "# a single tensor (also of the same shape)\n",
    "from keras.layers import Multiply"
   ]
  },
  {
   "cell_type": "code",
   "execution_count": 170,
   "metadata": {
    "id": "FilMT_XmSSLy"
   },
   "outputs": [],
   "source": [
    "x3 = Multiply()([x3, x3])"
   ]
  },
  {
   "cell_type": "code",
   "execution_count": 171,
   "metadata": {
    "id": "ozG8xUfGSSDY"
   },
   "outputs": [],
   "source": [
    "x1_ = Multiply()([vector_1, vector_1])\n",
    "x2_ = Multiply()([vector_2, vector_2])"
   ]
  },
  {
   "cell_type": "code",
   "execution_count": 172,
   "metadata": {
    "id": "J0GYM6b5SSAS"
   },
   "outputs": [],
   "source": [
    "x4 = Subtract()([x1_, x2_])"
   ]
  },
  {
   "cell_type": "code",
   "execution_count": 173,
   "metadata": {
    "id": "7eNFLgJ2SR8a"
   },
   "outputs": [],
   "source": [
    "# importing Lambda class from core keras layers module in keras\n",
    "# layers api package\n",
    "# Lambda class wraps arbitrary expressions as a Layer object\n",
    "# Lambda layer exists so that arbitrary expressions can be used\n",
    "# as a Layer when constructing Sequential and Functional API models\n",
    "# Lambda layers are best suited for simple operations or quick\n",
    "# experimentation\n",
    "from keras.layers.core import Lambda"
   ]
  },
  {
   "cell_type": "code",
   "execution_count": 174,
   "metadata": {
    "id": "MV-GTcuTTWXY"
   },
   "outputs": [],
   "source": [
    "# importing keras backend api from keras api\n",
    "from keras import backend as k"
   ]
  },
  {
   "cell_type": "code",
   "execution_count": 175,
   "metadata": {
    "id": "y1EQCL7T3UMP"
   },
   "outputs": [],
   "source": [
    "# function to calculate cosine distance\n",
    "def cosine_distance(vests):\n",
    "    x, y = vests\n",
    "    x = k.l2_normalize(x, axis=-1)\n",
    "    y = k.l2_normalize(y, axis=-1)\n",
    "    return -k.mean(x * y, axis=-1, keepdims=True)"
   ]
  },
  {
   "cell_type": "code",
   "execution_count": 176,
   "metadata": {
    "id": "gcxL7EChTr7N"
   },
   "outputs": [],
   "source": [
    "# function to return cosine distance output shape\n",
    "def cosine_distance_output_shape(shapes):\n",
    "    shape1, shape2 = shapes\n",
    "    return shape1[0], 1"
   ]
  },
  {
   "cell_type": "code",
   "execution_count": 177,
   "metadata": {
    "id": "3i6mKYYQUC9c"
   },
   "outputs": [],
   "source": [
    "x5 = Lambda(cosine_distance,\n",
    "            output_shape=cosine_distance_output_shape)([vector_1, vector_2])"
   ]
  },
  {
   "cell_type": "code",
   "execution_count": 178,
   "metadata": {
    "id": "awqG3HJMUTFo"
   },
   "outputs": [],
   "source": [
    "# importing Concatenate class from keras layers api package\n",
    "# functional interface to the Concatenate layer which concatenates\n",
    "# a list of inputs\n",
    "# a list of tensors is taken as the input, all of the same shape except\n",
    "# for the concatenation axis, and returns a single tensor that is the\n",
    "# concatenation of all inputs\n",
    "from keras.layers import Concatenate"
   ]
  },
  {
   "cell_type": "code",
   "execution_count": 179,
   "metadata": {
    "id": "ovhd5sYkUTv3"
   },
   "outputs": [],
   "source": [
    "conc = Concatenate(axis=-1)([x5, x4, x3])"
   ]
  },
  {
   "cell_type": "code",
   "execution_count": 180,
   "metadata": {
    "id": "Jzhh-WLlUUUj"
   },
   "outputs": [],
   "source": [
    "# importing Dense class from keras layers api package\n",
    "# Dense class is a regular densely-connected neural network layer\n",
    "# Dense implements the operation:\n",
    "# output = activation(dot(input, kernel) + bias)\n",
    "# activation is the element-wise activation function passed as\n",
    "# the activation argument\n",
    "# kernel is a weights matrix created by the layer\n",
    "# bias is a bias vector created by the layer\n",
    "# (only applicable if use_bias is True)\n",
    "from keras.layers import Dense"
   ]
  },
  {
   "cell_type": "code",
   "execution_count": 181,
   "metadata": {
    "id": "gA1HTLkJUwQm"
   },
   "outputs": [],
   "source": [
    "x = Dense(100,\n",
    "          activation='relu',\n",
    "          name='conc_layer')(conc)"
   ]
  },
  {
   "cell_type": "code",
   "execution_count": 182,
   "metadata": {
    "id": "3t5fp7l0U1E-"
   },
   "outputs": [],
   "source": [
    "# importing Dropout class from keras layers api package\n",
    "# used to randomly set input units to 0 with a frequency of rate at\n",
    "# each step during training time, which helps prevent overfitting\n",
    "# inputs not set to 0 are scaled up by 1 / (1 - rate) such that the\n",
    "# sum over all inputs is unchanged\n",
    "from keras.layers import Dropout"
   ]
  },
  {
   "cell_type": "code",
   "execution_count": 183,
   "metadata": {
    "id": "hAmTYlQ7U06g"
   },
   "outputs": [],
   "source": [
    "x = Dropout(0.01)(x)"
   ]
  },
  {
   "cell_type": "code",
   "execution_count": 184,
   "metadata": {
    "id": "chabE32PU5c3"
   },
   "outputs": [],
   "source": [
    "out = Dense(1,\n",
    "            activation='sigmoid',\n",
    "            name='out')(x)"
   ]
  },
  {
   "cell_type": "code",
   "execution_count": 185,
   "metadata": {
    "id": "V1lfPWCwU5Zd"
   },
   "outputs": [],
   "source": [
    "# importing Model from keras\n",
    "# Model groups layers into an object with training and inference features\n",
    "from keras.models import Model"
   ]
  },
  {
   "cell_type": "code",
   "execution_count": 186,
   "metadata": {
    "id": "qYmQq7HPU5Wm"
   },
   "outputs": [],
   "source": [
    "model = Model([input_1, input_2],\n",
    "              out)"
   ]
  },
  {
   "cell_type": "code",
   "execution_count": 187,
   "metadata": {
    "id": "0D_f0EdjVBC8"
   },
   "outputs": [],
   "source": [
    "# importing the optimizer that implements the Adam algorithm from keras\n",
    "# Adam optimization is a stochastic gradient descent method that is based\n",
    "# on adaptive estimation of first-order and second-order moments\n",
    "# from tensorflow.keras.optimizers import Adam"
   ]
  },
  {
   "cell_type": "code",
   "execution_count": 188,
   "metadata": {
    "id": "raalR41gVA_y"
   },
   "outputs": [],
   "source": [
    "# importing roc_auc_score from metrics package of scikit-learn library\n",
    "# roc_auc_score computes area under the receiver operating characteristic\n",
    "# curve (roc auc) from prediction scores\n",
    "from sklearn.metrics import roc_auc_score"
   ]
  },
  {
   "cell_type": "code",
   "execution_count": 189,
   "metadata": {
    "id": "P3FGbggrVA-E"
   },
   "outputs": [],
   "source": [
    "# importing tensorflow library\n",
    "# it is a free and open-source software library for machine learning\n",
    "# used across a range of machine learning related tasks\n",
    "# focus on training and inference of deep neural networks\n",
    "import tensorflow as tf"
   ]
  },
  {
   "cell_type": "code",
   "execution_count": 190,
   "metadata": {
    "id": "upRKrffy3UMP"
   },
   "outputs": [],
   "source": [
    "# py_function wraps a python function into a tensorflow op that executes it eagerly\n",
    "# py_function allows expressing computations in a tensorflow graph as Python functions\n",
    "# auroc - area under the receiver operating characteristic curve\n",
    "def auroc(y_true, y_pred):\n",
    "    return tf.py_function(roc_auc_score,\n",
    "                          (y_true, y_pred),\n",
    "                          tf.double)"
   ]
  },
  {
   "cell_type": "code",
   "execution_count": 191,
   "metadata": {
    "id": "ZCWgaAWb3UMQ"
   },
   "outputs": [],
   "source": [
    "# compiling model\n",
    "# configuring the model for training\n",
    "model.compile(loss='binary_crossentropy',\n",
    "              metrics=['acc', auroc],\n",
    "              optimizer='adam')"
   ]
  },
  {
   "cell_type": "code",
   "execution_count": 192,
   "metadata": {
    "colab": {
     "base_uri": "https://localhost:8080/"
    },
    "id": "qyiJqkuU3UMQ",
    "outputId": "c58aee8e-9a81-455b-b1c7-0a5ac4821ad4"
   },
   "outputs": [
    {
     "name": "stdout",
     "output_type": "stream",
     "text": [
      "Model: \"model\"\n",
      "__________________________________________________________________________________________________\n",
      "Layer (type)                    Output Shape         Param #     Connected to                     \n",
      "==================================================================================================\n",
      "input_1 (InputLayer)            [(None, 30)]         0                                            \n",
      "__________________________________________________________________________________________________\n",
      "input_2 (InputLayer)            [(None, 30)]         0                                            \n",
      "__________________________________________________________________________________________________\n",
      "synopsis_embedd (Embedding)     (None, 30, 300)      24132300    input_1[0][0]                    \n",
      "                                                                 input_2[0][0]                    \n",
      "__________________________________________________________________________________________________\n",
      "lstm (LSTM)                     (None, 30, 64)       93440       synopsis_embedd[0][0]            \n",
      "                                                                 synopsis_embedd[1][0]            \n",
      "__________________________________________________________________________________________________\n",
      "flatten (Flatten)               (None, 1920)         0           lstm[0][0]                       \n",
      "__________________________________________________________________________________________________\n",
      "flatten_1 (Flatten)             (None, 1920)         0           lstm[1][0]                       \n",
      "__________________________________________________________________________________________________\n",
      "multiply_1 (Multiply)           (None, 1920)         0           flatten[0][0]                    \n",
      "                                                                 flatten[0][0]                    \n",
      "__________________________________________________________________________________________________\n",
      "multiply_2 (Multiply)           (None, 1920)         0           flatten_1[0][0]                  \n",
      "                                                                 flatten_1[0][0]                  \n",
      "__________________________________________________________________________________________________\n",
      "subtract (Subtract)             (None, 1920)         0           flatten[0][0]                    \n",
      "                                                                 flatten_1[0][0]                  \n",
      "__________________________________________________________________________________________________\n",
      "lambda (Lambda)                 (None, 1)            0           flatten[0][0]                    \n",
      "                                                                 flatten_1[0][0]                  \n",
      "__________________________________________________________________________________________________\n",
      "subtract_1 (Subtract)           (None, 1920)         0           multiply_1[0][0]                 \n",
      "                                                                 multiply_2[0][0]                 \n",
      "__________________________________________________________________________________________________\n",
      "multiply (Multiply)             (None, 1920)         0           subtract[0][0]                   \n",
      "                                                                 subtract[0][0]                   \n",
      "__________________________________________________________________________________________________\n",
      "concatenate (Concatenate)       (None, 3841)         0           lambda[0][0]                     \n",
      "                                                                 subtract_1[0][0]                 \n",
      "                                                                 multiply[0][0]                   \n",
      "__________________________________________________________________________________________________\n",
      "conc_layer (Dense)              (None, 100)          384200      concatenate[0][0]                \n",
      "__________________________________________________________________________________________________\n",
      "dropout (Dropout)               (None, 100)          0           conc_layer[0][0]                 \n",
      "__________________________________________________________________________________________________\n",
      "out (Dense)                     (None, 1)            101         dropout[0][0]                    \n",
      "==================================================================================================\n",
      "Total params: 24,610,041\n",
      "Trainable params: 477,741\n",
      "Non-trainable params: 24,132,300\n",
      "__________________________________________________________________________________________________\n"
     ]
    }
   ],
   "source": [
    "# printing a string summary of the network\n",
    "model.summary()"
   ]
  },
  {
   "cell_type": "code",
   "execution_count": 193,
   "metadata": {
    "colab": {
     "base_uri": "https://localhost:8080/"
    },
    "id": "vzVy9H8s3UMQ",
    "outputId": "8d14d44b-4606-4357-a883-68575e33d56f"
   },
   "outputs": [
    {
     "name": "stdout",
     "output_type": "stream",
     "text": [
      "Epoch 1/5\n",
      "4043/4043 [==============================] - 422s 97ms/step - loss: 0.6243 - acc: 0.7208 - auroc: 0.7885 - val_loss: 0.4666 - val_acc: 0.7712 - val_auroc: 0.8440\n",
      "Epoch 2/5\n",
      "4043/4043 [==============================] - 399s 99ms/step - loss: 0.4388 - acc: 0.7887 - auroc: 0.8649 - val_loss: 0.4363 - val_acc: 0.7903 - val_auroc: 0.8665\n",
      "Epoch 3/5\n",
      "4043/4043 [==============================] - 391s 97ms/step - loss: 0.3977 - acc: 0.8133 - auroc: 0.8913 - val_loss: 0.4250 - val_acc: 0.7988 - val_auroc: 0.8754\n",
      "Epoch 4/5\n",
      "4043/4043 [==============================] - 392s 97ms/step - loss: 0.3666 - acc: 0.8310 - auroc: 0.9087 - val_loss: 0.4187 - val_acc: 0.8061 - val_auroc: 0.8815\n",
      "Epoch 5/5\n",
      "4043/4043 [==============================] - 391s 97ms/step - loss: 0.3355 - acc: 0.8477 - auroc: 0.9240 - val_loss: 0.4229 - val_acc: 0.8087 - val_auroc: 0.8833\n"
     ]
    },
    {
     "data": {
      "text/plain": [
       "<keras.callbacks.History at 0x7fcf7cd47550>"
      ]
     },
     "execution_count": 193,
     "metadata": {
      "tags": []
     },
     "output_type": "execute_result"
    }
   ],
   "source": [
    "# training the model for a fixed number of epochs\n",
    "# epochs - iterations on a dataset\n",
    "model.fit([x_train_question_1_sequence, x_train_question_2_sequence],\n",
    "          y_train.values.reshape(-1, 1),\n",
    "          epochs=5,\n",
    "          batch_size=64,\n",
    "          validation_data=([x_test_question_1_sequence, x_test_question_2_sequence],\n",
    "                           y_test.values.reshape(-1, 1)))"
   ]
  },
  {
   "cell_type": "code",
   "execution_count": 194,
   "metadata": {
    "colab": {
     "base_uri": "https://localhost:8080/"
    },
    "id": "lQaqsv6T-fLI",
    "outputId": "2a847b54-723a-40bc-96b6-dfd013bbd81a",
    "pycharm": {
     "name": "#%%\n"
    }
   },
   "outputs": [
    {
     "data": {
      "text/plain": [
       "['loss', 'acc', 'auroc']"
      ]
     },
     "execution_count": 194,
     "metadata": {
      "tags": []
     },
     "output_type": "execute_result"
    }
   ],
   "source": [
    "# returning the model's display labels for all outputs\n",
    "model.metrics_names"
   ]
  },
  {
   "cell_type": "code",
   "execution_count": 195,
   "metadata": {
    "colab": {
     "base_uri": "https://localhost:8080/"
    },
    "id": "ZnT6RbSV3UMR",
    "outputId": "7ff1f7a0-5902-4fae-abfa-97596be2e519"
   },
   "outputs": [
    {
     "data": {
      "text/plain": [
       "array([[0.00363395],\n",
       "       [0.01147068],\n",
       "       [0.0133293 ],\n",
       "       ...,\n",
       "       [0.00093409],\n",
       "       [0.5287078 ],\n",
       "       [0.06786531]], dtype=float32)"
      ]
     },
     "execution_count": 195,
     "metadata": {
      "tags": []
     },
     "output_type": "execute_result"
    }
   ],
   "source": [
    "# generates output predictions for the input samples\n",
    "# y_pred = predicted output\n",
    "y_pred = model.predict([x_test_question_1_sequence, x_test_question_2_sequence])\n",
    "y_pred"
   ]
  },
  {
   "cell_type": "code",
   "execution_count": 196,
   "metadata": {
    "colab": {
     "base_uri": "https://localhost:8080/"
    },
    "id": "K5jzhWxuvJLG",
    "outputId": "a7666dae-b45b-4f41-da10-0577c7bc49e3"
   },
   "outputs": [
    {
     "data": {
      "text/plain": [
       "array([[0],\n",
       "       [0],\n",
       "       [0],\n",
       "       ...,\n",
       "       [0],\n",
       "       [0],\n",
       "       [0]])"
      ]
     },
     "execution_count": 196,
     "metadata": {
      "tags": []
     },
     "output_type": "execute_result"
    }
   ],
   "source": [
    "# actual output\n",
    "y_test.values.reshape(-1, 1)"
   ]
  },
  {
   "cell_type": "code",
   "execution_count": 197,
   "metadata": {
    "colab": {
     "base_uri": "https://localhost:8080/"
    },
    "id": "HUdmpq4U-fLI",
    "outputId": "71254185-f1f3-4376-a5fb-bb836cd07bec",
    "pycharm": {
     "name": "#%%\n"
    }
   },
   "outputs": [
    {
     "name": "stdout",
     "output_type": "stream",
     "text": [
      "Mean Squared Error (MSE):  0.13382097906853566\n"
     ]
    }
   ],
   "source": [
    "# importing mean_squared_error from scikit-learn library\n",
    "from sklearn.metrics import mean_squared_error\n",
    "\n",
    "# mean squared error (MSE)\n",
    "print('Mean Squared Error (MSE): ', mean_squared_error(y_test.values.reshape(-1, 1),\n",
    "                                                       y_pred))"
   ]
  },
  {
   "cell_type": "code",
   "execution_count": 198,
   "metadata": {
    "colab": {
     "base_uri": "https://localhost:8080/"
    },
    "id": "98EwhvkN-fLJ",
    "outputId": "524f53f1-be04-4380-9c0b-8373fae992f2",
    "pycharm": {
     "name": "#%%\n"
    }
   },
   "outputs": [
    {
     "name": "stdout",
     "output_type": "stream",
     "text": [
      "Root Mean Squared Error (RMSE):  0.36581549867185187\n"
     ]
    }
   ],
   "source": [
    "# square root of the average of squared differences between\n",
    "# predicted and actual value of variable\n",
    "print('Root Mean Squared Error (RMSE): ', mean_squared_error(y_test.values.reshape(-1, 1),\n",
    "                                                             y_pred,\n",
    "                                                             squared=False))"
   ]
  },
  {
   "cell_type": "code",
   "execution_count": 199,
   "metadata": {
    "colab": {
     "base_uri": "https://localhost:8080/"
    },
    "id": "vpsWgkNh-fLJ",
    "outputId": "bf78a6c7-5663-484c-e53a-15cc6f91e215",
    "pycharm": {
     "name": "#%%\n"
    }
   },
   "outputs": [
    {
     "name": "stdout",
     "output_type": "stream",
     "text": [
      "Mean Absolute Error (MAE):  0.24749530205713194\n"
     ]
    }
   ],
   "source": [
    "# importing mean_absolute_error from scikit-learn library\n",
    "from sklearn.metrics import mean_absolute_error\n",
    "\n",
    "# mean absolute error (MAE)\n",
    "print('Mean Absolute Error (MAE): ', mean_absolute_error(y_test.values.reshape(-1, 1),\n",
    "                                                         y_pred))"
   ]
  },
  {
   "cell_type": "code",
   "execution_count": 200,
   "metadata": {
    "colab": {
     "base_uri": "https://localhost:8080/"
    },
    "id": "SunIU4JVwMSp",
    "outputId": "b9361169-8234-44ad-faac-9e845275be88"
   },
   "outputs": [
    {
     "name": "stdout",
     "output_type": "stream",
     "text": [
      "Accuracy Score:  0.8087140419006159\n"
     ]
    }
   ],
   "source": [
    "# importing accuracy_score from scikit-learn library\n",
    "from sklearn.metrics import accuracy_score\n",
    "\n",
    "# accuracy of the model\n",
    "# ratio of the number of correct predictions to the total number\n",
    "# of input samples\n",
    "print('Accuracy Score: ', accuracy_score(y_test.values.reshape(-1, 1),\n",
    "                                         y_pred.round()))"
   ]
  },
  {
   "cell_type": "code",
   "execution_count": 201,
   "metadata": {
    "colab": {
     "base_uri": "https://localhost:8080/"
    },
    "id": "UfkYH0PEW11k",
    "outputId": "a069739a-8c00-4992-91e6-f6e315c4138e"
   },
   "outputs": [
    {
     "name": "stdout",
     "output_type": "stream",
     "text": [
      "2527/2527 [==============================] - 49s 19ms/step - loss: 0.4229 - acc: 0.8087 - auroc: 0.8834\n"
     ]
    },
    {
     "data": {
      "text/plain": [
       "{'acc': 0.8087140321731567,\n",
       " 'auroc': 0.8834471702575684,\n",
       " 'loss': 0.42290234565734863}"
      ]
     },
     "execution_count": 201,
     "metadata": {
      "tags": []
     },
     "output_type": "execute_result"
    }
   ],
   "source": [
    "# returning the loss value & metrics values for the model in test mode\n",
    "model.evaluate([x_test_question_1_sequence, x_test_question_2_sequence],\n",
    "               y_test,\n",
    "               verbose=1,\n",
    "               use_multiprocessing=True,\n",
    "               return_dict=True)"
   ]
  },
  {
   "cell_type": "code",
   "execution_count": 202,
   "metadata": {
    "id": "FXt0MMun3UMS"
   },
   "outputs": [],
   "source": [
    "# returning a json string containing the network configuration\n",
    "model_json = model.to_json()\n",
    "\n",
    "# writing json string containing the network configuration\n",
    "# to siamese_network_model.json file\n",
    "with open('models/siamese_network_model_using_lemmas.json', 'w') as json_file:\n",
    "    json_file.write(model_json)\n",
    "\n",
    "# serializing weights to hdf5\n",
    "model.save_weights('models/siamese_network_model_using_lemmas.h5')"
   ]
  },
  {
   "cell_type": "code",
   "execution_count": 203,
   "metadata": {
    "id": "WGbxBtu63UMS"
   },
   "outputs": [],
   "source": [
    "# reading and loading json file\n",
    "json_file = open('models/siamese_network_model_using_lemmas.json', 'r')\n",
    "loaded_model_json = json_file.read()\n",
    "json_file.close()"
   ]
  },
  {
   "cell_type": "code",
   "execution_count": 204,
   "metadata": {
    "id": "eyzm3nFC3UMS"
   },
   "outputs": [],
   "source": [
    "# importing model_from_json function from models module in keras package\n",
    "from keras.models import model_from_json\n",
    "\n",
    "# parsing a json model configuration string and returning a model instance\n",
    "loaded_model = model_from_json(loaded_model_json)"
   ]
  },
  {
   "cell_type": "code",
   "execution_count": 205,
   "metadata": {
    "id": "BDUgz0n93UMS"
   },
   "outputs": [],
   "source": [
    "# loading weights into loaded model\n",
    "loaded_model.load_weights('models/siamese_network_model_using_lemmas.h5')"
   ]
  },
  {
   "cell_type": "code",
   "execution_count": 206,
   "metadata": {
    "id": "_mKBvOVA3UMS"
   },
   "outputs": [],
   "source": [
    "# compiling model\n",
    "# configuring the model for training\n",
    "loaded_model.compile(optimizer='adam',\n",
    "                     loss='binary_crossentropy',\n",
    "                     metrics=['acc', auroc])"
   ]
  },
  {
   "cell_type": "code",
   "execution_count": 207,
   "metadata": {
    "colab": {
     "base_uri": "https://localhost:8080/"
    },
    "id": "OjDmSgAn3UMT",
    "outputId": "347547c8-b6bb-476b-e4e0-78ccfa7556f0"
   },
   "outputs": [
    {
     "name": "stdout",
     "output_type": "stream",
     "text": [
      "1/1 [==============================] - 1s 1s/step\n"
     ]
    },
    {
     "data": {
      "text/plain": [
       "0.745665"
      ]
     },
     "execution_count": 207,
     "metadata": {
      "tags": []
     },
     "output_type": "execute_result"
    }
   ],
   "source": [
    "# predicting output for the input samples\n",
    "answer_1 = loaded_model.predict([\n",
    "    np.array([[43, 1, 1344, 34, 0, 0, 0, 0, 0, 0, 0, 0, 0, 0, 0, 0, 0, 0, 0, 0, 0, 0, 0, 0, 0, 0, 0, 0, 0, 0]]),\n",
    "    np.array([[43, 1, 1344, 34, 0, 0, 0, 0, 0, 0, 0, 0, 0, 0, 0, 0, 0, 0, 0, 0, 0, 0, 0, 0, 0, 0, 0, 0, 0, 0]])\n",
    "], verbose=1)\n",
    "\n",
    "answer_1[0][0]"
   ]
  },
  {
   "cell_type": "code",
   "execution_count": 208,
   "metadata": {
    "colab": {
     "base_uri": "https://localhost:8080/"
    },
    "id": "WtO6lj6z3UMT",
    "outputId": "7121ea56-9284-4edd-89a6-e70a66a9b412"
   },
   "outputs": [
    {
     "name": "stdout",
     "output_type": "stream",
     "text": [
      "1/1 [==============================] - 0s 20ms/step\n"
     ]
    },
    {
     "data": {
      "text/plain": [
       "0.055206686"
      ]
     },
     "execution_count": 208,
     "metadata": {
      "tags": []
     },
     "output_type": "execute_result"
    }
   ],
   "source": [
    "# predicting output for the input samples\n",
    "answer_2 = loaded_model.predict([\n",
    "    np.array([[43, 1, 1344, 34, 0, 14, 0, 0, 25, 0, 0, 25, 0, 0, 10, 0, 0, 0, 0, 44, 0, 10, 0, 0, 11, 0, 0, 0, 0, 0]]),\n",
    "    np.array([[43, 1, 1344, 34, 0, 7, 0, 50, 0, 0, 0, 1110, 0, 0, 0, 50, 0, 40, 0, 0, 50, 0, 0, 0, 3, 0, 0, 0, 0, 0]])\n",
    "], verbose=1)\n",
    "\n",
    "answer_2[0][0]"
   ]
  },
  {
   "cell_type": "code",
   "execution_count": 209,
   "metadata": {
    "colab": {
     "base_uri": "https://localhost:8080/"
    },
    "id": "sZ308gmHLAcW",
    "outputId": "13b6de8c-5f29-4161-f82c-e65cc0f76ab7",
    "pycharm": {
     "name": "#%%\n"
    }
   },
   "outputs": [
    {
     "data": {
      "text/plain": [
       "190"
      ]
     },
     "execution_count": 209,
     "metadata": {
      "tags": []
     },
     "output_type": "execute_result"
    }
   ],
   "source": [
    "# importing set of stopwords from wordcloud library\n",
    "from wordcloud import STOPWORDS\n",
    "\n",
    "stopwords = set(STOPWORDS)\n",
    "\n",
    "# printing number of stopwords defined in wordcloud library\n",
    "len(stopwords)"
   ]
  },
  {
   "cell_type": "code",
   "execution_count": 210,
   "metadata": {
    "colab": {
     "base_uri": "https://localhost:8080/"
    },
    "id": "kWY9EpqCLAcX",
    "outputId": "86f684e9-1de0-4b87-feea-79fb4a9f60e1",
    "pycharm": {
     "name": "#%%\n"
    }
   },
   "outputs": [
    {
     "name": "stdout",
     "output_type": "stream",
     "text": [
      "that\n",
      "it\n",
      "like\n",
      "same\n",
      "i\n",
      "there\n",
      "herself\n",
      "where\n",
      "other\n",
      "of\n"
     ]
    }
   ],
   "source": [
    "# importing random library\n",
    "# used for generating random numbers\n",
    "import random\n",
    "\n",
    "# printing 10 random values of stopwords set\n",
    "for i, val in enumerate(random.sample(stopwords, 10)):\n",
    "    print(val)"
   ]
  },
  {
   "cell_type": "code",
   "execution_count": 211,
   "metadata": {
    "id": "r9tFxKYNLAcX",
    "pycharm": {
     "name": "#%%\n"
    }
   },
   "outputs": [],
   "source": [
    "# importing WordCloud object for generating and drawing\n",
    "# wordclouds from wordcloud library\n",
    "from wordcloud import WordCloud"
   ]
  },
  {
   "cell_type": "code",
   "execution_count": 212,
   "metadata": {
    "id": "mesgWznTLAcY",
    "pycharm": {
     "name": "#%%\n"
    }
   },
   "outputs": [],
   "source": [
    "# function to return the wordcloud for a given text\n",
    "def plot_wordcloud(text):\n",
    "    wordcloud = WordCloud(width=800,\n",
    "                          height=800,\n",
    "                          background_color='white',\n",
    "                          stopwords=stopwords,\n",
    "                          min_font_size=10).generate(text)\n",
    "    return wordcloud"
   ]
  },
  {
   "cell_type": "code",
   "execution_count": 264,
   "metadata": {
    "id": "aXErxAJ6BUAt"
   },
   "outputs": [],
   "source": [
    "# defining two sample text with higher relatedness to each other\n",
    "text_1 = 'Children like to play computer games for fun'\n",
    "text_2 = 'Children love to play online games to relax'"
   ]
  },
  {
   "cell_type": "code",
   "execution_count": 265,
   "metadata": {
    "colab": {
     "base_uri": "https://localhost:8080/",
     "height": 36
    },
    "id": "aXutYGj2BUAt",
    "outputId": "2ec3ab1d-a972-46f2-b6a4-cea9db22d990"
   },
   "outputs": [
    {
     "data": {
      "application/vnd.google.colaboratory.intrinsic+json": {
       "type": "string"
      },
      "text/plain": [
       "'child like play computer game fun'"
      ]
     },
     "execution_count": 265,
     "metadata": {
      "tags": []
     },
     "output_type": "execute_result"
    }
   ],
   "source": [
    "# preprocessing the text\n",
    "clq1_, _ = preprocess_text(text_1)\n",
    "clq1_ = str(clq1_)\n",
    "clq1_"
   ]
  },
  {
   "cell_type": "code",
   "execution_count": 266,
   "metadata": {
    "colab": {
     "base_uri": "https://localhost:8080/",
     "height": 36
    },
    "id": "vRxlBIIkBUAt",
    "outputId": "0be4115d-8b52-4a9e-a386-f5d1840a2f88"
   },
   "outputs": [
    {
     "data": {
      "application/vnd.google.colaboratory.intrinsic+json": {
       "type": "string"
      },
      "text/plain": [
       "'child love play online game relax'"
      ]
     },
     "execution_count": 266,
     "metadata": {
      "tags": []
     },
     "output_type": "execute_result"
    }
   ],
   "source": [
    "# preprocessing the text\n",
    "clq2_, _ = preprocess_text(text_2)\n",
    "clq2_ = str(clq2_)\n",
    "clq2_"
   ]
  },
  {
   "cell_type": "code",
   "execution_count": 267,
   "metadata": {
    "colab": {
     "base_uri": "https://localhost:8080/"
    },
    "id": "-BqcBLuJBUAt",
    "outputId": "677c7877-60cb-4d8b-a0f4-6def47e39c24"
   },
   "outputs": [
    {
     "data": {
      "text/plain": [
       "[219, 4, 211, 115, 116, 1256]"
      ]
     },
     "execution_count": 267,
     "metadata": {
      "tags": []
     },
     "output_type": "execute_result"
    }
   ],
   "source": [
    "# transforming text to a sequence of integers\n",
    "q1_seq = tokenizer.texts_to_sequences([clq1_])[0]\n",
    "q1_seq"
   ]
  },
  {
   "cell_type": "code",
   "execution_count": 268,
   "metadata": {
    "colab": {
     "base_uri": "https://localhost:8080/"
    },
    "id": "PZyrYcX6BUAt",
    "outputId": "b81f94bd-5d0e-4e3e-d43e-5367ed897580"
   },
   "outputs": [
    {
     "data": {
      "text/plain": [
       "[219, 50, 211, 43, 116, 7981]"
      ]
     },
     "execution_count": 268,
     "metadata": {
      "tags": []
     },
     "output_type": "execute_result"
    }
   ],
   "source": [
    "# transforming text to a sequence of integers\n",
    "q2_seq = tokenizer.texts_to_sequences([clq2_])[0]\n",
    "q2_seq"
   ]
  },
  {
   "cell_type": "code",
   "execution_count": 269,
   "metadata": {
    "colab": {
     "base_uri": "https://localhost:8080/"
    },
    "id": "SK5TsMTkBUAt",
    "outputId": "3779230e-b28f-4342-a9f2-e3e302f618df"
   },
   "outputs": [
    {
     "data": {
      "text/plain": [
       "array([ 219,    4,  211,  115,  116, 1256,    0,    0,    0,    0,    0,\n",
       "          0,    0,    0,    0,    0,    0,    0,    0,    0,    0,    0,\n",
       "          0,    0,    0,    0,    0,    0,    0,    0], dtype=int32)"
      ]
     },
     "execution_count": 269,
     "metadata": {
      "tags": []
     },
     "output_type": "execute_result"
    }
   ],
   "source": [
    "# pad_sequences pads sequences to the same length\n",
    "# padding='post' to pad after each sequence\n",
    "q1_seq = pad_sequences([q1_seq],\n",
    "                       maxlen=30,\n",
    "                       padding='post')\n",
    "q1_seq[0]"
   ]
  },
  {
   "cell_type": "code",
   "execution_count": 270,
   "metadata": {
    "colab": {
     "base_uri": "https://localhost:8080/"
    },
    "id": "F45teIGMBUAu",
    "outputId": "46f695d5-9449-4ddb-8004-0b70299bf816"
   },
   "outputs": [
    {
     "data": {
      "text/plain": [
       "array([ 219,   50,  211,   43,  116, 7981,    0,    0,    0,    0,    0,\n",
       "          0,    0,    0,    0,    0,    0,    0,    0,    0,    0,    0,\n",
       "          0,    0,    0,    0,    0,    0,    0,    0], dtype=int32)"
      ]
     },
     "execution_count": 270,
     "metadata": {
      "tags": []
     },
     "output_type": "execute_result"
    }
   ],
   "source": [
    "# pad_sequences pads sequences to the same length\n",
    "# padding='post' to pad after each sequence\n",
    "q2_seq = pad_sequences([q2_seq],\n",
    "                       maxlen=30,\n",
    "                       padding='post')\n",
    "q2_seq[0]"
   ]
  },
  {
   "cell_type": "code",
   "execution_count": 271,
   "metadata": {
    "colab": {
     "base_uri": "https://localhost:8080/"
    },
    "id": "Tax5_LqFBUAu",
    "outputId": "1baa0362-109f-465c-bb25-ea2de7311107"
   },
   "outputs": [
    {
     "name": "stdout",
     "output_type": "stream",
     "text": [
      "1/1 [==============================] - 0s 20ms/step\n"
     ]
    },
    {
     "data": {
      "text/plain": [
       "0.6742249"
      ]
     },
     "execution_count": 271,
     "metadata": {
      "tags": []
     },
     "output_type": "execute_result"
    }
   ],
   "source": [
    "# predicting the relatedness of the two texts\n",
    "answer_3 = loaded_model.predict([q1_seq, q2_seq],\n",
    "                                verbose=1)\n",
    "answer_3[0][0]"
   ]
  },
  {
   "cell_type": "code",
   "execution_count": 272,
   "metadata": {
    "id": "3L9_9I32LAca",
    "pycharm": {
     "name": "#%%\n"
    }
   },
   "outputs": [],
   "source": [
    "# generate wordclouds\n",
    "wordcloud_1_text_1 = plot_wordcloud(text_1)\n",
    "wordcloud_1_text_2 = plot_wordcloud(text_2)"
   ]
  },
  {
   "cell_type": "code",
   "execution_count": 273,
   "metadata": {
    "colab": {
     "base_uri": "https://localhost:8080/",
     "height": 264
    },
    "id": "EGxOLSBiLAcb",
    "outputId": "22e6ed30-97e9-470a-8374-60e141591bda",
    "pycharm": {
     "name": "#%%\n"
    }
   },
   "outputs": [
    {
     "data": {
      "image/png": "[encoded data removed]",
      "text/plain": [
       "<Figure size 432x288 with 1 Axes>"
      ]
     },
     "metadata": {
      "needs_background": "light",
      "tags": []
     },
     "output_type": "display_data"
    }
   ],
   "source": [
    "# plot the wordcloud image for text_1\n",
    "plt.imshow(wordcloud_1_text_1)\n",
    "plt.axis('off')\n",
    "plt.title('wordcloud image 1 - text_1')\n",
    "plt.savefig('plots/wordcloud_1_text_1_lemma.png',\n",
    "            facecolor='white')\n",
    "plt.show()"
   ]
  },
  {
   "cell_type": "code",
   "execution_count": 274,
   "metadata": {
    "colab": {
     "base_uri": "https://localhost:8080/",
     "height": 264
    },
    "id": "zoe94Wl8LAcb",
    "outputId": "c1d4e9ef-5705-463a-eab1-7101f7e10717",
    "pycharm": {
     "name": "#%%\n"
    }
   },
   "outputs": [
    {
     "data": {
      "image/png": "[encoded data removed]",
      "text/plain": [
       "<Figure size 432x288 with 1 Axes>"
      ]
     },
     "metadata": {
      "needs_background": "light",
      "tags": []
     },
     "output_type": "display_data"
    }
   ],
   "source": [
    "# plot the wordcloud image for text_2\n",
    "plt.imshow(wordcloud_1_text_2)\n",
    "plt.axis('off')\n",
    "plt.title('wordcloud image 1 - text_2')\n",
    "plt.savefig('plots/wordcloud_1_text_2_lemma.png',\n",
    "            facecolor='white')\n",
    "plt.show()"
   ]
  },
  {
   "cell_type": "code",
   "execution_count": 275,
   "metadata": {
    "id": "FvWU5Q-QE1BK"
   },
   "outputs": [],
   "source": [
    "# defining two sample text with lower relatedness to each other\n",
    "text_1 = 'Children like to play computer games'\n",
    "text_2 = 'Children prefer eating chocolate cake'"
   ]
  },
  {
   "cell_type": "code",
   "execution_count": 276,
   "metadata": {
    "colab": {
     "base_uri": "https://localhost:8080/",
     "height": 36
    },
    "id": "xRYrwLJPE0-0",
    "outputId": "181e49cf-41ab-41b0-bfa2-a8c21d973a46"
   },
   "outputs": [
    {
     "data": {
      "application/vnd.google.colaboratory.intrinsic+json": {
       "type": "string"
      },
      "text/plain": [
       "'child like play computer game'"
      ]
     },
     "execution_count": 276,
     "metadata": {
      "tags": []
     },
     "output_type": "execute_result"
    }
   ],
   "source": [
    "# preprocessing the text\n",
    "clq1_, _ = preprocess_text(text_1)\n",
    "clq1_ = str(clq1_)\n",
    "clq1_"
   ]
  },
  {
   "cell_type": "code",
   "execution_count": 277,
   "metadata": {
    "colab": {
     "base_uri": "https://localhost:8080/",
     "height": 36
    },
    "id": "p8hhLcyZE08K",
    "outputId": "33bfde19-48e3-4b1b-fdfa-6651bc1be8c1"
   },
   "outputs": [
    {
     "data": {
      "application/vnd.google.colaboratory.intrinsic+json": {
       "type": "string"
      },
      "text/plain": [
       "'child prefer eating chocolate cake'"
      ]
     },
     "execution_count": 277,
     "metadata": {
      "tags": []
     },
     "output_type": "execute_result"
    }
   ],
   "source": [
    "# preprocessing the text\n",
    "clq2_, _ = preprocess_text(text_2)\n",
    "clq2_ = str(clq2_)\n",
    "clq2_"
   ]
  },
  {
   "cell_type": "code",
   "execution_count": 278,
   "metadata": {
    "colab": {
     "base_uri": "https://localhost:8080/"
    },
    "id": "LlMijFNGE05y",
    "outputId": "00ad1b5a-02a2-47b1-8431-b10f0535fb25"
   },
   "outputs": [
    {
     "data": {
      "text/plain": [
       "[219, 4, 211, 115, 116]"
      ]
     },
     "execution_count": 278,
     "metadata": {
      "tags": []
     },
     "output_type": "execute_result"
    }
   ],
   "source": [
    "# transforming text to a sequence of integers\n",
    "q1_seq = tokenizer.texts_to_sequences([clq1_])[0]\n",
    "q1_seq"
   ]
  },
  {
   "cell_type": "code",
   "execution_count": 279,
   "metadata": {
    "colab": {
     "base_uri": "https://localhost:8080/"
    },
    "id": "2RCyr_9DE03K",
    "outputId": "dbd920fa-c611-4306-f01f-0651b225151a"
   },
   "outputs": [
    {
     "data": {
      "text/plain": [
       "[219, 903, 686, 2260, 2007]"
      ]
     },
     "execution_count": 279,
     "metadata": {
      "tags": []
     },
     "output_type": "execute_result"
    }
   ],
   "source": [
    "# transforming text to a sequence of integers\n",
    "q2_seq = tokenizer.texts_to_sequences([clq2_])[0]\n",
    "q2_seq"
   ]
  },
  {
   "cell_type": "code",
   "execution_count": 280,
   "metadata": {
    "colab": {
     "base_uri": "https://localhost:8080/"
    },
    "id": "i7XoJp-jE00e",
    "outputId": "da9fd42f-8351-47b4-d0ec-397e35062575"
   },
   "outputs": [
    {
     "data": {
      "text/plain": [
       "array([219,   4, 211, 115, 116,   0,   0,   0,   0,   0,   0,   0,   0,\n",
       "         0,   0,   0,   0,   0,   0,   0,   0,   0,   0,   0,   0,   0,\n",
       "         0,   0,   0,   0], dtype=int32)"
      ]
     },
     "execution_count": 280,
     "metadata": {
      "tags": []
     },
     "output_type": "execute_result"
    }
   ],
   "source": [
    "# pad_sequences pads sequences to the same length\n",
    "# padding='post' to pad after each sequence\n",
    "q1_seq = pad_sequences([q1_seq],\n",
    "                       maxlen=30,\n",
    "                       padding='post')\n",
    "q1_seq[0]"
   ]
  },
  {
   "cell_type": "code",
   "execution_count": 281,
   "metadata": {
    "colab": {
     "base_uri": "https://localhost:8080/"
    },
    "id": "7IQ5sqgqE0xs",
    "outputId": "79f7b647-db4b-4968-9937-f22211740ca4"
   },
   "outputs": [
    {
     "data": {
      "text/plain": [
       "array([ 219,  903,  686, 2260, 2007,    0,    0,    0,    0,    0,    0,\n",
       "          0,    0,    0,    0,    0,    0,    0,    0,    0,    0,    0,\n",
       "          0,    0,    0,    0,    0,    0,    0,    0], dtype=int32)"
      ]
     },
     "execution_count": 281,
     "metadata": {
      "tags": []
     },
     "output_type": "execute_result"
    }
   ],
   "source": [
    "# pad_sequences pads sequences to the same length\n",
    "# padding='post' to pad after each sequence\n",
    "q2_seq = pad_sequences([q2_seq],\n",
    "                       maxlen=30,\n",
    "                       padding='post')\n",
    "q2_seq[0]"
   ]
  },
  {
   "cell_type": "code",
   "execution_count": 282,
   "metadata": {
    "colab": {
     "base_uri": "https://localhost:8080/"
    },
    "id": "Vr3z47ffE0oQ",
    "outputId": "ae1220fe-0bbc-44a0-8d19-5c2986462d81"
   },
   "outputs": [
    {
     "name": "stdout",
     "output_type": "stream",
     "text": [
      "1/1 [==============================] - 0s 19ms/step\n"
     ]
    },
    {
     "data": {
      "text/plain": [
       "0.06262955"
      ]
     },
     "execution_count": 282,
     "metadata": {
      "tags": []
     },
     "output_type": "execute_result"
    }
   ],
   "source": [
    "# predicting the relatedness of the two texts\n",
    "answer_3 = loaded_model.predict([q1_seq, q2_seq],\n",
    "                                verbose=1)\n",
    "answer_3[0][0]"
   ]
  },
  {
   "cell_type": "code",
   "execution_count": 283,
   "metadata": {
    "id": "f74Q75lqLAce",
    "pycharm": {
     "name": "#%%\n"
    }
   },
   "outputs": [],
   "source": [
    "# generate wordclouds\n",
    "wordcloud_2_text_1 = plot_wordcloud(text_1)\n",
    "wordcloud_2_text_2 = plot_wordcloud(text_2)"
   ]
  },
  {
   "cell_type": "code",
   "execution_count": 284,
   "metadata": {
    "colab": {
     "base_uri": "https://localhost:8080/",
     "height": 264
    },
    "id": "HMceTeOnLAce",
    "outputId": "3ff891b5-863e-4086-ae0a-8f827335b3e5",
    "pycharm": {
     "name": "#%%\n"
    }
   },
   "outputs": [
    {
     "data": {
      "image/png": "[encoded data removed]",
      "text/plain": [
       "<Figure size 432x288 with 1 Axes>"
      ]
     },
     "metadata": {
      "needs_background": "light",
      "tags": []
     },
     "output_type": "display_data"
    }
   ],
   "source": [
    "# plot the wordcloud image for text_1\n",
    "plt.imshow(wordcloud_2_text_1)\n",
    "plt.axis('off')\n",
    "plt.title('wordcloud image 2 - text_1')\n",
    "plt.savefig('plots/wordcloud_2_text_1_lemma.png',\n",
    "            facecolor='white')\n",
    "plt.show()"
   ]
  },
  {
   "cell_type": "code",
   "execution_count": 285,
   "metadata": {
    "colab": {
     "base_uri": "https://localhost:8080/",
     "height": 264
    },
    "id": "7VZ8E_6OLAce",
    "outputId": "77608e28-c847-470e-fac1-e6c822715f8f",
    "pycharm": {
     "name": "#%%\n"
    }
   },
   "outputs": [
    {
     "data": {
      "image/png": "[encoded data removed]",
      "text/plain": [
       "<Figure size 432x288 with 1 Axes>"
      ]
     },
     "metadata": {
      "needs_background": "light",
      "tags": []
     },
     "output_type": "display_data"
    }
   ],
   "source": [
    "# plot the wordcloud image for text_2\n",
    "plt.imshow(wordcloud_2_text_2)\n",
    "plt.axis('off')\n",
    "plt.title('wordcloud image 2 - text_2')\n",
    "plt.savefig('plots/wordcloud_2_text_2_lemma.png',\n",
    "            facecolor='white')\n",
    "plt.show()"
   ]
  },
  {
   "cell_type": "code",
   "execution_count": 286,
   "metadata": {
    "id": "e4vR2cboPtlj"
   },
   "outputs": [],
   "source": [
    "# importing tsne (t-distributed stochastic neighbor embedding)\n",
    "# from manifold module that implements data embedding techniques\n",
    "# in the scikit-learn library\n",
    "from sklearn.manifold import TSNE\n",
    "\n",
    "# t-SNE is a tool to visualize high-dimensional data\n",
    "tsne = TSNE(n_components=2,\n",
    "            random_state=0)\n",
    "\n",
    "# declaring embeddings_dict dictionary\n",
    "embeddings_dict = dict()\n",
    "\n",
    "# GloVe is an unsupervised learning algorithm for obtaining vector\n",
    "# representations for words\n",
    "# Training is performed on aggregated global word-word co-occurrence\n",
    "# statistics from a corpus\n",
    "# Resulting representations show interesting linear substructures of\n",
    "# the word vector space\n",
    "# This dataset contains English word vectors pre-trained on the\n",
    "# combined Wikipedia corpora\n",
    "# GloVe embeddings use these pre-trained embeddings to quantify\n",
    "# word co-occurrence\n",
    "# GloVe embeddings capture some aspects of word meaning\n",
    "# opening text file with glove embeddings\n",
    "with open('glove.6B.300d.txt', 'r') as file:\n",
    "    # reading the file line by line\n",
    "    # tokenizing each line into tokens\n",
    "    # adding data to word_vectors dictionary\n",
    "    for line in file:\n",
    "        values = line.split()\n",
    "        word = values[0]\n",
    "        vector = np.asarray(values[1:],\n",
    "                            'float32')\n",
    "        embeddings_dict[word] = vector"
   ]
  },
  {
   "cell_type": "code",
   "execution_count": 287,
   "metadata": {
    "colab": {
     "base_uri": "https://localhost:8080/",
     "height": 281
    },
    "id": "COLuFt_LT-Jf",
    "outputId": "52fd3694-4ce6-411f-a5f3-9df573aadffd"
   },
   "outputs": [
    {
     "data": {
      "image/png": "[encoded data removed]",
      "text/plain": [
       "<Figure size 432x288 with 1 Axes>"
      ]
     },
     "metadata": {
      "needs_background": "light",
      "tags": []
     },
     "output_type": "display_data"
    }
   ],
   "source": [
    "# plotting the sample glove dataset words for visualization\n",
    "# purposes\n",
    "\n",
    "words = list(embeddings_dict.keys())\n",
    "\n",
    "vectors = [embeddings_dict[word] for word in words]\n",
    "\n",
    "Y = tsne.fit_transform(vectors[:100])\n",
    "\n",
    "plt.scatter(Y[:, 0], Y[:, 1])\n",
    "\n",
    "for label, x, y in zip(words, Y[:, 0], Y[:, 1]):\n",
    "    plt.annotate(label,\n",
    "                 xy=(x, y),\n",
    "                 xytext=(0, 0),\n",
    "                 textcoords='offset points')\n",
    "\n",
    "plt.title('glove dataset analysis')\n",
    "\n",
    "plt.savefig('plots/glove_dataset_analysis.png',\n",
    "            facecolor='white')\n",
    "\n",
    "plt.show()"
   ]
  },
  {
   "cell_type": "code",
   "execution_count": 288,
   "metadata": {
    "id": "d8dPUrZ2BUAu"
   },
   "outputs": [],
   "source": [
    "# generating the requirements.txt file\n",
    "# to install the correct versions of the required python\n",
    "# libraries or packages in a venv (virtual environment)\n",
    "!pip3 freeze > requirements.txt"
   ]
  },
  {
   "cell_type": "code",
   "execution_count": 288,
   "metadata": {
    "id": "goxNb7_xpFIT"
   },
   "outputs": [],
   "source": []
  }
 ],
 "metadata": {
  "colab": {
   "collapsed_sections": [],
   "name": "google_colab_3.ipynb",
   "provenance": []
  },
  "kernelspec": {
   "display_name": "Python 3",
   "language": "python",
   "name": "python3"
  },
  "language_info": {
   "codemirror_mode": {
    "name": "ipython",
    "version": 3
   },
   "file_extension": ".py",
   "mimetype": "text/x-python",
   "name": "python",
   "nbconvert_exporter": "python",
   "pygments_lexer": "ipython3",
   "version": "3.9.1"
  }
 },
 "nbformat": 4,
 "nbformat_minor": 1
}
