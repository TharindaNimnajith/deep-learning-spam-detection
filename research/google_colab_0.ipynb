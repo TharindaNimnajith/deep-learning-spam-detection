{
 "cells": [
  {
   "cell_type": "code",
   "execution_count": 1,
   "metadata": {
    "id": "DI4e4DGKnBZN",
    "pycharm": {
     "name": "#%%\n"
    }
   },
   "outputs": [],
   "source": [
    "# importing warnings library to handle exceptions, errors, and warning of the program\n",
    "import warnings\n",
    "\n",
    "# ignoring potential warnings of the program\n",
    "warnings.filterwarnings('ignore')"
   ]
  },
  {
   "cell_type": "code",
   "execution_count": 2,
   "metadata": {
    "colab": {
     "base_uri": "https://localhost:8080/"
    },
    "id": "adPUI66CnBZS",
    "outputId": "7ac61c18-7ff2-4137-8146-fb45bf9976a6",
    "pycharm": {
     "name": "#%%\n"
    }
   },
   "outputs": [
    {
     "name": "stdout",
     "output_type": "stream",
     "text": [
      "Mounted at /content/drive\n"
     ]
    }
   ],
   "source": [
    "# mounting google drive to read files stores in it\n",
    "from google.colab import drive\n",
    "\n",
    "drive.mount('/content/drive')"
   ]
  },
  {
   "cell_type": "code",
   "execution_count": 3,
   "metadata": {
    "colab": {
     "base_uri": "https://localhost:8080/"
    },
    "id": "xURbkm0SnBZT",
    "outputId": "8dcfedfd-a1a7-4ad6-d216-a324c5f4304c",
    "pycharm": {
     "name": "#%%\n"
    }
   },
   "outputs": [
    {
     "name": "stdout",
     "output_type": "stream",
     "text": [
      "--2021-06-08 17:13:34--  http://nlp.stanford.edu/data/glove.6B.zip\n",
      "Resolving nlp.stanford.edu (nlp.stanford.edu)... 171.64.67.140\n",
      "Connecting to nlp.stanford.edu (nlp.stanford.edu)|171.64.67.140|:80... connected.\n",
      "HTTP request sent, awaiting response... 302 Found\n",
      "Location: https://nlp.stanford.edu/data/glove.6B.zip [following]\n",
      "--2021-06-08 17:13:34--  https://nlp.stanford.edu/data/glove.6B.zip\n",
      "Connecting to nlp.stanford.edu (nlp.stanford.edu)|171.64.67.140|:443... connected.\n",
      "HTTP request sent, awaiting response... 301 Moved Permanently\n",
      "Location: http://downloads.cs.stanford.edu/nlp/data/glove.6B.zip [following]\n",
      "--2021-06-08 17:13:34--  http://downloads.cs.stanford.edu/nlp/data/glove.6B.zip\n",
      "Resolving downloads.cs.stanford.edu (downloads.cs.stanford.edu)... 171.64.64.22\n",
      "Connecting to downloads.cs.stanford.edu (downloads.cs.stanford.edu)|171.64.64.22|:80... connected.\n",
      "HTTP request sent, awaiting response... 200 OK\n",
      "Length: 862182613 (822M) [application/zip]\n",
      "Saving to: ‘glove.6B.zip’\n",
      "\n",
      "glove.6B.zip        100%[===================>] 822.24M  5.29MB/s    in 2m 40s  \n",
      "\n",
      "2021-06-08 17:16:15 (5.12 MB/s) - ‘glove.6B.zip’ saved [862182613/862182613]\n",
      "\n"
     ]
    }
   ],
   "source": [
    "# downloading glove dataset files from the internet\n",
    "!wget http://nlp.stanford.edu/data/glove.6B.zip"
   ]
  },
  {
   "cell_type": "code",
   "execution_count": 4,
   "metadata": {
    "colab": {
     "base_uri": "https://localhost:8080/"
    },
    "id": "ZHnp36yVnBZV",
    "outputId": "7826644e-b4fa-4dd7-c4bf-f5dc87687962",
    "pycharm": {
     "name": "#%%\n"
    }
   },
   "outputs": [
    {
     "name": "stdout",
     "output_type": "stream",
     "text": [
      "Archive:  glove.6B.zip\n",
      "  inflating: glove.6B.50d.txt        \n",
      "  inflating: glove.6B.100d.txt       \n",
      "  inflating: glove.6B.200d.txt       \n",
      "  inflating: glove.6B.300d.txt       \n"
     ]
    }
   ],
   "source": [
    "# extracting the downloaded zip file\n",
    "!unzip glove.6B.zip"
   ]
  },
  {
   "cell_type": "code",
   "execution_count": 5,
   "metadata": {
    "colab": {
     "base_uri": "https://localhost:8080/"
    },
    "id": "yehZv8CJnBZW",
    "outputId": "d1263de0-e2f7-48b2-a610-943268dfb453",
    "pycharm": {
     "name": "#%%\n"
    }
   },
   "outputs": [
    {
     "name": "stdout",
     "output_type": "stream",
     "text": [
      "drive\t\t   glove.6B.200d.txt  glove.6B.50d.txt\tsample_data\n",
      "glove.6B.100d.txt  glove.6B.300d.txt  glove.6B.zip\n"
     ]
    }
   ],
   "source": [
    "# listing files and directories\n",
    "!ls"
   ]
  },
  {
   "cell_type": "code",
   "execution_count": 6,
   "metadata": {
    "id": "OZves3LqnBZW",
    "pycharm": {
     "name": "#%%\n"
    }
   },
   "outputs": [],
   "source": [
    "# importing pandas library to perform data manipulation and analysis\n",
    "import pandas as pd\n",
    "\n",
    "# configuring the pandas dataframes to show all columns\n",
    "pd.options.display.max_columns = None"
   ]
  },
  {
   "cell_type": "code",
   "execution_count": 7,
   "metadata": {
    "colab": {
     "base_uri": "https://localhost:8080/",
     "height": 424
    },
    "id": "NrMlnmuqnBZX",
    "outputId": "c4f3f05b-7ce3-43ca-eac6-15057227dbbd",
    "pycharm": {
     "name": "#%%\n"
    }
   },
   "outputs": [
    {
     "data": {
      "text/html": [
       "<div>\n",
       "<style scoped>\n",
       "    .dataframe tbody tr th:only-of-type {\n",
       "        vertical-align: middle;\n",
       "    }\n",
       "\n",
       "    .dataframe tbody tr th {\n",
       "        vertical-align: top;\n",
       "    }\n",
       "\n",
       "    .dataframe thead th {\n",
       "        text-align: right;\n",
       "    }\n",
       "</style>\n",
       "<table border=\"1\" class=\"dataframe\">\n",
       "  <thead>\n",
       "    <tr style=\"text-align: right;\">\n",
       "      <th></th>\n",
       "      <th>question1</th>\n",
       "      <th>question2</th>\n",
       "      <th>preprocessed_question_1</th>\n",
       "      <th>preprocessed_question_2</th>\n",
       "      <th>is_duplicate</th>\n",
       "    </tr>\n",
       "  </thead>\n",
       "  <tbody>\n",
       "    <tr>\n",
       "      <th>0</th>\n",
       "      <td>What is the step by step guide to invest in sh...</td>\n",
       "      <td>What is the step by step guide to invest in sh...</td>\n",
       "      <td>['step', 'step', 'guide', 'invest', 'share', '...</td>\n",
       "      <td>['step', 'step', 'guide', 'invest', 'share', '...</td>\n",
       "      <td>0</td>\n",
       "    </tr>\n",
       "    <tr>\n",
       "      <th>1</th>\n",
       "      <td>What is the story of Kohinoor (Koh-i-Noor) Dia...</td>\n",
       "      <td>What would happen if the Indian government sto...</td>\n",
       "      <td>['story', 'kohinoor', 'kohinoor', 'diamond']</td>\n",
       "      <td>['would', 'happen', 'indian', 'government', 's...</td>\n",
       "      <td>0</td>\n",
       "    </tr>\n",
       "    <tr>\n",
       "      <th>2</th>\n",
       "      <td>How can I increase the speed of my internet co...</td>\n",
       "      <td>How can Internet speed be increased by hacking...</td>\n",
       "      <td>['increase', 'speed', 'internet', 'connection'...</td>\n",
       "      <td>['internet', 'speed', 'increased', 'hacking', ...</td>\n",
       "      <td>0</td>\n",
       "    </tr>\n",
       "    <tr>\n",
       "      <th>3</th>\n",
       "      <td>Why am I mentally very lonely? How can I solve...</td>\n",
       "      <td>Find the remainder when [math]23^{24}[/math] i...</td>\n",
       "      <td>['mentally', 'lonely', 'solve']</td>\n",
       "      <td>['find', 'remainder', 'math2324math', 'divided...</td>\n",
       "      <td>0</td>\n",
       "    </tr>\n",
       "    <tr>\n",
       "      <th>4</th>\n",
       "      <td>Which one dissolve in water quikly sugar, salt...</td>\n",
       "      <td>Which fish would survive in salt water?</td>\n",
       "      <td>['one', 'dissolve', 'water', 'quikly', 'sugar'...</td>\n",
       "      <td>['fish', 'would', 'survive', 'salt', 'water']</td>\n",
       "      <td>0</td>\n",
       "    </tr>\n",
       "    <tr>\n",
       "      <th>...</th>\n",
       "      <td>...</td>\n",
       "      <td>...</td>\n",
       "      <td>...</td>\n",
       "      <td>...</td>\n",
       "      <td>...</td>\n",
       "    </tr>\n",
       "    <tr>\n",
       "      <th>404282</th>\n",
       "      <td>How many keywords are there in the Racket prog...</td>\n",
       "      <td>How many keywords are there in PERL Programmin...</td>\n",
       "      <td>['many', 'keywords', 'racket', 'programming', ...</td>\n",
       "      <td>['many', 'keywords', 'perl', 'programming', 'l...</td>\n",
       "      <td>0</td>\n",
       "    </tr>\n",
       "    <tr>\n",
       "      <th>404283</th>\n",
       "      <td>Do you believe there is life after death?</td>\n",
       "      <td>Is it true that there is life after death?</td>\n",
       "      <td>['believe', 'life', 'death']</td>\n",
       "      <td>['true', 'life', 'death']</td>\n",
       "      <td>1</td>\n",
       "    </tr>\n",
       "    <tr>\n",
       "      <th>404284</th>\n",
       "      <td>What is one coin?</td>\n",
       "      <td>What's this coin?</td>\n",
       "      <td>['one', 'coin']</td>\n",
       "      <td>['whats', 'coin']</td>\n",
       "      <td>0</td>\n",
       "    </tr>\n",
       "    <tr>\n",
       "      <th>404285</th>\n",
       "      <td>What is the approx annual cost of living while...</td>\n",
       "      <td>I am having little hairfall problem but I want...</td>\n",
       "      <td>['approx', 'annual', 'cost', 'living', 'studyi...</td>\n",
       "      <td>['little', 'hairfall', 'problem', 'want', 'use...</td>\n",
       "      <td>0</td>\n",
       "    </tr>\n",
       "    <tr>\n",
       "      <th>404286</th>\n",
       "      <td>What is like to have sex with cousin?</td>\n",
       "      <td>What is it like to have sex with your cousin?</td>\n",
       "      <td>['like', 'sex', 'cousin']</td>\n",
       "      <td>['like', 'sex', 'cousin']</td>\n",
       "      <td>0</td>\n",
       "    </tr>\n",
       "  </tbody>\n",
       "</table>\n",
       "<p>404287 rows × 5 columns</p>\n",
       "</div>"
      ],
      "text/plain": [
       "                                                question1  \\\n",
       "0       What is the step by step guide to invest in sh...   \n",
       "1       What is the story of Kohinoor (Koh-i-Noor) Dia...   \n",
       "2       How can I increase the speed of my internet co...   \n",
       "3       Why am I mentally very lonely? How can I solve...   \n",
       "4       Which one dissolve in water quikly sugar, salt...   \n",
       "...                                                   ...   \n",
       "404282  How many keywords are there in the Racket prog...   \n",
       "404283          Do you believe there is life after death?   \n",
       "404284                                  What is one coin?   \n",
       "404285  What is the approx annual cost of living while...   \n",
       "404286              What is like to have sex with cousin?   \n",
       "\n",
       "                                                question2  \\\n",
       "0       What is the step by step guide to invest in sh...   \n",
       "1       What would happen if the Indian government sto...   \n",
       "2       How can Internet speed be increased by hacking...   \n",
       "3       Find the remainder when [math]23^{24}[/math] i...   \n",
       "4                 Which fish would survive in salt water?   \n",
       "...                                                   ...   \n",
       "404282  How many keywords are there in PERL Programmin...   \n",
       "404283         Is it true that there is life after death?   \n",
       "404284                                  What's this coin?   \n",
       "404285  I am having little hairfall problem but I want...   \n",
       "404286      What is it like to have sex with your cousin?   \n",
       "\n",
       "                                  preprocessed_question_1  \\\n",
       "0       ['step', 'step', 'guide', 'invest', 'share', '...   \n",
       "1            ['story', 'kohinoor', 'kohinoor', 'diamond']   \n",
       "2       ['increase', 'speed', 'internet', 'connection'...   \n",
       "3                         ['mentally', 'lonely', 'solve']   \n",
       "4       ['one', 'dissolve', 'water', 'quikly', 'sugar'...   \n",
       "...                                                   ...   \n",
       "404282  ['many', 'keywords', 'racket', 'programming', ...   \n",
       "404283                       ['believe', 'life', 'death']   \n",
       "404284                                    ['one', 'coin']   \n",
       "404285  ['approx', 'annual', 'cost', 'living', 'studyi...   \n",
       "404286                          ['like', 'sex', 'cousin']   \n",
       "\n",
       "                                  preprocessed_question_2  is_duplicate  \n",
       "0       ['step', 'step', 'guide', 'invest', 'share', '...             0  \n",
       "1       ['would', 'happen', 'indian', 'government', 's...             0  \n",
       "2       ['internet', 'speed', 'increased', 'hacking', ...             0  \n",
       "3       ['find', 'remainder', 'math2324math', 'divided...             0  \n",
       "4           ['fish', 'would', 'survive', 'salt', 'water']             0  \n",
       "...                                                   ...           ...  \n",
       "404282  ['many', 'keywords', 'perl', 'programming', 'l...             0  \n",
       "404283                          ['true', 'life', 'death']             1  \n",
       "404284                                  ['whats', 'coin']             0  \n",
       "404285  ['little', 'hairfall', 'problem', 'want', 'use...             0  \n",
       "404286                          ['like', 'sex', 'cousin']             0  \n",
       "\n",
       "[404287 rows x 5 columns]"
      ]
     },
     "execution_count": 7,
     "metadata": {
      "tags": []
     },
     "output_type": "execute_result"
    }
   ],
   "source": [
    "# importing the cleaned qqp.csv dataset to a pandas dataframe\n",
    "# dataset includes quora question pairs with their duplicate status\n",
    "df = pd.read_csv('drive/MyDrive/preprocessed_datasets/qqp.csv')\n",
    "df"
   ]
  },
  {
   "cell_type": "code",
   "execution_count": 8,
   "metadata": {
    "colab": {
     "base_uri": "https://localhost:8080/"
    },
    "id": "afrU-_chnBZY",
    "outputId": "cd23bc41-c1fd-4c68-aa64-dba2dd108ed6",
    "pycharm": {
     "name": "#%%\n"
    }
   },
   "outputs": [
    {
     "name": "stdout",
     "output_type": "stream",
     "text": [
      "<class 'pandas.core.frame.DataFrame'>\n",
      "RangeIndex: 404287 entries, 0 to 404286\n",
      "Data columns (total 5 columns):\n",
      " #   Column                   Non-Null Count   Dtype \n",
      "---  ------                   --------------   ----- \n",
      " 0   question1                404287 non-null  object\n",
      " 1   question2                404287 non-null  object\n",
      " 2   preprocessed_question_1  404287 non-null  object\n",
      " 3   preprocessed_question_2  404287 non-null  object\n",
      " 4   is_duplicate             404287 non-null  int64 \n",
      "dtypes: int64(1), object(4)\n",
      "memory usage: 15.4+ MB\n"
     ]
    }
   ],
   "source": [
    "# printing a concise summary of the dataframe\n",
    "# information such as index, data type, columns, non-null values, and memory usage\n",
    "df.info()"
   ]
  },
  {
   "cell_type": "code",
   "execution_count": 9,
   "metadata": {
    "colab": {
     "base_uri": "https://localhost:8080/",
     "height": 424
    },
    "id": "8Xu2AH3CnBZZ",
    "outputId": "0ab052fc-417c-4c1f-9b26-66750f094e14",
    "pycharm": {
     "name": "#%%\n"
    }
   },
   "outputs": [
    {
     "data": {
      "text/html": [
       "<div>\n",
       "<style scoped>\n",
       "    .dataframe tbody tr th:only-of-type {\n",
       "        vertical-align: middle;\n",
       "    }\n",
       "\n",
       "    .dataframe tbody tr th {\n",
       "        vertical-align: top;\n",
       "    }\n",
       "\n",
       "    .dataframe thead th {\n",
       "        text-align: right;\n",
       "    }\n",
       "</style>\n",
       "<table border=\"1\" class=\"dataframe\">\n",
       "  <thead>\n",
       "    <tr style=\"text-align: right;\">\n",
       "      <th></th>\n",
       "      <th>preprocessed_question_1</th>\n",
       "      <th>preprocessed_question_2</th>\n",
       "    </tr>\n",
       "  </thead>\n",
       "  <tbody>\n",
       "    <tr>\n",
       "      <th>0</th>\n",
       "      <td>['step', 'step', 'guide', 'invest', 'share', '...</td>\n",
       "      <td>['step', 'step', 'guide', 'invest', 'share', '...</td>\n",
       "    </tr>\n",
       "    <tr>\n",
       "      <th>1</th>\n",
       "      <td>['story', 'kohinoor', 'kohinoor', 'diamond']</td>\n",
       "      <td>['would', 'happen', 'indian', 'government', 's...</td>\n",
       "    </tr>\n",
       "    <tr>\n",
       "      <th>2</th>\n",
       "      <td>['increase', 'speed', 'internet', 'connection'...</td>\n",
       "      <td>['internet', 'speed', 'increased', 'hacking', ...</td>\n",
       "    </tr>\n",
       "    <tr>\n",
       "      <th>3</th>\n",
       "      <td>['mentally', 'lonely', 'solve']</td>\n",
       "      <td>['find', 'remainder', 'math2324math', 'divided...</td>\n",
       "    </tr>\n",
       "    <tr>\n",
       "      <th>4</th>\n",
       "      <td>['one', 'dissolve', 'water', 'quikly', 'sugar'...</td>\n",
       "      <td>['fish', 'would', 'survive', 'salt', 'water']</td>\n",
       "    </tr>\n",
       "    <tr>\n",
       "      <th>...</th>\n",
       "      <td>...</td>\n",
       "      <td>...</td>\n",
       "    </tr>\n",
       "    <tr>\n",
       "      <th>404282</th>\n",
       "      <td>['many', 'keywords', 'racket', 'programming', ...</td>\n",
       "      <td>['many', 'keywords', 'perl', 'programming', 'l...</td>\n",
       "    </tr>\n",
       "    <tr>\n",
       "      <th>404283</th>\n",
       "      <td>['believe', 'life', 'death']</td>\n",
       "      <td>['true', 'life', 'death']</td>\n",
       "    </tr>\n",
       "    <tr>\n",
       "      <th>404284</th>\n",
       "      <td>['one', 'coin']</td>\n",
       "      <td>['whats', 'coin']</td>\n",
       "    </tr>\n",
       "    <tr>\n",
       "      <th>404285</th>\n",
       "      <td>['approx', 'annual', 'cost', 'living', 'studyi...</td>\n",
       "      <td>['little', 'hairfall', 'problem', 'want', 'use...</td>\n",
       "    </tr>\n",
       "    <tr>\n",
       "      <th>404286</th>\n",
       "      <td>['like', 'sex', 'cousin']</td>\n",
       "      <td>['like', 'sex', 'cousin']</td>\n",
       "    </tr>\n",
       "  </tbody>\n",
       "</table>\n",
       "<p>404287 rows × 2 columns</p>\n",
       "</div>"
      ],
      "text/plain": [
       "                                  preprocessed_question_1  \\\n",
       "0       ['step', 'step', 'guide', 'invest', 'share', '...   \n",
       "1            ['story', 'kohinoor', 'kohinoor', 'diamond']   \n",
       "2       ['increase', 'speed', 'internet', 'connection'...   \n",
       "3                         ['mentally', 'lonely', 'solve']   \n",
       "4       ['one', 'dissolve', 'water', 'quikly', 'sugar'...   \n",
       "...                                                   ...   \n",
       "404282  ['many', 'keywords', 'racket', 'programming', ...   \n",
       "404283                       ['believe', 'life', 'death']   \n",
       "404284                                    ['one', 'coin']   \n",
       "404285  ['approx', 'annual', 'cost', 'living', 'studyi...   \n",
       "404286                          ['like', 'sex', 'cousin']   \n",
       "\n",
       "                                  preprocessed_question_2  \n",
       "0       ['step', 'step', 'guide', 'invest', 'share', '...  \n",
       "1       ['would', 'happen', 'indian', 'government', 's...  \n",
       "2       ['internet', 'speed', 'increased', 'hacking', ...  \n",
       "3       ['find', 'remainder', 'math2324math', 'divided...  \n",
       "4           ['fish', 'would', 'survive', 'salt', 'water']  \n",
       "...                                                   ...  \n",
       "404282  ['many', 'keywords', 'perl', 'programming', 'l...  \n",
       "404283                          ['true', 'life', 'death']  \n",
       "404284                                  ['whats', 'coin']  \n",
       "404285  ['little', 'hairfall', 'problem', 'want', 'use...  \n",
       "404286                          ['like', 'sex', 'cousin']  \n",
       "\n",
       "[404287 rows x 2 columns]"
      ]
     },
     "execution_count": 9,
     "metadata": {
      "tags": []
     },
     "output_type": "execute_result"
    }
   ],
   "source": [
    "# assigning two feature attributes to X\n",
    "X = df[['preprocessed_question_1', 'preprocessed_question_2']]\n",
    "X"
   ]
  },
  {
   "cell_type": "code",
   "execution_count": 10,
   "metadata": {
    "colab": {
     "base_uri": "https://localhost:8080/"
    },
    "id": "phlrWZXBnBZZ",
    "outputId": "ba00f6fb-ba1b-4f97-d056-cfb518984df6",
    "pycharm": {
     "name": "#%%\n"
    }
   },
   "outputs": [
    {
     "data": {
      "text/plain": [
       "0         0\n",
       "1         0\n",
       "2         0\n",
       "3         0\n",
       "4         0\n",
       "         ..\n",
       "404282    0\n",
       "404283    1\n",
       "404284    0\n",
       "404285    0\n",
       "404286    0\n",
       "Name: is_duplicate, Length: 404287, dtype: int64"
      ]
     },
     "execution_count": 10,
     "metadata": {
      "tags": []
     },
     "output_type": "execute_result"
    }
   ],
   "source": [
    "# assigning target variable to y\n",
    "y = df['is_duplicate']\n",
    "y"
   ]
  },
  {
   "cell_type": "code",
   "execution_count": 11,
   "metadata": {
    "id": "5vxaxK9dnBZb",
    "pycharm": {
     "name": "#%%\n"
    }
   },
   "outputs": [],
   "source": [
    "# importing train_test_split from scikit-learn library\n",
    "from sklearn.model_selection import train_test_split\n",
    "\n",
    "# splitting data into random train and test subsets\n",
    "# train set - 80%, test set - 20%\n",
    "# when random_state set to an int, train_test_split will return same results for each execution\n",
    "X_train, X_test, y_train, y_test = train_test_split(X, y, test_size=0.2, random_state=42)"
   ]
  },
  {
   "cell_type": "code",
   "execution_count": 12,
   "metadata": {
    "colab": {
     "base_uri": "https://localhost:8080/",
     "height": 424
    },
    "id": "c9fDWcvGnBZb",
    "outputId": "1d6c7484-1da7-4e81-bade-e95be701590e",
    "pycharm": {
     "name": "#%%\n"
    }
   },
   "outputs": [
    {
     "data": {
      "text/html": [
       "<div>\n",
       "<style scoped>\n",
       "    .dataframe tbody tr th:only-of-type {\n",
       "        vertical-align: middle;\n",
       "    }\n",
       "\n",
       "    .dataframe tbody tr th {\n",
       "        vertical-align: top;\n",
       "    }\n",
       "\n",
       "    .dataframe thead th {\n",
       "        text-align: right;\n",
       "    }\n",
       "</style>\n",
       "<table border=\"1\" class=\"dataframe\">\n",
       "  <thead>\n",
       "    <tr style=\"text-align: right;\">\n",
       "      <th></th>\n",
       "      <th>preprocessed_question_1</th>\n",
       "      <th>preprocessed_question_2</th>\n",
       "    </tr>\n",
       "  </thead>\n",
       "  <tbody>\n",
       "    <tr>\n",
       "      <th>174949</th>\n",
       "      <td>['india', 'job', 'option', 'future', 'option',...</td>\n",
       "      <td>['job', 'career', 'india', 'currently', 'third...</td>\n",
       "    </tr>\n",
       "    <tr>\n",
       "      <th>119442</th>\n",
       "      <td>['world', 'best', 'romantic', 'movie']</td>\n",
       "      <td>['best', 'romantic', 'movie', 'time']</td>\n",
       "    </tr>\n",
       "    <tr>\n",
       "      <th>252941</th>\n",
       "      <td>['best', 'place', 'live', 'hyderabad']</td>\n",
       "      <td>['best', 'place', 'live', 'hyderabad', 'mumbai']</td>\n",
       "    </tr>\n",
       "    <tr>\n",
       "      <th>13551</th>\n",
       "      <td>['athlete', 'month']</td>\n",
       "      <td>['shop', 'act', 'licence']</td>\n",
       "    </tr>\n",
       "    <tr>\n",
       "      <th>274896</th>\n",
       "      <td>['learn', 'code', 'wordpress']</td>\n",
       "      <td>['much', 'time', 'learn', 'code', 'wordpress',...</td>\n",
       "    </tr>\n",
       "    <tr>\n",
       "      <th>...</th>\n",
       "      <td>...</td>\n",
       "      <td>...</td>\n",
       "    </tr>\n",
       "    <tr>\n",
       "      <th>259178</th>\n",
       "      <td>['power', 'positive', 'thinking']</td>\n",
       "      <td>['cultivate', 'power', 'positive', 'thinking']</td>\n",
       "    </tr>\n",
       "    <tr>\n",
       "      <th>365838</th>\n",
       "      <td>['thing', 'new', 'employee', 'know', 'going', ...</td>\n",
       "      <td>['thing', 'new', 'employee', 'know', 'going', ...</td>\n",
       "    </tr>\n",
       "    <tr>\n",
       "      <th>131932</th>\n",
       "      <td>['currently', 'winning', 'presidential', 'elec...</td>\n",
       "      <td>['bias', 'aside', 'point', 'time', 'think', 'w...</td>\n",
       "    </tr>\n",
       "    <tr>\n",
       "      <th>146867</th>\n",
       "      <td>['telugutamilhindi', 'movie', 'leading', 'acto...</td>\n",
       "      <td>['fix', 'internet', 'connection', 'available',...</td>\n",
       "    </tr>\n",
       "    <tr>\n",
       "      <th>121958</th>\n",
       "      <td>['rank', 'cut', 'rohtak', 'medical', 'college'...</td>\n",
       "      <td>['register', 'du', 'state', 'quota', 'neet', '...</td>\n",
       "    </tr>\n",
       "  </tbody>\n",
       "</table>\n",
       "<p>323429 rows × 2 columns</p>\n",
       "</div>"
      ],
      "text/plain": [
       "                                  preprocessed_question_1  \\\n",
       "174949  ['india', 'job', 'option', 'future', 'option',...   \n",
       "119442             ['world', 'best', 'romantic', 'movie']   \n",
       "252941             ['best', 'place', 'live', 'hyderabad']   \n",
       "13551                                ['athlete', 'month']   \n",
       "274896                     ['learn', 'code', 'wordpress']   \n",
       "...                                                   ...   \n",
       "259178                  ['power', 'positive', 'thinking']   \n",
       "365838  ['thing', 'new', 'employee', 'know', 'going', ...   \n",
       "131932  ['currently', 'winning', 'presidential', 'elec...   \n",
       "146867  ['telugutamilhindi', 'movie', 'leading', 'acto...   \n",
       "121958  ['rank', 'cut', 'rohtak', 'medical', 'college'...   \n",
       "\n",
       "                                  preprocessed_question_2  \n",
       "174949  ['job', 'career', 'india', 'currently', 'third...  \n",
       "119442              ['best', 'romantic', 'movie', 'time']  \n",
       "252941   ['best', 'place', 'live', 'hyderabad', 'mumbai']  \n",
       "13551                          ['shop', 'act', 'licence']  \n",
       "274896  ['much', 'time', 'learn', 'code', 'wordpress',...  \n",
       "...                                                   ...  \n",
       "259178     ['cultivate', 'power', 'positive', 'thinking']  \n",
       "365838  ['thing', 'new', 'employee', 'know', 'going', ...  \n",
       "131932  ['bias', 'aside', 'point', 'time', 'think', 'w...  \n",
       "146867  ['fix', 'internet', 'connection', 'available',...  \n",
       "121958  ['register', 'du', 'state', 'quota', 'neet', '...  \n",
       "\n",
       "[323429 rows x 2 columns]"
      ]
     },
     "execution_count": 12,
     "metadata": {
      "tags": []
     },
     "output_type": "execute_result"
    }
   ],
   "source": [
    "# features of train data\n",
    "X_train"
   ]
  },
  {
   "cell_type": "code",
   "execution_count": 13,
   "metadata": {
    "colab": {
     "base_uri": "https://localhost:8080/"
    },
    "id": "0WcZjujrnBZb",
    "outputId": "94c9d655-24f8-411f-ad29-3bbe5f9fbb5b",
    "pycharm": {
     "name": "#%%\n"
    }
   },
   "outputs": [
    {
     "data": {
      "text/plain": [
       "(323429, 2)"
      ]
     },
     "execution_count": 13,
     "metadata": {
      "tags": []
     },
     "output_type": "execute_result"
    }
   ],
   "source": [
    "# shape of train features dataframe\n",
    "X_train.shape"
   ]
  },
  {
   "cell_type": "code",
   "execution_count": 14,
   "metadata": {
    "colab": {
     "base_uri": "https://localhost:8080/"
    },
    "id": "cqcK3WccnBZb",
    "outputId": "9873bf96-837e-4a87-b29c-76d311ff44bb",
    "pycharm": {
     "name": "#%%\n"
    }
   },
   "outputs": [
    {
     "data": {
      "text/plain": [
       "174949    0\n",
       "119442    1\n",
       "252941    0\n",
       "13551     0\n",
       "274896    1\n",
       "         ..\n",
       "259178    0\n",
       "365838    0\n",
       "131932    1\n",
       "146867    0\n",
       "121958    0\n",
       "Name: is_duplicate, Length: 323429, dtype: int64"
      ]
     },
     "execution_count": 14,
     "metadata": {
      "tags": []
     },
     "output_type": "execute_result"
    }
   ],
   "source": [
    "# targets of train data\n",
    "y_train"
   ]
  },
  {
   "cell_type": "code",
   "execution_count": 15,
   "metadata": {
    "colab": {
     "base_uri": "https://localhost:8080/"
    },
    "id": "_p9szn_RnBZc",
    "outputId": "616975ea-90be-4d8e-bf67-84a5e9c38457",
    "pycharm": {
     "name": "#%%\n"
    }
   },
   "outputs": [
    {
     "data": {
      "text/plain": [
       "(323429,)"
      ]
     },
     "execution_count": 15,
     "metadata": {
      "tags": []
     },
     "output_type": "execute_result"
    }
   ],
   "source": [
    "# shape of train targets dataframe\n",
    "y_train.shape"
   ]
  },
  {
   "cell_type": "code",
   "execution_count": 16,
   "metadata": {
    "colab": {
     "base_uri": "https://localhost:8080/",
     "height": 424
    },
    "id": "0bZCC3VfnBZc",
    "outputId": "0c65c7a6-d8fe-48fe-8fd3-6cfdadf04b36",
    "pycharm": {
     "name": "#%%\n"
    }
   },
   "outputs": [
    {
     "data": {
      "text/html": [
       "<div>\n",
       "<style scoped>\n",
       "    .dataframe tbody tr th:only-of-type {\n",
       "        vertical-align: middle;\n",
       "    }\n",
       "\n",
       "    .dataframe tbody tr th {\n",
       "        vertical-align: top;\n",
       "    }\n",
       "\n",
       "    .dataframe thead th {\n",
       "        text-align: right;\n",
       "    }\n",
       "</style>\n",
       "<table border=\"1\" class=\"dataframe\">\n",
       "  <thead>\n",
       "    <tr style=\"text-align: right;\">\n",
       "      <th></th>\n",
       "      <th>preprocessed_question_1</th>\n",
       "      <th>preprocessed_question_2</th>\n",
       "    </tr>\n",
       "  </thead>\n",
       "  <tbody>\n",
       "    <tr>\n",
       "      <th>8067</th>\n",
       "      <td>['play', 'pokémon', 'go', 'korea']</td>\n",
       "      <td>['play', 'pokémon', 'go', 'china']</td>\n",
       "    </tr>\n",
       "    <tr>\n",
       "      <th>224277</th>\n",
       "      <td>['breathing', 'treatment', 'help', 'cough']</td>\n",
       "      <td>['help', 'someone', 'unconscious', 'still', 'b...</td>\n",
       "    </tr>\n",
       "    <tr>\n",
       "      <th>252450</th>\n",
       "      <td>['kellyanne', 'conway', 'annoying', 'opinion']</td>\n",
       "      <td>['kellyanne', 'conway', 'really', 'imply', 'pa...</td>\n",
       "    </tr>\n",
       "    <tr>\n",
       "      <th>174038</th>\n",
       "      <td>['rate', '110', 'review', 'maruti', 'baleno']</td>\n",
       "      <td>['career', 'option', 'one', 'completing', 'bac...</td>\n",
       "    </tr>\n",
       "    <tr>\n",
       "      <th>384860</th>\n",
       "      <td>['good', 'book', 'marketing']</td>\n",
       "      <td>['best', 'book', 'ever', 'written', 'marketing']</td>\n",
       "    </tr>\n",
       "    <tr>\n",
       "      <th>...</th>\n",
       "      <td>...</td>\n",
       "      <td>...</td>\n",
       "    </tr>\n",
       "    <tr>\n",
       "      <th>37520</th>\n",
       "      <td>['reason', 'behind', 'sudden', 'end', 'white',...</td>\n",
       "      <td>['favorite', 'tv', 'show', 'end']</td>\n",
       "    </tr>\n",
       "    <tr>\n",
       "      <th>75814</th>\n",
       "      <td>['ever', 'sex', 'car']</td>\n",
       "      <td>['toip', 'professor', 'artificial', 'intellige...</td>\n",
       "    </tr>\n",
       "    <tr>\n",
       "      <th>79271</th>\n",
       "      <td>['recent', 'research', 'idea', 'convex', 'hull...</td>\n",
       "      <td>['indian', 'feel', 'controversial', 'answer', ...</td>\n",
       "    </tr>\n",
       "    <tr>\n",
       "      <th>25953</th>\n",
       "      <td>['choose', 'reading', 'either', 'fiction', 'no...</td>\n",
       "      <td>['choose', 'one', 'fiction', 'one', 'nonfictio...</td>\n",
       "    </tr>\n",
       "    <tr>\n",
       "      <th>99888</th>\n",
       "      <td>['iitpal', 'app', 'launched']</td>\n",
       "      <td>['prepare', 'iitjee']</td>\n",
       "    </tr>\n",
       "  </tbody>\n",
       "</table>\n",
       "<p>80858 rows × 2 columns</p>\n",
       "</div>"
      ],
      "text/plain": [
       "                                  preprocessed_question_1  \\\n",
       "8067                   ['play', 'pokémon', 'go', 'korea']   \n",
       "224277        ['breathing', 'treatment', 'help', 'cough']   \n",
       "252450     ['kellyanne', 'conway', 'annoying', 'opinion']   \n",
       "174038      ['rate', '110', 'review', 'maruti', 'baleno']   \n",
       "384860                      ['good', 'book', 'marketing']   \n",
       "...                                                   ...   \n",
       "37520   ['reason', 'behind', 'sudden', 'end', 'white',...   \n",
       "75814                              ['ever', 'sex', 'car']   \n",
       "79271   ['recent', 'research', 'idea', 'convex', 'hull...   \n",
       "25953   ['choose', 'reading', 'either', 'fiction', 'no...   \n",
       "99888                       ['iitpal', 'app', 'launched']   \n",
       "\n",
       "                                  preprocessed_question_2  \n",
       "8067                   ['play', 'pokémon', 'go', 'china']  \n",
       "224277  ['help', 'someone', 'unconscious', 'still', 'b...  \n",
       "252450  ['kellyanne', 'conway', 'really', 'imply', 'pa...  \n",
       "174038  ['career', 'option', 'one', 'completing', 'bac...  \n",
       "384860   ['best', 'book', 'ever', 'written', 'marketing']  \n",
       "...                                                   ...  \n",
       "37520                   ['favorite', 'tv', 'show', 'end']  \n",
       "75814   ['toip', 'professor', 'artificial', 'intellige...  \n",
       "79271   ['indian', 'feel', 'controversial', 'answer', ...  \n",
       "25953   ['choose', 'one', 'fiction', 'one', 'nonfictio...  \n",
       "99888                               ['prepare', 'iitjee']  \n",
       "\n",
       "[80858 rows x 2 columns]"
      ]
     },
     "execution_count": 16,
     "metadata": {
      "tags": []
     },
     "output_type": "execute_result"
    }
   ],
   "source": [
    "# features of test data\n",
    "X_test"
   ]
  },
  {
   "cell_type": "code",
   "execution_count": 17,
   "metadata": {
    "colab": {
     "base_uri": "https://localhost:8080/"
    },
    "id": "bs0aGPEsnBZc",
    "outputId": "27469f38-a8c4-4f91-bf28-5295561527ca",
    "pycharm": {
     "name": "#%%\n"
    }
   },
   "outputs": [
    {
     "data": {
      "text/plain": [
       "(80858, 2)"
      ]
     },
     "execution_count": 17,
     "metadata": {
      "tags": []
     },
     "output_type": "execute_result"
    }
   ],
   "source": [
    "# shape of test features dataframe\n",
    "X_test.shape"
   ]
  },
  {
   "cell_type": "code",
   "execution_count": 18,
   "metadata": {
    "colab": {
     "base_uri": "https://localhost:8080/"
    },
    "id": "2L9R_bKhnBZd",
    "outputId": "5878e501-3f24-49b6-890a-f60b220918ee",
    "pycharm": {
     "name": "#%%\n"
    }
   },
   "outputs": [
    {
     "data": {
      "text/plain": [
       "8067      0\n",
       "224277    0\n",
       "252450    0\n",
       "174038    0\n",
       "384860    1\n",
       "         ..\n",
       "37520     0\n",
       "75814     0\n",
       "79271     0\n",
       "25953     0\n",
       "99888     0\n",
       "Name: is_duplicate, Length: 80858, dtype: int64"
      ]
     },
     "execution_count": 18,
     "metadata": {
      "tags": []
     },
     "output_type": "execute_result"
    }
   ],
   "source": [
    "# targets of test data\n",
    "y_test"
   ]
  },
  {
   "cell_type": "code",
   "execution_count": 19,
   "metadata": {
    "colab": {
     "base_uri": "https://localhost:8080/"
    },
    "id": "nKujR-7UnBZd",
    "outputId": "3966402a-c107-4e53-a45c-dcc1835e49e6",
    "pycharm": {
     "name": "#%%\n"
    }
   },
   "outputs": [
    {
     "data": {
      "text/plain": [
       "(80858,)"
      ]
     },
     "execution_count": 19,
     "metadata": {
      "tags": []
     },
     "output_type": "execute_result"
    }
   ],
   "source": [
    "# shape of test targets dataframe\n",
    "y_test.shape"
   ]
  },
  {
   "cell_type": "code",
   "execution_count": 20,
   "metadata": {
    "id": "QoiylYYVnBZd",
    "pycharm": {
     "name": "#%%\n"
    }
   },
   "outputs": [],
   "source": [
    "# importing Tokenizer from keras library\n",
    "# keras is a high-level api of tensorflow\n",
    "# keras.preprocessing.text provides keras data preprocessing utils to pre-process datasets\n",
    "# with textual data before they are fed to the machine learning model\n",
    "from keras.preprocessing.text import Tokenizer\n",
    "\n",
    "# Tokenizer allows to vectorize a text corpus, by turning each text into either a sequence\n",
    "# of integers (each integer being the index of a token in a dictionary) or into a vector where\n",
    "# the coefficient for each token could be binary, based on word count, based on tf-idf\n",
    "tokenizer = Tokenizer()"
   ]
  },
  {
   "cell_type": "code",
   "execution_count": 21,
   "metadata": {
    "id": "G39LnekYnBZe",
    "pycharm": {
     "name": "#%%\n"
    }
   },
   "outputs": [],
   "source": [
    "# updates internal vocabulary based on a list of texts\n",
    "# required before using texts_to_sequences\n",
    "tokenizer.fit_on_texts(X_train['preprocessed_question_1'].values)\n",
    "tokenizer.fit_on_texts(X_train['preprocessed_question_2'].values)"
   ]
  },
  {
   "cell_type": "code",
   "execution_count": 22,
   "metadata": {
    "colab": {
     "base_uri": "https://localhost:8080/"
    },
    "id": "pR2IzXUqnBZe",
    "outputId": "a17e03ae-6313-460b-f025-1941308f059a",
    "pycharm": {
     "name": "#%%\n"
    }
   },
   "outputs": [
    {
     "data": {
      "text/plain": [
       "[3, 32, 275, 238, 275, 593, 1943, 1263, 872, 69, 67, 3, 4004]"
      ]
     },
     "execution_count": 22,
     "metadata": {
      "tags": []
     },
     "output_type": "execute_result"
    }
   ],
   "source": [
    "# transforms each text to a sequence of integers\n",
    "X_train_q1_sequence = tokenizer.texts_to_sequences(X_train['preprocessed_question_1'].values)\n",
    "X_train_q2_sequence = tokenizer.texts_to_sequences(X_train['preprocessed_question_2'].values)\n",
    "X_test_q1_sequence = tokenizer.texts_to_sequences(X_test['preprocessed_question_1'].values)\n",
    "X_test_q2_sequence = tokenizer.texts_to_sequences(X_test['preprocessed_question_2'].values)\n",
    "\n",
    "# printing train features dataframe first row question 1 column for visualization purposes\n",
    "X_train_q1_sequence[0]"
   ]
  },
  {
   "cell_type": "code",
   "execution_count": 23,
   "metadata": {
    "colab": {
     "base_uri": "https://localhost:8080/"
    },
    "id": "Y9zaZvC2nBZe",
    "outputId": "0ee839c9-8d74-4daa-8a6e-e11ec1535b3a",
    "pycharm": {
     "name": "#%%\n"
    }
   },
   "outputs": [
    {
     "data": {
      "text/plain": [
       "13"
      ]
     },
     "execution_count": 23,
     "metadata": {
      "tags": []
     },
     "output_type": "execute_result"
    }
   ],
   "source": [
    "# lengths of each generated sequences of integers in train features dataframe question 1 column\n",
    "length_of_sequence = [len(sequence) for sequence in X_train_q1_sequence]\n",
    "\n",
    "# printing the train features dataframe first row question 1 column length\n",
    "length_of_sequence[0]"
   ]
  },
  {
   "cell_type": "code",
   "execution_count": 24,
   "metadata": {
    "colab": {
     "base_uri": "https://localhost:8080/"
    },
    "id": "Czf-ro0ynBZe",
    "outputId": "b345afff-573c-4b46-8984-8525dadf4bc1",
    "pycharm": {
     "name": "#%%\n"
    }
   },
   "outputs": [
    {
     "data": {
      "text/plain": [
       "54"
      ]
     },
     "execution_count": 24,
     "metadata": {
      "tags": []
     },
     "output_type": "execute_result"
    }
   ],
   "source": [
    "# importing numpy library\n",
    "# used to perform fast mathematical operations over python arrays and lists\n",
    "import numpy as np\n",
    "\n",
    "# maximum length of a sequence in the train features dataframe question 1 column\n",
    "np.max(length_of_sequence)"
   ]
  },
  {
   "cell_type": "code",
   "execution_count": 25,
   "metadata": {
    "colab": {
     "base_uri": "https://localhost:8080/",
     "height": 281
    },
    "id": "DtkopUJcnBZf",
    "outputId": "0096cb58-8361-4796-f7ca-49d4dcfe6b4b",
    "pycharm": {
     "name": "#%%\n"
    }
   },
   "outputs": [
    {
     "data": {
      "image/png": "[encoded data removed]",
      "text/plain": [
       "<Figure size 432x288 with 1 Axes>"
      ]
     },
     "metadata": {
      "needs_background": "light",
      "tags": []
     },
     "output_type": "display_data"
    }
   ],
   "source": [
    "# importing pyplot from matplotlib library to create interactive visualizations\n",
    "import matplotlib.pyplot as plt\n",
    "\n",
    "# importing seaborn library which is built on top of matplotlib to create statistical graphics\n",
    "import seaborn as sns\n",
    "\n",
    "# plot a univariate distribution of observations for sequence lengths\n",
    "sns.distplot(length_of_sequence)\n",
    "plt.title('Sequence lengths distribution')\n",
    "plt.savefig('plots/length_of_sequence.png', facecolor='white')\n",
    "plt.show()"
   ]
  },
  {
   "cell_type": "code",
   "execution_count": 26,
   "metadata": {
    "id": "-0ckdjKFnBZf",
    "pycharm": {
     "name": "#%%\n"
    }
   },
   "outputs": [],
   "source": [
    "# importing utilities for preprocessing sequence data from keras library\n",
    "from keras.preprocessing.sequence import pad_sequences\n",
    "\n",
    "# defining a maximum sequence length based on the distribution plot observations\n",
    "maximum_sequence_length = 30"
   ]
  },
  {
   "cell_type": "code",
   "execution_count": 27,
   "metadata": {
    "colab": {
     "base_uri": "https://localhost:8080/"
    },
    "id": "NrKU3AAunBZg",
    "outputId": "37dd788a-40fb-4f70-92ab-c48d50462680",
    "pycharm": {
     "name": "#%%\n"
    }
   },
   "outputs": [
    {
     "data": {
      "text/plain": [
       "array([   3,   32,  275,  238,  275,  593, 1943, 1263,  872,   69,   67,\n",
       "          3, 4004,    0,    0,    0,    0,    0,    0,    0,    0,    0,\n",
       "          0,    0,    0,    0,    0,    0,    0,    0], dtype=int32)"
      ]
     },
     "execution_count": 27,
     "metadata": {
      "tags": []
     },
     "output_type": "execute_result"
    }
   ],
   "source": [
    "# pad_sequences pads sequences to the same length\n",
    "# padding='post' to pad after each sequence\n",
    "X_train_q1_sequence = pad_sequences(X_train_q1_sequence, maxlen=maximum_sequence_length, padding='post')\n",
    "X_train_q2_sequence = pad_sequences(X_train_q2_sequence, maxlen=maximum_sequence_length, padding='post')\n",
    "X_test_q1_sequence = pad_sequences(X_test_q1_sequence, maxlen=maximum_sequence_length, padding='post')\n",
    "X_test_q2_sequence = pad_sequences(X_test_q2_sequence, maxlen=maximum_sequence_length, padding='post')\n",
    "\n",
    "# printing train features dataframe first row question 1 column for visualization purposes\n",
    "X_train_q1_sequence[0]"
   ]
  },
  {
   "cell_type": "code",
   "execution_count": 28,
   "metadata": {
    "colab": {
     "base_uri": "https://localhost:8080/"
    },
    "id": "Ul1Yda-0nBZg",
    "outputId": "46ad2e8e-5737-4ce3-fb93-50326ec8d01b",
    "pycharm": {
     "name": "#%%\n"
    }
   },
   "outputs": [
    {
     "data": {
      "text/plain": [
       "preprocessed_question_1    ['world', 'best', 'romantic', 'movie']\n",
       "preprocessed_question_2     ['best', 'romantic', 'movie', 'time']\n",
       "Name: 119442, dtype: object"
      ]
     },
     "execution_count": 28,
     "metadata": {
      "tags": []
     },
     "output_type": "execute_result"
    }
   ],
   "source": [
    "# second row of train features dataframe\n",
    "X_train.iloc[1,]"
   ]
  },
  {
   "cell_type": "code",
   "execution_count": 29,
   "metadata": {
    "colab": {
     "base_uri": "https://localhost:8080/"
    },
    "id": "0NXqJa6tnBZg",
    "outputId": "e4c93552-a3d8-4854-ac0e-84a6ce11c48a",
    "pycharm": {
     "name": "#%%\n"
    }
   },
   "outputs": [
    {
     "data": {
      "text/plain": [
       "1"
      ]
     },
     "execution_count": 29,
     "metadata": {
      "tags": []
     },
     "output_type": "execute_result"
    }
   ],
   "source": [
    "# second row of train target dataframe\n",
    "# 0 - not duplicate\n",
    "# 1 - duplicate\n",
    "y_train.iloc[1,]"
   ]
  },
  {
   "cell_type": "code",
   "execution_count": 30,
   "metadata": {
    "colab": {
     "base_uri": "https://localhost:8080/"
    },
    "id": "vE6Z3gL2nBZg",
    "outputId": "6504e7e5-659e-4381-c5c8-1477f281deda",
    "pycharm": {
     "name": "#%%\n"
    }
   },
   "outputs": [
    {
     "data": {
      "text/plain": [
       "array([  43,    1, 1344,   34,    0,    0,    0,    0,    0,    0,    0,\n",
       "          0,    0,    0,    0,    0,    0,    0,    0,    0,    0,    0,\n",
       "          0,    0,    0,    0,    0,    0,    0,    0], dtype=int32)"
      ]
     },
     "execution_count": 30,
     "metadata": {
      "tags": []
     },
     "output_type": "execute_result"
    }
   ],
   "source": [
    "# sequence for second row of train features dataframe question 1 column\n",
    "X_train_q1_sequence[1]"
   ]
  },
  {
   "cell_type": "code",
   "execution_count": 31,
   "metadata": {
    "colab": {
     "base_uri": "https://localhost:8080/"
    },
    "id": "dfIc2EpJnBZh",
    "outputId": "c7357da5-3757-417d-c5cc-496db82be4a0",
    "pycharm": {
     "name": "#%%\n"
    }
   },
   "outputs": [
    {
     "data": {
      "text/plain": [
       "array([   1, 1344,   34,   12,    0,    0,    0,    0,    0,    0,    0,\n",
       "          0,    0,    0,    0,    0,    0,    0,    0,    0,    0,    0,\n",
       "          0,    0,    0,    0,    0,    0,    0,    0], dtype=int32)"
      ]
     },
     "execution_count": 31,
     "metadata": {
      "tags": []
     },
     "output_type": "execute_result"
    }
   ],
   "source": [
    "# sequence for second row of train features dataframe question 2 column\n",
    "X_train_q2_sequence[1]"
   ]
  },
  {
   "cell_type": "code",
   "execution_count": 32,
   "metadata": {
    "colab": {
     "base_uri": "https://localhost:8080/"
    },
    "id": "XO9vMiAsnBZh",
    "outputId": "b5110194-6c19-45b5-8332-6f7ee54398cc",
    "pycharm": {
     "name": "#%%\n"
    }
   },
   "outputs": [
    {
     "data": {
      "text/plain": [
       "preprocessed_question_1          ['athlete', 'month']\n",
       "preprocessed_question_2    ['shop', 'act', 'licence']\n",
       "Name: 13551, dtype: object"
      ]
     },
     "execution_count": 32,
     "metadata": {
      "tags": []
     },
     "output_type": "execute_result"
    }
   ],
   "source": [
    "# fourth row of train features dataframe\n",
    "X_train.iloc[3,]"
   ]
  },
  {
   "cell_type": "code",
   "execution_count": 33,
   "metadata": {
    "colab": {
     "base_uri": "https://localhost:8080/"
    },
    "id": "65rUKn9FnBZh",
    "outputId": "7a44ab9d-f19c-4258-9f58-2104e790789b",
    "pycharm": {
     "name": "#%%\n"
    }
   },
   "outputs": [
    {
     "data": {
      "text/plain": [
       "0"
      ]
     },
     "execution_count": 33,
     "metadata": {
      "tags": []
     },
     "output_type": "execute_result"
    }
   ],
   "source": [
    "# fourth row of train target dataframe\n",
    "# 0 - not duplicate\n",
    "# 1 - duplicate\n",
    "y_train.iloc[3,]"
   ]
  },
  {
   "cell_type": "code",
   "execution_count": 34,
   "metadata": {
    "colab": {
     "base_uri": "https://localhost:8080/"
    },
    "id": "iqrVdpKanBZh",
    "outputId": "d0b54caf-f043-4e71-f0ce-cc2d09cc7365",
    "pycharm": {
     "name": "#%%\n"
    }
   },
   "outputs": [
    {
     "data": {
      "text/plain": [
       "array([3325,  126,    0,    0,    0,    0,    0,    0,    0,    0,    0,\n",
       "          0,    0,    0,    0,    0,    0,    0,    0,    0,    0,    0,\n",
       "          0,    0,    0,    0,    0,    0,    0,    0], dtype=int32)"
      ]
     },
     "execution_count": 34,
     "metadata": {
      "tags": []
     },
     "output_type": "execute_result"
    }
   ],
   "source": [
    "# sequence for second row of train features dataframe question 1 column\n",
    "X_train_q1_sequence[3]"
   ]
  },
  {
   "cell_type": "code",
   "execution_count": 35,
   "metadata": {
    "colab": {
     "base_uri": "https://localhost:8080/"
    },
    "id": "fRt1aN3snBZh",
    "outputId": "0043f7ce-ba38-4f69-93bb-2a7a88a2404c",
    "pycharm": {
     "name": "#%%\n"
    }
   },
   "outputs": [
    {
     "data": {
      "text/plain": [
       "array([1528,  909, 6163,    0,    0,    0,    0,    0,    0,    0,    0,\n",
       "          0,    0,    0,    0,    0,    0,    0,    0,    0,    0,    0,\n",
       "          0,    0,    0,    0,    0,    0,    0,    0], dtype=int32)"
      ]
     },
     "execution_count": 35,
     "metadata": {
      "tags": []
     },
     "output_type": "execute_result"
    }
   ],
   "source": [
    "# sequence for second row of train features dataframe question 2 column\n",
    "X_train_q2_sequence[3]"
   ]
  },
  {
   "cell_type": "code",
   "execution_count": 36,
   "metadata": {
    "id": "4RtX1vGmnBZi",
    "pycharm": {
     "name": "#%%\n"
    }
   },
   "outputs": [],
   "source": [
    "# declaring word_vectors dictionary\n",
    "word_vectors = dict()\n",
    "\n",
    "# GloVe is an unsupervised learning algorithm for obtaining vector representations for words\n",
    "# Training is performed on aggregated global word-word co-occurrence statistics from a corpus\n",
    "# Resulting representations show interesting linear substructures of the word vector space\n",
    "# This dataset contains English word vectors pre-trained on the combined Wikipedia corpora\n",
    "# GloVe embeddings use these pre-trained embeddings to quantify word co-occurrence\n",
    "# GloVe embeddings capture some aspects of word meaning\n",
    "filename = 'glove.6B.300d.txt'\n",
    "\n",
    "# open text file with glove embeddings\n",
    "file = open(filename, encoding='utf8')\n",
    "\n",
    "# reading the file line by line\n",
    "# tokenizing each line into tokens\n",
    "# adding data to word_vectors dictionary\n",
    "for line in file:\n",
    "    tokens = line.split()\n",
    "    word_vectors[tokens[0]] = np.asarray(tokens[1:], dtype='float32')\n",
    "\n",
    "# closing the file\n",
    "file.close()"
   ]
  },
  {
   "cell_type": "code",
   "execution_count": 37,
   "metadata": {
    "colab": {
     "base_uri": "https://localhost:8080/"
    },
    "id": "Hkk3-kChnBZi",
    "outputId": "50cb63d0-2aae-4d0b-f6e8-17c4c86c55bc",
    "pycharm": {
     "name": "#%%\n"
    }
   },
   "outputs": [
    {
     "data": {
      "text/plain": [
       "['the',\n",
       " ',',\n",
       " '.',\n",
       " 'of',\n",
       " 'to',\n",
       " 'and',\n",
       " 'in',\n",
       " 'a',\n",
       " '\"',\n",
       " \"'s\",\n",
       " 'for',\n",
       " '-',\n",
       " 'that',\n",
       " 'on',\n",
       " 'is']"
      ]
     },
     "execution_count": 37,
     "metadata": {
      "tags": []
     },
     "output_type": "execute_result"
    }
   ],
   "source": [
    "# importing islice method from itertools library\n",
    "# itertools provides functional tools for creating and using iterators\n",
    "from itertools import islice\n",
    "\n",
    "# returning an iterator whose next() method returns selected values from an iterable\n",
    "list(islice(word_vectors.keys(), 15))"
   ]
  },
  {
   "cell_type": "code",
   "execution_count": 38,
   "metadata": {
    "colab": {
     "base_uri": "https://localhost:8080/"
    },
    "id": "DH8idZI8nBZi",
    "outputId": "cbead83d-1080-4435-c37b-6fbd4cbb1ce2",
    "pycharm": {
     "name": "#%%\n"
    }
   },
   "outputs": [
    {
     "data": {
      "text/plain": [
       "300"
      ]
     },
     "execution_count": 38,
     "metadata": {
      "tags": []
     },
     "output_type": "execute_result"
    }
   ],
   "source": [
    "# length of word vector for the word 'hello'\n",
    "len(word_vectors['hello'])"
   ]
  },
  {
   "cell_type": "code",
   "execution_count": 39,
   "metadata": {
    "colab": {
     "base_uri": "https://localhost:8080/"
    },
    "id": "j65A3E_hnBZo",
    "outputId": "c629fc9c-8ba5-4844-9c7b-7cbe9884f536",
    "pycharm": {
     "name": "#%%\n"
    }
   },
   "outputs": [
    {
     "data": {
      "text/plain": [
       "array([-3.3712e-01, -2.1691e-01, -6.6365e-03, -4.1625e-01, -1.2555e+00,\n",
       "       -2.8466e-02, -7.2195e-01, -5.2887e-01,  7.2085e-03,  3.1997e-01,\n",
       "        2.9425e-02, -1.3236e-02,  4.3511e-01,  2.5716e-01,  3.8995e-01,\n",
       "       -1.1968e-01,  1.5035e-01,  4.4762e-01,  2.8407e-01,  4.9339e-01,\n",
       "        6.2826e-01,  2.2888e-01, -4.0385e-01,  2.7364e-02,  7.3679e-03,\n",
       "        1.3995e-01,  2.3346e-01,  6.8122e-02,  4.8422e-01, -1.9578e-02,\n",
       "       -5.4751e-01, -5.4983e-01, -3.4091e-02,  8.0017e-03, -4.3065e-01,\n",
       "       -1.8969e-02, -8.5670e-02, -8.1123e-01, -2.1080e-01,  3.7784e-01,\n",
       "       -3.5046e-01,  1.3684e-01, -5.5661e-01,  1.6835e-01, -2.2952e-01,\n",
       "       -1.6184e-01,  6.7345e-01, -4.6597e-01, -3.1834e-02, -2.6037e-01,\n",
       "       -1.7797e-01,  1.9436e-02,  1.0727e-01,  6.6534e-01, -3.4836e-01,\n",
       "        4.7833e-02,  1.6440e-01,  1.4088e-01,  1.9204e-01, -3.5009e-01,\n",
       "        2.6236e-01,  1.7626e-01, -3.1367e-01,  1.1709e-01,  2.0378e-01,\n",
       "        6.1775e-01,  4.9075e-01, -7.5210e-02, -1.1815e-01,  1.8685e-01,\n",
       "        4.0679e-01,  2.8319e-01, -1.6290e-01,  3.8388e-02,  4.3794e-01,\n",
       "        8.8224e-02,  5.9046e-01, -5.3515e-02,  3.8819e-02,  1.8202e-01,\n",
       "       -2.7599e-01,  3.9474e-01, -2.0499e-01,  1.7411e-01,  1.0315e-01,\n",
       "        2.5117e-01, -3.6542e-01,  3.6528e-01,  2.2448e-01, -9.7551e-01,\n",
       "        9.4505e-02, -1.7859e-01, -3.0688e-01, -5.8633e-01, -1.8526e-01,\n",
       "        3.9565e-02, -4.2309e-01, -1.5715e-01,  2.0401e-01,  1.6906e-01,\n",
       "        3.4465e-01, -4.2262e-01,  1.9553e-01,  5.9454e-01, -3.0531e-01,\n",
       "       -1.0633e-01, -1.9055e-01, -5.8544e-01,  2.1357e-01,  3.8414e-01,\n",
       "        9.1499e-02,  3.8353e-01,  2.9075e-01,  2.4519e-02,  2.8440e-01,\n",
       "        6.3715e-02, -1.5483e-01,  4.0031e-01,  3.1543e-01, -3.7128e-02,\n",
       "        6.3363e-02, -2.7090e-01,  2.5160e-01,  4.7105e-01,  4.9556e-01,\n",
       "       -3.6401e-01,  1.0370e-01,  4.6076e-02,  1.6565e-01, -2.9024e-01,\n",
       "       -6.6949e-02, -3.0881e-01,  4.8263e-01,  3.0972e-01, -1.1145e-01,\n",
       "       -1.0329e-01,  2.8585e-02, -1.3579e-01,  5.2924e-01, -1.4077e-01,\n",
       "        9.1763e-02,  1.3127e-01, -2.0944e-01,  2.2327e-02, -7.7692e-02,\n",
       "        7.7934e-02, -3.3067e-02,  1.1680e-01,  3.2029e-01,  3.7749e-01,\n",
       "       -7.5679e-01, -1.5944e-01,  1.4964e-01,  4.2253e-01,  2.8136e-03,\n",
       "        2.1328e-01,  8.6776e-02, -5.2704e-02, -4.0859e-01, -1.1774e-01,\n",
       "        9.0621e-02, -2.3794e-01, -1.8326e-01,  1.3115e-01, -5.5949e-01,\n",
       "        9.2071e-02, -3.9504e-02,  1.3334e-01,  4.9632e-01,  2.8733e-01,\n",
       "       -1.8544e-01,  2.4618e-02, -4.2826e-01,  7.4148e-02,  7.6584e-04,\n",
       "        2.3950e-01,  2.2615e-01,  5.5166e-02, -7.5096e-02, -2.2308e-01,\n",
       "        2.3775e-01, -4.5455e-01,  2.6564e-01, -1.5137e-01, -2.4146e-01,\n",
       "       -2.4736e-01,  5.5214e-01,  2.6819e-01,  4.8831e-01, -1.3423e-01,\n",
       "       -1.5918e-01,  3.7606e-01, -1.9834e-01,  1.6699e-01, -1.5368e-01,\n",
       "        2.4561e-01, -9.2506e-02, -3.0257e-01, -2.9493e-01, -7.4917e-01,\n",
       "        1.0567e+00,  3.7971e-01,  6.9314e-01, -3.1672e-02,  2.1588e-01,\n",
       "       -4.0739e-01, -1.5264e-01,  3.2296e-01, -1.2999e-01, -5.0129e-01,\n",
       "       -4.4231e-01,  1.6904e-02, -1.1459e-02,  7.2293e-03,  1.1026e-01,\n",
       "        2.1568e-01, -3.2373e-01, -3.7292e-01, -9.2456e-03, -2.6769e-01,\n",
       "        3.9066e-01,  3.5742e-01, -6.0632e-02,  6.7966e-02,  3.3830e-01,\n",
       "        6.5747e-02,  1.5794e-01,  4.7155e-02,  2.3682e-01, -9.1370e-02,\n",
       "        6.4649e-01, -2.5491e-01, -6.7940e-01, -6.9752e-01, -1.0145e-01,\n",
       "       -3.6255e-01,  3.6967e-01, -4.1295e-01,  8.2724e-02, -3.5053e-01,\n",
       "       -1.7564e-01,  8.5095e-02, -5.7724e-01,  5.0252e-01,  5.2180e-01,\n",
       "        5.7327e-02, -7.9754e-01, -3.7770e-01,  7.8149e-01,  2.4597e-01,\n",
       "        6.0672e-01, -2.0082e-01, -3.8792e-01,  4.1295e-01, -1.6143e-01,\n",
       "        1.0427e-02,  4.3197e-01,  4.6297e-03,  2.1185e-01, -2.6606e-01,\n",
       "       -5.8740e-02, -5.1003e-01,  2.8524e-01,  1.3627e-02, -2.7346e-01,\n",
       "        6.1848e-02, -5.7901e-01, -5.1136e-01,  3.6382e-01,  3.5144e-01,\n",
       "       -1.6501e-01, -4.6041e-01, -6.4742e-02, -6.8310e-01, -4.7427e-02,\n",
       "        1.5861e-01, -4.7288e-01,  3.3968e-01,  1.2092e-03,  1.6018e-01,\n",
       "       -5.8024e-01,  1.4556e-01, -9.1317e-01, -3.7592e-01, -3.2950e-01,\n",
       "        5.3465e-01,  1.8224e-01, -5.2265e-01, -2.6209e-01, -4.2458e-01,\n",
       "       -1.8034e-01,  9.9502e-02, -1.5114e-01, -6.6731e-01,  2.4483e-01,\n",
       "       -5.6630e-01,  3.3843e-01,  4.0558e-01,  1.8073e-01,  6.4250e-01],\n",
       "      dtype=float32)"
      ]
     },
     "execution_count": 39,
     "metadata": {
      "tags": []
     },
     "output_type": "execute_result"
    }
   ],
   "source": [
    "# printing word vector for the word 'hello'\n",
    "word_vectors['hello']"
   ]
  },
  {
   "cell_type": "code",
   "execution_count": 40,
   "metadata": {
    "colab": {
     "base_uri": "https://localhost:8080/"
    },
    "id": "Hk2qybZXnBZp",
    "outputId": "cb7716e9-f9cb-4279-86c7-a256fc225f9f",
    "pycharm": {
     "name": "#%%\n"
    }
   },
   "outputs": [
    {
     "data": {
      "text/plain": [
       "90228"
      ]
     },
     "execution_count": 40,
     "metadata": {
      "tags": []
     },
     "output_type": "execute_result"
    }
   ],
   "source": [
    "# calculating vocabulary_size using word_index of keras.preprocessing.text.Tokenizer\n",
    "vocabulary_size = len(tokenizer.word_index) + 1\n",
    "vocabulary_size"
   ]
  },
  {
   "cell_type": "code",
   "execution_count": 41,
   "metadata": {
    "colab": {
     "base_uri": "https://localhost:8080/"
    },
    "id": "FfbhYt8nnBZp",
    "outputId": "6712daa8-ec2e-4199-f254-e6b84469db72",
    "pycharm": {
     "name": "#%%\n"
    }
   },
   "outputs": [
    {
     "data": {
      "text/plain": [
       "400000"
      ]
     },
     "execution_count": 41,
     "metadata": {
      "tags": []
     },
     "output_type": "execute_result"
    }
   ],
   "source": [
    "# printing length of word_vectors dictionary\n",
    "len(word_vectors)"
   ]
  },
  {
   "cell_type": "code",
   "execution_count": 42,
   "metadata": {
    "colab": {
     "base_uri": "https://localhost:8080/"
    },
    "id": "qlD-Vw6PnBZp",
    "outputId": "4179ad5a-3c8a-433d-aa07-c62c220dbac6",
    "pycharm": {
     "name": "#%%\n"
    }
   },
   "outputs": [
    {
     "data": {
      "text/plain": [
       "array([[0., 0., 0., ..., 0., 0., 0.],\n",
       "       [0., 0., 0., ..., 0., 0., 0.],\n",
       "       [0., 0., 0., ..., 0., 0., 0.],\n",
       "       ...,\n",
       "       [0., 0., 0., ..., 0., 0., 0.],\n",
       "       [0., 0., 0., ..., 0., 0., 0.],\n",
       "       [0., 0., 0., ..., 0., 0., 0.]])"
      ]
     },
     "execution_count": 42,
     "metadata": {
      "tags": []
     },
     "output_type": "execute_result"
    }
   ],
   "source": [
    "# initializing the embedding_matrix\n",
    "embedding_matrix = np.zeros((vocabulary_size, len(word_vectors['hello'])))\n",
    "embedding_matrix"
   ]
  },
  {
   "cell_type": "code",
   "execution_count": 43,
   "metadata": {
    "colab": {
     "base_uri": "https://localhost:8080/"
    },
    "id": "SBUhlo2onBZp",
    "outputId": "bcb95762-bdc8-408e-8f3e-3860338106df",
    "pycharm": {
     "name": "#%%\n"
    }
   },
   "outputs": [
    {
     "data": {
      "text/plain": [
       "(90228, 300)"
      ]
     },
     "execution_count": 43,
     "metadata": {
      "tags": []
     },
     "output_type": "execute_result"
    }
   ],
   "source": [
    "# printing the shape of embedding_matrix\n",
    "embedding_matrix.shape"
   ]
  },
  {
   "cell_type": "code",
   "execution_count": 44,
   "metadata": {
    "id": "KjH9WmuInBZq",
    "pycharm": {
     "name": "#%%\n"
    }
   },
   "outputs": [],
   "source": [
    "embedding_vector = None\n",
    "absent_words = []\n",
    "\n",
    "# adding values to embedding_matrix\n",
    "for word, index in tokenizer.word_index.items():\n",
    "    if word in word_vectors.keys():\n",
    "        embedding_vector = word_vectors.get(word)\n",
    "    else:\n",
    "        absent_words.append(word)\n",
    "    if embedding_vector is not None:\n",
    "        embedding_matrix[index] = embedding_vector\n",
    "    else:\n",
    "        embedding_matrix[index] = np.zeros(300)"
   ]
  },
  {
   "cell_type": "code",
   "execution_count": 45,
   "metadata": {
    "colab": {
     "base_uri": "https://localhost:8080/"
    },
    "id": "HLI4Ev7InBZq",
    "outputId": "47110a54-ccf6-47b7-90e9-8e349eb41c13",
    "pycharm": {
     "name": "#%%\n"
    }
   },
   "outputs": [
    {
     "data": {
      "text/plain": [
       "90224"
      ]
     },
     "execution_count": 45,
     "metadata": {
      "tags": []
     },
     "output_type": "execute_result"
    }
   ],
   "source": [
    "# printing the length of absent_words\n",
    "len(absent_words)"
   ]
  },
  {
   "cell_type": "code",
   "execution_count": 46,
   "metadata": {
    "colab": {
     "base_uri": "https://localhost:8080/"
    },
    "id": "tNb-KTFanBZq",
    "outputId": "695c3e2f-f01a-44a8-9f40-9e2457c06d4b",
    "pycharm": {
     "name": "#%%\n"
    }
   },
   "outputs": [
    {
     "data": {
      "text/plain": [
       "array([ 3.0044e-01, -3.7188e-01,  1.0724e-01, -1.9289e-01, -5.1060e-01,\n",
       "       -1.2087e-01,  2.1063e-01, -4.5131e-01,  3.0004e-01,  6.6559e-01,\n",
       "       -5.7364e-01,  2.0517e-01,  3.5263e-01, -2.9808e-01, -2.3812e-01,\n",
       "       -4.2399e-01,  1.7186e-01, -3.4199e-01, -2.1042e-02, -3.1233e-01,\n",
       "        3.8718e-01, -1.6515e-01, -6.8522e-01,  3.9468e-03,  1.2868e+00,\n",
       "        5.0385e-01, -3.7968e-01, -2.4237e-01,  1.1127e-01,  3.3993e-01,\n",
       "        1.9339e-01,  4.7290e-03, -1.1999e-01, -6.2747e-01,  1.0126e+00,\n",
       "       -6.0332e-01, -4.3577e-01,  1.1152e-01,  8.3210e-01,  8.0082e-01,\n",
       "       -1.0691e+00,  6.6248e-01, -4.4152e-01,  2.3653e-01, -2.2258e-01,\n",
       "        7.9283e-01,  8.8224e-02,  5.1054e-02,  6.4716e-01, -5.8385e-01,\n",
       "        3.9475e-01,  2.5694e-01, -4.3593e-01,  2.9722e-01, -3.9855e-01,\n",
       "        4.9197e-02, -1.4372e-01, -1.7786e-01, -4.1682e-01,  6.9316e-01,\n",
       "        5.0839e-01,  1.0446e-01,  1.0007e+00, -4.1412e-01,  1.2250e-01,\n",
       "        5.6642e-01,  6.0360e-01, -2.5471e-01,  1.1773e-02,  8.8217e-01,\n",
       "       -1.2152e-01,  2.2616e-01,  4.8780e-01,  2.4616e-01, -2.6026e-01,\n",
       "        1.1212e-01,  4.2964e-01, -4.3773e-03,  6.9629e-02,  3.3563e-01,\n",
       "        2.6851e-01,  2.2621e-01,  6.3948e-02, -7.8094e-01,  6.4811e-01,\n",
       "       -7.8434e-02, -2.5389e-01,  3.6491e-01, -5.5567e-01, -5.1413e-02,\n",
       "        1.7449e-01, -9.0063e-02,  1.6679e-01, -6.2071e-02, -3.0779e-01,\n",
       "        2.7630e-01,  3.6854e-01,  2.5312e-02,  1.4066e-01,  5.9088e-01,\n",
       "        5.4833e-03,  2.3753e-01,  3.5824e-01, -2.6963e-01, -4.5832e-02,\n",
       "        3.7578e-02, -3.1417e-01,  8.6774e-02,  3.9963e-02, -9.8658e-02,\n",
       "       -4.6252e-01,  7.2102e-01,  1.4643e-01,  1.9795e-02, -1.5381e-03,\n",
       "       -4.3359e-01, -1.6298e-01,  2.8417e-01, -2.7296e-01,  4.9316e-01,\n",
       "        2.6097e-01, -3.3830e-01, -3.1914e-01, -3.9476e-02,  2.4567e-01,\n",
       "        4.2298e-01,  3.4300e-01, -3.2174e-01,  1.1297e-01,  6.4304e-01,\n",
       "        3.1501e-01, -7.6203e-02,  8.8706e-02, -3.3058e-01,  3.2542e-01,\n",
       "       -2.3981e-01,  8.0596e-01, -7.2882e-03,  7.5607e-02,  2.9708e-01,\n",
       "        6.8813e-01, -5.3363e-02, -5.5708e-01,  6.2770e-02,  1.3036e-02,\n",
       "        5.1263e-01, -1.7884e-01,  3.6012e-01,  3.7700e-01, -3.2478e-03,\n",
       "       -5.9140e-01,  8.4868e-02, -1.3741e-02, -2.0981e-01, -5.3741e-01,\n",
       "       -2.2545e-01,  1.7877e-01, -4.7335e-01, -5.8463e-01,  1.3519e-01,\n",
       "       -4.6990e-01,  6.7932e-01,  1.0668e-01, -3.6114e-01, -2.8614e-01,\n",
       "        4.5293e-01,  2.9334e-01, -4.4051e-01,  2.5239e-01,  9.8509e-02,\n",
       "       -2.6875e-01, -2.8665e-01,  4.2127e-01,  1.2474e-02,  5.3077e-01,\n",
       "       -4.0019e-01,  3.0265e-01, -1.0058e-01, -1.9774e-01, -4.2653e-01,\n",
       "       -1.9556e-01, -4.0795e-01,  5.6328e-01,  3.1332e-02, -5.3197e-01,\n",
       "        3.2687e-05, -1.1936e-02,  3.2076e-02, -3.0585e-01,  7.0840e-02,\n",
       "       -1.3226e-01,  1.7937e-01, -3.7597e-01,  4.3020e-01,  2.0165e-01,\n",
       "       -4.9202e-01, -1.1715e-01,  2.6689e-01, -3.1649e-01, -4.3378e-01,\n",
       "       -2.0956e-01,  5.3554e-02, -3.8070e-02, -1.6023e-01, -7.1890e-02,\n",
       "       -4.8504e-03,  7.1052e-01, -4.4746e-03, -4.3783e-02,  6.9165e-01,\n",
       "       -5.0664e-01,  4.0406e-01, -7.8210e-03,  1.4990e-01, -1.5495e-01,\n",
       "       -2.5558e-01,  6.9850e-02,  1.4688e-01, -4.0382e-01,  5.8689e-01,\n",
       "        8.8900e-02, -3.6294e-01,  1.4286e-01, -2.6478e-01, -3.3380e-01,\n",
       "       -1.3754e-01,  9.7238e-02, -7.3241e-02,  4.1573e-02,  1.1894e-01,\n",
       "       -4.4114e-02,  5.7315e-03, -1.2051e-01, -1.4167e-01,  4.6158e-01,\n",
       "        3.1146e-01, -7.0269e-01,  3.0405e-02,  4.4238e-01,  2.1362e-01,\n",
       "       -2.1106e-01,  3.5732e-02, -4.1042e-01,  4.1549e-02,  1.1187e+00,\n",
       "       -2.2205e-01, -1.5052e-01,  6.1841e-01,  3.1600e-01,  6.7387e-02,\n",
       "        1.9770e-02,  6.9565e-01,  6.0832e-01,  1.3921e-01, -6.9870e-01,\n",
       "       -4.8548e-01, -2.9099e-01,  4.9906e-01, -4.6999e-02,  6.5222e-02,\n",
       "       -4.8994e-01,  1.0334e-01, -6.6989e-01, -2.1322e-01, -2.8521e-01,\n",
       "        1.4036e-01, -6.1953e-01, -5.5595e-01, -2.2320e-01, -4.6481e-01,\n",
       "        2.7410e-01,  1.7107e-01, -2.3234e-01,  5.0758e-01, -8.0575e-02,\n",
       "       -7.2944e-02,  4.9578e-01,  5.7458e-01, -6.1784e-01,  9.1238e-02,\n",
       "        3.9001e-01,  1.4301e-01, -1.3206e-01,  3.7752e-03, -3.8401e-01,\n",
       "       -4.5883e-01, -1.2850e-01, -1.2486e-01,  2.1508e-01,  1.5873e-02,\n",
       "        2.6462e-01,  1.9938e-02,  4.6081e-01,  2.3889e-01, -1.4188e-01,\n",
       "       -7.0543e-01, -2.8839e-02, -1.7863e-01,  2.7576e-01,  2.0545e-01],\n",
       "      dtype=float32)"
      ]
     },
     "execution_count": 46,
     "metadata": {
      "tags": []
     },
     "output_type": "execute_result"
    }
   ],
   "source": [
    "# printing embedding_vector\n",
    "embedding_vector"
   ]
  },
  {
   "cell_type": "code",
   "execution_count": 47,
   "metadata": {
    "colab": {
     "base_uri": "https://localhost:8080/"
    },
    "id": "Bchgr-cOnBZq",
    "outputId": "82a7dd78-8e89-408d-8f95-1485c2e3e232",
    "pycharm": {
     "name": "#%%\n"
    }
   },
   "outputs": [
    {
     "data": {
      "text/plain": [
       "(300,)"
      ]
     },
     "execution_count": 47,
     "metadata": {
      "tags": []
     },
     "output_type": "execute_result"
    }
   ],
   "source": [
    "# printing the shape of embedding_vector\n",
    "embedding_vector.shape"
   ]
  },
  {
   "cell_type": "code",
   "execution_count": 48,
   "metadata": {
    "colab": {
     "base_uri": "https://localhost:8080/"
    },
    "id": "nmxksG8anBZq",
    "outputId": "c057f64d-de28-473f-c324-6e867713949c",
    "pycharm": {
     "name": "#%%\n"
    }
   },
   "outputs": [
    {
     "data": {
      "text/plain": [
       "array([[ 0.        ,  0.        ,  0.        , ...,  0.        ,\n",
       "         0.        ,  0.        ],\n",
       "       [ 0.        ,  0.        ,  0.        , ...,  0.        ,\n",
       "         0.        ,  0.        ],\n",
       "       [ 0.        ,  0.        ,  0.        , ...,  0.        ,\n",
       "         0.        ,  0.        ],\n",
       "       ...,\n",
       "       [ 0.30044001, -0.37187999,  0.10724   , ..., -0.17862999,\n",
       "         0.27575999,  0.20545   ],\n",
       "       [ 0.30044001, -0.37187999,  0.10724   , ..., -0.17862999,\n",
       "         0.27575999,  0.20545   ],\n",
       "       [ 0.30044001, -0.37187999,  0.10724   , ..., -0.17862999,\n",
       "         0.27575999,  0.20545   ]])"
      ]
     },
     "execution_count": 48,
     "metadata": {
      "tags": []
     },
     "output_type": "execute_result"
    }
   ],
   "source": [
    "# printing embedding_matrix\n",
    "embedding_matrix"
   ]
  },
  {
   "cell_type": "code",
   "execution_count": 49,
   "metadata": {
    "id": "o6pzsB-UnBZr",
    "pycharm": {
     "name": "#%%\n"
    }
   },
   "outputs": [],
   "source": [
    "# importing Input function from keras layers api package\n",
    "# used to instantiate a keras tensor\n",
    "# keras tensor is a symbolic tensor-like object, which can be augmented\n",
    "# with certain attributes that allow us to build a keras model by just\n",
    "# knowing the inputs and outputs of the model\n",
    "from keras.layers import Input"
   ]
  },
  {
   "cell_type": "code",
   "execution_count": 50,
   "metadata": {
    "id": "Pj3evqFUnBZr",
    "pycharm": {
     "name": "#%%\n"
    }
   },
   "outputs": [],
   "source": [
    "input_1 = Input(shape=(X_train_q1_sequence.shape[1],))\n",
    "input_2 = Input(shape=(X_train_q2_sequence.shape[1],))"
   ]
  },
  {
   "cell_type": "code",
   "execution_count": 51,
   "metadata": {
    "id": "8Z5j-9IAnBZr",
    "pycharm": {
     "name": "#%%\n"
    }
   },
   "outputs": [],
   "source": [
    "# importing Embedding class from keras layers api package\n",
    "# turning positive integers (indexes) into dense vectors of fixed size\n",
    "# this layer can only be used as the first layer in a model\n",
    "from keras.layers import Embedding"
   ]
  },
  {
   "cell_type": "code",
   "execution_count": 52,
   "metadata": {
    "id": "br8bJt3AnBZs",
    "pycharm": {
     "name": "#%%\n"
    }
   },
   "outputs": [],
   "source": [
    "common_embed = Embedding(name='synopsis_embedd',\n",
    "                         input_dim=len(tokenizer.word_index) + 1,\n",
    "                         output_dim=len(word_vectors['hello']),\n",
    "                         weights=[embedding_matrix],\n",
    "                         input_length=X_train_q1_sequence.shape[1],\n",
    "                         trainable=False)"
   ]
  },
  {
   "cell_type": "code",
   "execution_count": 53,
   "metadata": {
    "id": "jsNrvo8KnBZs",
    "pycharm": {
     "name": "#%%\n"
    }
   },
   "outputs": [],
   "source": [
    "lstm_1 = common_embed(input_1)\n",
    "lstm_2 = common_embed(input_2)"
   ]
  },
  {
   "cell_type": "code",
   "execution_count": 54,
   "metadata": {
    "id": "9lawuqDsnBZs",
    "pycharm": {
     "name": "#%%\n"
    }
   },
   "outputs": [],
   "source": [
    "# importing LSTM class from keras layers api package\n",
    "# LSTM - Long Short-Term Memory layer\n",
    "from keras.layers import LSTM"
   ]
  },
  {
   "cell_type": "code",
   "execution_count": 55,
   "metadata": {
    "id": "YSBgduDdnBZs",
    "pycharm": {
     "name": "#%%\n"
    }
   },
   "outputs": [],
   "source": [
    "common_lstm = LSTM(64, return_sequences=True, activation='relu')"
   ]
  },
  {
   "cell_type": "code",
   "execution_count": 56,
   "metadata": {
    "id": "A0RpnjGVnBZt",
    "pycharm": {
     "name": "#%%\n"
    }
   },
   "outputs": [],
   "source": [
    "vector_1 = common_lstm(lstm_1)\n",
    "vector_2 = common_lstm(lstm_2)"
   ]
  },
  {
   "cell_type": "code",
   "execution_count": 57,
   "metadata": {
    "id": "84NwuNSsnBZt",
    "pycharm": {
     "name": "#%%\n"
    }
   },
   "outputs": [],
   "source": [
    "# importing Flatten class from keras layers api package\n",
    "# used to flattens the input without affecting the batch size\n",
    "from keras.layers import Flatten"
   ]
  },
  {
   "cell_type": "code",
   "execution_count": 58,
   "metadata": {
    "id": "4FlDiJU9nBZt",
    "pycharm": {
     "name": "#%%\n"
    }
   },
   "outputs": [],
   "source": [
    "vector_1 = Flatten()(vector_1)\n",
    "vector_2 = Flatten()(vector_2)"
   ]
  },
  {
   "cell_type": "code",
   "execution_count": 59,
   "metadata": {
    "id": "4xUOKrffnBZt",
    "pycharm": {
     "name": "#%%\n"
    }
   },
   "outputs": [],
   "source": [
    "# importing Subtract class from keras layers api package\n",
    "# used to subtract two inputs\n",
    "# takes as input a list of tensors of size 2, both of the same shape, and\n",
    "# returns a single tensor, (inputs[0] - inputs[1]), also of the same shape\n",
    "from keras.layers import Subtract"
   ]
  },
  {
   "cell_type": "code",
   "execution_count": 60,
   "metadata": {
    "id": "Q5pdjHkknBZt",
    "pycharm": {
     "name": "#%%\n"
    }
   },
   "outputs": [],
   "source": [
    "x3 = Subtract()([vector_1, vector_2])"
   ]
  },
  {
   "cell_type": "code",
   "execution_count": 61,
   "metadata": {
    "id": "9LJfrZx2nBZt",
    "pycharm": {
     "name": "#%%\n"
    }
   },
   "outputs": [],
   "source": [
    "# importing Multiply class from keras layers api package\n",
    "# used to multiply (element-wise) a list of inputs\n",
    "# takes a list of tensors as input, all of the same shape, and returns\n",
    "# a single tensor (also of the same shape)\n",
    "from keras.layers import Multiply"
   ]
  },
  {
   "cell_type": "code",
   "execution_count": 62,
   "metadata": {
    "id": "f-ApB-eknBZu",
    "pycharm": {
     "name": "#%%\n"
    }
   },
   "outputs": [],
   "source": [
    "x3 = Multiply()([x3, x3])"
   ]
  },
  {
   "cell_type": "code",
   "execution_count": 63,
   "metadata": {
    "id": "FHEQzzUMnBZu",
    "pycharm": {
     "name": "#%%\n"
    }
   },
   "outputs": [],
   "source": [
    "x1_ = Multiply()([vector_1, vector_1])\n",
    "x2_ = Multiply()([vector_2, vector_2])"
   ]
  },
  {
   "cell_type": "code",
   "execution_count": 64,
   "metadata": {
    "id": "0j4PqoZwnBZu",
    "pycharm": {
     "name": "#%%\n"
    }
   },
   "outputs": [],
   "source": [
    "x4 = Subtract()([x1_, x2_])"
   ]
  },
  {
   "cell_type": "code",
   "execution_count": 65,
   "metadata": {
    "id": "1ptSFrAVnBZu",
    "pycharm": {
     "name": "#%%\n"
    }
   },
   "outputs": [],
   "source": [
    "# importing Lambda class from core keras layers module in keras layers api package\n",
    "# Lambda class wraps arbitrary expressions as a Layer object\n",
    "# Lambda layer exists so that arbitrary expressions can be used as a Layer when\n",
    "# constructing Sequential and Functional API models\n",
    "# Lambda layers are best suited for simple operations or quick experimentation\n",
    "from keras.layers.core import Lambda"
   ]
  },
  {
   "cell_type": "code",
   "execution_count": 66,
   "metadata": {
    "id": "CFtqI_IsnBZu",
    "pycharm": {
     "name": "#%%\n"
    }
   },
   "outputs": [],
   "source": [
    "# importing keras backend api from keras api\n",
    "from keras import backend as k"
   ]
  },
  {
   "cell_type": "code",
   "execution_count": 67,
   "metadata": {
    "id": "iVRwLrBKnBZu",
    "pycharm": {
     "name": "#%%\n"
    }
   },
   "outputs": [],
   "source": [
    "# function to calculate cosine distance\n",
    "def cosine_distance(vests):\n",
    "    x, y = vests\n",
    "    x = k.l2_normalize(x, axis=-1)\n",
    "    y = k.l2_normalize(y, axis=-1)\n",
    "    return -k.mean(x * y, axis=-1, keepdims=True)"
   ]
  },
  {
   "cell_type": "code",
   "execution_count": 68,
   "metadata": {
    "id": "VAeA5wkKnBZv",
    "pycharm": {
     "name": "#%%\n"
    }
   },
   "outputs": [],
   "source": [
    "# function to return cosine distance output shape\n",
    "def cosine_distance_output_shape(shapes):\n",
    "    shape1, shape2 = shapes\n",
    "    return shape1[0], 1"
   ]
  },
  {
   "cell_type": "code",
   "execution_count": 69,
   "metadata": {
    "id": "DcvMgnQLnBZv",
    "pycharm": {
     "name": "#%%\n"
    }
   },
   "outputs": [],
   "source": [
    "x5 = Lambda(cosine_distance, output_shape=cosine_distance_output_shape)([vector_1, vector_2])"
   ]
  },
  {
   "cell_type": "code",
   "execution_count": 70,
   "metadata": {
    "id": "T2qF0npinBZv",
    "pycharm": {
     "name": "#%%\n"
    }
   },
   "outputs": [],
   "source": [
    "# importing Concatenate class from keras layers api package\n",
    "# functional interface to the Concatenate layer which concatenates a list of inputs\n",
    "# a list of tensors is taken as the input, all of the same shape except for the\n",
    "# concatenation axis, and returns a single tensor that is the concatenation of all inputs\n",
    "from keras.layers import Concatenate"
   ]
  },
  {
   "cell_type": "code",
   "execution_count": 71,
   "metadata": {
    "id": "5cxSjslKnBZv",
    "pycharm": {
     "name": "#%%\n"
    }
   },
   "outputs": [],
   "source": [
    "conc = Concatenate(axis=-1)([x5, x4, x3])"
   ]
  },
  {
   "cell_type": "code",
   "execution_count": 72,
   "metadata": {
    "id": "ZthKEFnBnBZv",
    "pycharm": {
     "name": "#%%\n"
    }
   },
   "outputs": [],
   "source": [
    "# importing Dense class from keras layers api package\n",
    "# Dense class is a regular densely-connected neural network layer\n",
    "# Dense implements the operation: output = activation(dot(input, kernel) + bias)\n",
    "# activation is the element-wise activation function passed as the activation argument\n",
    "# kernel is a weights matrix created by the layer\n",
    "# bias is a bias vector created by the layer (only applicable if use_bias is True)\n",
    "from keras.layers import Dense"
   ]
  },
  {
   "cell_type": "code",
   "execution_count": 73,
   "metadata": {
    "id": "Y63BeTf2nBZv",
    "pycharm": {
     "name": "#%%\n"
    }
   },
   "outputs": [],
   "source": [
    "x = Dense(100, activation='relu', name='conc_layer')(conc)"
   ]
  },
  {
   "cell_type": "code",
   "execution_count": 74,
   "metadata": {
    "id": "_5FWxKMrnBZv",
    "pycharm": {
     "name": "#%%\n"
    }
   },
   "outputs": [],
   "source": [
    "# importing Dropout class from keras layers api package\n",
    "# used to randomly set input units to 0 with a frequency of rate at\n",
    "# each step during training time, which helps prevent overfitting\n",
    "# inputs not set to 0 are scaled up by 1 / (1 - rate) such that the\n",
    "# sum over all inputs is unchanged\n",
    "from keras.layers import Dropout"
   ]
  },
  {
   "cell_type": "code",
   "execution_count": 75,
   "metadata": {
    "id": "PBCjl9DtnBZw",
    "pycharm": {
     "name": "#%%\n"
    }
   },
   "outputs": [],
   "source": [
    "x = Dropout(0.01)(x)"
   ]
  },
  {
   "cell_type": "code",
   "execution_count": 76,
   "metadata": {
    "id": "x3HwRuzInBZw",
    "pycharm": {
     "name": "#%%\n"
    }
   },
   "outputs": [],
   "source": [
    "out = Dense(1, activation='sigmoid', name='out')(x)"
   ]
  },
  {
   "cell_type": "code",
   "execution_count": 77,
   "metadata": {
    "id": "4-SiblNcnBZw",
    "pycharm": {
     "name": "#%%\n"
    }
   },
   "outputs": [],
   "source": [
    "# importing Model from keras\n",
    "# Model groups layers into an object with training and inference features\n",
    "from keras.models import Model"
   ]
  },
  {
   "cell_type": "code",
   "execution_count": 78,
   "metadata": {
    "id": "8ab-XUTVnBZw",
    "pycharm": {
     "name": "#%%\n"
    }
   },
   "outputs": [],
   "source": [
    "model = Model([input_1, input_2], out)"
   ]
  },
  {
   "cell_type": "code",
   "execution_count": 79,
   "metadata": {
    "id": "aYT7I9s9nBZx",
    "pycharm": {
     "name": "#%%\n"
    }
   },
   "outputs": [],
   "source": [
    "# importing the optimizer that implements the Adam algorithm from keras\n",
    "# Adam optimization is a stochastic gradient descent method that is based\n",
    "# on adaptive estimation of first-order and second-order moments\n",
    "# from tensorflow.keras.optimizers import Adam"
   ]
  },
  {
   "cell_type": "code",
   "execution_count": 80,
   "metadata": {
    "id": "g-Hhy2sUnBZx",
    "pycharm": {
     "name": "#%%\n"
    }
   },
   "outputs": [],
   "source": [
    "# importing roc_auc_score from metrics package of scikit-learn library\n",
    "# roc_auc_score computes area under the receiver operating characteristic\n",
    "# curve (roc auc) from prediction scores\n",
    "from sklearn.metrics import roc_auc_score"
   ]
  },
  {
   "cell_type": "code",
   "execution_count": 81,
   "metadata": {
    "id": "GPq0jeRcnBZx",
    "pycharm": {
     "name": "#%%\n"
    }
   },
   "outputs": [],
   "source": [
    "# importing tensorflow library\n",
    "# it is a free and open-source software library for machine learning\n",
    "# used across a range of machine learning related tasks\n",
    "# focus on training and inference of deep neural networks\n",
    "import tensorflow as tf"
   ]
  },
  {
   "cell_type": "code",
   "execution_count": 82,
   "metadata": {
    "id": "pUkkmLj0nBZx",
    "pycharm": {
     "name": "#%%\n"
    }
   },
   "outputs": [],
   "source": [
    "# py_function wraps a python function into a tensorflow op that executes it eagerly\n",
    "# py_function allows expressing computations in a tensorflow graph as Python functions\n",
    "# auroc - area under the receiver operating characteristic curve\n",
    "def auroc(y_true, y_pred):\n",
    "    return tf.py_function(roc_auc_score, (y_true, y_pred), tf.double)"
   ]
  },
  {
   "cell_type": "code",
   "execution_count": 83,
   "metadata": {
    "id": "uBFVERAMnBZx",
    "pycharm": {
     "name": "#%%\n"
    }
   },
   "outputs": [],
   "source": [
    "# compiling model\n",
    "model.compile(loss='binary_crossentropy',\n",
    "              metrics=['acc', auroc],\n",
    "              optimizer='adam')"
   ]
  },
  {
   "cell_type": "code",
   "execution_count": 84,
   "metadata": {
    "colab": {
     "base_uri": "https://localhost:8080/"
    },
    "id": "3FYEvB5TnBZy",
    "outputId": "085cb68e-f055-4cf8-ca10-7b9f1915b4d5",
    "pycharm": {
     "name": "#%%\n"
    }
   },
   "outputs": [
    {
     "name": "stdout",
     "output_type": "stream",
     "text": [
      "Model: \"model\"\n",
      "__________________________________________________________________________________________________\n",
      "Layer (type)                    Output Shape         Param #     Connected to                     \n",
      "==================================================================================================\n",
      "input_1 (InputLayer)            [(None, 30)]         0                                            \n",
      "__________________________________________________________________________________________________\n",
      "input_2 (InputLayer)            [(None, 30)]         0                                            \n",
      "__________________________________________________________________________________________________\n",
      "synopsis_embedd (Embedding)     (None, 30, 300)      27068400    input_1[0][0]                    \n",
      "                                                                 input_2[0][0]                    \n",
      "__________________________________________________________________________________________________\n",
      "lstm (LSTM)                     (None, 30, 64)       93440       synopsis_embedd[0][0]            \n",
      "                                                                 synopsis_embedd[1][0]            \n",
      "__________________________________________________________________________________________________\n",
      "flatten (Flatten)               (None, 1920)         0           lstm[0][0]                       \n",
      "__________________________________________________________________________________________________\n",
      "flatten_1 (Flatten)             (None, 1920)         0           lstm[1][0]                       \n",
      "__________________________________________________________________________________________________\n",
      "multiply_1 (Multiply)           (None, 1920)         0           flatten[0][0]                    \n",
      "                                                                 flatten[0][0]                    \n",
      "__________________________________________________________________________________________________\n",
      "multiply_2 (Multiply)           (None, 1920)         0           flatten_1[0][0]                  \n",
      "                                                                 flatten_1[0][0]                  \n",
      "__________________________________________________________________________________________________\n",
      "subtract (Subtract)             (None, 1920)         0           flatten[0][0]                    \n",
      "                                                                 flatten_1[0][0]                  \n",
      "__________________________________________________________________________________________________\n",
      "lambda (Lambda)                 (None, 1)            0           flatten[0][0]                    \n",
      "                                                                 flatten_1[0][0]                  \n",
      "__________________________________________________________________________________________________\n",
      "subtract_1 (Subtract)           (None, 1920)         0           multiply_1[0][0]                 \n",
      "                                                                 multiply_2[0][0]                 \n",
      "__________________________________________________________________________________________________\n",
      "multiply (Multiply)             (None, 1920)         0           subtract[0][0]                   \n",
      "                                                                 subtract[0][0]                   \n",
      "__________________________________________________________________________________________________\n",
      "concatenate (Concatenate)       (None, 3841)         0           lambda[0][0]                     \n",
      "                                                                 subtract_1[0][0]                 \n",
      "                                                                 multiply[0][0]                   \n",
      "__________________________________________________________________________________________________\n",
      "conc_layer (Dense)              (None, 100)          384200      concatenate[0][0]                \n",
      "__________________________________________________________________________________________________\n",
      "dropout (Dropout)               (None, 100)          0           conc_layer[0][0]                 \n",
      "__________________________________________________________________________________________________\n",
      "out (Dense)                     (None, 1)            101         dropout[0][0]                    \n",
      "==================================================================================================\n",
      "Total params: 27,546,141\n",
      "Trainable params: 477,741\n",
      "Non-trainable params: 27,068,400\n",
      "__________________________________________________________________________________________________\n"
     ]
    }
   ],
   "source": [
    "model.summary()"
   ]
  },
  {
   "cell_type": "code",
   "execution_count": 85,
   "metadata": {
    "colab": {
     "base_uri": "https://localhost:8080/"
    },
    "id": "7khj7XzunBZy",
    "outputId": "c6e5fcf5-73b0-40d3-f58d-0d2ae781e638",
    "pycharm": {
     "name": "#%%\n"
    }
   },
   "outputs": [
    {
     "name": "stdout",
     "output_type": "stream",
     "text": [
      "5054/5054 [==============================] - 457s 85ms/step - loss: 0.5863 - acc: 0.6713 - auroc: 0.7186 - val_loss: 0.5843 - val_acc: 0.6739 - val_auroc: 0.7149\n"
     ]
    },
    {
     "data": {
      "text/plain": [
       "<keras.callbacks.History at 0x7f36f3c65a10>"
      ]
     },
     "execution_count": 85,
     "metadata": {
      "tags": []
     },
     "output_type": "execute_result"
    }
   ],
   "source": [
    "# Fit the model\n",
    "model.fit([X_train_q1_sequence, X_train_q2_sequence],\n",
    "          y_train.values.reshape(-1, 1),\n",
    "          epochs=10,\n",
    "          batch_size=64,\n",
    "          validation_data=([X_test_q1_sequence, X_test_q2_sequence],\n",
    "                           y_test.values.reshape(-1, 1)))"
   ]
  },
  {
   "cell_type": "code",
   "execution_count": 86,
   "metadata": {
    "colab": {
     "base_uri": "https://localhost:8080/"
    },
    "id": "N-rXM441nBZy",
    "outputId": "96658aeb-dd80-4453-acf4-5fb96ccd9c05",
    "pycharm": {
     "name": "#%%\n"
    }
   },
   "outputs": [
    {
     "data": {
      "text/plain": [
       "['loss', 'acc', 'auroc']"
      ]
     },
     "execution_count": 86,
     "metadata": {
      "tags": []
     },
     "output_type": "execute_result"
    }
   ],
   "source": [
    "model.metrics_names"
   ]
  },
  {
   "cell_type": "code",
   "execution_count": 87,
   "metadata": {
    "colab": {
     "base_uri": "https://localhost:8080/"
    },
    "id": "MPrkHbpOnBZy",
    "outputId": "952fa263-b3ae-4827-eef6-c149a0de490a",
    "pycharm": {
     "name": "#%%\n"
    }
   },
   "outputs": [
    {
     "name": "stdout",
     "output_type": "stream",
     "text": [
      "2527/2527 [==============================] - 45s 17ms/step - loss: 0.5843 - acc: 0.6739 - auroc: 0.7151\n"
     ]
    },
    {
     "data": {
      "text/plain": [
       "{'acc': 0.6738851070404053,\n",
       " 'auroc': 0.71513432264328,\n",
       " 'loss': 0.5843492746353149}"
      ]
     },
     "execution_count": 87,
     "metadata": {
      "tags": []
     },
     "output_type": "execute_result"
    }
   ],
   "source": [
    "model.evaluate([X_test_q1_sequence, X_test_q2_sequence],\n",
    "               y_test,\n",
    "               verbose=1,\n",
    "               use_multiprocessing=True,\n",
    "               return_dict=True)"
   ]
  },
  {
   "cell_type": "code",
   "execution_count": 88,
   "metadata": {
    "id": "va0G2oqhnBZz",
    "pycharm": {
     "name": "#%%\n"
    }
   },
   "outputs": [],
   "source": [
    "model_json = model.to_json()\n",
    "\n",
    "with open('models/model.json', 'w') as json_file:\n",
    "    json_file.write(model_json)"
   ]
  },
  {
   "cell_type": "code",
   "execution_count": 89,
   "metadata": {
    "id": "GPDkhWQOnBZz",
    "pycharm": {
     "name": "#%%\n"
    }
   },
   "outputs": [],
   "source": [
    "# serialize weights to HDF5\n",
    "model.save_weights('models/model.h5')"
   ]
  },
  {
   "cell_type": "code",
   "execution_count": 90,
   "metadata": {
    "id": "5_aMvPkjnBZz",
    "pycharm": {
     "name": "#%%\n"
    }
   },
   "outputs": [],
   "source": [
    "# load json and create model\n",
    "json_file = open('models/model.json', 'r')\n",
    "loaded_model_json = json_file.read()\n",
    "json_file.close()"
   ]
  },
  {
   "cell_type": "code",
   "execution_count": 91,
   "metadata": {
    "id": "P3g39Qb3nBZ0",
    "pycharm": {
     "name": "#%%\n"
    }
   },
   "outputs": [],
   "source": [
    "from keras.models import model_from_json\n",
    "\n",
    "loaded_model = model_from_json(loaded_model_json)"
   ]
  },
  {
   "cell_type": "code",
   "execution_count": 92,
   "metadata": {
    "id": "_VKwQpAbnBZ0",
    "pycharm": {
     "name": "#%%\n"
    }
   },
   "outputs": [],
   "source": [
    "# load weights into new model\n",
    "loaded_model.load_weights('models/model.h5')"
   ]
  },
  {
   "cell_type": "code",
   "execution_count": null,
   "metadata": {
    "pycharm": {
     "name": "#%%\n"
    }
   },
   "outputs": [],
   "source": [
    "# importing pickle module\n",
    "# used for serializing and deserializing a python object structure\n",
    "# import pickle"
   ]
  },
  {
   "cell_type": "code",
   "execution_count": null,
   "metadata": {
    "pycharm": {
     "name": "#%%\n"
    }
   },
   "outputs": [],
   "source": [
    "# model.save('models/model.h5')"
   ]
  },
  {
   "cell_type": "code",
   "execution_count": null,
   "metadata": {
    "pycharm": {
     "name": "#%%\n"
    }
   },
   "outputs": [],
   "source": [
    "# importing load_model from keras.models\n",
    "# used to load a model saved via model.save() function\n",
    "# from keras.models import load_model"
   ]
  },
  {
   "cell_type": "code",
   "execution_count": null,
   "metadata": {
    "pycharm": {
     "name": "#%%\n"
    }
   },
   "outputs": [],
   "source": [
    "# loaded_model = load_model('model.h5', custom_objects=auroc)"
   ]
  },
  {
   "cell_type": "code",
   "execution_count": 97,
   "metadata": {
    "id": "7xP3Qef-nBZ1",
    "pycharm": {
     "name": "#%%\n"
    }
   },
   "outputs": [],
   "source": [
    "loaded_model.compile(optimizer='adam',\n",
    "                     loss='binary_crossentropy',\n",
    "                     metrics=['acc', auroc])"
   ]
  },
  {
   "cell_type": "code",
   "execution_count": 98,
   "metadata": {
    "colab": {
     "base_uri": "https://localhost:8080/"
    },
    "id": "nC4VEN3VnBZ1",
    "outputId": "ebf85b41-714c-4939-e1ab-2c54489d6cff",
    "pycharm": {
     "name": "#%%\n"
    }
   },
   "outputs": [
    {
     "data": {
      "text/plain": [
       "array([[   3],\n",
       "       [  32],\n",
       "       [ 275],\n",
       "       [ 238],\n",
       "       [ 275],\n",
       "       [ 593],\n",
       "       [1943],\n",
       "       [1263],\n",
       "       [ 872],\n",
       "       [  69],\n",
       "       [  67],\n",
       "       [   3],\n",
       "       [4004],\n",
       "       [   0],\n",
       "       [   0],\n",
       "       [   0],\n",
       "       [   0],\n",
       "       [   0],\n",
       "       [   0],\n",
       "       [   0],\n",
       "       [   0],\n",
       "       [   0],\n",
       "       [   0],\n",
       "       [   0],\n",
       "       [   0],\n",
       "       [   0],\n",
       "       [   0],\n",
       "       [   0],\n",
       "       [   0],\n",
       "       [   0]], dtype=int32)"
      ]
     },
     "execution_count": 98,
     "metadata": {
      "tags": []
     },
     "output_type": "execute_result"
    }
   ],
   "source": [
    "X_train_q1_sequence[0].reshape(-1, 1)"
   ]
  },
  {
   "cell_type": "code",
   "execution_count": 99,
   "metadata": {
    "colab": {
     "base_uri": "https://localhost:8080/"
    },
    "id": "V8hTSTSenBZ2",
    "outputId": "2864f71f-57b6-44a6-f8d0-164dd44658a9",
    "pycharm": {
     "name": "#%%\n"
    }
   },
   "outputs": [
    {
     "name": "stdout",
     "output_type": "stream",
     "text": [
      "10108/10108 [==============================] - 151s 15ms/step\n"
     ]
    },
    {
     "data": {
      "text/plain": [
       "array([[0.08387351],\n",
       "       [0.57591057],\n",
       "       [0.57591057],\n",
       "       ...,\n",
       "       [0.3545969 ],\n",
       "       [0.092738  ],\n",
       "       [0.10558784]], dtype=float32)"
      ]
     },
     "execution_count": 99,
     "metadata": {
      "tags": []
     },
     "output_type": "execute_result"
    }
   ],
   "source": [
    "loaded_model.predict([X_train_q1_sequence, X_train_q2_sequence], verbose=1)"
   ]
  },
  {
   "cell_type": "code",
   "execution_count": 100,
   "metadata": {
    "colab": {
     "base_uri": "https://localhost:8080/"
    },
    "id": "bP_U7dk5nBZ2",
    "outputId": "72e9c3ef-2a03-4b88-8479-e7bdd0cd9cba",
    "pycharm": {
     "name": "#%%\n"
    }
   },
   "outputs": [
    {
     "data": {
      "text/plain": [
       "[[array([  43,    1, 1344,   34,    0,    0,    0,    0,    0,    0,    0,\n",
       "            0,    0,    0,    0,    0,    0,    0,    0,    0,    0,    0,\n",
       "            0,    0,    0,    0,    0,    0,    0,    0], dtype=int32)],\n",
       " [array([   1, 1344,   34,   12,    0,    0,    0,    0,    0,    0,    0,\n",
       "            0,    0,    0,    0,    0,    0,    0,    0,    0,    0,    0,\n",
       "            0,    0,    0,    0,    0,    0,    0,    0], dtype=int32)]]"
      ]
     },
     "execution_count": 100,
     "metadata": {
      "tags": []
     },
     "output_type": "execute_result"
    }
   ],
   "source": [
    "[[X_train_q1_sequence[1]], [X_train_q2_sequence[1]]]"
   ]
  },
  {
   "cell_type": "code",
   "execution_count": 101,
   "metadata": {
    "colab": {
     "base_uri": "https://localhost:8080/"
    },
    "id": "JQuEXotxnBZ4",
    "outputId": "5e68d5d3-f919-4ba5-9d48-1949aa78ac5d",
    "pycharm": {
     "name": "#%%\n"
    }
   },
   "outputs": [
    {
     "data": {
      "text/plain": [
       "[array([[    3,    32,   275, ...,     0,     0,     0],\n",
       "        [   43,     1,  1344, ...,     0,     0,     0],\n",
       "        [    1,    94,   132, ...,     0,     0,     0],\n",
       "        ...,\n",
       "        [  790,  1367,   361, ...,     0,     0,     0],\n",
       "        [69768,    34,  3463, ...,     0,     0,     0],\n",
       "        [  805,   868, 19789, ...,     0,     0,     0]], dtype=int32),\n",
       " array([[  32,  188,    3, ...,    2, 2918,   32],\n",
       "        [   1, 1344,   34, ...,    0,    0,    0],\n",
       "        [   1,   94,  132, ...,    0,    0,    0],\n",
       "        ...,\n",
       "        [4464, 4571,  360, ...,    0,    0,    0],\n",
       "        [ 636,  276, 1486, ...,    0,    0,    0],\n",
       "        [1664, 4102,  105, ...,    0,    0,    0]], dtype=int32)]"
      ]
     },
     "execution_count": 101,
     "metadata": {
      "tags": []
     },
     "output_type": "execute_result"
    }
   ],
   "source": [
    "[X_train_q1_sequence, X_train_q2_sequence]"
   ]
  },
  {
   "cell_type": "code",
   "execution_count": 102,
   "metadata": {
    "colab": {
     "base_uri": "https://localhost:8080/"
    },
    "id": "oXjDmM4InBZ4",
    "outputId": "4b3294ed-9564-4e78-ed17-adf67f3b168b",
    "pycharm": {
     "name": "#%%\n"
    }
   },
   "outputs": [
    {
     "name": "stdout",
     "output_type": "stream",
     "text": [
      "1/1 [==============================] - 1s 1s/step\n"
     ]
    },
    {
     "data": {
      "text/plain": [
       "0.57591057"
      ]
     },
     "execution_count": 102,
     "metadata": {
      "tags": []
     },
     "output_type": "execute_result"
    }
   ],
   "source": [
    "import numpy as np\n",
    "\n",
    "answer_1 = loaded_model.predict([\n",
    "    np.array([[43, 1, 1344, 34, 0, 0, 0, 0, 0, 0, 0, 0, 0, 0, 0, 0, 0, 0, 0, 0, 0, 0, 0, 0, 0, 0, 0, 0, 0, 0]]),\n",
    "    np.array([[43, 1, 1344, 34, 0, 0, 0, 0, 0, 0, 0, 0, 0, 0, 0, 0, 0, 0, 0, 0, 0, 0, 0, 0, 0, 0, 0, 0, 0, 0]])\n",
    "], verbose=1)\n",
    "\n",
    "answer_1[0][0]"
   ]
  },
  {
   "cell_type": "code",
   "execution_count": 103,
   "metadata": {
    "colab": {
     "base_uri": "https://localhost:8080/"
    },
    "id": "ash-MrOvnBZ4",
    "outputId": "50eee65c-2fa1-4a02-bf89-04599200d033",
    "pycharm": {
     "name": "#%%\n"
    }
   },
   "outputs": [
    {
     "name": "stdout",
     "output_type": "stream",
     "text": [
      "1/1 [==============================] - 0s 17ms/step\n"
     ]
    },
    {
     "data": {
      "text/plain": [
       "0.57591057"
      ]
     },
     "execution_count": 103,
     "metadata": {
      "tags": []
     },
     "output_type": "execute_result"
    }
   ],
   "source": [
    "answer_2 = loaded_model.predict([\n",
    "    np.array([[43, 1, 1344, 34, 0, 14, 0, 0, 25, 0, 0, 25, 0, 0, 10, 0, 0, 0, 0, 44, 0, 10, 0, 0, 11, 0, 0, 0, 0, 0]]),\n",
    "    np.array([[43, 1, 1344, 34, 0, 7, 0, 50, 0, 0, 0, 1110, 0, 0, 0, 50, 0, 40, 0, 0, 50, 0, 0, 0, 3, 0, 0, 0, 0, 0]])\n",
    "], verbose=1)\n",
    "\n",
    "answer_2[0][0]"
   ]
  },
  {
   "cell_type": "code",
   "execution_count": 103,
   "metadata": {
    "id": "6kLxfciGnBZ5",
    "pycharm": {
     "name": "#%%\n"
    }
   },
   "outputs": [],
   "source": []
  }
 ],
 "metadata": {
  "colab": {
   "collapsed_sections": [],
   "name": "siamese_network_google_colab.ipynb",
   "provenance": [],
   "toc_visible": true
  },
  "kernelspec": {
   "display_name": "Python 3",
   "language": "python",
   "name": "python3"
  },
  "language_info": {
   "codemirror_mode": {
    "name": "ipython",
    "version": 3
   },
   "file_extension": ".py",
   "mimetype": "text/x-python",
   "name": "python",
   "nbconvert_exporter": "python",
   "pygments_lexer": "ipython3",
   "version": "3.9.1"
  }
 },
 "nbformat": 4,
 "nbformat_minor": 1
}
