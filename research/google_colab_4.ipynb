{
 "cells": [
  {
   "cell_type": "code",
   "execution_count": 1,
   "metadata": {
    "id": "h77DxBVljgBN"
   },
   "outputs": [],
   "source": [
    "# magic function that renders the figure in a notebook instead of\n",
    "# displaying a dump of the figure object\n",
    "# sets the backend of matplotlib to the 'inline' backend\n",
    "# with this backend, the output of plotting commands is displayed inline\n",
    "# within frontends like the Jupyter notebook, directly below the code cell\n",
    "# that produced it\n",
    "# the resulting plots will then also be stored in the notebook document\n",
    "%matplotlib inline"
   ]
  },
  {
   "cell_type": "code",
   "execution_count": 2,
   "metadata": {
    "id": "0m--O_pV1e5R",
    "pycharm": {
     "name": "#%%\n"
    }
   },
   "outputs": [],
   "source": [
    "# importing warnings library to handle exceptions, errors, and warning of\n",
    "# the program\n",
    "import warnings\n",
    "\n",
    "# ignoring potential warnings of the program\n",
    "warnings.filterwarnings('ignore')"
   ]
  },
  {
   "cell_type": "code",
   "execution_count": 3,
   "metadata": {
    "id": "TBGJ44GY1e5U",
    "pycharm": {
     "name": "#%%\n"
    }
   },
   "outputs": [],
   "source": [
    "# mounting google drive to read files stores in it\n",
    "# from google.colab import drive\n",
    "\n",
    "# drive.mount('/content/drive')"
   ]
  },
  {
   "cell_type": "code",
   "execution_count": 4,
   "metadata": {
    "colab": {
     "base_uri": "https://localhost:8080/"
    },
    "id": "aE_XY4T71e5V",
    "outputId": "d3d860f4-7b7a-4267-ffa7-e3f58e7d8193",
    "pycharm": {
     "name": "#%%\n"
    }
   },
   "outputs": [
    {
     "name": "stdout",
     "output_type": "stream",
     "text": [
      "--2021-07-02 14:17:13--  http://nlp.stanford.edu/data/glove.6B.zip\n",
      "Resolving nlp.stanford.edu (nlp.stanford.edu)... 171.64.67.140\n",
      "Connecting to nlp.stanford.edu (nlp.stanford.edu)|171.64.67.140|:80... connected.\n",
      "HTTP request sent, awaiting response... 302 Found\n",
      "Location: https://nlp.stanford.edu/data/glove.6B.zip [following]\n",
      "--2021-07-02 14:17:13--  https://nlp.stanford.edu/data/glove.6B.zip\n",
      "Connecting to nlp.stanford.edu (nlp.stanford.edu)|171.64.67.140|:443... connected.\n",
      "HTTP request sent, awaiting response... 301 Moved Permanently\n",
      "Location: http://downloads.cs.stanford.edu/nlp/data/glove.6B.zip [following]\n",
      "--2021-07-02 14:17:13--  http://downloads.cs.stanford.edu/nlp/data/glove.6B.zip\n",
      "Resolving downloads.cs.stanford.edu (downloads.cs.stanford.edu)... 171.64.64.22\n",
      "Connecting to downloads.cs.stanford.edu (downloads.cs.stanford.edu)|171.64.64.22|:80... connected.\n",
      "HTTP request sent, awaiting response... 200 OK\n",
      "Length: 862182613 (822M) [application/zip]\n",
      "Saving to: ‘glove.6B.zip’\n",
      "\n",
      "glove.6B.zip        100%[===================>] 822.24M  5.36MB/s    in 2m 40s  \n",
      "\n",
      "2021-07-02 14:19:53 (5.14 MB/s) - ‘glove.6B.zip’ saved [862182613/862182613]\n",
      "\n"
     ]
    }
   ],
   "source": [
    "# downloading glove dataset files from the internet\n",
    "!wget http://nlp.stanford.edu/data/glove.6B.zip"
   ]
  },
  {
   "cell_type": "code",
   "execution_count": 5,
   "metadata": {
    "colab": {
     "base_uri": "https://localhost:8080/"
    },
    "id": "bIP6nuEc1e5X",
    "outputId": "4b0f639e-fc5c-438a-fe4e-d004a6c55fbf",
    "pycharm": {
     "name": "#%%\n"
    }
   },
   "outputs": [
    {
     "name": "stdout",
     "output_type": "stream",
     "text": [
      "Archive:  glove.6B.zip\n",
      "  inflating: glove.6B.50d.txt        \n",
      "  inflating: glove.6B.100d.txt       \n",
      "  inflating: glove.6B.200d.txt       \n",
      "  inflating: glove.6B.300d.txt       \n"
     ]
    }
   ],
   "source": [
    "# extracting the downloaded zip file\n",
    "!unzip glove.6B.zip"
   ]
  },
  {
   "cell_type": "code",
   "execution_count": 6,
   "metadata": {
    "id": "tf5RQmXJ1e5Y",
    "pycharm": {
     "name": "#%%\n"
    }
   },
   "outputs": [],
   "source": [
    "# creating a new directory named sts_models\n",
    "!mkdir sts_models\n",
    "\n",
    "# creating a new directory named sts_plots\n",
    "!mkdir sts_plots"
   ]
  },
  {
   "cell_type": "code",
   "execution_count": 7,
   "metadata": {
    "colab": {
     "base_uri": "https://localhost:8080/"
    },
    "id": "Xs61_uqE1e5Z",
    "outputId": "59fdf196-2332-4b50-f039-230de6272c3c",
    "pycharm": {
     "name": "#%%\n"
    }
   },
   "outputs": [
    {
     "name": "stdout",
     "output_type": "stream",
     "text": [
      "--2021-07-02 14:20:21--  https://data.deepai.org/Stsbenchmark.zip\n",
      "Resolving data.deepai.org (data.deepai.org)... 138.201.36.183\n",
      "Connecting to data.deepai.org (data.deepai.org)|138.201.36.183|:443... connected.\n",
      "HTTP request sent, awaiting response... 200 OK\n",
      "Length: 409703 (400K) [application/zip]\n",
      "Saving to: ‘Stsbenchmark.zip’\n",
      "\n",
      "Stsbenchmark.zip    100%[===================>] 400.10K  1.27MB/s    in 0.3s    \n",
      "\n",
      "2021-07-02 14:20:22 (1.27 MB/s) - ‘Stsbenchmark.zip’ saved [409703/409703]\n",
      "\n"
     ]
    }
   ],
   "source": [
    "!wget https://data.deepai.org/Stsbenchmark.zip"
   ]
  },
  {
   "cell_type": "code",
   "execution_count": 8,
   "metadata": {
    "colab": {
     "base_uri": "https://localhost:8080/"
    },
    "id": "bbI2D9zf1e5a",
    "outputId": "8915be98-2fd6-4888-a3ce-9ece224c6017",
    "pycharm": {
     "name": "#%%\n"
    }
   },
   "outputs": [
    {
     "name": "stdout",
     "output_type": "stream",
     "text": [
      "Archive:  Stsbenchmark.zip\n",
      "   creating: stsbenchmark/\n",
      "  inflating: stsbenchmark/readme.txt  \n",
      "  inflating: stsbenchmark/sts-test.csv  \n",
      "  inflating: stsbenchmark/correlation.pl  \n",
      "  inflating: stsbenchmark/LICENSE.txt  \n",
      "  inflating: stsbenchmark/sts-dev.csv  \n",
      "  inflating: stsbenchmark/sts-train.csv  \n"
     ]
    }
   ],
   "source": [
    "!unzip Stsbenchmark.zip"
   ]
  },
  {
   "cell_type": "code",
   "execution_count": 9,
   "metadata": {
    "colab": {
     "base_uri": "https://localhost:8080/"
    },
    "id": "-zNkkmEa1e5a",
    "outputId": "7c9efc64-a8fe-4172-a68b-da03bf1dd97c",
    "pycharm": {
     "name": "#%%\n"
    }
   },
   "outputs": [
    {
     "name": "stdout",
     "output_type": "stream",
     "text": [
      "glove.6B.100d.txt  glove.6B.50d.txt  stsbenchmark      sts_plots\n",
      "glove.6B.200d.txt  glove.6B.zip      Stsbenchmark.zip\n",
      "glove.6B.300d.txt  sample_data\t     sts_models\n"
     ]
    }
   ],
   "source": [
    "# listing files and directories\n",
    "!ls"
   ]
  },
  {
   "cell_type": "code",
   "execution_count": 10,
   "metadata": {
    "id": "MX-IL_Pv1e5c",
    "pycharm": {
     "name": "#%%\n"
    }
   },
   "outputs": [],
   "source": [
    "# importing tensorflow library\n",
    "# it is a free and open-source software library for machine learning\n",
    "# used across a range of machine learning related tasks\n",
    "# focus on training and inference of deep neural networks\n",
    "import tensorflow as tf"
   ]
  },
  {
   "cell_type": "code",
   "execution_count": 11,
   "metadata": {
    "id": "b5THmSvK1e5d",
    "pycharm": {
     "name": "#%%\n"
    }
   },
   "outputs": [],
   "source": [
    "# returning a list of physical devices visible to the host runtime\n",
    "# physical devices are hardware devices present on the host machine\n",
    "# by default all discovered CPU and GPU devices are considered visible\n",
    "# this API allows querying the physical hardware resources prior to\n",
    "# runtime initialization\n",
    "# thus, giving an opportunity to call any additional configuration APIs\n",
    "gpus = tf.config.experimental.list_physical_devices('GPU')\n",
    "\n",
    "if len(gpus) > 0:\n",
    "    # setting if memory growth should be enabled for a physical device\n",
    "    # if memory growth is enabled for a physical device, the runtime\n",
    "    # initialization will not allocate all memory on the device\n",
    "    # memory growth cannot be configured on a physical device with\n",
    "    # virtual devices configured\n",
    "    tf.config.experimental.set_memory_growth(gpus[0], True)"
   ]
  },
  {
   "cell_type": "code",
   "execution_count": 12,
   "metadata": {
    "id": "_K1o9Txe1e5d",
    "pycharm": {
     "name": "#%%\n"
    }
   },
   "outputs": [],
   "source": [
    "# importing numpy library\n",
    "# used to perform fast mathematical operations over python arrays\n",
    "# and lists\n",
    "import numpy as np"
   ]
  },
  {
   "cell_type": "code",
   "execution_count": 13,
   "metadata": {
    "id": "dgGIIxzW1e5e",
    "pycharm": {
     "name": "#%%\n"
    }
   },
   "outputs": [],
   "source": [
    "# GloVe is an unsupervised learning algorithm for obtaining vector\n",
    "# representations for words\n",
    "# Training is performed on aggregated global word-word co-occurrence\n",
    "# statistics from a corpus\n",
    "# Resulting representations show interesting linear substructures of\n",
    "# the word vector space\n",
    "# This dataset contains English word vectors pre-trained on the\n",
    "# combined Wikipedia corpora\n",
    "# GloVe embeddings use these pre-trained embeddings to quantify\n",
    "# word co-occurrence\n",
    "# GloVe embeddings capture some aspects of word meaning\n",
    "# opening text file with glove embeddings\n",
    "def read_glove_vectors(path):\n",
    "    with open(path, encoding='utf8') as f:\n",
    "        words = set()\n",
    "        word_to_vec_map = dict()\n",
    "        for line in f:\n",
    "            line = line.strip().split()\n",
    "            cur_word = line[0]\n",
    "            words.add(cur_word)\n",
    "            word_to_vec_map[cur_word] = np.array(line[1:],\n",
    "                                                 dtype=np.float64)\n",
    "        i = 1\n",
    "        words_to_index = dict()\n",
    "        index_to_words = dict()\n",
    "        for w in sorted(words):\n",
    "            words_to_index[w] = i\n",
    "            index_to_words[i] = w\n",
    "            i = i + 1\n",
    "    return words_to_index, index_to_words, word_to_vec_map"
   ]
  },
  {
   "cell_type": "code",
   "execution_count": 14,
   "metadata": {
    "id": "C4jb4Hs91e5f",
    "pycharm": {
     "name": "#%%\n"
    }
   },
   "outputs": [],
   "source": [
    "# importing re module\n",
    "# used to support regular expressions\n",
    "import re"
   ]
  },
  {
   "cell_type": "code",
   "execution_count": 15,
   "metadata": {
    "id": "DTvoLnN81e5f",
    "pycharm": {
     "name": "#%%\n"
    }
   },
   "outputs": [],
   "source": [
    "# importing string module\n",
    "# a collection of string constants\n",
    "import string"
   ]
  },
  {
   "cell_type": "code",
   "execution_count": 16,
   "metadata": {
    "id": "JU7rsx4C1e5g",
    "pycharm": {
     "name": "#%%\n"
    }
   },
   "outputs": [],
   "source": [
    "# function to clean a given text and return the cleaned text\n",
    "# cleaning includes replacing contractions and other basic noise\n",
    "# removal and text cleaning techniques using regular expressions\n",
    "def clean_text(lines):\n",
    "    re_print = re.compile('[^%s]' % re.escape(string.printable))\n",
    "    cleaned = list()\n",
    "    for text in lines:\n",
    "        text = text.lower()\n",
    "        text = re.sub(r'i\\'m', 'i am', text)\n",
    "        text = re.sub(r'he\\'s', 'he is', text)\n",
    "        text = re.sub(r'she\\'s', 'she is', text)\n",
    "        text = re.sub(r'it\\'s', 'it is', text)\n",
    "        text = re.sub(r'that\\'s', 'that is', text)\n",
    "        text = re.sub(r'what\\'s', 'that is', text)\n",
    "        text = re.sub(r'where\\'s', 'where is', text)\n",
    "        text = re.sub(r'how\\'s', 'how is', text)\n",
    "        text = re.sub(r'\\'ll', ' will', text)\n",
    "        text = re.sub(r'\\'ve', ' have', text)\n",
    "        text = re.sub(r'\\'re', ' are', text)\n",
    "        text = re.sub(r'\\'d', ' would', text)\n",
    "        text = re.sub(r'\\'re', ' are', text)\n",
    "        text = re.sub(r'won\\'t', 'will not', text)\n",
    "        text = re.sub(r'can\\'t', 'cannot', text)\n",
    "        text = re.sub(r'n\\'t', ' not', text)\n",
    "        text = re.sub(r'n\\'', 'ng', text)\n",
    "        text = re.sub(r'\\'bout', 'about', text)\n",
    "        text = re.sub(r'\\'til', 'until', text)\n",
    "        text = re.sub(r'[$-()\"#/@;:<>{}`+=~|.!?,\\'*-]', '', text)\n",
    "        text = text.split()\n",
    "        text = [re_print.sub('', w) for w in text]\n",
    "        cleaned.append(' '.join(text))\n",
    "    return cleaned"
   ]
  },
  {
   "cell_type": "code",
   "execution_count": 17,
   "metadata": {
    "id": "nlM-kdg31e5g",
    "pycharm": {
     "name": "#%%\n"
    }
   },
   "outputs": [],
   "source": [
    "# function to filter out sequences with length\n",
    "def get_short_indices(length, sentences):\n",
    "    idx = np.zeros((len(sentences)), dtype=bool)\n",
    "    for num, sent in enumerate(sentences):\n",
    "        if len(sent.strip().split()) <= length:\n",
    "            idx[num] = 1\n",
    "    return idx"
   ]
  },
  {
   "cell_type": "code",
   "execution_count": 18,
   "metadata": {
    "id": "kA0wMlWk1e5g",
    "pycharm": {
     "name": "#%%\n"
    }
   },
   "outputs": [],
   "source": [
    "# function to encode a given set of text labels\n",
    "def encode_labels(labels):\n",
    "    labels_to_probs = []\n",
    "    for label in labels:\n",
    "        tmp = np.zeros(6, dtype=np.float32)\n",
    "        if int(label) + 1 > 5:\n",
    "            tmp[5] = 1\n",
    "        else:\n",
    "            tmp[int(label) + 1] = label - int(label)\n",
    "            tmp[int(label)] = int(label) - label + 1\n",
    "        labels_to_probs.append(tmp)\n",
    "    return np.asarray(labels_to_probs)"
   ]
  },
  {
   "cell_type": "code",
   "execution_count": 19,
   "metadata": {
    "id": "w6Ard27J1e5h",
    "pycharm": {
     "name": "#%%\n"
    }
   },
   "outputs": [],
   "source": [
    "# importing gc module\n",
    "# provides access to the garbage collector for reference cycles\n",
    "import gc"
   ]
  },
  {
   "cell_type": "code",
   "execution_count": 20,
   "metadata": {
    "id": "guOO9NjY1e5h",
    "pycharm": {
     "name": "#%%\n"
    }
   },
   "outputs": [],
   "source": [
    "# importing utilities for preprocessing sequence data from\n",
    "# keras library\n",
    "from keras.preprocessing.sequence import pad_sequences"
   ]
  },
  {
   "cell_type": "code",
   "execution_count": 21,
   "metadata": {
    "id": "3rL0TWlm1e5h",
    "pycharm": {
     "name": "#%%\n"
    }
   },
   "outputs": [],
   "source": [
    "# importing pickle module\n",
    "# creates portable serialized representations of python objects\n",
    "import pickle"
   ]
  },
  {
   "cell_type": "code",
   "execution_count": 22,
   "metadata": {
    "id": "2tb1D1tZ1e5h",
    "pycharm": {
     "name": "#%%\n"
    }
   },
   "outputs": [],
   "source": [
    "# defining embedding dimension\n",
    "EMBEDDING_DIM = 50"
   ]
  },
  {
   "cell_type": "code",
   "execution_count": 23,
   "metadata": {
    "id": "elUhrRdW1e5i",
    "pycharm": {
     "name": "#%%\n"
    }
   },
   "outputs": [],
   "source": [
    "# function to do necessary text preprocessing\n",
    "def preprocess(sent1, sent2, labels, genres):\n",
    "    # loading the glove embeddings\n",
    "    vocab_to_int, int_to_vocab, word_to_vec_map = read_glove_vectors('glove.6B.50d.txt')\n",
    "\n",
    "    # cleaning the texts\n",
    "    sent1 = clean_text(sent1)\n",
    "    sent2 = clean_text(sent2)\n",
    "\n",
    "    # converting to numpy arrays\n",
    "    sent1 = np.array(sent1)\n",
    "    sent2 = np.array(sent2)\n",
    "    labels = np.array(labels)\n",
    "    genres = np.array(genres)\n",
    "\n",
    "    # filtering out sequences with length\n",
    "    dx = get_short_indices(15, sent1)\n",
    "    sent1 = sent1[dx]\n",
    "    sent2 = sent2[dx]\n",
    "    labels = labels[dx]\n",
    "    genres = genres[dx]\n",
    "\n",
    "    # filtering out sequences with length\n",
    "    dx = get_short_indices(15, sent2)\n",
    "    sent1 = sent1[dx]\n",
    "    sent2 = sent2[dx]\n",
    "    labels = labels[dx]\n",
    "    genres = genres[dx]\n",
    "\n",
    "    # encoding the each label\n",
    "    labels = encode_labels(labels)\n",
    "\n",
    "    # special tokens\n",
    "    codes = ['<PAD>', '<EOS>', '<UNK>', '<GO>']\n",
    "\n",
    "    for code in codes:\n",
    "        vocab_to_int[code] = len(vocab_to_int) + 1\n",
    "\n",
    "    int_to_vocab[len(int_to_vocab) + 1] = '<PAD>'\n",
    "    int_to_vocab[len(int_to_vocab) + 1] = '<EOS>'\n",
    "    int_to_vocab[len(int_to_vocab) + 1] = '<UNK>'\n",
    "    int_to_vocab[len(int_to_vocab) + 1] = '<GO>'\n",
    "\n",
    "    # numpy.random.random return random floats in the half-open\n",
    "    # interval with a size of EMBEDDING_DIM\n",
    "    word_to_vec_map['<PAD>'] = np.random.random(EMBEDDING_DIM)\n",
    "    word_to_vec_map['<GO>'] = np.random.random(EMBEDDING_DIM)\n",
    "    word_to_vec_map['<UNK>'] = np.random.random(EMBEDDING_DIM)\n",
    "    word_to_vec_map['<EOS>'] = np.random.random(EMBEDDING_DIM)\n",
    "\n",
    "    sent1_tokenized = []\n",
    "\n",
    "    # appending tokens of sentence 1 to sent1_tokenized list\n",
    "    for sent in sent1:\n",
    "        li = []\n",
    "        for word in sent.strip().split():\n",
    "            if word in vocab_to_int.keys():\n",
    "                li.append(vocab_to_int[word])\n",
    "            else:\n",
    "                li.append(vocab_to_int['<UNK>'])\n",
    "        sent1_tokenized.append(li)\n",
    "\n",
    "    sent2_tokenized = []\n",
    "\n",
    "    # appending tokens of sentence 2 to sent2_tokenized list\n",
    "    for sent in sent2:\n",
    "        li = []\n",
    "        for word in sent.strip().split():\n",
    "            if word in vocab_to_int.keys():\n",
    "                li.append(vocab_to_int[word])\n",
    "            else:\n",
    "                li.append(vocab_to_int['<UNK>'])\n",
    "        sent2_tokenized.append(li)\n",
    "\n",
    "    # freeing up the memory\n",
    "    del sent1, sent2\n",
    "\n",
    "    # run the garbage collector\n",
    "    gc.collect()\n",
    "\n",
    "    # keeping track of common words\n",
    "    leaks = [[len(set(x1)), len(set(x2)), len(set(x1).intersection(x2))] for x1, x2 in\n",
    "             zip(sent1_tokenized, sent2_tokenized)]\n",
    "    leaks = np.array(leaks)\n",
    "\n",
    "    # padding the sequences\n",
    "    sent1_padded = pad_sequences(sent1_tokenized,\n",
    "                                 maxlen=15,\n",
    "                                 padding='post',\n",
    "                                 truncating='post',\n",
    "                                 value=vocab_to_int['<PAD>'])\n",
    "    sent2_padded = pad_sequences(sent2_tokenized,\n",
    "                                 maxlen=15,\n",
    "                                 padding='post',\n",
    "                                 truncating='post',\n",
    "                                 value=vocab_to_int['<PAD>'])\n",
    "\n",
    "    # freeing up the memory\n",
    "    del sent1_tokenized, sent2_tokenized\n",
    "\n",
    "    # run the garbage collector\n",
    "    gc.collect()\n",
    "\n",
    "    return sent1_padded, sent2_padded, leaks, labels, genres, vocab_to_int, int_to_vocab, word_to_vec_map"
   ]
  },
  {
   "cell_type": "code",
   "execution_count": 24,
   "metadata": {
    "id": "ngscZSqo1e5i",
    "pycharm": {
     "name": "#%%\n"
    }
   },
   "outputs": [],
   "source": [
    "# function to load the sts dataset\n",
    "# sts dataset - semantic textual similarity 2012-2017 dataset\n",
    "# sts benchmark comprises a selection of the english datasets used in\n",
    "# the sts tasks organized by us in the context of SemEval between 2012\n",
    "# and 2017\n",
    "# in order to provide a standard benchmark to compare among systems, we\n",
    "# organized it into train, development and test. The development part\n",
    "# can be used to develop and tune hyper-parameters of the systems, and\n",
    "# the test part should be only used once for the final system\n",
    "# the benchmark comprises 8628 sentence pairs\n",
    "# given two sentences of text, s1 and s2, the systems need to compute\n",
    "# how similar s1 and s2 are, returning a similarity score between 0 and 5\n",
    "# the dataset comprises naturally occurring pairs of sentences drawn\n",
    "# from several domains and genres, annotated by crowd-sourcing\n",
    "def load_sts_data(path):\n",
    "    genres, sent1, sent2, labels, scores = [], [], [], [], []\n",
    "    for line in open(path, encoding='utf-8'):\n",
    "        genre = line.split('\\t')[0].strip()\n",
    "        score = line.split('\\t')[4].strip()\n",
    "        s1 = line.split('\\t')[5].strip()\n",
    "        s2 = line.split('\\t')[6].strip()\n",
    "        label = float(score)\n",
    "        genres.append(genre)\n",
    "        sent1.append(s1)\n",
    "        sent2.append(s2)\n",
    "        labels.append(label)\n",
    "        scores.append(score)\n",
    "    labels = (np.asarray(labels)).flatten()\n",
    "    return genres, sent1, sent2, labels, scores"
   ]
  },
  {
   "cell_type": "code",
   "execution_count": 25,
   "metadata": {
    "id": "-YybmRwa1e5i",
    "pycharm": {
     "name": "#%%\n"
    }
   },
   "outputs": [],
   "source": [
    "# loading the sts-train dataset\n",
    "genres, sent1, sent2, labels, _ = load_sts_data('stsbenchmark/sts-train.csv')"
   ]
  },
  {
   "cell_type": "code",
   "execution_count": 26,
   "metadata": {
    "id": "BodixUbZ1e5i",
    "pycharm": {
     "name": "#%%\n"
    }
   },
   "outputs": [],
   "source": [
    "# preprocess the sts-train dataset\n",
    "sent1_padded, sent2_padded, leaks, labels, genres, vocab_to_int, int_to_vocab, word_to_vec_map = preprocess(sent1,\n",
    "                                                                                                            sent2,\n",
    "                                                                                                            labels,\n",
    "                                                                                                            genres)"
   ]
  },
  {
   "cell_type": "code",
   "execution_count": 27,
   "metadata": {
    "id": "iRTpbliz1e5j",
    "pycharm": {
     "name": "#%%\n"
    }
   },
   "outputs": [],
   "source": [
    "# saving the preprocessed sts-train dataset\n",
    "pickle.dump((sent1_padded, sent2_padded, leaks, labels, genres, vocab_to_int, int_to_vocab, word_to_vec_map),\n",
    "            open('sts_models/preprocess.p', 'wb'))"
   ]
  },
  {
   "cell_type": "code",
   "execution_count": 28,
   "metadata": {
    "id": "NOdqdgGV1e5j",
    "pycharm": {
     "name": "#%%\n"
    }
   },
   "outputs": [],
   "source": [
    "# loading the sts-dev dataset\n",
    "genres, sent1, sent2, labels, _ = load_sts_data('stsbenchmark/sts-dev.csv')"
   ]
  },
  {
   "cell_type": "code",
   "execution_count": 29,
   "metadata": {
    "id": "HsMkTlwu1e5k",
    "pycharm": {
     "name": "#%%\n"
    }
   },
   "outputs": [],
   "source": [
    "# preprocess the sts-dev dataset\n",
    "sent1_padded, sent2_padded, leaks, labels, genres, _, _, _ = preprocess(sent1,\n",
    "                                                                        sent2,\n",
    "                                                                        labels,\n",
    "                                                                        genres)"
   ]
  },
  {
   "cell_type": "code",
   "execution_count": 30,
   "metadata": {
    "id": "4__sHP6K1e5k",
    "pycharm": {
     "name": "#%%\n"
    }
   },
   "outputs": [],
   "source": [
    "# saving the preprocessed sts-dev dataset\n",
    "pickle.dump((sent1_padded, sent2_padded, leaks, labels, genres),\n",
    "            open('sts_models/preprocess_dev.p', 'wb'))"
   ]
  },
  {
   "cell_type": "code",
   "execution_count": 31,
   "metadata": {
    "id": "IH0A-iDU1e5k",
    "pycharm": {
     "name": "#%%\n"
    }
   },
   "outputs": [],
   "source": [
    "# function to load the saved preprocessed datasets\n",
    "def load_preprocess(filename):\n",
    "    with open(filename, mode='rb') as in_file:\n",
    "        return pickle.load(in_file)"
   ]
  },
  {
   "cell_type": "code",
   "execution_count": 32,
   "metadata": {
    "id": "zrSdlO8C1e5k",
    "pycharm": {
     "name": "#%%\n"
    }
   },
   "outputs": [],
   "source": [
    "# loading the preprocessed sts-train dataset\n",
    "sent1, sent2, leaks, labels, genres, vocab_to_int, int_to_vocab, word_to_vec_map = load_preprocess(\n",
    "    'sts_models/preprocess.p')"
   ]
  },
  {
   "cell_type": "code",
   "execution_count": 33,
   "metadata": {
    "id": "g0eG2b3n1e5k",
    "pycharm": {
     "name": "#%%\n"
    }
   },
   "outputs": [],
   "source": [
    "# loading the preprocessed sts-dev dataset\n",
    "sent1_valid, sent2_valid, leaks_valid, labels_valid, genres_valid = load_preprocess('sts_models/preprocess_dev.p')"
   ]
  },
  {
   "cell_type": "code",
   "execution_count": 34,
   "metadata": {
    "id": "13ztT3VD1e5k",
    "pycharm": {
     "name": "#%%\n"
    }
   },
   "outputs": [],
   "source": [
    "# importing Embedding class from keras layers api package\n",
    "# turning positive integers (indexes) into dense vectors of fixed size\n",
    "# this layer can only be used as the first layer in a model\n",
    "from keras.layers.embeddings import Embedding"
   ]
  },
  {
   "cell_type": "code",
   "execution_count": 35,
   "metadata": {
    "id": "lGgSV_1H1e5l",
    "pycharm": {
     "name": "#%%\n"
    }
   },
   "outputs": [],
   "source": [
    "# function to created the pretrained embedding layer\n",
    "# keras.layers.embeddings.Embedding turns positive integers\n",
    "# (indexes) into dense vectors of fixed size\n",
    "def pretrained_embedding_layer(word_to_vec_map, words_to_index):\n",
    "    emb_dim = word_to_vec_map['pen'].shape[0]\n",
    "    vocab_size = len(words_to_index) + 1\n",
    "    emb_matrix = np.zeros((vocab_size, emb_dim))\n",
    "    for word, index in words_to_index.items():\n",
    "        emb_matrix[index, :] = word_to_vec_map[word]\n",
    "    emb_layer = Embedding(vocab_size, emb_dim, trainable=True)\n",
    "    emb_layer.build((None,))\n",
    "    emb_layer.set_weights([emb_matrix])\n",
    "    return emb_layer"
   ]
  },
  {
   "cell_type": "code",
   "execution_count": 36,
   "metadata": {
    "id": "Ie7rdNCk1e5l",
    "pycharm": {
     "name": "#%%\n"
    }
   },
   "outputs": [],
   "source": [
    "embedding_layer = pretrained_embedding_layer(word_to_vec_map, vocab_to_int)"
   ]
  },
  {
   "cell_type": "code",
   "execution_count": 37,
   "metadata": {
    "id": "Cr3ESeSs1e5l",
    "pycharm": {
     "name": "#%%\n"
    }
   },
   "outputs": [],
   "source": [
    "# defining the number of lstm units\n",
    "NUMBER_LSTM = 15"
   ]
  },
  {
   "cell_type": "code",
   "execution_count": 38,
   "metadata": {
    "id": "q0ijYTth1e5l",
    "pycharm": {
     "name": "#%%\n"
    }
   },
   "outputs": [],
   "source": [
    "# defining the dropout rate of the lstm layer\n",
    "RATE_DROP_LSTM = 0.17"
   ]
  },
  {
   "cell_type": "code",
   "execution_count": 39,
   "metadata": {
    "id": "bC8Chm171e5l",
    "pycharm": {
     "name": "#%%\n"
    }
   },
   "outputs": [],
   "source": [
    "# importing the Bidirectional class from keras layers api package\n",
    "# used as a bidirectional wrapper for RNNs\n",
    "from keras.layers import Bidirectional"
   ]
  },
  {
   "cell_type": "code",
   "execution_count": 40,
   "metadata": {
    "id": "043PNjM31e5m",
    "pycharm": {
     "name": "#%%\n"
    }
   },
   "outputs": [],
   "source": [
    "# importing LSTM class from keras layers api package\n",
    "# LSTM - Long Short-Term Memory layer\n",
    "from keras.layers import LSTM"
   ]
  },
  {
   "cell_type": "code",
   "execution_count": 41,
   "metadata": {
    "id": "xafJ3BKl1e5m",
    "pycharm": {
     "name": "#%%\n"
    }
   },
   "outputs": [],
   "source": [
    "lstm_layer1 = Bidirectional(LSTM(NUMBER_LSTM,\n",
    "                                 dropout=RATE_DROP_LSTM,\n",
    "                                 recurrent_dropout=RATE_DROP_LSTM,\n",
    "                                 return_sequences=True))"
   ]
  },
  {
   "cell_type": "code",
   "execution_count": 42,
   "metadata": {
    "id": "1IqULL8V1e5m",
    "pycharm": {
     "name": "#%%\n"
    }
   },
   "outputs": [],
   "source": [
    "lstm_layer2 = Bidirectional(LSTM(NUMBER_LSTM,\n",
    "                                 dropout=RATE_DROP_LSTM,\n",
    "                                 recurrent_dropout=RATE_DROP_LSTM))"
   ]
  },
  {
   "cell_type": "code",
   "execution_count": 43,
   "metadata": {
    "id": "pE0Lsyov1e5m",
    "pycharm": {
     "name": "#%%\n"
    }
   },
   "outputs": [],
   "source": [
    "# importing Dropout class from keras layers api package\n",
    "# used to randomly set input units to 0 with a frequency of rate at\n",
    "# each step during training time, which helps prevent overfitting\n",
    "# inputs not set to 0 are scaled up by 1 / (1 - rate) such that the\n",
    "# sum over all inputs is unchanged\n",
    "from keras.layers import Dropout"
   ]
  },
  {
   "cell_type": "code",
   "execution_count": 44,
   "metadata": {
    "id": "7k0tWo7f1e5m",
    "pycharm": {
     "name": "#%%\n"
    }
   },
   "outputs": [],
   "source": [
    "dropout_layer = Dropout(0.5)"
   ]
  },
  {
   "cell_type": "code",
   "execution_count": 45,
   "metadata": {
    "id": "6NUjHiEo1e5n",
    "pycharm": {
     "name": "#%%\n"
    }
   },
   "outputs": [],
   "source": [
    "# defining the maximum sequence length\n",
    "MAX_SEQUENCE_LENGTH = 15"
   ]
  },
  {
   "cell_type": "code",
   "execution_count": 46,
   "metadata": {
    "id": "R5VBj13H1e5n",
    "pycharm": {
     "name": "#%%\n"
    }
   },
   "outputs": [],
   "source": [
    "# importing Input function from keras layers api package\n",
    "# used to instantiate a keras tensor\n",
    "# keras tensor is a symbolic tensor-like object, which can be augmented\n",
    "# with certain attributes that allow us to build a keras model by just\n",
    "# knowing the inputs and outputs of the model\n",
    "from keras.layers import Input"
   ]
  },
  {
   "cell_type": "code",
   "execution_count": 47,
   "metadata": {
    "id": "5M46FeKx1e5n",
    "pycharm": {
     "name": "#%%\n"
    }
   },
   "outputs": [],
   "source": [
    "seq1_inp = Input(shape=(MAX_SEQUENCE_LENGTH,),\n",
    "                 dtype='int32',\n",
    "                 name='seq1_inp')"
   ]
  },
  {
   "cell_type": "code",
   "execution_count": 48,
   "metadata": {
    "id": "Q-_BrKpl1e5n",
    "pycharm": {
     "name": "#%%\n"
    }
   },
   "outputs": [],
   "source": [
    "net1 = embedding_layer(seq1_inp)\n",
    "net1 = lstm_layer1(net1)\n",
    "net1 = dropout_layer(net1)\n",
    "out1 = lstm_layer2(net1)"
   ]
  },
  {
   "cell_type": "code",
   "execution_count": 49,
   "metadata": {
    "id": "x-LBGF2J1e5n",
    "pycharm": {
     "name": "#%%\n"
    }
   },
   "outputs": [],
   "source": [
    "seq2_inp = Input(shape=(MAX_SEQUENCE_LENGTH,),\n",
    "                 dtype='int32',\n",
    "                 name='seq2_inp')"
   ]
  },
  {
   "cell_type": "code",
   "execution_count": 50,
   "metadata": {
    "id": "TrSjai1x1e5o",
    "pycharm": {
     "name": "#%%\n"
    }
   },
   "outputs": [],
   "source": [
    "net2 = embedding_layer(seq2_inp)\n",
    "net2 = lstm_layer1(net2)\n",
    "net2 = dropout_layer(net2)\n",
    "out2 = lstm_layer2(net2)"
   ]
  },
  {
   "cell_type": "code",
   "execution_count": 51,
   "metadata": {
    "id": "zay91oRa1e5o",
    "pycharm": {
     "name": "#%%\n"
    }
   },
   "outputs": [],
   "source": [
    "leaks_inp = Input(shape=(leaks.shape[1],),\n",
    "                  name='leaks_inp')"
   ]
  },
  {
   "cell_type": "code",
   "execution_count": 52,
   "metadata": {
    "id": "-1Tv6_ce1e5o",
    "pycharm": {
     "name": "#%%\n"
    }
   },
   "outputs": [],
   "source": [
    "# defining the number of dense units\n",
    "NUMBER_DENSE_UNITS = 50"
   ]
  },
  {
   "cell_type": "code",
   "execution_count": 53,
   "metadata": {
    "id": "swRTvgdJ1e5o",
    "pycharm": {
     "name": "#%%\n"
    }
   },
   "outputs": [],
   "source": [
    "# defining the activation function\n",
    "ACTIVATION_FUNCTION = 'relu'"
   ]
  },
  {
   "cell_type": "code",
   "execution_count": 54,
   "metadata": {
    "id": "9fwtNrq51e5p",
    "pycharm": {
     "name": "#%%\n"
    }
   },
   "outputs": [],
   "source": [
    "# importing Dense class from keras layers api package\n",
    "# Dense class is a regular densely-connected neural network layer\n",
    "# Dense implements the operation:\n",
    "# output = activation(dot(input, kernel) + bias)\n",
    "# activation is the element-wise activation function passed as\n",
    "# the activation argument\n",
    "# kernel is a weights matrix created by the layer\n",
    "# bias is a bias vector created by the layer\n",
    "# (only applicable if use_bias is True)\n",
    "from keras.layers import Dense"
   ]
  },
  {
   "cell_type": "code",
   "execution_count": 55,
   "metadata": {
    "id": "C_lkVSpy1e5p",
    "pycharm": {
     "name": "#%%\n"
    }
   },
   "outputs": [],
   "source": [
    "leaks_out = Dense(units=int(NUMBER_DENSE_UNITS / 2),\n",
    "                  activation=ACTIVATION_FUNCTION)(leaks_inp)"
   ]
  },
  {
   "cell_type": "code",
   "execution_count": 56,
   "metadata": {
    "id": "Tfzg0L9z1e5p",
    "pycharm": {
     "name": "#%%\n"
    }
   },
   "outputs": [],
   "source": [
    "# importing concatenate function from merge module in\n",
    "# keras layers api package\n",
    "# functional interface to the Concatenate layer which concatenates\n",
    "# a list of inputs\n",
    "# a list of tensors is taken as the input, all of the same shape except\n",
    "# for the concatenation axis, and returns a single tensor that is the\n",
    "# concatenation of all inputs\n",
    "from keras.layers.merge import concatenate"
   ]
  },
  {
   "cell_type": "code",
   "execution_count": 57,
   "metadata": {
    "id": "ROYpZgs91e5q",
    "pycharm": {
     "name": "#%%\n"
    }
   },
   "outputs": [],
   "source": [
    "merged = concatenate([out1, out2, leaks_out])"
   ]
  },
  {
   "cell_type": "code",
   "execution_count": 58,
   "metadata": {
    "id": "cbwRAD2Y1e5q",
    "pycharm": {
     "name": "#%%\n"
    }
   },
   "outputs": [],
   "source": [
    "# importing BatchNormalization class from keras layers api package\n",
    "# layer that normalizes its inputs\n",
    "# batch normalization applies a transformation that maintains the\n",
    "# mean output close to 0 and the output standard deviation close to 1\n",
    "from keras.layers import BatchNormalization"
   ]
  },
  {
   "cell_type": "code",
   "execution_count": 59,
   "metadata": {
    "id": "PnyjT05Z1e5q",
    "pycharm": {
     "name": "#%%\n"
    }
   },
   "outputs": [],
   "source": [
    "merged = BatchNormalization()(merged)"
   ]
  },
  {
   "cell_type": "code",
   "execution_count": 60,
   "metadata": {
    "id": "_gFSYxDm1e5q",
    "pycharm": {
     "name": "#%%\n"
    }
   },
   "outputs": [],
   "source": [
    "# defining dense drop rate\n",
    "RATE_DROP_DENSE = 0.25"
   ]
  },
  {
   "cell_type": "code",
   "execution_count": 61,
   "metadata": {
    "id": "NgTD6PaF1e5r",
    "pycharm": {
     "name": "#%%\n"
    }
   },
   "outputs": [],
   "source": [
    "merged = Dropout(RATE_DROP_DENSE)(merged)"
   ]
  },
  {
   "cell_type": "code",
   "execution_count": 62,
   "metadata": {
    "id": "EzfFXuNq1e5r",
    "pycharm": {
     "name": "#%%\n"
    }
   },
   "outputs": [],
   "source": [
    "merged = Dense(NUMBER_DENSE_UNITS,\n",
    "               activation=ACTIVATION_FUNCTION)(merged)"
   ]
  },
  {
   "cell_type": "code",
   "execution_count": 63,
   "metadata": {
    "id": "RCenu7e81e5r",
    "pycharm": {
     "name": "#%%\n"
    }
   },
   "outputs": [],
   "source": [
    "merged = BatchNormalization()(merged)"
   ]
  },
  {
   "cell_type": "code",
   "execution_count": 64,
   "metadata": {
    "id": "iC3dhf9h1e5r",
    "pycharm": {
     "name": "#%%\n"
    }
   },
   "outputs": [],
   "source": [
    "merged = Dropout(RATE_DROP_DENSE)(merged)"
   ]
  },
  {
   "cell_type": "code",
   "execution_count": 65,
   "metadata": {
    "id": "dqAwqnEg1e5r",
    "pycharm": {
     "name": "#%%\n"
    }
   },
   "outputs": [],
   "source": [
    "preds = Dense(units=labels.shape[1],\n",
    "              activation='softmax',\n",
    "              name='pred')(merged)"
   ]
  },
  {
   "cell_type": "code",
   "execution_count": 66,
   "metadata": {
    "id": "kjJ2Yv4S1e5s",
    "pycharm": {
     "name": "#%%\n"
    }
   },
   "outputs": [],
   "source": [
    "# importing Model from keras\n",
    "# Model groups layers into an object with training and inference features\n",
    "from keras.models import Model"
   ]
  },
  {
   "cell_type": "code",
   "execution_count": 67,
   "metadata": {
    "id": "tBftcyKP1e5s",
    "pycharm": {
     "name": "#%%\n"
    }
   },
   "outputs": [],
   "source": [
    "model = Model(inputs=[seq1_inp, seq2_inp, leaks_inp],\n",
    "              outputs=preds)"
   ]
  },
  {
   "cell_type": "code",
   "execution_count": 68,
   "metadata": {
    "id": "Q2LBI3Kx1e5s",
    "pycharm": {
     "name": "#%%\n"
    }
   },
   "outputs": [],
   "source": [
    "# compiling model\n",
    "# configuring the model for training\n",
    "model.compile(loss='categorical_crossentropy',\n",
    "              optimizer='adam',\n",
    "              metrics=['accuracy'])"
   ]
  },
  {
   "cell_type": "code",
   "execution_count": 69,
   "metadata": {
    "id": "2k-T4_is1e5s",
    "pycharm": {
     "name": "#%%\n"
    }
   },
   "outputs": [],
   "source": [
    "# importing EarlyStopping class from callbacks module\n",
    "# in keras library\n",
    "# callbacks module includes utilities called at certain\n",
    "# points during model training\n",
    "# used to stop training when a monitored metric has\n",
    "# stopped improving\n",
    "from keras.callbacks import EarlyStopping"
   ]
  },
  {
   "cell_type": "code",
   "execution_count": 70,
   "metadata": {
    "id": "5VbJYxqi1e5s",
    "pycharm": {
     "name": "#%%\n"
    }
   },
   "outputs": [],
   "source": [
    "early_stopping = EarlyStopping(monitor='accuracy',\n",
    "                               patience=25,\n",
    "                               verbose=1)"
   ]
  },
  {
   "cell_type": "code",
   "execution_count": 71,
   "metadata": {
    "id": "H2FMTQwE1e5s",
    "pycharm": {
     "name": "#%%\n"
    }
   },
   "outputs": [],
   "source": [
    "# importing os package\n",
    "# includes os routines for nt or posix\n",
    "import os"
   ]
  },
  {
   "cell_type": "code",
   "execution_count": 72,
   "metadata": {
    "id": "7mArk1Oh1e5t",
    "pycharm": {
     "name": "#%%\n"
    }
   },
   "outputs": [],
   "source": [
    "# importing time module\n",
    "# provides various functions to manipulate time values\n",
    "import time"
   ]
  },
  {
   "cell_type": "code",
   "execution_count": 73,
   "metadata": {
    "id": "rzhWgr-11e5t",
    "pycharm": {
     "name": "#%%\n"
    }
   },
   "outputs": [],
   "source": [
    "# defining the path to save the model\n",
    "\n",
    "checkpoint_dir = './' + 'sts_models/'\n",
    "\n",
    "if not os.path.exists(checkpoint_dir):\n",
    "    os.makedirs(checkpoint_dir)\n",
    "\n",
    "best_model_path = checkpoint_dir + 'sts_model.h5'"
   ]
  },
  {
   "cell_type": "code",
   "execution_count": 74,
   "metadata": {
    "id": "niP6ci2B1e5t",
    "pycharm": {
     "name": "#%%\n"
    }
   },
   "outputs": [],
   "source": [
    "# importing ModelCheckpoint class from callbacks module\n",
    "# in keras library\n",
    "# callbacks module includes utilities called at certain\n",
    "# points during model training\n",
    "# used as callback to save the Keras model or model weights\n",
    "# at some frequency\n",
    "from keras.callbacks import ModelCheckpoint"
   ]
  },
  {
   "cell_type": "code",
   "execution_count": 75,
   "metadata": {
    "id": "L9us_Mv81e5t",
    "pycharm": {
     "name": "#%%\n"
    }
   },
   "outputs": [],
   "source": [
    "model_checkpoint = ModelCheckpoint(best_model_path,\n",
    "                                   verbose=1,\n",
    "                                   monitor='accuracy',\n",
    "                                   save_best_only=True,\n",
    "                                   save_weights_only=False)"
   ]
  },
  {
   "cell_type": "code",
   "execution_count": 76,
   "metadata": {
    "id": "XjGPAQCl1e5t",
    "pycharm": {
     "name": "#%%\n"
    }
   },
   "outputs": [],
   "source": [
    "# importing TensorBoard class from callbacks module\n",
    "# in keras library\n",
    "# callbacks module includes utilities called at certain\n",
    "# points during model training\n",
    "# used to enable visualizations for TensorBoard\n",
    "# TensorBoard is a visualization tool provided with TensorFlow\n",
    "from keras.callbacks import TensorBoard"
   ]
  },
  {
   "cell_type": "code",
   "execution_count": 77,
   "metadata": {
    "id": "7wX8ps1S1e5u",
    "pycharm": {
     "name": "#%%\n"
    }
   },
   "outputs": [],
   "source": [
    "tensorboard = TensorBoard(log_dir=checkpoint_dir + 'logs/{}'.format(time.time()))"
   ]
  },
  {
   "cell_type": "code",
   "execution_count": 78,
   "metadata": {
    "id": "2dYTXxp11e5u",
    "pycharm": {
     "name": "#%%\n"
    }
   },
   "outputs": [],
   "source": [
    "# function to generate data given the batch size\n",
    "def data_generator(batch_size):\n",
    "    while True:\n",
    "        idx = np.random.randint(len(sent1), size=batch_size)\n",
    "        x1_batch = sent1[idx]\n",
    "        x2_batch = sent2[idx]\n",
    "        labels_batch = labels[idx]\n",
    "        leaks_batch = leaks[idx]\n",
    "        x_data = {\n",
    "            'seq1_inp': x1_batch,\n",
    "            'seq2_inp': x2_batch,\n",
    "            'leaks_inp': leaks_batch\n",
    "        }\n",
    "        y_data = {\n",
    "            'pred': labels_batch\n",
    "        }\n",
    "        yield x_data, y_data"
   ]
  },
  {
   "cell_type": "code",
   "execution_count": 79,
   "metadata": {
    "id": "1A2wncK41e5u",
    "pycharm": {
     "name": "#%%\n"
    }
   },
   "outputs": [],
   "source": [
    "generator = data_generator(64)"
   ]
  },
  {
   "cell_type": "code",
   "execution_count": 80,
   "metadata": {
    "colab": {
     "base_uri": "https://localhost:8080/"
    },
    "id": "b0yugftK1e5u",
    "outputId": "7d120bae-2db9-4f9a-b5a0-e310b6f27b76",
    "pycharm": {
     "name": "#%%\n"
    }
   },
   "outputs": [
    {
     "name": "stdout",
     "output_type": "stream",
     "text": [
      "Model: \"model\"\n",
      "__________________________________________________________________________________________________\n",
      "Layer (type)                    Output Shape         Param #     Connected to                     \n",
      "==================================================================================================\n",
      "seq1_inp (InputLayer)           [(None, 15)]         0                                            \n",
      "__________________________________________________________________________________________________\n",
      "seq2_inp (InputLayer)           [(None, 15)]         0                                            \n",
      "__________________________________________________________________________________________________\n",
      "embedding (Embedding)           (None, 15, 50)       20000250    seq1_inp[0][0]                   \n",
      "                                                                 seq2_inp[0][0]                   \n",
      "__________________________________________________________________________________________________\n",
      "bidirectional (Bidirectional)   (None, 15, 30)       7920        embedding[0][0]                  \n",
      "                                                                 embedding[1][0]                  \n",
      "__________________________________________________________________________________________________\n",
      "dropout (Dropout)               (None, 15, 30)       0           bidirectional[0][0]              \n",
      "                                                                 bidirectional[1][0]              \n",
      "__________________________________________________________________________________________________\n",
      "leaks_inp (InputLayer)          [(None, 3)]          0                                            \n",
      "__________________________________________________________________________________________________\n",
      "bidirectional_1 (Bidirectional) (None, 30)           5520        dropout[0][0]                    \n",
      "                                                                 dropout[1][0]                    \n",
      "__________________________________________________________________________________________________\n",
      "dense (Dense)                   (None, 25)           100         leaks_inp[0][0]                  \n",
      "__________________________________________________________________________________________________\n",
      "concatenate (Concatenate)       (None, 85)           0           bidirectional_1[0][0]            \n",
      "                                                                 bidirectional_1[1][0]            \n",
      "                                                                 dense[0][0]                      \n",
      "__________________________________________________________________________________________________\n",
      "batch_normalization (BatchNorma (None, 85)           340         concatenate[0][0]                \n",
      "__________________________________________________________________________________________________\n",
      "dropout_1 (Dropout)             (None, 85)           0           batch_normalization[0][0]        \n",
      "__________________________________________________________________________________________________\n",
      "dense_1 (Dense)                 (None, 50)           4300        dropout_1[0][0]                  \n",
      "__________________________________________________________________________________________________\n",
      "batch_normalization_1 (BatchNor (None, 50)           200         dense_1[0][0]                    \n",
      "__________________________________________________________________________________________________\n",
      "dropout_2 (Dropout)             (None, 50)           0           batch_normalization_1[0][0]      \n",
      "__________________________________________________________________________________________________\n",
      "pred (Dense)                    (None, 6)            306         dropout_2[0][0]                  \n",
      "==================================================================================================\n",
      "Total params: 20,018,936\n",
      "Trainable params: 20,018,666\n",
      "Non-trainable params: 270\n",
      "__________________________________________________________________________________________________\n"
     ]
    }
   ],
   "source": [
    "# printing a string summary of the network\n",
    "model.summary()"
   ]
  },
  {
   "cell_type": "code",
   "execution_count": 81,
   "metadata": {
    "colab": {
     "base_uri": "https://localhost:8080/"
    },
    "id": "H-mhP5SN1e5v",
    "outputId": "b28c89b2-906d-46e7-beb7-a90b6185d20b",
    "pycharm": {
     "name": "#%%\n"
    }
   },
   "outputs": [
    {
     "name": "stdout",
     "output_type": "stream",
     "text": [
      "Epoch 1/200\n",
      "80/80 [==============================] - 92s 425ms/step - loss: 2.3514 - accuracy: 0.1879 - val_loss: 1.6855 - val_accuracy: 0.2304\n",
      "\n",
      "Epoch 00001: accuracy improved from -inf to 0.20176, saving model to ./sts_models/sts_model.h5\n",
      "Epoch 2/200\n",
      "80/80 [==============================] - 25s 309ms/step - loss: 1.8592 - accuracy: 0.2578 - val_loss: 1.5834 - val_accuracy: 0.3314\n",
      "\n",
      "Epoch 00002: accuracy improved from 0.20176 to 0.26875, saving model to ./sts_models/sts_model.h5\n",
      "Epoch 3/200\n",
      "80/80 [==============================] - 25s 318ms/step - loss: 1.7666 - accuracy: 0.2619 - val_loss: 1.5447 - val_accuracy: 0.3392\n",
      "\n",
      "Epoch 00003: accuracy improved from 0.26875 to 0.27500, saving model to ./sts_models/sts_model.h5\n",
      "Epoch 4/200\n",
      "80/80 [==============================] - 25s 315ms/step - loss: 1.6985 - accuracy: 0.2996 - val_loss: 1.5210 - val_accuracy: 0.3578\n",
      "\n",
      "Epoch 00004: accuracy improved from 0.27500 to 0.29160, saving model to ./sts_models/sts_model.h5\n",
      "Epoch 5/200\n",
      "80/80 [==============================] - 25s 308ms/step - loss: 1.6309 - accuracy: 0.3138 - val_loss: 1.5243 - val_accuracy: 0.3520\n",
      "\n",
      "Epoch 00005: accuracy improved from 0.29160 to 0.30645, saving model to ./sts_models/sts_model.h5\n",
      "Epoch 6/200\n",
      "80/80 [==============================] - 25s 313ms/step - loss: 1.6001 - accuracy: 0.3138 - val_loss: 1.5279 - val_accuracy: 0.3520\n",
      "\n",
      "Epoch 00006: accuracy improved from 0.30645 to 0.31191, saving model to ./sts_models/sts_model.h5\n",
      "Epoch 7/200\n",
      "80/80 [==============================] - 25s 310ms/step - loss: 1.5994 - accuracy: 0.3230 - val_loss: 1.5288 - val_accuracy: 0.3569\n",
      "\n",
      "Epoch 00007: accuracy improved from 0.31191 to 0.32324, saving model to ./sts_models/sts_model.h5\n",
      "Epoch 8/200\n",
      "80/80 [==============================] - 25s 307ms/step - loss: 1.5469 - accuracy: 0.3342 - val_loss: 1.5312 - val_accuracy: 0.3500\n",
      "\n",
      "Epoch 00008: accuracy improved from 0.32324 to 0.33496, saving model to ./sts_models/sts_model.h5\n",
      "Epoch 9/200\n",
      "80/80 [==============================] - 25s 307ms/step - loss: 1.5526 - accuracy: 0.3411 - val_loss: 1.5042 - val_accuracy: 0.3608\n",
      "\n",
      "Epoch 00009: accuracy improved from 0.33496 to 0.34434, saving model to ./sts_models/sts_model.h5\n",
      "Epoch 10/200\n",
      "80/80 [==============================] - 25s 317ms/step - loss: 1.5251 - accuracy: 0.3462 - val_loss: 1.5490 - val_accuracy: 0.3451\n",
      "\n",
      "Epoch 00010: accuracy improved from 0.34434 to 0.35059, saving model to ./sts_models/sts_model.h5\n",
      "Epoch 11/200\n",
      "80/80 [==============================] - 25s 309ms/step - loss: 1.5146 - accuracy: 0.3650 - val_loss: 1.5061 - val_accuracy: 0.3588\n",
      "\n",
      "Epoch 00011: accuracy improved from 0.35059 to 0.36016, saving model to ./sts_models/sts_model.h5\n",
      "Epoch 12/200\n",
      "80/80 [==============================] - 25s 315ms/step - loss: 1.4744 - accuracy: 0.3838 - val_loss: 1.4765 - val_accuracy: 0.3637\n",
      "\n",
      "Epoch 00012: accuracy improved from 0.36016 to 0.37617, saving model to ./sts_models/sts_model.h5\n",
      "Epoch 13/200\n",
      "80/80 [==============================] - 25s 308ms/step - loss: 1.4551 - accuracy: 0.3795 - val_loss: 1.5037 - val_accuracy: 0.3422\n",
      "\n",
      "Epoch 00013: accuracy improved from 0.37617 to 0.37910, saving model to ./sts_models/sts_model.h5\n",
      "Epoch 14/200\n",
      "80/80 [==============================] - 24s 305ms/step - loss: 1.4256 - accuracy: 0.3954 - val_loss: 1.5570 - val_accuracy: 0.3343\n",
      "\n",
      "Epoch 00014: accuracy improved from 0.37910 to 0.38887, saving model to ./sts_models/sts_model.h5\n",
      "Epoch 15/200\n",
      "80/80 [==============================] - 24s 305ms/step - loss: 1.4214 - accuracy: 0.4080 - val_loss: 1.5378 - val_accuracy: 0.3324\n",
      "\n",
      "Epoch 00015: accuracy improved from 0.38887 to 0.40664, saving model to ./sts_models/sts_model.h5\n",
      "Epoch 16/200\n",
      "80/80 [==============================] - 24s 306ms/step - loss: 1.3802 - accuracy: 0.4074 - val_loss: 1.5973 - val_accuracy: 0.3333\n",
      "\n",
      "Epoch 00016: accuracy did not improve from 0.40664\n",
      "Epoch 17/200\n",
      "80/80 [==============================] - 25s 308ms/step - loss: 1.3576 - accuracy: 0.4319 - val_loss: 1.5350 - val_accuracy: 0.3765\n",
      "\n",
      "Epoch 00017: accuracy improved from 0.40664 to 0.43691, saving model to ./sts_models/sts_model.h5\n",
      "Epoch 18/200\n",
      "80/80 [==============================] - 25s 307ms/step - loss: 1.3361 - accuracy: 0.4455 - val_loss: 1.5718 - val_accuracy: 0.3510\n",
      "\n",
      "Epoch 00018: accuracy improved from 0.43691 to 0.45176, saving model to ./sts_models/sts_model.h5\n",
      "Epoch 19/200\n",
      "80/80 [==============================] - 25s 306ms/step - loss: 1.2826 - accuracy: 0.4531 - val_loss: 1.7237 - val_accuracy: 0.3324\n",
      "\n",
      "Epoch 00019: accuracy improved from 0.45176 to 0.45684, saving model to ./sts_models/sts_model.h5\n",
      "Epoch 20/200\n",
      "80/80 [==============================] - 25s 308ms/step - loss: 1.2757 - accuracy: 0.4586 - val_loss: 1.6236 - val_accuracy: 0.3333\n",
      "\n",
      "Epoch 00020: accuracy improved from 0.45684 to 0.46660, saving model to ./sts_models/sts_model.h5\n",
      "Epoch 21/200\n",
      "80/80 [==============================] - 26s 325ms/step - loss: 1.2296 - accuracy: 0.4905 - val_loss: 1.6740 - val_accuracy: 0.3608\n",
      "\n",
      "Epoch 00021: accuracy improved from 0.46660 to 0.49746, saving model to ./sts_models/sts_model.h5\n",
      "Epoch 22/200\n",
      "80/80 [==============================] - 24s 303ms/step - loss: 1.2181 - accuracy: 0.4990 - val_loss: 1.6414 - val_accuracy: 0.3657\n",
      "\n",
      "Epoch 00022: accuracy improved from 0.49746 to 0.49922, saving model to ./sts_models/sts_model.h5\n",
      "Epoch 23/200\n",
      "80/80 [==============================] - 24s 301ms/step - loss: 1.1981 - accuracy: 0.5017 - val_loss: 1.6888 - val_accuracy: 0.3667\n",
      "\n",
      "Epoch 00023: accuracy improved from 0.49922 to 0.51387, saving model to ./sts_models/sts_model.h5\n",
      "Epoch 24/200\n",
      "80/80 [==============================] - 24s 305ms/step - loss: 1.1699 - accuracy: 0.5209 - val_loss: 1.6736 - val_accuracy: 0.3765\n",
      "\n",
      "Epoch 00024: accuracy improved from 0.51387 to 0.51992, saving model to ./sts_models/sts_model.h5\n",
      "Epoch 25/200\n",
      "80/80 [==============================] - 25s 310ms/step - loss: 1.1537 - accuracy: 0.5328 - val_loss: 1.7530 - val_accuracy: 0.3627\n",
      "\n",
      "Epoch 00025: accuracy improved from 0.51992 to 0.54023, saving model to ./sts_models/sts_model.h5\n",
      "Epoch 26/200\n",
      "80/80 [==============================] - 24s 297ms/step - loss: 1.1305 - accuracy: 0.5358 - val_loss: 1.7468 - val_accuracy: 0.3451\n",
      "\n",
      "Epoch 00026: accuracy improved from 0.54023 to 0.54805, saving model to ./sts_models/sts_model.h5\n",
      "Epoch 27/200\n",
      "80/80 [==============================] - 24s 297ms/step - loss: 1.1248 - accuracy: 0.5448 - val_loss: 1.7840 - val_accuracy: 0.3618\n",
      "\n",
      "Epoch 00027: accuracy improved from 0.54805 to 0.55781, saving model to ./sts_models/sts_model.h5\n",
      "Epoch 28/200\n",
      "80/80 [==============================] - 23s 292ms/step - loss: 1.0690 - accuracy: 0.5889 - val_loss: 1.8218 - val_accuracy: 0.3559\n",
      "\n",
      "Epoch 00028: accuracy improved from 0.55781 to 0.58223, saving model to ./sts_models/sts_model.h5\n",
      "Epoch 29/200\n",
      "80/80 [==============================] - 23s 290ms/step - loss: 1.0538 - accuracy: 0.5928 - val_loss: 1.8340 - val_accuracy: 0.3706\n",
      "\n",
      "Epoch 00029: accuracy improved from 0.58223 to 0.59727, saving model to ./sts_models/sts_model.h5\n",
      "Epoch 30/200\n",
      "80/80 [==============================] - 24s 297ms/step - loss: 1.0315 - accuracy: 0.6000 - val_loss: 1.9150 - val_accuracy: 0.3559\n",
      "\n",
      "Epoch 00030: accuracy improved from 0.59727 to 0.60859, saving model to ./sts_models/sts_model.h5\n",
      "Epoch 31/200\n",
      "80/80 [==============================] - 24s 298ms/step - loss: 1.0206 - accuracy: 0.5987 - val_loss: 1.9467 - val_accuracy: 0.3520\n",
      "\n",
      "Epoch 00031: accuracy improved from 0.60859 to 0.60996, saving model to ./sts_models/sts_model.h5\n",
      "Epoch 32/200\n",
      "80/80 [==============================] - 24s 305ms/step - loss: 0.9808 - accuracy: 0.6221 - val_loss: 1.9975 - val_accuracy: 0.3461\n",
      "\n",
      "Epoch 00032: accuracy improved from 0.60996 to 0.61816, saving model to ./sts_models/sts_model.h5\n",
      "Epoch 33/200\n",
      "80/80 [==============================] - 24s 300ms/step - loss: 0.9636 - accuracy: 0.6383 - val_loss: 2.0137 - val_accuracy: 0.3314\n",
      "\n",
      "Epoch 00033: accuracy improved from 0.61816 to 0.64258, saving model to ./sts_models/sts_model.h5\n",
      "Epoch 34/200\n",
      "80/80 [==============================] - 24s 293ms/step - loss: 0.9664 - accuracy: 0.6406 - val_loss: 2.0254 - val_accuracy: 0.3363\n",
      "\n",
      "Epoch 00034: accuracy did not improve from 0.64258\n",
      "Epoch 35/200\n",
      "80/80 [==============================] - 24s 294ms/step - loss: 0.9470 - accuracy: 0.6463 - val_loss: 1.9972 - val_accuracy: 0.3569\n",
      "\n",
      "Epoch 00035: accuracy improved from 0.64258 to 0.64668, saving model to ./sts_models/sts_model.h5\n",
      "Epoch 36/200\n",
      "80/80 [==============================] - 24s 303ms/step - loss: 0.9152 - accuracy: 0.6618 - val_loss: 2.0171 - val_accuracy: 0.3471\n",
      "\n",
      "Epoch 00036: accuracy improved from 0.64668 to 0.67148, saving model to ./sts_models/sts_model.h5\n",
      "Epoch 37/200\n",
      "80/80 [==============================] - 24s 297ms/step - loss: 0.9432 - accuracy: 0.6604 - val_loss: 2.0873 - val_accuracy: 0.3559\n",
      "\n",
      "Epoch 00037: accuracy improved from 0.67148 to 0.67285, saving model to ./sts_models/sts_model.h5\n",
      "Epoch 38/200\n",
      "80/80 [==============================] - 24s 295ms/step - loss: 0.9076 - accuracy: 0.6670 - val_loss: 2.0268 - val_accuracy: 0.3382\n",
      "\n",
      "Epoch 00038: accuracy did not improve from 0.67285\n",
      "Epoch 39/200\n",
      "80/80 [==============================] - 23s 293ms/step - loss: 0.8857 - accuracy: 0.6906 - val_loss: 2.0324 - val_accuracy: 0.3451\n",
      "\n",
      "Epoch 00039: accuracy improved from 0.67285 to 0.68086, saving model to ./sts_models/sts_model.h5\n",
      "Epoch 40/200\n",
      "80/80 [==============================] - 25s 307ms/step - loss: 0.8820 - accuracy: 0.6953 - val_loss: 2.0775 - val_accuracy: 0.3314\n",
      "\n",
      "Epoch 00040: accuracy improved from 0.68086 to 0.69141, saving model to ./sts_models/sts_model.h5\n",
      "Epoch 41/200\n",
      "80/80 [==============================] - 27s 339ms/step - loss: 0.8811 - accuracy: 0.6958 - val_loss: 2.1069 - val_accuracy: 0.3363\n",
      "\n",
      "Epoch 00041: accuracy improved from 0.69141 to 0.69375, saving model to ./sts_models/sts_model.h5\n",
      "Epoch 42/200\n",
      "80/80 [==============================] - 38s 473ms/step - loss: 0.8747 - accuracy: 0.6820 - val_loss: 2.1404 - val_accuracy: 0.3480\n",
      "\n",
      "Epoch 00042: accuracy did not improve from 0.69375\n",
      "Epoch 43/200\n",
      "80/80 [==============================] - 23s 289ms/step - loss: 0.8337 - accuracy: 0.7036 - val_loss: 2.2230 - val_accuracy: 0.3441\n",
      "\n",
      "Epoch 00043: accuracy improved from 0.69375 to 0.70430, saving model to ./sts_models/sts_model.h5\n",
      "Epoch 44/200\n",
      "80/80 [==============================] - 24s 293ms/step - loss: 0.8245 - accuracy: 0.7089 - val_loss: 2.1792 - val_accuracy: 0.3363\n",
      "\n",
      "Epoch 00044: accuracy improved from 0.70430 to 0.70879, saving model to ./sts_models/sts_model.h5\n",
      "Epoch 45/200\n",
      "80/80 [==============================] - 24s 294ms/step - loss: 0.8178 - accuracy: 0.7144 - val_loss: 2.2388 - val_accuracy: 0.3402\n",
      "\n",
      "Epoch 00045: accuracy improved from 0.70879 to 0.72188, saving model to ./sts_models/sts_model.h5\n",
      "Epoch 46/200\n",
      "80/80 [==============================] - 23s 293ms/step - loss: 0.8203 - accuracy: 0.7111 - val_loss: 2.3166 - val_accuracy: 0.3284\n",
      "\n",
      "Epoch 00046: accuracy did not improve from 0.72188\n",
      "Epoch 47/200\n",
      "80/80 [==============================] - 23s 288ms/step - loss: 0.8208 - accuracy: 0.7250 - val_loss: 2.1989 - val_accuracy: 0.3333\n",
      "\n",
      "Epoch 00047: accuracy improved from 0.72188 to 0.73770, saving model to ./sts_models/sts_model.h5\n",
      "Epoch 48/200\n",
      "80/80 [==============================] - 24s 302ms/step - loss: 0.8085 - accuracy: 0.7331 - val_loss: 2.2633 - val_accuracy: 0.3284\n",
      "\n",
      "Epoch 00048: accuracy did not improve from 0.73770\n",
      "Epoch 49/200\n",
      "80/80 [==============================] - 23s 288ms/step - loss: 0.8115 - accuracy: 0.7051 - val_loss: 2.2917 - val_accuracy: 0.3373\n",
      "\n",
      "Epoch 00049: accuracy did not improve from 0.73770\n",
      "Epoch 50/200\n",
      "80/80 [==============================] - 23s 288ms/step - loss: 0.7992 - accuracy: 0.7287 - val_loss: 2.2609 - val_accuracy: 0.3353\n",
      "\n",
      "Epoch 00050: accuracy did not improve from 0.73770\n",
      "Epoch 51/200\n",
      "80/80 [==============================] - 23s 285ms/step - loss: 0.7670 - accuracy: 0.7490 - val_loss: 2.2636 - val_accuracy: 0.3363\n",
      "\n",
      "Epoch 00051: accuracy improved from 0.73770 to 0.73984, saving model to ./sts_models/sts_model.h5\n",
      "Epoch 52/200\n",
      "80/80 [==============================] - 23s 289ms/step - loss: 0.7799 - accuracy: 0.7637 - val_loss: 2.4351 - val_accuracy: 0.3176\n",
      "\n",
      "Epoch 00052: accuracy improved from 0.73984 to 0.74512, saving model to ./sts_models/sts_model.h5\n",
      "Epoch 53/200\n",
      "80/80 [==============================] - 23s 287ms/step - loss: 0.7766 - accuracy: 0.7427 - val_loss: 2.3103 - val_accuracy: 0.3343\n",
      "\n",
      "Epoch 00053: accuracy did not improve from 0.74512\n",
      "Epoch 54/200\n",
      "80/80 [==============================] - 23s 288ms/step - loss: 0.7577 - accuracy: 0.7497 - val_loss: 2.2838 - val_accuracy: 0.3206\n",
      "\n",
      "Epoch 00054: accuracy did not improve from 0.74512\n",
      "Epoch 55/200\n",
      "80/80 [==============================] - 23s 289ms/step - loss: 0.7632 - accuracy: 0.7546 - val_loss: 2.3596 - val_accuracy: 0.3255\n",
      "\n",
      "Epoch 00055: accuracy improved from 0.74512 to 0.74668, saving model to ./sts_models/sts_model.h5\n",
      "Epoch 56/200\n",
      "80/80 [==============================] - 23s 288ms/step - loss: 0.7374 - accuracy: 0.7637 - val_loss: 2.3558 - val_accuracy: 0.3324\n",
      "\n",
      "Epoch 00056: accuracy improved from 0.74668 to 0.75801, saving model to ./sts_models/sts_model.h5\n",
      "Epoch 57/200\n",
      "80/80 [==============================] - 23s 291ms/step - loss: 0.7575 - accuracy: 0.7546 - val_loss: 2.3576 - val_accuracy: 0.3314\n",
      "\n",
      "Epoch 00057: accuracy did not improve from 0.75801\n",
      "Epoch 58/200\n",
      "80/80 [==============================] - 23s 288ms/step - loss: 0.7472 - accuracy: 0.7684 - val_loss: 2.2881 - val_accuracy: 0.3255\n",
      "\n",
      "Epoch 00058: accuracy did not improve from 0.75801\n",
      "Epoch 59/200\n",
      "80/80 [==============================] - 23s 288ms/step - loss: 0.7757 - accuracy: 0.7386 - val_loss: 2.3595 - val_accuracy: 0.3304\n",
      "\n",
      "Epoch 00059: accuracy did not improve from 0.75801\n",
      "Epoch 60/200\n",
      "80/80 [==============================] - 23s 287ms/step - loss: 0.7470 - accuracy: 0.7771 - val_loss: 2.4567 - val_accuracy: 0.3098\n",
      "\n",
      "Epoch 00060: accuracy improved from 0.75801 to 0.77441, saving model to ./sts_models/sts_model.h5\n",
      "Epoch 61/200\n",
      "80/80 [==============================] - 23s 291ms/step - loss: 0.7315 - accuracy: 0.7687 - val_loss: 2.4103 - val_accuracy: 0.3284\n",
      "\n",
      "Epoch 00061: accuracy did not improve from 0.77441\n",
      "Epoch 62/200\n",
      "80/80 [==============================] - 24s 294ms/step - loss: 0.7600 - accuracy: 0.7561 - val_loss: 2.5110 - val_accuracy: 0.3176\n",
      "\n",
      "Epoch 00062: accuracy did not improve from 0.77441\n",
      "Epoch 63/200\n",
      "80/80 [==============================] - 24s 296ms/step - loss: 0.7320 - accuracy: 0.7482 - val_loss: 2.4839 - val_accuracy: 0.3078\n",
      "\n",
      "Epoch 00063: accuracy did not improve from 0.77441\n",
      "Epoch 64/200\n",
      "80/80 [==============================] - 24s 297ms/step - loss: 0.7345 - accuracy: 0.7639 - val_loss: 2.4352 - val_accuracy: 0.3137\n",
      "\n",
      "Epoch 00064: accuracy did not improve from 0.77441\n",
      "Epoch 65/200\n",
      "80/80 [==============================] - 25s 307ms/step - loss: 0.7265 - accuracy: 0.7567 - val_loss: 2.4427 - val_accuracy: 0.3206\n",
      "\n",
      "Epoch 00065: accuracy did not improve from 0.77441\n",
      "Epoch 66/200\n",
      "80/80 [==============================] - 24s 296ms/step - loss: 0.7217 - accuracy: 0.7740 - val_loss: 2.4709 - val_accuracy: 0.3098\n",
      "\n",
      "Epoch 00066: accuracy did not improve from 0.77441\n",
      "Epoch 67/200\n",
      "80/80 [==============================] - 23s 292ms/step - loss: 0.7187 - accuracy: 0.7690 - val_loss: 2.4311 - val_accuracy: 0.3216\n",
      "\n",
      "Epoch 00067: accuracy did not improve from 0.77441\n",
      "Epoch 68/200\n",
      "80/80 [==============================] - 24s 295ms/step - loss: 0.7218 - accuracy: 0.7709 - val_loss: 2.4614 - val_accuracy: 0.3176\n",
      "\n",
      "Epoch 00068: accuracy did not improve from 0.77441\n",
      "Epoch 69/200\n",
      "80/80 [==============================] - 23s 291ms/step - loss: 0.6994 - accuracy: 0.7808 - val_loss: 2.4469 - val_accuracy: 0.3235\n",
      "\n",
      "Epoch 00069: accuracy improved from 0.77441 to 0.78203, saving model to ./sts_models/sts_model.h5\n",
      "Epoch 70/200\n",
      "80/80 [==============================] - 23s 293ms/step - loss: 0.7039 - accuracy: 0.7654 - val_loss: 2.4910 - val_accuracy: 0.3118\n",
      "\n",
      "Epoch 00070: accuracy did not improve from 0.78203\n",
      "Epoch 71/200\n",
      "80/80 [==============================] - 23s 291ms/step - loss: 0.7213 - accuracy: 0.7687 - val_loss: 2.5243 - val_accuracy: 0.2980\n",
      "\n",
      "Epoch 00071: accuracy did not improve from 0.78203\n",
      "Epoch 72/200\n",
      "80/80 [==============================] - 23s 289ms/step - loss: 0.7230 - accuracy: 0.7595 - val_loss: 2.4795 - val_accuracy: 0.3167\n",
      "\n",
      "Epoch 00072: accuracy did not improve from 0.78203\n",
      "Epoch 73/200\n",
      "80/80 [==============================] - 23s 291ms/step - loss: 0.6941 - accuracy: 0.7790 - val_loss: 2.6207 - val_accuracy: 0.3167\n",
      "\n",
      "Epoch 00073: accuracy did not improve from 0.78203\n",
      "Epoch 74/200\n",
      "80/80 [==============================] - 23s 293ms/step - loss: 0.7016 - accuracy: 0.7885 - val_loss: 2.4531 - val_accuracy: 0.3108\n",
      "\n",
      "Epoch 00074: accuracy did not improve from 0.78203\n",
      "Epoch 75/200\n",
      "80/80 [==============================] - 23s 292ms/step - loss: 0.7111 - accuracy: 0.7694 - val_loss: 2.5817 - val_accuracy: 0.3186\n",
      "\n",
      "Epoch 00075: accuracy did not improve from 0.78203\n",
      "Epoch 76/200\n",
      "80/80 [==============================] - 24s 295ms/step - loss: 0.6864 - accuracy: 0.7847 - val_loss: 2.5927 - val_accuracy: 0.3020\n",
      "\n",
      "Epoch 00076: accuracy improved from 0.78203 to 0.78770, saving model to ./sts_models/sts_model.h5\n",
      "Epoch 77/200\n",
      "80/80 [==============================] - 25s 307ms/step - loss: 0.6947 - accuracy: 0.7780 - val_loss: 2.5425 - val_accuracy: 0.3078\n",
      "\n",
      "Epoch 00077: accuracy did not improve from 0.78770\n",
      "Epoch 78/200\n",
      "80/80 [==============================] - 24s 294ms/step - loss: 0.6900 - accuracy: 0.7837 - val_loss: 2.6292 - val_accuracy: 0.2980\n",
      "\n",
      "Epoch 00078: accuracy did not improve from 0.78770\n",
      "Epoch 79/200\n",
      "80/80 [==============================] - 24s 296ms/step - loss: 0.6850 - accuracy: 0.7784 - val_loss: 2.5552 - val_accuracy: 0.3137\n",
      "\n",
      "Epoch 00079: accuracy did not improve from 0.78770\n",
      "Epoch 80/200\n",
      "80/80 [==============================] - 24s 297ms/step - loss: 0.6821 - accuracy: 0.7869 - val_loss: 2.5760 - val_accuracy: 0.3167\n",
      "\n",
      "Epoch 00080: accuracy did not improve from 0.78770\n",
      "Epoch 81/200\n",
      "80/80 [==============================] - 26s 331ms/step - loss: 0.6909 - accuracy: 0.7775 - val_loss: 2.6916 - val_accuracy: 0.3078\n",
      "\n",
      "Epoch 00081: accuracy did not improve from 0.78770\n",
      "Epoch 82/200\n",
      "80/80 [==============================] - 23s 291ms/step - loss: 0.6834 - accuracy: 0.7916 - val_loss: 2.6056 - val_accuracy: 0.2951\n",
      "\n",
      "Epoch 00082: accuracy improved from 0.78770 to 0.79160, saving model to ./sts_models/sts_model.h5\n",
      "Epoch 83/200\n",
      "80/80 [==============================] - 23s 293ms/step - loss: 0.6866 - accuracy: 0.7815 - val_loss: 2.6622 - val_accuracy: 0.2971\n",
      "\n",
      "Epoch 00083: accuracy did not improve from 0.79160\n",
      "Epoch 84/200\n",
      "80/80 [==============================] - 24s 296ms/step - loss: 0.6723 - accuracy: 0.7975 - val_loss: 2.8011 - val_accuracy: 0.3000\n",
      "\n",
      "Epoch 00084: accuracy improved from 0.79160 to 0.79609, saving model to ./sts_models/sts_model.h5\n",
      "Epoch 85/200\n",
      "80/80 [==============================] - 24s 305ms/step - loss: 0.6799 - accuracy: 0.7973 - val_loss: 2.6673 - val_accuracy: 0.3000\n",
      "\n",
      "Epoch 00085: accuracy improved from 0.79609 to 0.79727, saving model to ./sts_models/sts_model.h5\n",
      "Epoch 86/200\n",
      "80/80 [==============================] - 24s 298ms/step - loss: 0.6648 - accuracy: 0.7985 - val_loss: 2.6989 - val_accuracy: 0.3000\n",
      "\n",
      "Epoch 00086: accuracy did not improve from 0.79727\n",
      "Epoch 87/200\n",
      "80/80 [==============================] - 24s 304ms/step - loss: 0.6937 - accuracy: 0.7733 - val_loss: 2.5873 - val_accuracy: 0.3137\n",
      "\n",
      "Epoch 00087: accuracy did not improve from 0.79727\n",
      "Epoch 88/200\n",
      "80/80 [==============================] - 24s 305ms/step - loss: 0.6870 - accuracy: 0.7794 - val_loss: 2.5768 - val_accuracy: 0.3029\n",
      "\n",
      "Epoch 00088: accuracy did not improve from 0.79727\n",
      "Epoch 89/200\n",
      "80/80 [==============================] - 24s 298ms/step - loss: 0.6738 - accuracy: 0.7857 - val_loss: 2.7101 - val_accuracy: 0.3039\n",
      "\n",
      "Epoch 00089: accuracy did not improve from 0.79727\n",
      "Epoch 90/200\n",
      "80/80 [==============================] - 24s 306ms/step - loss: 0.6891 - accuracy: 0.7777 - val_loss: 2.6468 - val_accuracy: 0.3088\n",
      "\n",
      "Epoch 00090: accuracy did not improve from 0.79727\n",
      "Epoch 91/200\n",
      "80/80 [==============================] - 25s 307ms/step - loss: 0.6641 - accuracy: 0.8059 - val_loss: 2.7753 - val_accuracy: 0.2863\n",
      "\n",
      "Epoch 00091: accuracy improved from 0.79727 to 0.79922, saving model to ./sts_models/sts_model.h5\n",
      "Epoch 92/200\n",
      "80/80 [==============================] - 24s 300ms/step - loss: 0.6648 - accuracy: 0.7992 - val_loss: 2.7215 - val_accuracy: 0.2922\n",
      "\n",
      "Epoch 00092: accuracy improved from 0.79922 to 0.79941, saving model to ./sts_models/sts_model.h5\n",
      "Epoch 93/200\n",
      "80/80 [==============================] - 24s 294ms/step - loss: 0.6521 - accuracy: 0.7919 - val_loss: 2.8004 - val_accuracy: 0.2971\n",
      "\n",
      "Epoch 00093: accuracy did not improve from 0.79941\n",
      "Epoch 94/200\n",
      "80/80 [==============================] - 24s 295ms/step - loss: 0.6477 - accuracy: 0.8038 - val_loss: 2.7757 - val_accuracy: 0.3059\n",
      "\n",
      "Epoch 00094: accuracy improved from 0.79941 to 0.80547, saving model to ./sts_models/sts_model.h5\n",
      "Epoch 95/200\n",
      "80/80 [==============================] - 24s 296ms/step - loss: 0.6557 - accuracy: 0.8122 - val_loss: 2.7842 - val_accuracy: 0.2882\n",
      "\n",
      "Epoch 00095: accuracy improved from 0.80547 to 0.80645, saving model to ./sts_models/sts_model.h5\n",
      "Epoch 96/200\n",
      "80/80 [==============================] - 24s 298ms/step - loss: 0.6593 - accuracy: 0.7933 - val_loss: 2.7283 - val_accuracy: 0.3108\n",
      "\n",
      "Epoch 00096: accuracy did not improve from 0.80645\n",
      "Epoch 97/200\n",
      "80/80 [==============================] - 24s 296ms/step - loss: 0.6436 - accuracy: 0.8019 - val_loss: 2.7628 - val_accuracy: 0.3010\n",
      "\n",
      "Epoch 00097: accuracy did not improve from 0.80645\n",
      "Epoch 98/200\n",
      "80/80 [==============================] - 24s 296ms/step - loss: 0.6633 - accuracy: 0.7979 - val_loss: 2.7153 - val_accuracy: 0.3049\n",
      "\n",
      "Epoch 00098: accuracy did not improve from 0.80645\n",
      "Epoch 99/200\n",
      "80/80 [==============================] - 25s 307ms/step - loss: 0.6527 - accuracy: 0.7973 - val_loss: 2.7575 - val_accuracy: 0.2892\n",
      "\n",
      "Epoch 00099: accuracy did not improve from 0.80645\n",
      "Epoch 100/200\n",
      "80/80 [==============================] - 25s 314ms/step - loss: 0.6385 - accuracy: 0.8099 - val_loss: 2.7353 - val_accuracy: 0.3029\n",
      "\n",
      "Epoch 00100: accuracy did not improve from 0.80645\n",
      "Epoch 101/200\n",
      "80/80 [==============================] - 24s 306ms/step - loss: 0.6545 - accuracy: 0.7848 - val_loss: 2.7305 - val_accuracy: 0.2931\n",
      "\n",
      "Epoch 00101: accuracy did not improve from 0.80645\n",
      "Epoch 102/200\n",
      "80/80 [==============================] - 24s 295ms/step - loss: 0.6474 - accuracy: 0.7944 - val_loss: 2.7989 - val_accuracy: 0.2833\n",
      "\n",
      "Epoch 00102: accuracy did not improve from 0.80645\n",
      "Epoch 103/200\n",
      "80/80 [==============================] - 24s 298ms/step - loss: 0.6316 - accuracy: 0.8081 - val_loss: 2.7602 - val_accuracy: 0.2843\n",
      "\n",
      "Epoch 00103: accuracy did not improve from 0.80645\n",
      "Epoch 104/200\n",
      "80/80 [==============================] - 24s 295ms/step - loss: 0.6460 - accuracy: 0.8123 - val_loss: 2.8413 - val_accuracy: 0.2892\n",
      "\n",
      "Epoch 00104: accuracy did not improve from 0.80645\n",
      "Epoch 105/200\n",
      "80/80 [==============================] - 24s 296ms/step - loss: 0.6671 - accuracy: 0.7759 - val_loss: 2.8554 - val_accuracy: 0.2941\n",
      "\n",
      "Epoch 00105: accuracy did not improve from 0.80645\n",
      "Epoch 106/200\n",
      "80/80 [==============================] - 23s 293ms/step - loss: 0.6544 - accuracy: 0.7931 - val_loss: 2.8509 - val_accuracy: 0.2902\n",
      "\n",
      "Epoch 00106: accuracy did not improve from 0.80645\n",
      "Epoch 107/200\n",
      "80/80 [==============================] - 24s 295ms/step - loss: 0.6485 - accuracy: 0.8022 - val_loss: 2.7464 - val_accuracy: 0.2961\n",
      "\n",
      "Epoch 00107: accuracy did not improve from 0.80645\n",
      "Epoch 108/200\n",
      "80/80 [==============================] - 24s 304ms/step - loss: 0.6354 - accuracy: 0.8160 - val_loss: 2.8225 - val_accuracy: 0.3029\n",
      "\n",
      "Epoch 00108: accuracy improved from 0.80645 to 0.81309, saving model to ./sts_models/sts_model.h5\n",
      "Epoch 109/200\n",
      "80/80 [==============================] - 25s 310ms/step - loss: 0.6414 - accuracy: 0.8100 - val_loss: 2.8677 - val_accuracy: 0.2941\n",
      "\n",
      "Epoch 00109: accuracy did not improve from 0.81309\n",
      "Epoch 110/200\n",
      "80/80 [==============================] - 25s 307ms/step - loss: 0.6360 - accuracy: 0.8063 - val_loss: 2.8139 - val_accuracy: 0.2990\n",
      "\n",
      "Epoch 00110: accuracy did not improve from 0.81309\n",
      "Epoch 111/200\n",
      "80/80 [==============================] - 25s 318ms/step - loss: 0.6276 - accuracy: 0.8249 - val_loss: 2.8553 - val_accuracy: 0.2902\n",
      "\n",
      "Epoch 00111: accuracy improved from 0.81309 to 0.81445, saving model to ./sts_models/sts_model.h5\n",
      "Epoch 112/200\n",
      "80/80 [==============================] - 24s 298ms/step - loss: 0.6385 - accuracy: 0.7939 - val_loss: 2.9003 - val_accuracy: 0.2873\n",
      "\n",
      "Epoch 00112: accuracy did not improve from 0.81445\n",
      "Epoch 113/200\n",
      "80/80 [==============================] - 25s 312ms/step - loss: 0.6340 - accuracy: 0.8045 - val_loss: 2.8766 - val_accuracy: 0.3049\n",
      "\n",
      "Epoch 00113: accuracy did not improve from 0.81445\n",
      "Epoch 114/200\n",
      "80/80 [==============================] - 24s 299ms/step - loss: 0.6232 - accuracy: 0.8026 - val_loss: 2.8715 - val_accuracy: 0.2961\n",
      "\n",
      "Epoch 00114: accuracy did not improve from 0.81445\n",
      "Epoch 115/200\n",
      "80/80 [==============================] - 24s 303ms/step - loss: 0.6342 - accuracy: 0.8033 - val_loss: 2.9161 - val_accuracy: 0.2961\n",
      "\n",
      "Epoch 00115: accuracy did not improve from 0.81445\n",
      "Epoch 116/200\n",
      "80/80 [==============================] - 25s 308ms/step - loss: 0.6356 - accuracy: 0.8072 - val_loss: 2.9407 - val_accuracy: 0.2912\n",
      "\n",
      "Epoch 00116: accuracy did not improve from 0.81445\n",
      "Epoch 117/200\n",
      "80/80 [==============================] - 24s 305ms/step - loss: 0.6120 - accuracy: 0.8105 - val_loss: 2.9486 - val_accuracy: 0.2863\n",
      "\n",
      "Epoch 00117: accuracy did not improve from 0.81445\n",
      "Epoch 118/200\n",
      "80/80 [==============================] - 24s 298ms/step - loss: 0.6308 - accuracy: 0.8059 - val_loss: 2.8285 - val_accuracy: 0.3029\n",
      "\n",
      "Epoch 00118: accuracy did not improve from 0.81445\n",
      "Epoch 119/200\n",
      "80/80 [==============================] - 25s 307ms/step - loss: 0.6188 - accuracy: 0.8056 - val_loss: 2.8855 - val_accuracy: 0.2931\n",
      "\n",
      "Epoch 00119: accuracy did not improve from 0.81445\n",
      "Epoch 120/200\n",
      "80/80 [==============================] - 24s 297ms/step - loss: 0.6202 - accuracy: 0.8118 - val_loss: 2.9448 - val_accuracy: 0.2863\n",
      "\n",
      "Epoch 00120: accuracy did not improve from 0.81445\n",
      "Epoch 121/200\n",
      "80/80 [==============================] - 24s 295ms/step - loss: 0.6054 - accuracy: 0.8171 - val_loss: 2.8956 - val_accuracy: 0.2922\n",
      "\n",
      "Epoch 00121: accuracy did not improve from 0.81445\n",
      "Epoch 122/200\n",
      "80/80 [==============================] - 24s 295ms/step - loss: 0.6126 - accuracy: 0.8208 - val_loss: 2.9403 - val_accuracy: 0.2794\n",
      "\n",
      "Epoch 00122: accuracy did not improve from 0.81445\n",
      "Epoch 123/200\n",
      "80/80 [==============================] - 24s 298ms/step - loss: 0.6342 - accuracy: 0.7981 - val_loss: 3.0086 - val_accuracy: 0.2814\n",
      "\n",
      "Epoch 00123: accuracy did not improve from 0.81445\n",
      "Epoch 124/200\n",
      "80/80 [==============================] - 24s 305ms/step - loss: 0.6184 - accuracy: 0.8153 - val_loss: 2.9219 - val_accuracy: 0.2941\n",
      "\n",
      "Epoch 00124: accuracy did not improve from 0.81445\n",
      "Epoch 125/200\n",
      "80/80 [==============================] - 24s 301ms/step - loss: 0.6220 - accuracy: 0.8080 - val_loss: 2.9050 - val_accuracy: 0.2873\n",
      "\n",
      "Epoch 00125: accuracy did not improve from 0.81445\n",
      "Epoch 126/200\n",
      "80/80 [==============================] - 24s 294ms/step - loss: 0.5951 - accuracy: 0.8155 - val_loss: 2.9708 - val_accuracy: 0.2853\n",
      "\n",
      "Epoch 00126: accuracy improved from 0.81445 to 0.81680, saving model to ./sts_models/sts_model.h5\n",
      "Epoch 127/200\n",
      "80/80 [==============================] - 23s 291ms/step - loss: 0.6123 - accuracy: 0.8195 - val_loss: 3.0198 - val_accuracy: 0.2882\n",
      "\n",
      "Epoch 00127: accuracy improved from 0.81680 to 0.81777, saving model to ./sts_models/sts_model.h5\n",
      "Epoch 128/200\n",
      "80/80 [==============================] - 24s 296ms/step - loss: 0.6185 - accuracy: 0.8167 - val_loss: 3.0781 - val_accuracy: 0.2755\n",
      "\n",
      "Epoch 00128: accuracy did not improve from 0.81777\n",
      "Epoch 129/200\n",
      "80/80 [==============================] - 23s 292ms/step - loss: 0.6190 - accuracy: 0.8082 - val_loss: 2.9210 - val_accuracy: 0.2882\n",
      "\n",
      "Epoch 00129: accuracy did not improve from 0.81777\n",
      "Epoch 130/200\n",
      "80/80 [==============================] - 23s 289ms/step - loss: 0.6173 - accuracy: 0.8113 - val_loss: 3.0230 - val_accuracy: 0.2824\n",
      "\n",
      "Epoch 00130: accuracy did not improve from 0.81777\n",
      "Epoch 131/200\n",
      "80/80 [==============================] - 24s 298ms/step - loss: 0.6169 - accuracy: 0.8212 - val_loss: 2.9546 - val_accuracy: 0.2892\n",
      "\n",
      "Epoch 00131: accuracy improved from 0.81777 to 0.81953, saving model to ./sts_models/sts_model.h5\n",
      "Epoch 132/200\n",
      "80/80 [==============================] - 24s 294ms/step - loss: 0.6110 - accuracy: 0.8237 - val_loss: 3.0302 - val_accuracy: 0.2843\n",
      "\n",
      "Epoch 00132: accuracy did not improve from 0.81953\n",
      "Epoch 133/200\n",
      "80/80 [==============================] - 24s 297ms/step - loss: 0.5988 - accuracy: 0.8189 - val_loss: 3.0034 - val_accuracy: 0.2814\n",
      "\n",
      "Epoch 00133: accuracy improved from 0.81953 to 0.82012, saving model to ./sts_models/sts_model.h5\n",
      "Epoch 134/200\n",
      "80/80 [==============================] - 23s 290ms/step - loss: 0.6092 - accuracy: 0.8167 - val_loss: 3.0103 - val_accuracy: 0.2833\n",
      "\n",
      "Epoch 00134: accuracy did not improve from 0.82012\n",
      "Epoch 135/200\n",
      "80/80 [==============================] - 23s 291ms/step - loss: 0.5942 - accuracy: 0.8170 - val_loss: 3.0807 - val_accuracy: 0.2922\n",
      "\n",
      "Epoch 00135: accuracy did not improve from 0.82012\n",
      "Epoch 136/200\n",
      "80/80 [==============================] - 24s 297ms/step - loss: 0.6030 - accuracy: 0.8033 - val_loss: 3.0251 - val_accuracy: 0.2882\n",
      "\n",
      "Epoch 00136: accuracy did not improve from 0.82012\n",
      "Epoch 137/200\n",
      "80/80 [==============================] - 23s 294ms/step - loss: 0.5828 - accuracy: 0.8323 - val_loss: 3.0542 - val_accuracy: 0.2794\n",
      "\n",
      "Epoch 00137: accuracy improved from 0.82012 to 0.82207, saving model to ./sts_models/sts_model.h5\n",
      "Epoch 138/200\n",
      "80/80 [==============================] - 24s 300ms/step - loss: 0.6088 - accuracy: 0.8036 - val_loss: 3.1287 - val_accuracy: 0.2863\n",
      "\n",
      "Epoch 00138: accuracy did not improve from 0.82207\n",
      "Epoch 139/200\n",
      "80/80 [==============================] - 24s 297ms/step - loss: 0.5968 - accuracy: 0.8112 - val_loss: 2.9815 - val_accuracy: 0.2794\n",
      "\n",
      "Epoch 00139: accuracy did not improve from 0.82207\n",
      "Epoch 140/200\n",
      "80/80 [==============================] - 24s 295ms/step - loss: 0.5964 - accuracy: 0.8196 - val_loss: 3.0161 - val_accuracy: 0.2735\n",
      "\n",
      "Epoch 00140: accuracy did not improve from 0.82207\n",
      "Epoch 141/200\n",
      "80/80 [==============================] - 24s 294ms/step - loss: 0.6070 - accuracy: 0.8029 - val_loss: 3.0343 - val_accuracy: 0.2912\n",
      "\n",
      "Epoch 00141: accuracy did not improve from 0.82207\n",
      "Epoch 142/200\n",
      "80/80 [==============================] - 23s 287ms/step - loss: 0.5994 - accuracy: 0.8097 - val_loss: 3.1155 - val_accuracy: 0.2755\n",
      "\n",
      "Epoch 00142: accuracy did not improve from 0.82207\n",
      "Epoch 143/200\n",
      "80/80 [==============================] - 23s 290ms/step - loss: 0.6081 - accuracy: 0.8063 - val_loss: 3.0860 - val_accuracy: 0.2784\n",
      "\n",
      "Epoch 00143: accuracy did not improve from 0.82207\n",
      "Epoch 144/200\n",
      "80/80 [==============================] - 23s 293ms/step - loss: 0.6033 - accuracy: 0.8237 - val_loss: 3.0951 - val_accuracy: 0.2745\n",
      "\n",
      "Epoch 00144: accuracy did not improve from 0.82207\n",
      "Epoch 145/200\n",
      "80/80 [==============================] - 23s 293ms/step - loss: 0.6133 - accuracy: 0.8072 - val_loss: 3.1112 - val_accuracy: 0.2912\n",
      "\n",
      "Epoch 00145: accuracy did not improve from 0.82207\n",
      "Epoch 146/200\n",
      "80/80 [==============================] - 23s 292ms/step - loss: 0.5948 - accuracy: 0.8245 - val_loss: 3.1334 - val_accuracy: 0.2912\n",
      "\n",
      "Epoch 00146: accuracy did not improve from 0.82207\n",
      "Epoch 147/200\n",
      "80/80 [==============================] - 23s 293ms/step - loss: 0.6002 - accuracy: 0.8221 - val_loss: 3.1606 - val_accuracy: 0.2912\n",
      "\n",
      "Epoch 00147: accuracy did not improve from 0.82207\n",
      "Epoch 148/200\n",
      "80/80 [==============================] - 23s 293ms/step - loss: 0.6119 - accuracy: 0.8125 - val_loss: 3.0980 - val_accuracy: 0.2814\n",
      "\n",
      "Epoch 00148: accuracy did not improve from 0.82207\n",
      "Epoch 149/200\n",
      "80/80 [==============================] - 23s 291ms/step - loss: 0.5965 - accuracy: 0.8163 - val_loss: 3.1351 - val_accuracy: 0.2814\n",
      "\n",
      "Epoch 00149: accuracy did not improve from 0.82207\n",
      "Epoch 150/200\n",
      "80/80 [==============================] - 24s 304ms/step - loss: 0.5901 - accuracy: 0.8264 - val_loss: 3.1395 - val_accuracy: 0.2922\n",
      "\n",
      "Epoch 00150: accuracy did not improve from 0.82207\n",
      "Epoch 151/200\n",
      "80/80 [==============================] - 24s 298ms/step - loss: 0.6096 - accuracy: 0.8097 - val_loss: 3.1618 - val_accuracy: 0.2882\n",
      "\n",
      "Epoch 00151: accuracy did not improve from 0.82207\n",
      "Epoch 152/200\n",
      "80/80 [==============================] - 24s 300ms/step - loss: 0.5930 - accuracy: 0.8194 - val_loss: 3.1614 - val_accuracy: 0.2814\n",
      "\n",
      "Epoch 00152: accuracy did not improve from 0.82207\n",
      "Epoch 153/200\n",
      "80/80 [==============================] - 24s 300ms/step - loss: 0.5812 - accuracy: 0.8212 - val_loss: 3.2215 - val_accuracy: 0.2814\n",
      "\n",
      "Epoch 00153: accuracy did not improve from 0.82207\n",
      "Epoch 154/200\n",
      "80/80 [==============================] - 24s 294ms/step - loss: 0.6088 - accuracy: 0.8267 - val_loss: 3.1237 - val_accuracy: 0.2745\n",
      "\n",
      "Epoch 00154: accuracy did not improve from 0.82207\n",
      "Epoch 155/200\n",
      "80/80 [==============================] - 24s 298ms/step - loss: 0.5917 - accuracy: 0.8289 - val_loss: 3.1376 - val_accuracy: 0.2794\n",
      "\n",
      "Epoch 00155: accuracy improved from 0.82207 to 0.82754, saving model to ./sts_models/sts_model.h5\n",
      "Epoch 156/200\n",
      "80/80 [==============================] - 24s 298ms/step - loss: 0.5865 - accuracy: 0.8245 - val_loss: 3.0977 - val_accuracy: 0.2824\n",
      "\n",
      "Epoch 00156: accuracy did not improve from 0.82754\n",
      "Epoch 157/200\n",
      "80/80 [==============================] - 24s 302ms/step - loss: 0.6021 - accuracy: 0.8117 - val_loss: 3.1484 - val_accuracy: 0.2863\n",
      "\n",
      "Epoch 00157: accuracy did not improve from 0.82754\n",
      "Epoch 158/200\n",
      "80/80 [==============================] - 24s 303ms/step - loss: 0.6006 - accuracy: 0.8204 - val_loss: 3.1575 - val_accuracy: 0.2980\n",
      "\n",
      "Epoch 00158: accuracy did not improve from 0.82754\n",
      "Epoch 159/200\n",
      "80/80 [==============================] - 24s 300ms/step - loss: 0.6003 - accuracy: 0.8099 - val_loss: 3.2017 - val_accuracy: 0.2804\n",
      "\n",
      "Epoch 00159: accuracy did not improve from 0.82754\n",
      "Epoch 160/200\n",
      "80/80 [==============================] - 24s 304ms/step - loss: 0.5785 - accuracy: 0.8157 - val_loss: 3.1298 - val_accuracy: 0.2853\n",
      "\n",
      "Epoch 00160: accuracy did not improve from 0.82754\n",
      "Epoch 161/200\n",
      "80/80 [==============================] - 25s 313ms/step - loss: 0.6056 - accuracy: 0.8114 - val_loss: 3.2656 - val_accuracy: 0.2775\n",
      "\n",
      "Epoch 00161: accuracy did not improve from 0.82754\n",
      "Epoch 162/200\n",
      "80/80 [==============================] - 26s 322ms/step - loss: 0.5847 - accuracy: 0.8205 - val_loss: 3.3021 - val_accuracy: 0.2696\n",
      "\n",
      "Epoch 00162: accuracy did not improve from 0.82754\n",
      "Epoch 163/200\n",
      "80/80 [==============================] - 24s 295ms/step - loss: 0.5939 - accuracy: 0.8229 - val_loss: 3.2177 - val_accuracy: 0.2716\n",
      "\n",
      "Epoch 00163: accuracy did not improve from 0.82754\n",
      "Epoch 164/200\n",
      "80/80 [==============================] - 24s 300ms/step - loss: 0.6007 - accuracy: 0.8162 - val_loss: 3.2103 - val_accuracy: 0.2716\n",
      "\n",
      "Epoch 00164: accuracy did not improve from 0.82754\n",
      "Epoch 165/200\n",
      "80/80 [==============================] - 23s 289ms/step - loss: 0.5873 - accuracy: 0.8349 - val_loss: 3.2909 - val_accuracy: 0.2696\n",
      "\n",
      "Epoch 00165: accuracy did not improve from 0.82754\n",
      "Epoch 166/200\n",
      "80/80 [==============================] - 23s 290ms/step - loss: 0.5933 - accuracy: 0.8181 - val_loss: 3.2103 - val_accuracy: 0.2775\n",
      "\n",
      "Epoch 00166: accuracy did not improve from 0.82754\n",
      "Epoch 167/200\n",
      "80/80 [==============================] - 23s 288ms/step - loss: 0.5945 - accuracy: 0.8218 - val_loss: 3.3014 - val_accuracy: 0.2843\n",
      "\n",
      "Epoch 00167: accuracy improved from 0.82754 to 0.82773, saving model to ./sts_models/sts_model.h5\n",
      "Epoch 168/200\n",
      "80/80 [==============================] - 24s 299ms/step - loss: 0.5844 - accuracy: 0.8338 - val_loss: 3.2858 - val_accuracy: 0.2912\n",
      "\n",
      "Epoch 00168: accuracy improved from 0.82773 to 0.83594, saving model to ./sts_models/sts_model.h5\n",
      "Epoch 169/200\n",
      "80/80 [==============================] - 23s 293ms/step - loss: 0.5786 - accuracy: 0.8258 - val_loss: 3.2467 - val_accuracy: 0.2853\n",
      "\n",
      "Epoch 00169: accuracy did not improve from 0.83594\n",
      "Epoch 170/200\n",
      "80/80 [==============================] - 23s 290ms/step - loss: 0.5570 - accuracy: 0.8335 - val_loss: 3.2172 - val_accuracy: 0.2931\n",
      "\n",
      "Epoch 00170: accuracy did not improve from 0.83594\n",
      "Epoch 171/200\n",
      "80/80 [==============================] - 23s 294ms/step - loss: 0.5879 - accuracy: 0.8218 - val_loss: 3.1956 - val_accuracy: 0.2892\n",
      "\n",
      "Epoch 00171: accuracy did not improve from 0.83594\n",
      "Epoch 172/200\n",
      "80/80 [==============================] - 23s 293ms/step - loss: 0.6007 - accuracy: 0.8179 - val_loss: 3.2665 - val_accuracy: 0.2912\n",
      "\n",
      "Epoch 00172: accuracy did not improve from 0.83594\n",
      "Epoch 173/200\n",
      "80/80 [==============================] - 23s 292ms/step - loss: 0.5832 - accuracy: 0.8144 - val_loss: 3.1812 - val_accuracy: 0.2931\n",
      "\n",
      "Epoch 00173: accuracy did not improve from 0.83594\n",
      "Epoch 174/200\n",
      "80/80 [==============================] - 24s 302ms/step - loss: 0.5858 - accuracy: 0.8204 - val_loss: 3.3197 - val_accuracy: 0.2922\n",
      "\n",
      "Epoch 00174: accuracy did not improve from 0.83594\n",
      "Epoch 175/200\n",
      "80/80 [==============================] - 24s 304ms/step - loss: 0.5851 - accuracy: 0.8372 - val_loss: 3.3250 - val_accuracy: 0.2745\n",
      "\n",
      "Epoch 00175: accuracy did not improve from 0.83594\n",
      "Epoch 176/200\n",
      "80/80 [==============================] - 24s 296ms/step - loss: 0.5703 - accuracy: 0.8196 - val_loss: 3.4093 - val_accuracy: 0.2892\n",
      "\n",
      "Epoch 00176: accuracy did not improve from 0.83594\n",
      "Epoch 177/200\n",
      "80/80 [==============================] - 24s 295ms/step - loss: 0.5725 - accuracy: 0.8216 - val_loss: 3.3464 - val_accuracy: 0.2873\n",
      "\n",
      "Epoch 00177: accuracy did not improve from 0.83594\n",
      "Epoch 178/200\n",
      "80/80 [==============================] - 24s 303ms/step - loss: 0.5946 - accuracy: 0.8215 - val_loss: 3.2365 - val_accuracy: 0.2853\n",
      "\n",
      "Epoch 00178: accuracy did not improve from 0.83594\n",
      "Epoch 179/200\n",
      "80/80 [==============================] - 24s 305ms/step - loss: 0.5903 - accuracy: 0.8073 - val_loss: 3.2530 - val_accuracy: 0.2843\n",
      "\n",
      "Epoch 00179: accuracy did not improve from 0.83594\n",
      "Epoch 180/200\n",
      "80/80 [==============================] - 24s 297ms/step - loss: 0.5722 - accuracy: 0.8288 - val_loss: 3.2605 - val_accuracy: 0.2804\n",
      "\n",
      "Epoch 00180: accuracy did not improve from 0.83594\n",
      "Epoch 181/200\n",
      "80/80 [==============================] - 24s 305ms/step - loss: 0.5815 - accuracy: 0.8324 - val_loss: 3.3614 - val_accuracy: 0.2873\n",
      "\n",
      "Epoch 00181: accuracy did not improve from 0.83594\n",
      "Epoch 182/200\n",
      "80/80 [==============================] - 24s 297ms/step - loss: 0.5813 - accuracy: 0.8301 - val_loss: 3.3315 - val_accuracy: 0.2912\n",
      "\n",
      "Epoch 00182: accuracy did not improve from 0.83594\n",
      "Epoch 183/200\n",
      "80/80 [==============================] - 24s 294ms/step - loss: 0.5685 - accuracy: 0.8394 - val_loss: 3.2497 - val_accuracy: 0.2853\n",
      "\n",
      "Epoch 00183: accuracy did not improve from 0.83594\n",
      "Epoch 184/200\n",
      "80/80 [==============================] - 24s 303ms/step - loss: 0.5816 - accuracy: 0.8249 - val_loss: 3.2370 - val_accuracy: 0.2951\n",
      "\n",
      "Epoch 00184: accuracy did not improve from 0.83594\n",
      "Epoch 185/200\n",
      "80/80 [==============================] - 24s 295ms/step - loss: 0.5790 - accuracy: 0.8182 - val_loss: 3.4328 - val_accuracy: 0.2853\n",
      "\n",
      "Epoch 00185: accuracy did not improve from 0.83594\n",
      "Epoch 186/200\n",
      "80/80 [==============================] - 24s 294ms/step - loss: 0.5621 - accuracy: 0.8338 - val_loss: 3.3589 - val_accuracy: 0.2892\n",
      "\n",
      "Epoch 00186: accuracy did not improve from 0.83594\n",
      "Epoch 187/200\n",
      "80/80 [==============================] - 23s 294ms/step - loss: 0.5709 - accuracy: 0.8328 - val_loss: 3.3683 - val_accuracy: 0.2882\n",
      "\n",
      "Epoch 00187: accuracy improved from 0.83594 to 0.84004, saving model to ./sts_models/sts_model.h5\n",
      "Epoch 188/200\n",
      "80/80 [==============================] - 23s 293ms/step - loss: 0.5817 - accuracy: 0.8239 - val_loss: 3.3256 - val_accuracy: 0.2892\n",
      "\n",
      "Epoch 00188: accuracy did not improve from 0.84004\n",
      "Epoch 189/200\n",
      "80/80 [==============================] - 23s 292ms/step - loss: 0.5668 - accuracy: 0.8257 - val_loss: 3.3446 - val_accuracy: 0.2853\n",
      "\n",
      "Epoch 00189: accuracy did not improve from 0.84004\n",
      "Epoch 190/200\n",
      "80/80 [==============================] - 23s 290ms/step - loss: 0.5785 - accuracy: 0.8299 - val_loss: 3.3533 - val_accuracy: 0.2794\n",
      "\n",
      "Epoch 00190: accuracy did not improve from 0.84004\n",
      "Epoch 191/200\n",
      "80/80 [==============================] - 24s 300ms/step - loss: 0.5738 - accuracy: 0.8392 - val_loss: 3.4325 - val_accuracy: 0.2637\n",
      "\n",
      "Epoch 00191: accuracy did not improve from 0.84004\n",
      "Epoch 192/200\n",
      "80/80 [==============================] - 23s 293ms/step - loss: 0.5698 - accuracy: 0.8161 - val_loss: 3.4998 - val_accuracy: 0.2696\n",
      "\n",
      "Epoch 00192: accuracy did not improve from 0.84004\n",
      "Epoch 193/200\n",
      "80/80 [==============================] - 24s 301ms/step - loss: 0.5725 - accuracy: 0.8279 - val_loss: 3.4124 - val_accuracy: 0.2765\n",
      "\n",
      "Epoch 00193: accuracy did not improve from 0.84004\n",
      "Epoch 194/200\n",
      "80/80 [==============================] - 23s 292ms/step - loss: 0.5709 - accuracy: 0.8284 - val_loss: 3.3654 - val_accuracy: 0.2961\n",
      "\n",
      "Epoch 00194: accuracy did not improve from 0.84004\n",
      "Epoch 195/200\n",
      "80/80 [==============================] - 24s 302ms/step - loss: 0.5607 - accuracy: 0.8299 - val_loss: 3.4620 - val_accuracy: 0.2873\n",
      "\n",
      "Epoch 00195: accuracy did not improve from 0.84004\n",
      "Epoch 196/200\n",
      "80/80 [==============================] - 23s 293ms/step - loss: 0.5674 - accuracy: 0.8343 - val_loss: 3.3593 - val_accuracy: 0.2892\n",
      "\n",
      "Epoch 00196: accuracy did not improve from 0.84004\n",
      "Epoch 197/200\n",
      "80/80 [==============================] - 24s 295ms/step - loss: 0.5790 - accuracy: 0.8206 - val_loss: 3.3563 - val_accuracy: 0.2873\n",
      "\n",
      "Epoch 00197: accuracy did not improve from 0.84004\n",
      "Epoch 198/200\n",
      "80/80 [==============================] - 23s 294ms/step - loss: 0.5837 - accuracy: 0.8116 - val_loss: 3.4028 - val_accuracy: 0.2814\n",
      "\n",
      "Epoch 00198: accuracy did not improve from 0.84004\n",
      "Epoch 199/200\n",
      "80/80 [==============================] - 24s 302ms/step - loss: 0.5762 - accuracy: 0.8277 - val_loss: 3.4099 - val_accuracy: 0.2784\n",
      "\n",
      "Epoch 00199: accuracy did not improve from 0.84004\n",
      "Epoch 200/200\n",
      "80/80 [==============================] - 23s 291ms/step - loss: 0.5675 - accuracy: 0.8298 - val_loss: 3.4246 - val_accuracy: 0.2882\n",
      "\n",
      "Epoch 00200: accuracy did not improve from 0.84004\n"
     ]
    },
    {
     "data": {
      "text/plain": [
       "<keras.callbacks.History at 0x7fbb858ae950>"
      ]
     },
     "execution_count": 81,
     "metadata": {
      "tags": []
     },
     "output_type": "execute_result"
    }
   ],
   "source": [
    "# training the model for a fixed number of epochs\n",
    "# epochs - iterations on a dataset\n",
    "model.fit_generator(generator,\n",
    "                    steps_per_epoch=80,\n",
    "                    validation_steps=64,\n",
    "                    epochs=200,\n",
    "                    callbacks=[early_stopping, model_checkpoint, tensorboard],\n",
    "                    validation_data=([sent1_valid, sent2_valid, leaks_valid],\n",
    "                                     labels_valid))"
   ]
  },
  {
   "cell_type": "code",
   "execution_count": 82,
   "metadata": {
    "id": "NthfpaQB1e5v",
    "pycharm": {
     "name": "#%%\n"
    }
   },
   "outputs": [],
   "source": [
    "# saving the model by writing to a file\n",
    "with open('sts_models/model.txt', 'w') as file:\n",
    "    file.write(best_model_path)"
   ]
  },
  {
   "cell_type": "code",
   "execution_count": 83,
   "metadata": {
    "id": "-bja4vy51e5w",
    "pycharm": {
     "name": "#%%\n"
    }
   },
   "outputs": [],
   "source": [
    "# reading the saved model file\n",
    "with open('sts_models/model.txt', 'r') as file:\n",
    "    best_model_path = file.read()"
   ]
  },
  {
   "cell_type": "code",
   "execution_count": 84,
   "metadata": {
    "id": "mUkkCyIE1e5w",
    "pycharm": {
     "name": "#%%\n"
    }
   },
   "outputs": [],
   "source": [
    "# importing load_model function from models module\n",
    "# in keras library\n",
    "# used to load a saved model\n",
    "from keras.models import load_model"
   ]
  },
  {
   "cell_type": "code",
   "execution_count": 85,
   "metadata": {
    "id": "jOYU92ap1e5w",
    "pycharm": {
     "name": "#%%\n"
    }
   },
   "outputs": [],
   "source": [
    "# loading the model\n",
    "model = load_model(best_model_path)"
   ]
  },
  {
   "cell_type": "code",
   "execution_count": 107,
   "metadata": {
    "id": "GD_GfY4D1e5w",
    "pycharm": {
     "name": "#%%\n"
    }
   },
   "outputs": [],
   "source": [
    "# defining test data to check the relatedness predicted\n",
    "# by the model\n",
    "\n",
    "sent1 = [\n",
    "    'Children like to play computer games for fun',\n",
    "    'Children like to play computer games'\n",
    "]\n",
    "\n",
    "sent2 = [\n",
    "    'Children love to play online games to relax',\n",
    "    'Children prefer eating chocolate cake'\n",
    "]"
   ]
  },
  {
   "cell_type": "code",
   "execution_count": 108,
   "metadata": {
    "id": "9joBRhYjj5yN"
   },
   "outputs": [],
   "source": [
    "# importing pyplot from matplotlib library to create interactive\n",
    "# visualizations\n",
    "import matplotlib.pyplot as plt"
   ]
  },
  {
   "cell_type": "code",
   "execution_count": 109,
   "metadata": {
    "id": "kdPt421Hj6fp"
   },
   "outputs": [],
   "source": [
    "# importing WordCloud object for generating and drawing\n",
    "# wordclouds from wordcloud library\n",
    "from wordcloud import WordCloud"
   ]
  },
  {
   "cell_type": "code",
   "execution_count": 110,
   "metadata": {
    "colab": {
     "base_uri": "https://localhost:8080/"
    },
    "id": "DFL5--oe7pqa",
    "outputId": "39810862-d111-49f2-9aac-e6e734bcb855"
   },
   "outputs": [
    {
     "data": {
      "text/plain": [
       "190"
      ]
     },
     "execution_count": 110,
     "metadata": {
      "tags": []
     },
     "output_type": "execute_result"
    }
   ],
   "source": [
    "# importing set of stopwords from wordcloud library\n",
    "from wordcloud import STOPWORDS\n",
    "\n",
    "stopwords = set(STOPWORDS)\n",
    "\n",
    "# printing number of stopwords defined in wordcloud library\n",
    "len(stopwords)"
   ]
  },
  {
   "cell_type": "code",
   "execution_count": 111,
   "metadata": {
    "id": "4JvVH3oTj-K5"
   },
   "outputs": [],
   "source": [
    "# function to return the wordcloud for a given text\n",
    "def plot_wordcloud(text):\n",
    "    wordcloud = WordCloud(width=800,\n",
    "                          height=800,\n",
    "                          background_color='white',\n",
    "                          stopwords=stopwords,\n",
    "                          min_font_size=10).generate(text)\n",
    "    return wordcloud"
   ]
  },
  {
   "cell_type": "code",
   "execution_count": 112,
   "metadata": {
    "id": "_ha_Az5lj_7F"
   },
   "outputs": [],
   "source": [
    "# generate wordclouds\n",
    "wordcloud_1_text_1 = plot_wordcloud(sent1[0])\n",
    "wordcloud_1_text_2 = plot_wordcloud(sent2[0])"
   ]
  },
  {
   "cell_type": "code",
   "execution_count": 113,
   "metadata": {
    "colab": {
     "base_uri": "https://localhost:8080/",
     "height": 264
    },
    "id": "xtg04tVIkLLT",
    "outputId": "41f7d647-9a30-4df6-f912-f833c1c61cb7"
   },
   "outputs": [
    {
     "data": {
      "image/png": "[encoded data removed]",
      "text/plain": [
       "<Figure size 432x288 with 1 Axes>"
      ]
     },
     "metadata": {
      "needs_background": "light",
      "tags": []
     },
     "output_type": "display_data"
    }
   ],
   "source": [
    "# plot the wordcloud image for text_1\n",
    "plt.imshow(wordcloud_1_text_1)\n",
    "plt.axis('off')\n",
    "plt.title('wordcloud image 1 - text_1')\n",
    "plt.savefig('sts_plots/wordcloud_1_text_1.png',\n",
    "            facecolor='white')\n",
    "plt.show()"
   ]
  },
  {
   "cell_type": "code",
   "execution_count": 114,
   "metadata": {
    "colab": {
     "base_uri": "https://localhost:8080/",
     "height": 264
    },
    "id": "o-5_BeHzkNTc",
    "outputId": "ce2d075f-eec2-460f-ed29-5e636fa9c562"
   },
   "outputs": [
    {
     "data": {
      "image/png": "[encoded data removed]",
      "text/plain": [
       "<Figure size 432x288 with 1 Axes>"
      ]
     },
     "metadata": {
      "needs_background": "light",
      "tags": []
     },
     "output_type": "display_data"
    }
   ],
   "source": [
    "# plot the wordcloud image for text_2\n",
    "plt.imshow(wordcloud_1_text_2)\n",
    "plt.axis('off')\n",
    "plt.title('wordcloud image 1 - text_2')\n",
    "plt.savefig('sts_plots/wordcloud_1_text_2.png',\n",
    "            facecolor='white')\n",
    "plt.show()"
   ]
  },
  {
   "cell_type": "code",
   "execution_count": 115,
   "metadata": {
    "id": "DUqfDZ91kWe5"
   },
   "outputs": [],
   "source": [
    "# generate wordclouds\n",
    "wordcloud_1_text_1 = plot_wordcloud(sent1[1])\n",
    "wordcloud_1_text_2 = plot_wordcloud(sent2[1])"
   ]
  },
  {
   "cell_type": "code",
   "execution_count": 116,
   "metadata": {
    "colab": {
     "base_uri": "https://localhost:8080/",
     "height": 264
    },
    "id": "mtmhOJz8kbjE",
    "outputId": "9216a8ff-c013-4fab-d8be-876d936d84ad"
   },
   "outputs": [
    {
     "data": {
      "image/png": "[encoded data removed]",
      "text/plain": [
       "<Figure size 432x288 with 1 Axes>"
      ]
     },
     "metadata": {
      "needs_background": "light",
      "tags": []
     },
     "output_type": "display_data"
    }
   ],
   "source": [
    "# plot the wordcloud image for text_1\n",
    "plt.imshow(wordcloud_1_text_1)\n",
    "plt.axis('off')\n",
    "plt.title('wordcloud image 2 - text_1')\n",
    "plt.savefig('sts_plots/wordcloud_2_text_1.png',\n",
    "            facecolor='white')\n",
    "plt.show()"
   ]
  },
  {
   "cell_type": "code",
   "execution_count": 117,
   "metadata": {
    "colab": {
     "base_uri": "https://localhost:8080/",
     "height": 264
    },
    "id": "ek2WBa4pkbgp",
    "outputId": "bc431893-d40e-41bf-bf81-5459579ccbff"
   },
   "outputs": [
    {
     "data": {
      "image/png": "[encoded data removed]",
      "text/plain": [
       "<Figure size 432x288 with 1 Axes>"
      ]
     },
     "metadata": {
      "needs_background": "light",
      "tags": []
     },
     "output_type": "display_data"
    }
   ],
   "source": [
    "# plot the wordcloud image for text_2\n",
    "plt.imshow(wordcloud_1_text_2)\n",
    "plt.axis('off')\n",
    "plt.title('wordcloud image 2 - text_2')\n",
    "plt.savefig('sts_plots/wordcloud_2_text_2.png',\n",
    "            facecolor='white')\n",
    "plt.show()"
   ]
  },
  {
   "cell_type": "code",
   "execution_count": 118,
   "metadata": {
    "id": "TqN_NyEW1e5w",
    "pycharm": {
     "name": "#%%\n"
    }
   },
   "outputs": [],
   "source": [
    "# function to prepare test data to feed the model\n",
    "def create_test_data(sent1, sent2):\n",
    "    # loading the preprocessed sts-train dataset\n",
    "    _, _, _, _, _, vocab_to_int, _, _ = load_preprocess('sts_models/preprocess.p')\n",
    "\n",
    "    # cleaning the texts\n",
    "    sent1 = clean_text(sent1)\n",
    "    sent2 = clean_text(sent2)\n",
    "\n",
    "    # converting to numpy arrays\n",
    "    sent1 = np.array(sent1)\n",
    "    sent2 = np.array(sent2)\n",
    "\n",
    "    sent1_tokenized = []\n",
    "\n",
    "    # appending tokens of sentence 1 to sent1_tokenized list\n",
    "    for sent in sent1:\n",
    "        li = []\n",
    "        for word in sent.strip().split():\n",
    "            if word in vocab_to_int.keys():\n",
    "                li.append(vocab_to_int[word])\n",
    "            else:\n",
    "                li.append(vocab_to_int['<UNK>'])\n",
    "        sent1_tokenized.append(li)\n",
    "\n",
    "    sent2_tokenized = []\n",
    "\n",
    "    # appending tokens of sentence 2 to sent2_tokenized list\n",
    "    for sent in sent2:\n",
    "        li = []\n",
    "        for word in sent.strip().split():\n",
    "            if word in vocab_to_int.keys():\n",
    "                li.append(vocab_to_int[word])\n",
    "            else:\n",
    "                li.append(vocab_to_int['<UNK>'])\n",
    "        sent2_tokenized.append(li)\n",
    "\n",
    "    # freeing up the memory\n",
    "    del sent1, sent2\n",
    "\n",
    "    # run the garbage collector\n",
    "    gc.collect()\n",
    "\n",
    "    # keeping track of common words\n",
    "    leaks = [[len(set(x1)), len(set(x2)), len(set(x1).intersection(x2))]\n",
    "             for x1, x2 in zip(sent1_tokenized, sent2_tokenized)]\n",
    "    leaks = np.array(leaks)\n",
    "\n",
    "    # padding the sequences\n",
    "    sent1_padded = pad_sequences(sent1_tokenized,\n",
    "                                 maxlen=15,\n",
    "                                 padding='post',\n",
    "                                 truncating='post',\n",
    "                                 value=vocab_to_int['<PAD>'])\n",
    "    sent2_padded = pad_sequences(sent2_tokenized,\n",
    "                                 maxlen=15,\n",
    "                                 padding='post',\n",
    "                                 truncating='post',\n",
    "                                 value=vocab_to_int['<PAD>'])\n",
    "\n",
    "    # freeing up the memory\n",
    "    del sent1_tokenized, sent2_tokenized\n",
    "\n",
    "    # run the garbage collector\n",
    "    gc.collect()\n",
    "\n",
    "    return sent1_padded, sent2_padded, leaks"
   ]
  },
  {
   "cell_type": "code",
   "execution_count": 119,
   "metadata": {
    "id": "E2JYV-ku1e5x",
    "pycharm": {
     "name": "#%%\n"
    }
   },
   "outputs": [],
   "source": [
    "# preparing test data to feed to the model\n",
    "test_data_x1, test_data_x2, leaks_test = create_test_data(sent1, sent2)"
   ]
  },
  {
   "cell_type": "code",
   "execution_count": 120,
   "metadata": {
    "colab": {
     "base_uri": "https://localhost:8080/"
    },
    "id": "3E_Rcgdy1e5x",
    "outputId": "b3884d89-38a3-43fc-eed1-207e4ba3f717",
    "pycharm": {
     "name": "#%%\n"
    }
   },
   "outputs": [
    {
     "name": "stdout",
     "output_type": "stream",
     "text": [
      "1/1 [==============================] - 0s 26ms/step\n"
     ]
    }
   ],
   "source": [
    "# predicting the relatedness score for the provided input texts\n",
    "preds = model.predict([\n",
    "    test_data_x1,\n",
    "    test_data_x2,\n",
    "    leaks_test\n",
    "], verbose=1)"
   ]
  },
  {
   "cell_type": "code",
   "execution_count": 121,
   "metadata": {
    "id": "dQWiM9pg1e5x",
    "pycharm": {
     "name": "#%%\n"
    }
   },
   "outputs": [],
   "source": [
    "# function to calculate the total similarity score\n",
    "def calculate_total_score(arr):\n",
    "    score = 0\n",
    "    for i in range(len(arr)):\n",
    "        score = score + (i * arr[i])\n",
    "    return score"
   ]
  },
  {
   "cell_type": "code",
   "execution_count": 122,
   "metadata": {
    "colab": {
     "base_uri": "https://localhost:8080/"
    },
    "id": "TxB0slhl1e5x",
    "outputId": "3bf267c1-77b3-4386-f805-f17deef6decf",
    "pycharm": {
     "name": "#%%\n"
    }
   },
   "outputs": [
    {
     "name": "stdout",
     "output_type": "stream",
     "text": [
      "Sentence 1: Children like to play computer games for fun\n",
      "Sentence 2: Children love to play online games to relax\n",
      "Similarity Score: 2.4724565856158733\n",
      "\n",
      "Sentence 1: Children like to play computer games\n",
      "Sentence 2: Children prefer eating chocolate cake\n",
      "Similarity Score: 1.5763739496469498\n",
      "\n"
     ]
    }
   ],
   "source": [
    "# printing the relatedness score for the provided input texts\n",
    "# predicted by the model\n",
    "for i in range(len(preds)):\n",
    "    print('Sentence 1: ' + sent1[i])\n",
    "    print('Sentence 2: ' + sent2[i])\n",
    "    print('Similarity Score: ' + str(calculate_total_score(preds[i])), end='\\n\\n')"
   ]
  },
  {
   "cell_type": "code",
   "execution_count": 123,
   "metadata": {
    "id": "J0MGqHda1e5y",
    "pycharm": {
     "name": "#%%\n"
    }
   },
   "outputs": [],
   "source": [
    "# importing tsne (t-distributed stochastic neighbor embedding)\n",
    "# from manifold module that implements data embedding techniques\n",
    "# in the scikit-learn library\n",
    "from sklearn.manifold import TSNE\n",
    "\n",
    "# t-SNE is a tool to visualize high-dimensional data\n",
    "tsne = TSNE(n_components=2,\n",
    "            random_state=0)\n",
    "\n",
    "# declaring embeddings_dict dictionary\n",
    "embeddings_dict = dict()\n",
    "\n",
    "# GloVe is an unsupervised learning algorithm for obtaining vector\n",
    "# representations for words\n",
    "# Training is performed on aggregated global word-word co-occurrence\n",
    "# statistics from a corpus\n",
    "# Resulting representations show interesting linear substructures of\n",
    "# the word vector space\n",
    "# This dataset contains English word vectors pre-trained on the\n",
    "# combined Wikipedia corpora\n",
    "# GloVe embeddings use these pre-trained embeddings to quantify\n",
    "# word co-occurrence\n",
    "# GloVe embeddings capture some aspects of word meaning\n",
    "# opening text file with glove embeddings\n",
    "with open('glove.6B.50d.txt', 'r') as file:\n",
    "    # reading the file line by line\n",
    "    # tokenizing each line into tokens\n",
    "    # adding data to word_vectors dictionary\n",
    "    for line in file:\n",
    "        values = line.split()\n",
    "        word = values[0]\n",
    "        vector = np.asarray(values[1:],\n",
    "                            'float32')\n",
    "        embeddings_dict[word] = vector"
   ]
  },
  {
   "cell_type": "code",
   "execution_count": 124,
   "metadata": {
    "colab": {
     "base_uri": "https://localhost:8080/",
     "height": 281
    },
    "id": "KXOTK36ikukq",
    "outputId": "ed528d9d-867b-4d4f-bd20-80c48262daac"
   },
   "outputs": [
    {
     "data": {
      "image/png": "[encoded data removed]",
      "text/plain": [
       "<Figure size 432x288 with 1 Axes>"
      ]
     },
     "metadata": {
      "needs_background": "light",
      "tags": []
     },
     "output_type": "display_data"
    }
   ],
   "source": [
    "# plotting the sample glove dataset words for visualization\n",
    "# purposes\n",
    "\n",
    "words = list(embeddings_dict.keys())\n",
    "\n",
    "vectors = [embeddings_dict[word] for word in words]\n",
    "\n",
    "Y = tsne.fit_transform(vectors[:100])\n",
    "\n",
    "plt.scatter(Y[:, 0], Y[:, 1])\n",
    "\n",
    "for label, x, y in zip(words, Y[:, 0], Y[:, 1]):\n",
    "    plt.annotate(label,\n",
    "                 xy=(x, y),\n",
    "                 xytext=(0, 0),\n",
    "                 textcoords='offset points')\n",
    "\n",
    "plt.title('glove dataset analysis')\n",
    "\n",
    "plt.savefig('sts_plots/glove_dataset_analysis.png',\n",
    "            facecolor='white')\n",
    "\n",
    "plt.show()"
   ]
  },
  {
   "cell_type": "code",
   "execution_count": 125,
   "metadata": {
    "id": "f5N1x6UYk0ix"
   },
   "outputs": [],
   "source": [
    "# generating the requirements.txt file\n",
    "# to install the correct versions of the required python\n",
    "# libraries or packages in a venv (virtual environment)\n",
    "!pip3 freeze > requirements.txt"
   ]
  },
  {
   "cell_type": "code",
   "execution_count": 125,
   "metadata": {
    "id": "1IQPKNk0k22Q"
   },
   "outputs": [],
   "source": []
  }
 ],
 "metadata": {
  "colab": {
   "collapsed_sections": [],
   "name": "google_colab_4.ipynb",
   "provenance": []
  },
  "kernelspec": {
   "display_name": "Python 3",
   "language": "python",
   "name": "python3"
  },
  "language_info": {
   "codemirror_mode": {
    "name": "ipython",
    "version": 3
   },
   "file_extension": ".py",
   "mimetype": "text/x-python",
   "name": "python",
   "nbconvert_exporter": "python",
   "pygments_lexer": "ipython3",
   "version": "3.9.1"
  }
 },
 "nbformat": 4,
 "nbformat_minor": 1
}
